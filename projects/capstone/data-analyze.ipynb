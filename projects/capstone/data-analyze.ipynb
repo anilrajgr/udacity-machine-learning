{
 "cells": [
  {
   "cell_type": "code",
   "execution_count": 1,
   "metadata": {
    "scrolled": false
   },
   "outputs": [],
   "source": [
    "import numpy as np\n",
    "import pandas as pd\n",
    "import matplotlib.pyplot as plt\n",
    "\n",
    "%matplotlib inline\n",
    "pd.set_option('max_colwidth',1000)"
   ]
  },
  {
   "cell_type": "code",
   "execution_count": 2,
   "metadata": {
    "scrolled": false
   },
   "outputs": [],
   "source": [
    "# Load the loan data\n",
    "df_raw = pd.read_pickle('loan_data.pkl')"
   ]
  },
  {
   "cell_type": "code",
   "execution_count": 3,
   "metadata": {
    "scrolled": false
   },
   "outputs": [],
   "source": [
    "# Load the dictionary from Lending Club data\n",
    "loan_dict = pd.read_excel(open('LCDataDictionary.xlsx','rb'), sheet_name='LoanStats')"
   ]
  },
  {
   "cell_type": "code",
   "execution_count": 4,
   "metadata": {
    "scrolled": false
   },
   "outputs": [
    {
     "data": {
      "text/plain": [
       "<matplotlib.axes._subplots.AxesSubplot at 0x7f664632c940>"
      ]
     },
     "execution_count": 4,
     "metadata": {},
     "output_type": "execute_result"
    },
    {
     "data": {
      "image/png": "[encoded data removed]",
      "text/plain": [
       "<Figure size 432x288 with 1 Axes>"
      ]
     },
     "metadata": {},
     "output_type": "display_data"
    }
   ],
   "source": [
    "# Let's plot the status first.\n",
    "df_raw.groupby('loan_status').size().plot(kind='bar', title='loan_status')"
   ]
  },
  {
   "cell_type": "code",
   "execution_count": 5,
   "metadata": {
    "scrolled": false
   },
   "outputs": [],
   "source": [
    "# For our analysis purpose, we can take only the \"Fully Paid\", \"Charged Off\" and \"Default\"\n",
    "df = df_raw.loc[df_raw['loan_status'].isin(['Fully Paid', 'Charged Off', 'Default'])]\n",
    "\n",
    "# Henceforth, we will work only with df"
   ]
  },
  {
   "cell_type": "code",
   "execution_count": 6,
   "metadata": {},
   "outputs": [],
   "source": [
    "# df.loc[df['loan_status'] == 'Fully Paid']"
   ]
  },
  {
   "cell_type": "code",
   "execution_count": 7,
   "metadata": {
    "scrolled": false
   },
   "outputs": [
    {
     "data": {
      "text/html": [
       "<div>\n",
       "<style scoped>\n",
       "    .dataframe tbody tr th:only-of-type {\n",
       "        vertical-align: middle;\n",
       "    }\n",
       "\n",
       "    .dataframe tbody tr th {\n",
       "        vertical-align: top;\n",
       "    }\n",
       "\n",
       "    .dataframe thead th {\n",
       "        text-align: right;\n",
       "    }\n",
       "</style>\n",
       "<table border=\"1\" class=\"dataframe\">\n",
       "  <thead>\n",
       "    <tr style=\"text-align: right;\">\n",
       "      <th></th>\n",
       "      <th>LoanStatNew</th>\n",
       "      <th>Description</th>\n",
       "    </tr>\n",
       "  </thead>\n",
       "  <tbody>\n",
       "    <tr>\n",
       "      <th>11</th>\n",
       "      <td>collection_recovery_fee</td>\n",
       "      <td>post charge off collection fee</td>\n",
       "    </tr>\n",
       "    <tr>\n",
       "      <th>14</th>\n",
       "      <td>delinq_amnt</td>\n",
       "      <td>The past-due amount owed for the accounts on which the borrower is now delinquent.</td>\n",
       "    </tr>\n",
       "    <tr>\n",
       "      <th>39</th>\n",
       "      <td>last_pymnt_amnt</td>\n",
       "      <td>Last total payment amount received</td>\n",
       "    </tr>\n",
       "    <tr>\n",
       "      <th>40</th>\n",
       "      <td>last_pymnt_d</td>\n",
       "      <td>Last month payment was received</td>\n",
       "    </tr>\n",
       "    <tr>\n",
       "      <th>80</th>\n",
       "      <td>out_prncp</td>\n",
       "      <td>Remaining outstanding principal for total amount funded</td>\n",
       "    </tr>\n",
       "    <tr>\n",
       "      <th>81</th>\n",
       "      <td>out_prncp_inv</td>\n",
       "      <td>Remaining outstanding principal for portion of total amount funded by investors</td>\n",
       "    </tr>\n",
       "    <tr>\n",
       "      <th>88</th>\n",
       "      <td>pymnt_plan</td>\n",
       "      <td>Indicates if a payment plan has been put in place for the loan</td>\n",
       "    </tr>\n",
       "    <tr>\n",
       "      <th>89</th>\n",
       "      <td>recoveries</td>\n",
       "      <td>post charge off gross recovery</td>\n",
       "    </tr>\n",
       "    <tr>\n",
       "      <th>105</th>\n",
       "      <td>total_pymnt</td>\n",
       "      <td>Payments received to date for total amount funded</td>\n",
       "    </tr>\n",
       "    <tr>\n",
       "      <th>106</th>\n",
       "      <td>total_pymnt_inv</td>\n",
       "      <td>Payments received to date for portion of total amount funded by investors</td>\n",
       "    </tr>\n",
       "    <tr>\n",
       "      <th>107</th>\n",
       "      <td>total_rec_int</td>\n",
       "      <td>Interest received to date</td>\n",
       "    </tr>\n",
       "    <tr>\n",
       "      <th>108</th>\n",
       "      <td>total_rec_late_fee</td>\n",
       "      <td>Late fees received to date</td>\n",
       "    </tr>\n",
       "    <tr>\n",
       "      <th>109</th>\n",
       "      <td>total_rec_prncp</td>\n",
       "      <td>Principal received to date</td>\n",
       "    </tr>\n",
       "    <tr>\n",
       "      <th>128</th>\n",
       "      <td>hardship_flag</td>\n",
       "      <td>Flags whether or not the borrower is on a hardship plan</td>\n",
       "    </tr>\n",
       "    <tr>\n",
       "      <th>130</th>\n",
       "      <td>hardship_reason</td>\n",
       "      <td>Describes the reason the hardship plan was offered</td>\n",
       "    </tr>\n",
       "    <tr>\n",
       "      <th>131</th>\n",
       "      <td>hardship_status</td>\n",
       "      <td>Describes if the hardship plan is active, pending, canceled, completed, or broken</td>\n",
       "    </tr>\n",
       "    <tr>\n",
       "      <th>132</th>\n",
       "      <td>deferral_term</td>\n",
       "      <td>Amount of months that the borrower is expected to pay less than the contractual monthly payment amount due to a hardship plan</td>\n",
       "    </tr>\n",
       "    <tr>\n",
       "      <th>133</th>\n",
       "      <td>hardship_amount</td>\n",
       "      <td>The interest payment that the borrower has committed to make each month while they are on a hardship plan</td>\n",
       "    </tr>\n",
       "    <tr>\n",
       "      <th>134</th>\n",
       "      <td>hardship_start_date</td>\n",
       "      <td>The start date of the hardship plan period</td>\n",
       "    </tr>\n",
       "    <tr>\n",
       "      <th>135</th>\n",
       "      <td>hardship_end_date</td>\n",
       "      <td>The end date of the hardship plan period</td>\n",
       "    </tr>\n",
       "    <tr>\n",
       "      <th>136</th>\n",
       "      <td>payment_plan_start_date</td>\n",
       "      <td>The day the first hardship plan payment is due. For example, if a borrower has a hardship plan period of 3 months, the start date is the start of the three-month period in which the borrower is allowed to make interest-only payments.</td>\n",
       "    </tr>\n",
       "    <tr>\n",
       "      <th>137</th>\n",
       "      <td>hardship_length</td>\n",
       "      <td>The number of months the borrower will make smaller payments than normally obligated due to a hardship plan</td>\n",
       "    </tr>\n",
       "    <tr>\n",
       "      <th>138</th>\n",
       "      <td>hardship_dpd</td>\n",
       "      <td>Account days past due as of the hardship plan start date</td>\n",
       "    </tr>\n",
       "    <tr>\n",
       "      <th>139</th>\n",
       "      <td>hardship_loan_status</td>\n",
       "      <td>Loan Status as of the hardship plan start date</td>\n",
       "    </tr>\n",
       "    <tr>\n",
       "      <th>140</th>\n",
       "      <td>orig_projected_additional_accrued_interest</td>\n",
       "      <td>The original projected additional interest amount that will accrue for the given hardship payment plan as of the Hardship Start Date. This field will be null if the borrower has broken their hardship payment plan.</td>\n",
       "    </tr>\n",
       "    <tr>\n",
       "      <th>141</th>\n",
       "      <td>hardship_payoff_balance_amount</td>\n",
       "      <td>The payoff balance amount as of the hardship plan start date</td>\n",
       "    </tr>\n",
       "    <tr>\n",
       "      <th>142</th>\n",
       "      <td>hardship_last_payment_amount</td>\n",
       "      <td>The last payment amount as of the hardship plan start date</td>\n",
       "    </tr>\n",
       "    <tr>\n",
       "      <th>144</th>\n",
       "      <td>debt_settlement_flag</td>\n",
       "      <td>Flags whether or not the borrower, who has charged-off, is working with a debt-settlement company.</td>\n",
       "    </tr>\n",
       "    <tr>\n",
       "      <th>145</th>\n",
       "      <td>debt_settlement_flag_date</td>\n",
       "      <td>The most recent date that the Debt_Settlement_Flag has been set</td>\n",
       "    </tr>\n",
       "    <tr>\n",
       "      <th>146</th>\n",
       "      <td>settlement_status</td>\n",
       "      <td>The status of the borrower’s settlement plan. Possible values are: COMPLETE, ACTIVE, BROKEN, CANCELLED, DENIED, DRAFT</td>\n",
       "    </tr>\n",
       "    <tr>\n",
       "      <th>147</th>\n",
       "      <td>settlement_date</td>\n",
       "      <td>The date that the borrower agrees to the settlement plan</td>\n",
       "    </tr>\n",
       "    <tr>\n",
       "      <th>148</th>\n",
       "      <td>settlement_amount</td>\n",
       "      <td>The loan amount that the borrower has agreed to settle for</td>\n",
       "    </tr>\n",
       "    <tr>\n",
       "      <th>149</th>\n",
       "      <td>settlement_percentage</td>\n",
       "      <td>The settlement amount as a percentage of the payoff balance amount on the loan</td>\n",
       "    </tr>\n",
       "    <tr>\n",
       "      <th>150</th>\n",
       "      <td>settlement_term</td>\n",
       "      <td>The number of months that the borrower will be on the settlement plan</td>\n",
       "    </tr>\n",
       "  </tbody>\n",
       "</table>\n",
       "</div>"
      ],
      "text/plain": [
       "                                    LoanStatNew  \\\n",
       "11                      collection_recovery_fee   \n",
       "14                                  delinq_amnt   \n",
       "39                              last_pymnt_amnt   \n",
       "40                                 last_pymnt_d   \n",
       "80                                    out_prncp   \n",
       "81                                out_prncp_inv   \n",
       "88                                   pymnt_plan   \n",
       "89                                   recoveries   \n",
       "105                                 total_pymnt   \n",
       "106                             total_pymnt_inv   \n",
       "107                               total_rec_int   \n",
       "108                          total_rec_late_fee   \n",
       "109                             total_rec_prncp   \n",
       "128                               hardship_flag   \n",
       "130                             hardship_reason   \n",
       "131                             hardship_status   \n",
       "132                               deferral_term   \n",
       "133                             hardship_amount   \n",
       "134                         hardship_start_date   \n",
       "135                           hardship_end_date   \n",
       "136                     payment_plan_start_date   \n",
       "137                             hardship_length   \n",
       "138                                hardship_dpd   \n",
       "139                        hardship_loan_status   \n",
       "140  orig_projected_additional_accrued_interest   \n",
       "141              hardship_payoff_balance_amount   \n",
       "142                hardship_last_payment_amount   \n",
       "144                        debt_settlement_flag   \n",
       "145                   debt_settlement_flag_date   \n",
       "146                           settlement_status   \n",
       "147                             settlement_date   \n",
       "148                           settlement_amount   \n",
       "149                       settlement_percentage   \n",
       "150                             settlement_term   \n",
       "\n",
       "                                                                                                                                                                                                                                   Description  \n",
       "11                                                                                                                                                                                                              post charge off collection fee  \n",
       "14                                                                                                                                                          The past-due amount owed for the accounts on which the borrower is now delinquent.  \n",
       "39                                                                                                                                                                                                          Last total payment amount received  \n",
       "40                                                                                                                                                                                                             Last month payment was received  \n",
       "80                                                                                                                                                                                     Remaining outstanding principal for total amount funded  \n",
       "81                                                                                                                                                             Remaining outstanding principal for portion of total amount funded by investors  \n",
       "88                                                                                                                                                                              Indicates if a payment plan has been put in place for the loan  \n",
       "89                                                                                                                                                                                                              post charge off gross recovery  \n",
       "105                                                                                                                                                                                          Payments received to date for total amount funded  \n",
       "106                                                                                                                                                                  Payments received to date for portion of total amount funded by investors  \n",
       "107                                                                                                                                                                                                                  Interest received to date  \n",
       "108                                                                                                                                                                                                                 Late fees received to date  \n",
       "109                                                                                                                                                                                                                 Principal received to date  \n",
       "128                                                                                                                                                                                    Flags whether or not the borrower is on a hardship plan  \n",
       "130                                                                                                                                                                                         Describes the reason the hardship plan was offered  \n",
       "131                                                                                                                                                          Describes if the hardship plan is active, pending, canceled, completed, or broken  \n",
       "132                                                                                                              Amount of months that the borrower is expected to pay less than the contractual monthly payment amount due to a hardship plan  \n",
       "133                                                                                                                                  The interest payment that the borrower has committed to make each month while they are on a hardship plan  \n",
       "134                                                                                                                                                                                                 The start date of the hardship plan period  \n",
       "135                                                                                                                                                                                                   The end date of the hardship plan period  \n",
       "136  The day the first hardship plan payment is due. For example, if a borrower has a hardship plan period of 3 months, the start date is the start of the three-month period in which the borrower is allowed to make interest-only payments.  \n",
       "137                                                                                                                                The number of months the borrower will make smaller payments than normally obligated due to a hardship plan  \n",
       "138                                                                                                                                                                                   Account days past due as of the hardship plan start date  \n",
       "139                                                                                                                                                                                             Loan Status as of the hardship plan start date  \n",
       "140                      The original projected additional interest amount that will accrue for the given hardship payment plan as of the Hardship Start Date. This field will be null if the borrower has broken their hardship payment plan.  \n",
       "141                                                                                                                                                                               The payoff balance amount as of the hardship plan start date  \n",
       "142                                                                                                                                                                                 The last payment amount as of the hardship plan start date  \n",
       "144                                                                                                                                         Flags whether or not the borrower, who has charged-off, is working with a debt-settlement company.  \n",
       "145                                                                                                                                                                          The most recent date that the Debt_Settlement_Flag has been set    \n",
       "146                                                                                                                      The status of the borrower’s settlement plan. Possible values are: COMPLETE, ACTIVE, BROKEN, CANCELLED, DENIED, DRAFT  \n",
       "147                                                                                                                                                                                   The date that the borrower agrees to the settlement plan  \n",
       "148                                                                                                                                                                                 The loan amount that the borrower has agreed to settle for  \n",
       "149                                                                                                                                                             The settlement amount as a percentage of the payoff balance amount on the loan  \n",
       "150                                                                                                                                                                      The number of months that the borrower will be on the settlement plan  "
      ]
     },
     "execution_count": 7,
     "metadata": {},
     "output_type": "execute_result"
    }
   ],
   "source": [
    "# Looking at all the columns, the following columns are not valid as they calculated after the loan is approved\n",
    "remove_from_df = ['pymnt_plan', 'out_prncp', 'out_prncp_inv', 'total_pymnt', 'total_pymnt_inv', \n",
    "                  'total_rec_prncp', 'total_rec_int', 'total_rec_late_fee', 'recoveries',\n",
    "                  'collection_recovery_fee', 'last_pymnt_d', 'last_pymnt_amnt', 'delinq_amnt', \n",
    "                  'hardship_flag', 'hardship_reason', 'hardship_status', 'deferral_term',\n",
    "                  'hardship_amount', 'hardship_start_date', 'hardship_end_date',\n",
    "                  'payment_plan_start_date', 'hardship_length', 'hardship_dpd',\n",
    "                  'hardship_loan_status', 'orig_projected_additional_accrued_interest',\n",
    "                  'hardship_payoff_balance_amount', 'hardship_last_payment_amount',\n",
    "                  'debt_settlement_flag', 'debt_settlement_flag_date', 'settlement_status',\n",
    "                  'settlement_date', 'settlement_amount', 'settlement_percentage',\n",
    "                  'settlement_term', 'last_pymnt_amnt', 'last_pymnt_d', 'sec_app_earliest_cr_line']\n",
    "\n",
    "# Here is the meaning of all these fields\n",
    "loan_dict.loc[loan_dict['LoanStatNew'].isin(remove_from_df)]"
   ]
  },
  {
   "cell_type": "code",
   "execution_count": 8,
   "metadata": {
    "scrolled": false
   },
   "outputs": [
    {
     "name": "stderr",
     "output_type": "stream",
     "text": [
      "/home/anilraj/anaconda3/lib/python3.6/site-packages/pandas/core/frame.py:3694: SettingWithCopyWarning: \n",
      "A value is trying to be set on a copy of a slice from a DataFrame\n",
      "\n",
      "See the caveats in the documentation: http://pandas.pydata.org/pandas-docs/stable/indexing.html#indexing-view-versus-copy\n",
      "  errors=errors)\n"
     ]
    }
   ],
   "source": [
    "# Dropping all those columns\n",
    "df.drop(remove_from_df, axis=1, inplace=True)"
   ]
  },
  {
   "cell_type": "code",
   "execution_count": 9,
   "metadata": {
    "scrolled": true
   },
   "outputs": [
    {
     "name": "stderr",
     "output_type": "stream",
     "text": [
      "/home/anilraj/anaconda3/lib/python3.6/site-packages/pandas/core/indexing.py:543: SettingWithCopyWarning: \n",
      "A value is trying to be set on a copy of a slice from a DataFrame.\n",
      "Try using .loc[row_indexer,col_indexer] = value instead\n",
      "\n",
      "See the caveats in the documentation: http://pandas.pydata.org/pandas-docs/stable/indexing.html#indexing-view-versus-copy\n",
      "  self.obj[item] = s\n"
     ]
    }
   ],
   "source": [
    "# Last time when I printed there were two categories from bad loan. \"Default\" and \"Charged Off\"\n",
    "# Merge both of them\n",
    "df.loc[df['loan_status'] == 'Default', 'loan_status'] = 'Charged Off'"
   ]
  },
  {
   "cell_type": "code",
   "execution_count": 10,
   "metadata": {},
   "outputs": [
    {
     "name": "stdout",
     "output_type": "stream",
     "text": [
      "(833461, 98)\n"
     ]
    }
   ],
   "source": [
    "print(df.shape)"
   ]
  },
  {
   "cell_type": "code",
   "execution_count": 11,
   "metadata": {},
   "outputs": [],
   "source": [
    "# So, here we are.\n",
    "# We have 99 features and 833461 amount of data.\n",
    "\n",
    "# Next, let's convert all the categorical data type to numerics (one-hots)"
   ]
  },
  {
   "cell_type": "code",
   "execution_count": 12,
   "metadata": {},
   "outputs": [
    {
     "data": {
      "text/plain": [
       "array(['Sep-16', 'Aug-16', 'Jul-16', 'Jun-17', 'May-17', 'Apr-17',\n",
       "       'Dec-13', 'Nov-13', 'Oct-13', 'Sep-13', 'Aug-13', 'Jul-13',\n",
       "       'Jun-13', 'May-13', 'Apr-13', 'Mar-13', 'Feb-13', 'Jan-13',\n",
       "       'Dec-12', 'Nov-12', 'Oct-12', 'Sep-12', 'Aug-12', 'Jul-12',\n",
       "       'Jun-12', 'May-12', 'Apr-12', 'Mar-12', 'Feb-12', 'Jan-12',\n",
       "       'Dec-15', 'Nov-15', 'Oct-15', 'Sep-15', 'Aug-15', 'Jul-15',\n",
       "       'Jun-15', 'May-15', 'Apr-15', 'Mar-15', 'Feb-15', 'Jan-15',\n",
       "       'Mar-17', 'Feb-17', 'Jan-17', 'Dec-14', 'Nov-14', 'Oct-14',\n",
       "       'Sep-14', 'Aug-14', 'Jul-14', 'Jun-14', 'May-14', 'Apr-14',\n",
       "       'Mar-14', 'Feb-14', 'Jan-14', 'Dec-16', 'Nov-16', 'Oct-16',\n",
       "       'Dec-17', 'Nov-17', 'Oct-17', 'Sep-17', 'Aug-17', 'Jul-17',\n",
       "       'Mar-16', 'Feb-16', 'Jan-16', 'Dec-11', 'Nov-11', 'Oct-11',\n",
       "       'Sep-11', 'Aug-11', 'Jul-11', 'Jun-11', 'May-11', 'Apr-11',\n",
       "       'Mar-11', 'Feb-11', 'Jan-11', 'Dec-10', 'Nov-10', 'Oct-10',\n",
       "       'Sep-10', 'Aug-10', 'Jul-10', 'Jun-10', 'May-10', 'Apr-10',\n",
       "       'Mar-10', 'Feb-10', 'Jan-10', 'Dec-09', 'Nov-09', 'Oct-09',\n",
       "       'Sep-09', 'Aug-09', 'Jul-09', 'Jun-09', 'May-09', 'Apr-09',\n",
       "       'Mar-09', 'Feb-09', 'Jan-09', 'Dec-08', 'Nov-08', 'Oct-08',\n",
       "       'Sep-08', 'Aug-08', 'Jul-08', 'Jun-08', 'May-08', 'Apr-08',\n",
       "       'Mar-08', 'Feb-08', 'Jan-08', 'Dec-07', 'Nov-07', 'Oct-07',\n",
       "       'Sep-07', 'Aug-07', 'Jul-07', 'Jun-07', 'Jun-16', 'May-16',\n",
       "       'Apr-16'], dtype=object)"
      ]
     },
     "execution_count": 12,
     "metadata": {},
     "output_type": "execute_result"
    }
   ],
   "source": [
    "# Before jumping in, we need to look at all the date kind of entries.\n",
    "# Example below\n",
    "df['issue_d'].unique()"
   ]
  },
  {
   "cell_type": "code",
   "execution_count": 13,
   "metadata": {},
   "outputs": [
    {
     "name": "stdout",
     "output_type": "stream",
     "text": [
      "['Aug-1986' 'Feb-1998' 'Sep-2004' ... 'Oct-68' 'Oct-74' 'Jun-1952']\n"
     ]
    }
   ],
   "source": [
    "print(df['earliest_cr_line'].unique())"
   ]
  },
  {
   "cell_type": "code",
   "execution_count": 14,
   "metadata": {},
   "outputs": [],
   "source": [
    "# The 'earliest_cr_line' data needs some fix\n",
    "# Added 19xx and 20xx (instead of removing them.)\n",
    "# That is because, we have both the century dates.\n",
    "\n",
    "# One trick is to split and month and year.\n",
    "# Then if year is greater than 50 and less than 1000, then add 19xx\n",
    "# If year is less than 50 and less than 1000, then add 20xx\n",
    "\n",
    "# Below, I split all the columns which has dates.\n",
    "# After that, I will add 19 / 20."
   ]
  },
  {
   "cell_type": "code",
   "execution_count": 15,
   "metadata": {},
   "outputs": [
    {
     "data": {
      "text/plain": [
       "array(['Jul-17', 'Aug-17', 'Nov-17', 'Jan-18', 'Apr-17', 'Dec-17',\n",
       "       'Oct-17', 'Jun-17', 'Sep-17', 'May-17', 'Mar-17', 'Oct-16',\n",
       "       'Feb-17', 'Sep-16', 'Jan-17', 'Nov-16', 'Dec-16', 'Aug-16',\n",
       "       'Jul-16', 'Jun-16', nan, 'Aug-14', 'Aug-15', 'May-15', 'Mar-16',\n",
       "       'Mar-14', 'May-16', 'Oct-15', 'Dec-15', 'Feb-16', 'Mar-15',\n",
       "       'Apr-15', 'Sep-14', 'May-14', 'Dec-14', 'Jan-14', 'Jan-15',\n",
       "       'Feb-14', 'Sep-15', 'Jul-14', 'Jun-15', 'Apr-16', 'Nov-15',\n",
       "       'Nov-14', 'Jan-16', 'Oct-14', 'Jun-14', 'Feb-15', 'Jul-15',\n",
       "       'Apr-14', 'Nov-13', 'Dec-13', 'Oct-13', 'Sep-13', 'Aug-13',\n",
       "       'Jun-13', 'Jul-13', 'May-13', 'Apr-13', 'Mar-13', 'Feb-13',\n",
       "       'Jan-13', 'Dec-12', 'Nov-12', 'Oct-12', 'Sep-12', 'Aug-12',\n",
       "       'Jun-12', 'Jul-12', 'May-12', 'Apr-12', 'Feb-12', 'Mar-12',\n",
       "       'Jan-12', '0', 'Nov-11', 'Dec-11', 'Oct-11', 'Sep-11', 'Aug-11',\n",
       "       'Jul-11', 'Jun-11', 'May-11', 'Apr-11', 'Mar-11', 'Feb-11',\n",
       "       'Jan-11', 'Dec-10', 'Nov-10', 'Oct-10', 'Sep-10', 'Aug-10',\n",
       "       'Jul-10', 'Jun-10', 'May-10', 'Apr-10', 'Mar-10', 'Feb-10',\n",
       "       'Aug-07', 'Jan-10', 'Dec-09', 'Nov-09', 'Oct-09', 'Sep-09',\n",
       "       'Jul-09', 'Aug-09', 'May-09', 'Jun-09', 'Apr-09', 'Mar-09',\n",
       "       'Feb-09', 'Jan-09', 'Dec-08', 'Jun-08', 'Sep-08', 'May-08',\n",
       "       'Aug-08', 'Mar-08', 'Oct-08', 'Feb-08', 'Jan-08', 'Dec-07',\n",
       "       'Jul-08', 'Oct-07', 'Sep-07', 'Jun-07', 'May-07', 'Jul-07'],\n",
       "      dtype=object)"
      ]
     },
     "execution_count": 15,
     "metadata": {},
     "output_type": "execute_result"
    }
   ],
   "source": [
    "df['last_credit_pull_d'].unique()"
   ]
  },
  {
   "cell_type": "code",
   "execution_count": 16,
   "metadata": {},
   "outputs": [
    {
     "data": {
      "text/plain": [
       "3"
      ]
     },
     "execution_count": 16,
     "metadata": {},
     "output_type": "execute_result"
    }
   ],
   "source": [
    "len(df.loc[df['last_credit_pull_d'] == '0'])"
   ]
  },
  {
   "cell_type": "code",
   "execution_count": 17,
   "metadata": {},
   "outputs": [
    {
     "name": "stderr",
     "output_type": "stream",
     "text": [
      "/home/anilraj/anaconda3/lib/python3.6/site-packages/pandas/core/frame.py:3694: SettingWithCopyWarning: \n",
      "A value is trying to be set on a copy of a slice from a DataFrame\n",
      "\n",
      "See the caveats in the documentation: http://pandas.pydata.org/pandas-docs/stable/indexing.html#indexing-view-versus-copy\n",
      "  errors=errors)\n"
     ]
    },
    {
     "data": {
      "text/plain": [
       "0"
      ]
     },
     "execution_count": 17,
     "metadata": {},
     "output_type": "execute_result"
    }
   ],
   "source": [
    "# There are only 3 entries with 0, let's remove those.\n",
    "df.drop(df[df.last_credit_pull_d == '0'].index, inplace=True)\n",
    "len(df.loc[df['last_credit_pull_d'] == '0'])"
   ]
  },
  {
   "cell_type": "code",
   "execution_count": 18,
   "metadata": {},
   "outputs": [
    {
     "name": "stdout",
     "output_type": "stream",
     "text": [
      "833446\n",
      "831883\n"
     ]
    },
    {
     "name": "stderr",
     "output_type": "stream",
     "text": [
      "/home/anilraj/anaconda3/lib/python3.6/site-packages/pandas/core/frame.py:3694: SettingWithCopyWarning: \n",
      "A value is trying to be set on a copy of a slice from a DataFrame\n",
      "\n",
      "See the caveats in the documentation: http://pandas.pydata.org/pandas-docs/stable/indexing.html#indexing-view-versus-copy\n",
      "  errors=errors)\n"
     ]
    }
   ],
   "source": [
    "# Simply remove all the entris with NaN (Should have done in the beginning)\n",
    "# for row in np.where(pd.isnull(df))[0][::-1]: # [::-1] reverses the array. Deleting from the. Otherwise the row numbers change.\n",
    "    # print(row)\n",
    "    # df.drop(row)\n",
    "    \n",
    "print(len(df))\n",
    "# np.where(pd.isnull(df))\n",
    "df.drop(df.index[np.where(pd.isnull(df))[0]], inplace=True)\n",
    "print(len(df))"
   ]
  },
  {
   "cell_type": "code",
   "execution_count": 19,
   "metadata": {
    "scrolled": false
   },
   "outputs": [
    {
     "name": "stderr",
     "output_type": "stream",
     "text": [
      "/home/anilraj/anaconda3/lib/python3.6/site-packages/ipykernel_launcher.py:25: SettingWithCopyWarning: \n",
      "A value is trying to be set on a copy of a slice from a DataFrame.\n",
      "Try using .loc[row_indexer,col_indexer] = value instead\n",
      "\n",
      "See the caveats in the documentation: http://pandas.pydata.org/pandas-docs/stable/indexing.html#indexing-view-versus-copy\n",
      "/home/anilraj/anaconda3/lib/python3.6/site-packages/ipykernel_launcher.py:26: SettingWithCopyWarning: \n",
      "A value is trying to be set on a copy of a slice from a DataFrame.\n",
      "Try using .loc[row_indexer,col_indexer] = value instead\n",
      "\n",
      "See the caveats in the documentation: http://pandas.pydata.org/pandas-docs/stable/indexing.html#indexing-view-versus-copy\n",
      "/home/anilraj/anaconda3/lib/python3.6/site-packages/pandas/core/frame.py:3694: SettingWithCopyWarning: \n",
      "A value is trying to be set on a copy of a slice from a DataFrame\n",
      "\n",
      "See the caveats in the documentation: http://pandas.pydata.org/pandas-docs/stable/indexing.html#indexing-view-versus-copy\n",
      "  errors=errors)\n"
     ]
    }
   ],
   "source": [
    "# These entries can be made two separate entries - issue_d_year, issue_d_month\n",
    "# Borrowing ideas from here: https://stackoverflow.com/questions/14745022/how-to-split-a-column-into-two-columns\n",
    "\n",
    "# For all the date kind of entries, change it to numerics.\n",
    "# And delete the original entry\n",
    "\n",
    "# import calendar\n",
    "# df = df.join(df['issue_d'].str.split('-', 1, expand=True))\n",
    "# df['mon'] = df['mon'].apply(lambda x: calendar.month_name[x])\n",
    "\n",
    "month_lookup = {'Jan': '01', \n",
    "                'Feb': '02', \n",
    "                'Mar': '03',\n",
    "                'Apr': '04', \n",
    "                'May': '05', \n",
    "                'Jun': '06', \n",
    "                'Jul': '07', \n",
    "                'Aug': '08', \n",
    "                'Sep': '09', \n",
    "                'Oct': '10', \n",
    "                'Nov': '11', \n",
    "                'Dec': '12'}\n",
    "\n",
    "for item in ['issue_d', 'earliest_cr_line', 'last_credit_pull_d']:\n",
    "    df[item + '_mon'], df[item + '_yr'] = df[item].str.split('-', 1).str\n",
    "    df[item + '_mon'] = df[item + '_mon'].apply(lambda x: month_lookup[x])\n",
    "    # try:\n",
    "        # df[item + '_mon'] = df[item + '_mon'].apply(lambda x: month_lookup[x])\n",
    "    # except:\n",
    "        # # Throw away anytime the conversion doesn't work. We have enough data.\n",
    "        # df.drop(item + '_mon', axis=1, inplace=True)\n",
    "    df.drop(item, axis=1, inplace=True)"
   ]
  },
  {
   "cell_type": "code",
   "execution_count": 20,
   "metadata": {},
   "outputs": [
    {
     "name": "stdout",
     "output_type": "stream",
     "text": [
      "[1986 1998 2004 1999 2005 1987 2003 1992 2009 1996 2012 1993 2007 1995\n",
      " 1997 2011 1994 2002 2000 2008 2001 2010 2006 1980 1984 1991 1990 1985\n",
      " 1989 1988 2013 1978 1983 1976 1967 1979 1971 1982 1973 1981 1977 1963\n",
      " 1972 1965 1966 1968 1970 1969 1964 1974 1975 1956 1959 1961 1960 1962\n",
      " 2014 1958 1957 1953 1955 1950 1951 1952 1954 1949 1944 1948   85   99\n",
      "    1   96    4    5    7   98   89    3   91   93   97   83    2   84\n",
      "    6   87   81    0   94   95   92   86   90   88   80    8   73   79\n",
      "   82   78   71   72   70   69   75   76   77   62   68   74   64   67\n",
      "   65   63   54   66   59   56   46   50   61]\n",
      "[1986 1998 2004 1999 2005 1987 2003 1992 2009 1996 2012 1993 2007 1995\n",
      " 1997 2011 1994 2002 2000 2008 2001 2010 2006 1980 1984 1991 1990 1985\n",
      " 1989 1988 2013 1978 1983 1976 1967 1979 1971 1982 1973 1981 1977 1963\n",
      " 1972 1965 1966 1968 1970 1969 1964 1974 1975 1956 1959 1961 1960 1962\n",
      " 2014 1958 1957 1953 1955 1950 1951 1952 1954 1949 1944 1948    1    4\n",
      "    5    7    3    2    6    0    8 1946]\n",
      "[1986 1998 2004 1999 2005 1987 2003 1992 2009 1996 2012 1993 2007 1995\n",
      " 1997 2011 1994 2002 2000 2008 2001 2010 2006 1980 1984 1991 1990 1985\n",
      " 1989 1988 2013 1978 1983 1976 1967 1979 1971 1982 1973 1981 1977 1963\n",
      " 1972 1965 1966 1968 1970 1969 1964 1974 1975 1956 1959 1961 1960 1962\n",
      " 2014 1958 1957 1953 1955 1950 1951 1952 1954 1949 1944 1948 1946]\n"
     ]
    },
    {
     "name": "stderr",
     "output_type": "stream",
     "text": [
      "/home/anilraj/anaconda3/lib/python3.6/site-packages/ipykernel_launcher.py:2: SettingWithCopyWarning: \n",
      "A value is trying to be set on a copy of a slice from a DataFrame.\n",
      "Try using .loc[row_indexer,col_indexer] = value instead\n",
      "\n",
      "See the caveats in the documentation: http://pandas.pydata.org/pandas-docs/stable/indexing.html#indexing-view-versus-copy\n",
      "  \n",
      "/home/anilraj/anaconda3/lib/python3.6/site-packages/pandas/core/indexing.py:543: SettingWithCopyWarning: \n",
      "A value is trying to be set on a copy of a slice from a DataFrame.\n",
      "Try using .loc[row_indexer,col_indexer] = value instead\n",
      "\n",
      "See the caveats in the documentation: http://pandas.pydata.org/pandas-docs/stable/indexing.html#indexing-view-versus-copy\n",
      "  self.obj[item] = s\n"
     ]
    }
   ],
   "source": [
    "# print(df['earliest_cr_line_yr'])\n",
    "df['earliest_cr_line_yr'] = df['earliest_cr_line_yr'].astype(int)\n",
    "# Then if year is greater than 20 and less than 1000, then add 19xx\n",
    "# If year is less than 20 and less than 1000, then add 20xx\n",
    "\n",
    "print(df['earliest_cr_line_yr'].unique())\n",
    "\n",
    "mask = (df['earliest_cr_line_yr'] >= 20) & (df['earliest_cr_line_yr'] < 1000)\n",
    "df.loc[mask, 'earliest_cr_line_yr'] += 1900\n",
    "print(df['earliest_cr_line_yr'].unique())\n",
    "\n",
    "mask = (df['earliest_cr_line_yr'] < 20)\n",
    "df.loc[mask, 'earliest_cr_line_yr'] += 2000\n",
    "print(df['earliest_cr_line_yr'].unique())\n"
   ]
  },
  {
   "cell_type": "code",
   "execution_count": 21,
   "metadata": {
    "scrolled": false
   },
   "outputs": [
    {
     "name": "stdout",
     "output_type": "stream",
     "text": [
      "['462xx' '292xx' '735xx' '604xx' '731xx' '112xx' '775xx' '985xx' '333xx'\n",
      " '770xx' '760xx' '970xx' '923xx' '980xx' '481xx' '338xx' '191xx' '802xx'\n",
      " '461xx' '895xx' '852xx' '190xx' '451xx' '791xx' '196xx' '488xx' '208xx'\n",
      " '908xx' '921xx' '785xx' '467xx' '853xx' '982xx' '891xx' '773xx' '914xx'\n",
      " '920xx' '334xx' '104xx' '240xx' '902xx' '941xx' '482xx' '064xx' '371xx'\n",
      " '598xx' '880xx' '232xx' '060xx' '890xx' '948xx' '558xx' '547xx' '657xx'\n",
      " '940xx' '954xx' '601xx' '665xx' '335xx' '300xx' '801xx' '366xx' '787xx'\n",
      " '295xx' '100xx' '926xx' '150xx' '751xx' '606xx' '027xx' '750xx' '806xx'\n",
      " '612xx' '925xx' '282xx' '730xx' '170xx' '993xx' '183xx' '805xx' '337xx'\n",
      " '115xx' '235xx' '600xx' '119xx' '765xx' '113xx' '981xx' '444xx' '454xx'\n",
      " '220xx' '020xx' '221xx' '330xx' '422xx' '959xx' '070xx' '109xx' '321xx'\n",
      " '793xx' '080xx' '900xx' '933xx' '493xx' '207xx' '071xx' '675xx' '539xx'\n",
      " '103xx' '400xx' '813xx' '275xx' '974xx' '331xx' '641xx' '068xx' '430xx'\n",
      " '650xx' '786xx' '141xx' '370xx' '293xx' '807xx' '323xx' '722xx' '570xx'\n",
      " '280xx' '130xx' '303xx' '217xx' '018xx' '633xx' '347xx' '851xx' '894xx'\n",
      " '229xx' '945xx' '922xx' '913xx' '917xx' '117xx' '483xx' '302xx' '284xx'\n",
      " '111xx' '301xx' '496xx' '381xx' '065xx' '054xx' '841xx' '840xx' '077xx'\n",
      " '290xx' '740xx' '441xx' '201xx' '625xx' '857xx' '224xx' '145xx' '911xx'\n",
      " '067xx' '553xx' '995xx' '692xx' '152xx' '800xx' '142xx' '209xx' '824xx'\n",
      " '049xx' '761xx' '795xx' '947xx' '305xx' '316xx' '720xx' '015xx' '216xx'\n",
      " '607xx' '144xx' '133xx' '906xx' '088xx' '931xx' '328xx' '780xx' '223xx'\n",
      " '983xx' '746xx' '672xx' '346xx' '320xx' '443xx' '919xx' '110xx' '950xx'\n",
      " '291xx' '855xx' '809xx' '344xx' '494xx' '972xx' '820xx' '212xx' '294xx'\n",
      " '924xx' '882xx' '935xx' '105xx' '023xx' '226xx' '197xx' '336xx' '287xx'\n",
      " '446xx' '376xx' '327xx' '905xx' '556xx' '424xx' '717xx' '674xx' '319xx'\n",
      " '278xx' '996xx' '724xx' '087xx' '953xx' '021xx' '350xx' '850xx' '619xx'\n",
      " '452xx' '193xx' '776xx' '114xx' '487xx' '276xx' '910xx' '707xx' '439xx'\n",
      " '631xx' '936xx' '125xx' '988xx' '874xx' '031xx' '206xx' '808xx' '286xx'\n",
      " '378xx' '136xx' '480xx' '660xx' '116xx' '531xx' '723xx' '721xx' '989xx'\n",
      " '222xx' '907xx' '492xx' '456xx' '322xx' '329xx' '532xx' '782xx' '764xx'\n",
      " '834xx' '156xx' '271xx' '175xx' '372xx' '928xx' '978xx' '844xx' '463xx'\n",
      " '171xx' '794xx' '984xx' '120xx' '453xx' '685xx' '432xx' '083xx' '107xx'\n",
      " '169xx' '460xx' '934xx' '349xx' '218xx' '078xx' '918xx' '279xx' '194xx'\n",
      " '146xx' '225xx' '956xx' '148xx' '079xx' '762xx' '363xx' '186xx' '705xx'\n",
      " '662xx' '281xx' '727xx' '307xx' '652xx' '837xx' '385xx' '757xx' '010xx'\n",
      " '029xx' '833xx' '210xx' '986xx' '082xx' '490xx' '700xx' '777xx' '973xx'\n",
      " '711xx' '028xx' '952xx' '903xx' '967xx' '611xx' '025xx' '479xx' '550xx'\n",
      " '829xx' '066xx' '358xx' '380xx' '912xx' '640xx' '951xx' '658xx' '324xx'\n",
      " '645xx' '927xx' '297xx' '177xx' '930xx' '719xx' '405xx' '030xx' '341xx'\n",
      " '554xx' '624xx' '140xx' '474xx' '701xx' '244xx' '410xx' '440xx' '796xx'\n",
      " '797xx' '299xx' '024xx' '618xx' '180xx' '231xx' '756xx' '296xx' '365xx'\n",
      " '605xx' '498xx' '063xx' '846xx' '200xx' '958xx' '016xx' '211xx' '748xx'\n",
      " '396xx' '943xx' '181xx' '458xx' '599xx' '379xx' '744xx' '946xx' '758xx'\n",
      " '351xx' '897xx' '704xx' '073xx' '639xx' '968xx' '864xx' '871xx' '026xx'\n",
      " '342xx' '313xx' '752xx' '310xx' '990xx' '781xx' '465xx' '971xx' '314xx'\n",
      " '865xx' '357xx' '471xx' '402xx' '442xx' '774xx' '615xx' '714xx' '234xx'\n",
      " '359xx' '932xx' '655xx' '939xx' '595xx' '403xx' '368xx' '957xx' '591xx'\n",
      " '630xx' '729xx' '535xx' '395xx' '644xx' '437xx' '725xx' '058xx' '666xx'\n",
      " '339xx' '243xx' '325xx' '670xx' '173xx' '198xx' '856xx' '431xx' '072xx'\n",
      " '134xx' '277xx' '074xx' '937xx' '389xx' '285xx' '168xx' '799xx' '165xx'\n",
      " '551xx' '237xx' '916xx' '308xx' '076xx' '608xx' '304xx' '412xx' '485xx'\n",
      " '214xx' '393xx' '040xx' '713xx' '085xx' '710xx' '466xx' '571xx' '309xx'\n",
      " '681xx' '151xx' '272xx' '566xx' '245xx' '057xx' '238xx' '543xx' '137xx'\n",
      " '741xx' '784xx' '306xx' '128xx' '530xx' '384xx' '154xx' '075xx' '497xx'\n",
      " '448xx' '792xx' '687xx' '486xx' '627xx' '390xx' '763xx' '199xx' '187xx'\n",
      " '843xx' '684xx' '386xx' '586xx' '826xx' '382xx' '086xx' '433xx' '960xx'\n",
      " '836xx' '062xx' '361xx' '542xx' '132xx' '377xx' '816xx' '182xx' '270xx'\n",
      " '788xx' '534xx' '860xx' '283xx' '160xx' '274xx' '847xx' '754xx' '315xx'\n",
      " '636xx' '178xx' '019xx' '863xx' '131xx' '468xx' '233xx' '838xx' '557xx'\n",
      " '915xx' '423xx' '870xx' '484xx' '044xx' '042xx' '992xx' '435xx' '592xx'\n",
      " '560xx' '373xx' '288xx' '603xx' '549xx' '769xx' '661xx' '476xx' '790xx'\n",
      " '804xx' '121xx' '241xx' '397xx' '664xx' '904xx' '537xx' '574xx' '089xx'\n",
      " '712xx' '743xx' '127xx' '759xx' '716xx' '273xx' '236xx' '436xx' '038xx'\n",
      " '374xx' '143xx' '387xx' '949xx' '184xx' '473xx' '478xx' '189xx' '588xx'\n",
      " '354xx' '584xx' '706xx' '656xx' '779xx' '219xx' '185xx' '783xx' '559xx'\n",
      " '613xx' '626xx' '827xx' '298xx' '678xx' '688xx' '356xx' '011xx' '703xx'\n",
      " '883xx' '651xx' '778xx' '620xx' '997xx' '176xx' '017xx' '609xx' '047xx'\n",
      " '563xx' '590xx' '977xx' '230xx' '648xx' '163xx' '123xx' '053xx' '653xx'\n",
      " '602xx' '153xx' '898xx' '155xx' '975xx' '475xx' '449xx' '391xx' '421xx'\n",
      " '671xx' '594xx' '118xx' '352xx' '737xx' '495xx' '540xx' '012xx' '404xx'\n",
      " '034xx' '541xx' '736xx' '745xx' '544xx' '174xx' '326xx' '447xx' '045xx'\n",
      " '101xx' '634xx' '407xx' '106xx' '450xx' '464xx' '147xx' '718xx' '172xx'\n",
      " '766xx' '734xx' '623xx' '561xx' '061xx' '562xx' '564xx' '124xx' '409xx'\n",
      " '999xx' '051xx' '610xx' '317xx' '032xx' '991xx' '457xx' '445xx' '056xx'\n",
      " '767xx' '823xx' '622xx' '157xx' '587xx' '227xx' '581xx' '438xx' '810xx'\n",
      " '728xx' '538xx' '976xx' '617xx' '138xx' '126xx' '215xx' '355xx' '811xx'\n",
      " '195xx' '039xx' '832xx' '096xx' '122xx' '332xx' '394xx' '654xx' '228xx'\n",
      " '392xx' '362xx' '434xx' '179xx' '050xx' '548xx' '635xx' '677xx' '188xx'\n",
      " '166xx' '161xx' '477xx' '755xx' '069xx' '401xx' '135xx' '037xx' '647xx'\n",
      " '726xx' '693xx' '582xx' '683xx' '158xx' '629xx' '614xx' '628xx' '565xx'\n",
      " '597xx' '043xx' '545xx' '129xx' '360xx' '815xx' '669xx' '239xx' '944xx'\n",
      " '546xx' '616xx' '955xx' '312xx' '812xx' '998xx' '013xx' '345xx' '489xx'\n",
      " '961xx' '491xx' '667xx' '108xx' '803xx' '343xx' '046xx' '164xx' '420xx'\n",
      " '472xx' '552xx' '691xx' '680xx' '159xx' '455xx' '585xx' '596xx' '139xx'\n",
      " '749xx' '033xx' '875xx' '676xx' '318xx' '747xx' '097xx' '035xx' '242xx'\n",
      " '593xx' '383xx' '367xx' '572xx' '081xx' '577xx' '689xx' '646xx' '814xx'\n",
      " '798xx' '469xx' '014xx' '580xx' '084xx' '708xx' '388xx' '830xx' '052xx'\n",
      " '426xx' '411xx' '289xx' '162xx' '893xx' '831xx' '203xx' '499xx' '149xx'\n",
      " '789xx' '427xx' '583xx' '398xx' '668xx' '881xx' '638xx' '673xx' '567xx'\n",
      " '022xx' '041xx' '573xx' '417xx' '416xx' '425xx' '364xx' '835xx' '873xx'\n",
      " '246xx' '686xx' '859xx' '825xx' '167xx' '828xx' '739xx' '048xx' '637xx'\n",
      " '690xx' '845xx' '470xx' '255xx' '879xx' '576xx' '413xx' '994xx' '822xx'\n",
      " '247xx' '102xx' '768xx' '877xx' '698xx' '878xx' '962xx' '406xx' '262xx'\n",
      " '369xx' '418xx' '311xx' '575xx' '415xx' '738xx' '059xx' '261xx' '254xx'\n",
      " '252xx' '267xx' '265xx' '257xx' '266xx' '753xx' '094xx' '258xx' '263xx'\n",
      " '260xx' '979xx' '253xx' '250xx' '569xx' '969xx' '772xx' '264xx' '036xx'\n",
      " '248xx' '679xx' '251xx' '408xx' '256xx' '268xx' '249xx' '884xx' '414xx'\n",
      " '259xx' '963xx' '090xx' '502xx' '942xx' '621xx' '527xx' '091xx' '643xx'\n",
      " '821xx' '340xx' '348xx' '092xx' '509xx' '965xx' '510xx' '522xx' '008xx'\n",
      " '555xx' '506xx' '098xx' '892xx' '929xx' '504xx' '702xx' '007xx' '861xx'\n",
      " '709xx' '849xx' '854xx' '500xx' '520xx' '862xx' '507xx' '663xx' '513xx'\n",
      " '429xx' '682xx' '523xx' '938xx' '353xx' '524xx' '889xx' '093xx' '909xx'\n",
      " '516xx' '511xx' '901xx' '987xx' '204xx' '525xx' '528xx' '966xx' '095xx'\n",
      " '872xx' '375xx']\n",
      "['462' '292' '735' '604' '731' '112' '775' '985' '333' '770' '760' '970'\n",
      " '923' '980' '481' '338' '191' '802' '461' '895' '852' '190' '451' '791'\n",
      " '196' '488' '208' '908' '921' '785' '467' '853' '982' '891' '773' '914'\n",
      " '920' '334' '104' '240' '902' '941' '482' '064' '371' '598' '880' '232'\n",
      " '060' '890' '948' '558' '547' '657' '940' '954' '601' '665' '335' '300'\n",
      " '801' '366' '787' '295' '100' '926' '150' '751' '606' '027' '750' '806'\n",
      " '612' '925' '282' '730' '170' '993' '183' '805' '337' '115' '235' '600'\n",
      " '119' '765' '113' '981' '444' '454' '220' '020' '221' '330' '422' '959'\n",
      " '070' '109' '321' '793' '080' '900' '933' '493' '207' '071' '675' '539'\n",
      " '103' '400' '813' '275' '974' '331' '641' '068' '430' '650' '786' '141'\n",
      " '370' '293' '807' '323' '722' '570' '280' '130' '303' '217' '018' '633'\n",
      " '347' '851' '894' '229' '945' '922' '913' '917' '117' '483' '302' '284'\n",
      " '111' '301' '496' '381' '065' '054' '841' '840' '077' '290' '740' '441'\n",
      " '201' '625' '857' '224' '145' '911' '067' '553' '995' '692' '152' '800'\n",
      " '142' '209' '824' '049' '761' '795' '947' '305' '316' '720' '015' '216'\n",
      " '607' '144' '133' '906' '088' '931' '328' '780' '223' '983' '746' '672'\n",
      " '346' '320' '443' '919' '110' '950' '291' '855' '809' '344' '494' '972'\n",
      " '820' '212' '294' '924' '882' '935' '105' '023' '226' '197' '336' '287'\n",
      " '446' '376' '327' '905' '556' '424' '717' '674' '319' '278' '996' '724'\n",
      " '087' '953' '021' '350' '850' '619' '452' '193' '776' '114' '487' '276'\n",
      " '910' '707' '439' '631' '936' '125' '988' '874' '031' '206' '808' '286'\n",
      " '378' '136' '480' '660' '116' '531' '723' '721' '989' '222' '907' '492'\n",
      " '456' '322' '329' '532' '782' '764' '834' '156' '271' '175' '372' '928'\n",
      " '978' '844' '463' '171' '794' '984' '120' '453' '685' '432' '083' '107'\n",
      " '169' '460' '934' '349' '218' '078' '918' '279' '194' '146' '225' '956'\n",
      " '148' '079' '762' '363' '186' '705' '662' '281' '727' '307' '652' '837'\n",
      " '385' '757' '010' '029' '833' '210' '986' '082' '490' '700' '777' '973'\n",
      " '711' '028' '952' '903' '967' '611' '025' '479' '550' '829' '066' '358'\n",
      " '380' '912' '640' '951' '658' '324' '645' '927' '297' '177' '930' '719'\n",
      " '405' '030' '341' '554' '624' '140' '474' '701' '244' '410' '440' '796'\n",
      " '797' '299' '024' '618' '180' '231' '756' '296' '365' '605' '498' '063'\n",
      " '846' '200' '958' '016' '211' '748' '396' '943' '181' '458' '599' '379'\n",
      " '744' '946' '758' '351' '897' '704' '073' '639' '968' '864' '871' '026'\n",
      " '342' '313' '752' '310' '990' '781' '465' '971' '314' '865' '357' '471'\n",
      " '402' '442' '774' '615' '714' '234' '359' '932' '655' '939' '595' '403'\n",
      " '368' '957' '591' '630' '729' '535' '395' '644' '437' '725' '058' '666'\n",
      " '339' '243' '325' '670' '173' '198' '856' '431' '072' '134' '277' '074'\n",
      " '937' '389' '285' '168' '799' '165' '551' '237' '916' '308' '076' '608'\n",
      " '304' '412' '485' '214' '393' '040' '713' '085' '710' '466' '571' '309'\n",
      " '681' '151' '272' '566' '245' '057' '238' '543' '137' '741' '784' '306'\n",
      " '128' '530' '384' '154' '075' '497' '448' '792' '687' '486' '627' '390'\n",
      " '763' '199' '187' '843' '684' '386' '586' '826' '382' '086' '433' '960'\n",
      " '836' '062' '361' '542' '132' '377' '816' '182' '270' '788' '534' '860'\n",
      " '283' '160' '274' '847' '754' '315' '636' '178' '019' '863' '131' '468'\n",
      " '233' '838' '557' '915' '423' '870' '484' '044' '042' '992' '435' '592'\n",
      " '560' '373' '288' '603' '549' '769' '661' '476' '790' '804' '121' '241'\n",
      " '397' '664' '904' '537' '574' '089' '712' '743' '127' '759' '716' '273'\n",
      " '236' '436' '038' '374' '143' '387' '949' '184' '473' '478' '189' '588'\n",
      " '354' '584' '706' '656' '779' '219' '185' '783' '559' '613' '626' '827'\n",
      " '298' '678' '688' '356' '011' '703' '883' '651' '778' '620' '997' '176'\n",
      " '017' '609' '047' '563' '590' '977' '230' '648' '163' '123' '053' '653'\n",
      " '602' '153' '898' '155' '975' '475' '449' '391' '421' '671' '594' '118'\n",
      " '352' '737' '495' '540' '012' '404' '034' '541' '736' '745' '544' '174'\n",
      " '326' '447' '045' '101' '634' '407' '106' '450' '464' '147' '718' '172'\n",
      " '766' '734' '623' '561' '061' '562' '564' '124' '409' '999' '051' '610'\n",
      " '317' '032' '991' '457' '445' '056' '767' '823' '622' '157' '587' '227'\n",
      " '581' '438' '810' '728' '538' '976' '617' '138' '126' '215' '355' '811'\n",
      " '195' '039' '832' '096' '122' '332' '394' '654' '228' '392' '362' '434'\n",
      " '179' '050' '548' '635' '677' '188' '166' '161' '477' '755' '069' '401'\n",
      " '135' '037' '647' '726' '693' '582' '683' '158' '629' '614' '628' '565'\n",
      " '597' '043' '545' '129' '360' '815' '669' '239' '944' '546' '616' '955'\n",
      " '312' '812' '998' '013' '345' '489' '961' '491' '667' '108' '803' '343'\n",
      " '046' '164' '420' '472' '552' '691' '680' '159' '455' '585' '596' '139'\n",
      " '749' '033' '875' '676' '318' '747' '097' '035' '242' '593' '383' '367'\n",
      " '572' '081' '577' '689' '646' '814' '798' '469' '014' '580' '084' '708'\n",
      " '388' '830' '052' '426' '411' '289' '162' '893' '831' '203' '499' '149'\n",
      " '789' '427' '583' '398' '668' '881' '638' '673' '567' '022' '041' '573'\n",
      " '417' '416' '425' '364' '835' '873' '246' '686' '859' '825' '167' '828'\n",
      " '739' '048' '637' '690' '845' '470' '255' '879' '576' '413' '994' '822'\n",
      " '247' '102' '768' '877' '698' '878' '962' '406' '262' '369' '418' '311'\n",
      " '575' '415' '738' '059' '261' '254' '252' '267' '265' '257' '266' '753'\n",
      " '094' '258' '263' '260' '979' '253' '250' '569' '969' '772' '264' '036'\n",
      " '248' '679' '251' '408' '256' '268' '249' '884' '414' '259' '963' '090'\n",
      " '502' '942' '621' '527' '091' '643' '821' '340' '348' '092' '509' '965'\n",
      " '510' '522' '008' '555' '506' '098' '892' '929' '504' '702' '007' '861'\n",
      " '709' '849' '854' '500' '520' '862' '507' '663' '513' '429' '682' '523'\n",
      " '938' '353' '524' '889' '093' '909' '516' '511' '901' '987' '204' '525'\n",
      " '528' '966' '095' '872' '375']\n"
     ]
    },
    {
     "name": "stderr",
     "output_type": "stream",
     "text": [
      "/home/anilraj/anaconda3/lib/python3.6/site-packages/ipykernel_launcher.py:5: SettingWithCopyWarning: \n",
      "A value is trying to be set on a copy of a slice from a DataFrame.\n",
      "Try using .loc[row_indexer,col_indexer] = value instead\n",
      "\n",
      "See the caveats in the documentation: http://pandas.pydata.org/pandas-docs/stable/indexing.html#indexing-view-versus-copy\n",
      "  \"\"\"\n"
     ]
    }
   ],
   "source": [
    "# Now take care of zip codes also\n",
    "print(df['zip_code'].unique())\n",
    "\n",
    "# A simple replacement should do the trick\n",
    "df['zip_code'] = df['zip_code'].str.replace(\"xx\",\"\")\n",
    "print(df['zip_code'].unique())"
   ]
  },
  {
   "cell_type": "code",
   "execution_count": 22,
   "metadata": {},
   "outputs": [
    {
     "name": "stderr",
     "output_type": "stream",
     "text": [
      "/home/anilraj/anaconda3/lib/python3.6/site-packages/ipykernel_launcher.py:4: SettingWithCopyWarning: \n",
      "A value is trying to be set on a copy of a slice from a DataFrame.\n",
      "Try using .loc[row_indexer,col_indexer] = value instead\n",
      "\n",
      "See the caveats in the documentation: http://pandas.pydata.org/pandas-docs/stable/indexing.html#indexing-view-versus-copy\n",
      "  after removing the cwd from sys.path.\n"
     ]
    }
   ],
   "source": [
    "# Try to convert everything to int\n",
    "for y in df.columns:\n",
    "    try:\n",
    "        df[y] = df[y].astype(int)\n",
    "    except:\n",
    "        pass"
   ]
  },
  {
   "cell_type": "code",
   "execution_count": 24,
   "metadata": {
    "scrolled": false
   },
   "outputs": [
    {
     "data": {
      "image/png": "[encoded data removed]",
      "text/plain": [
       "<Figure size 432x288 with 1 Axes>"
      ]
     },
     "metadata": {},
     "output_type": "display_data"
    },
    {
     "data": {
      "image/png": "[encoded data removed]",
      "text/plain": [
       "<Figure size 432x288 with 1 Axes>"
      ]
     },
     "metadata": {},
     "output_type": "display_data"
    },
    {
     "data": {
      "image/png": "[encoded data removed]",
      "text/plain": [
       "<Figure size 432x288 with 1 Axes>"
      ]
     },
     "metadata": {},
     "output_type": "display_data"
    },
    {
     "data": {
      "image/png": "[encoded data removed]",
      "text/plain": [
       "<Figure size 432x288 with 1 Axes>"
      ]
     },
     "metadata": {},
     "output_type": "display_data"
    },
    {
     "data": {
      "image/png": "[encoded data removed]",
      "text/plain": [
       "<Figure size 432x288 with 1 Axes>"
      ]
     },
     "metadata": {},
     "output_type": "display_data"
    },
    {
     "data": {
      "image/png": "[encoded data removed]",
      "text/plain": [
       "<Figure size 432x288 with 1 Axes>"
      ]
     },
     "metadata": {},
     "output_type": "display_data"
    },
    {
     "name": "stdout",
     "output_type": "stream",
     "text": [
      "sub_grade can't be plotted\n"
     ]
    },
    {
     "data": {
      "image/png": "[encoded data removed]",
      "text/plain": [
       "<Figure size 432x288 with 1 Axes>"
      ]
     },
     "metadata": {},
     "output_type": "display_data"
    },
    {
     "ename": "MemoryError",
     "evalue": "",
     "output_type": "error",
     "traceback": [
      "\u001b[0;31m---------------------------------------------------------------------------\u001b[0m",
      "\u001b[0;31mTypeError\u001b[0m                                 Traceback (most recent call last)",
      "\u001b[0;32m<ipython-input-24-ab569812160c>\u001b[0m in \u001b[0;36m<module>\u001b[0;34m()\u001b[0m\n\u001b[1;32m     11\u001b[0m         \u001b[0mplt\u001b[0m\u001b[0;34m.\u001b[0m\u001b[0mfigure\u001b[0m\u001b[0;34m(\u001b[0m\u001b[0;34m)\u001b[0m\u001b[0;34m\u001b[0m\u001b[0m\n\u001b[0;32m---> 12\u001b[0;31m         \u001b[0mdf\u001b[0m\u001b[0;34m[\u001b[0m\u001b[0my\u001b[0m\u001b[0;34m]\u001b[0m\u001b[0;34m.\u001b[0m\u001b[0mplot\u001b[0m\u001b[0;34m.\u001b[0m\u001b[0mhist\u001b[0m\u001b[0;34m(\u001b[0m\u001b[0mbins\u001b[0m\u001b[0;34m=\u001b[0m\u001b[0;36m20\u001b[0m\u001b[0;34m,\u001b[0m \u001b[0mtitle\u001b[0m\u001b[0;34m=\u001b[0m\u001b[0my\u001b[0m\u001b[0;34m)\u001b[0m\u001b[0;34m\u001b[0m\u001b[0m\n\u001b[0m\u001b[1;32m     13\u001b[0m         \u001b[0mplt\u001b[0m\u001b[0;34m.\u001b[0m\u001b[0mshow\u001b[0m\u001b[0;34m(\u001b[0m\u001b[0;34m)\u001b[0m\u001b[0;34m\u001b[0m\u001b[0m\n",
      "\u001b[0;32m~/anaconda3/lib/python3.6/site-packages/pandas/plotting/_core.py\u001b[0m in \u001b[0;36mhist\u001b[0;34m(self, bins, **kwds)\u001b[0m\n\u001b[1;32m   2832\u001b[0m         \"\"\"\n\u001b[0;32m-> 2833\u001b[0;31m         \u001b[0;32mreturn\u001b[0m \u001b[0mself\u001b[0m\u001b[0;34m(\u001b[0m\u001b[0mkind\u001b[0m\u001b[0;34m=\u001b[0m\u001b[0;34m'hist'\u001b[0m\u001b[0;34m,\u001b[0m \u001b[0mbins\u001b[0m\u001b[0;34m=\u001b[0m\u001b[0mbins\u001b[0m\u001b[0;34m,\u001b[0m \u001b[0;34m**\u001b[0m\u001b[0mkwds\u001b[0m\u001b[0;34m)\u001b[0m\u001b[0;34m\u001b[0m\u001b[0m\n\u001b[0m\u001b[1;32m   2834\u001b[0m \u001b[0;34m\u001b[0m\u001b[0m\n",
      "\u001b[0;32m~/anaconda3/lib/python3.6/site-packages/pandas/plotting/_core.py\u001b[0m in \u001b[0;36m__call__\u001b[0;34m(self, kind, ax, figsize, use_index, title, grid, legend, style, logx, logy, loglog, xticks, yticks, xlim, ylim, rot, fontsize, colormap, table, yerr, xerr, label, secondary_y, **kwds)\u001b[0m\n\u001b[1;32m   2740\u001b[0m                            \u001b[0mxerr\u001b[0m\u001b[0;34m=\u001b[0m\u001b[0mxerr\u001b[0m\u001b[0;34m,\u001b[0m \u001b[0mlabel\u001b[0m\u001b[0;34m=\u001b[0m\u001b[0mlabel\u001b[0m\u001b[0;34m,\u001b[0m \u001b[0msecondary_y\u001b[0m\u001b[0;34m=\u001b[0m\u001b[0msecondary_y\u001b[0m\u001b[0;34m,\u001b[0m\u001b[0;34m\u001b[0m\u001b[0m\n\u001b[0;32m-> 2741\u001b[0;31m                            **kwds)\n\u001b[0m\u001b[1;32m   2742\u001b[0m     \u001b[0m__call__\u001b[0m\u001b[0;34m.\u001b[0m\u001b[0m__doc__\u001b[0m \u001b[0;34m=\u001b[0m \u001b[0mplot_series\u001b[0m\u001b[0;34m.\u001b[0m\u001b[0m__doc__\u001b[0m\u001b[0;34m\u001b[0m\u001b[0m\n",
      "\u001b[0;32m~/anaconda3/lib/python3.6/site-packages/pandas/plotting/_core.py\u001b[0m in \u001b[0;36mplot_series\u001b[0;34m(data, kind, ax, figsize, use_index, title, grid, legend, style, logx, logy, loglog, xticks, yticks, xlim, ylim, rot, fontsize, colormap, table, yerr, xerr, label, secondary_y, **kwds)\u001b[0m\n\u001b[1;32m   2001\u001b[0m                  \u001b[0mlabel\u001b[0m\u001b[0;34m=\u001b[0m\u001b[0mlabel\u001b[0m\u001b[0;34m,\u001b[0m \u001b[0msecondary_y\u001b[0m\u001b[0;34m=\u001b[0m\u001b[0msecondary_y\u001b[0m\u001b[0;34m,\u001b[0m\u001b[0;34m\u001b[0m\u001b[0m\n\u001b[0;32m-> 2002\u001b[0;31m                  **kwds)\n\u001b[0m\u001b[1;32m   2003\u001b[0m \u001b[0;34m\u001b[0m\u001b[0m\n",
      "\u001b[0;32m~/anaconda3/lib/python3.6/site-packages/pandas/plotting/_core.py\u001b[0m in \u001b[0;36m_plot\u001b[0;34m(data, x, y, subplots, ax, kind, **kwds)\u001b[0m\n\u001b[1;32m   1803\u001b[0m \u001b[0;34m\u001b[0m\u001b[0m\n\u001b[0;32m-> 1804\u001b[0;31m     \u001b[0mplot_obj\u001b[0m\u001b[0;34m.\u001b[0m\u001b[0mgenerate\u001b[0m\u001b[0;34m(\u001b[0m\u001b[0;34m)\u001b[0m\u001b[0;34m\u001b[0m\u001b[0m\n\u001b[0m\u001b[1;32m   1805\u001b[0m     \u001b[0mplot_obj\u001b[0m\u001b[0;34m.\u001b[0m\u001b[0mdraw\u001b[0m\u001b[0;34m(\u001b[0m\u001b[0;34m)\u001b[0m\u001b[0;34m\u001b[0m\u001b[0m\n",
      "\u001b[0;32m~/anaconda3/lib/python3.6/site-packages/pandas/plotting/_core.py\u001b[0m in \u001b[0;36mgenerate\u001b[0;34m(self)\u001b[0m\n\u001b[1;32m    257\u001b[0m         \u001b[0mself\u001b[0m\u001b[0;34m.\u001b[0m\u001b[0m_args_adjust\u001b[0m\u001b[0;34m(\u001b[0m\u001b[0;34m)\u001b[0m\u001b[0;34m\u001b[0m\u001b[0m\n\u001b[0;32m--> 258\u001b[0;31m         \u001b[0mself\u001b[0m\u001b[0;34m.\u001b[0m\u001b[0m_compute_plot_data\u001b[0m\u001b[0;34m(\u001b[0m\u001b[0;34m)\u001b[0m\u001b[0;34m\u001b[0m\u001b[0m\n\u001b[0m\u001b[1;32m    259\u001b[0m         \u001b[0mself\u001b[0m\u001b[0;34m.\u001b[0m\u001b[0m_setup_subplots\u001b[0m\u001b[0;34m(\u001b[0m\u001b[0;34m)\u001b[0m\u001b[0;34m\u001b[0m\u001b[0m\n",
      "\u001b[0;32m~/anaconda3/lib/python3.6/site-packages/pandas/plotting/_core.py\u001b[0m in \u001b[0;36m_compute_plot_data\u001b[0;34m(self)\u001b[0m\n\u001b[1;32m    372\u001b[0m             raise TypeError('Empty {0!r}: no numeric data to '\n\u001b[0;32m--> 373\u001b[0;31m                             'plot'.format(numeric_data.__class__.__name__))\n\u001b[0m\u001b[1;32m    374\u001b[0m \u001b[0;34m\u001b[0m\u001b[0m\n",
      "\u001b[0;31mTypeError\u001b[0m: Empty 'DataFrame': no numeric data to plot",
      "\nDuring handling of the above exception, another exception occurred:\n",
      "\u001b[0;31mMemoryError\u001b[0m                               Traceback (most recent call last)",
      "\u001b[0;32m<ipython-input-24-ab569812160c>\u001b[0m in \u001b[0;36m<module>\u001b[0;34m()\u001b[0m\n\u001b[1;32m     16\u001b[0m         \u001b[0mdf\u001b[0m\u001b[0;34m.\u001b[0m\u001b[0mgroupby\u001b[0m\u001b[0;34m(\u001b[0m\u001b[0my\u001b[0m\u001b[0;34m)\u001b[0m\u001b[0;34m.\u001b[0m\u001b[0msize\u001b[0m\u001b[0;34m(\u001b[0m\u001b[0;34m)\u001b[0m\u001b[0;34m.\u001b[0m\u001b[0mplot\u001b[0m\u001b[0;34m(\u001b[0m\u001b[0mkind\u001b[0m\u001b[0;34m=\u001b[0m\u001b[0;34m'bar'\u001b[0m\u001b[0;34m,\u001b[0m \u001b[0mtitle\u001b[0m\u001b[0;34m=\u001b[0m\u001b[0my\u001b[0m\u001b[0;34m)\u001b[0m\u001b[0;34m\u001b[0m\u001b[0m\n\u001b[1;32m     17\u001b[0m         \u001b[0mplt\u001b[0m\u001b[0;34m.\u001b[0m\u001b[0mshow\u001b[0m\u001b[0;34m(\u001b[0m\u001b[0;34m)\u001b[0m\u001b[0;34m\u001b[0m\u001b[0m\n\u001b[0;32m---> 18\u001b[0;31m         \u001b[0mdf\u001b[0m \u001b[0;34m=\u001b[0m \u001b[0mdf\u001b[0m\u001b[0;34m.\u001b[0m\u001b[0mjoin\u001b[0m\u001b[0;34m(\u001b[0m\u001b[0mpd\u001b[0m\u001b[0;34m.\u001b[0m\u001b[0mget_dummies\u001b[0m\u001b[0;34m(\u001b[0m\u001b[0mdf\u001b[0m\u001b[0;34m[\u001b[0m\u001b[0my\u001b[0m\u001b[0;34m]\u001b[0m\u001b[0;34m,\u001b[0m \u001b[0mprefix\u001b[0m\u001b[0;34m=\u001b[0m\u001b[0my\u001b[0m\u001b[0;34m)\u001b[0m\u001b[0;34m)\u001b[0m\u001b[0;34m\u001b[0m\u001b[0m\n\u001b[0m\u001b[1;32m     19\u001b[0m         \u001b[0mdf\u001b[0m\u001b[0;34m.\u001b[0m\u001b[0mdrop\u001b[0m\u001b[0;34m(\u001b[0m\u001b[0my\u001b[0m\u001b[0;34m,\u001b[0m \u001b[0maxis\u001b[0m\u001b[0;34m=\u001b[0m\u001b[0;36m1\u001b[0m\u001b[0;34m,\u001b[0m \u001b[0minplace\u001b[0m\u001b[0;34m=\u001b[0m\u001b[0;32mTrue\u001b[0m\u001b[0;34m)\u001b[0m\u001b[0;34m\u001b[0m\u001b[0m\n\u001b[1;32m     20\u001b[0m         \u001b[0mplt\u001b[0m\u001b[0;34m.\u001b[0m\u001b[0mshow\u001b[0m\u001b[0;34m(\u001b[0m\u001b[0;34m)\u001b[0m\u001b[0;34m\u001b[0m\u001b[0m\n",
      "\u001b[0;32m~/anaconda3/lib/python3.6/site-packages/pandas/core/frame.py\u001b[0m in \u001b[0;36mjoin\u001b[0;34m(self, other, on, how, lsuffix, rsuffix, sort)\u001b[0m\n\u001b[1;32m   6324\u001b[0m         \u001b[0;31m# For SparseDataFrame's benefit\u001b[0m\u001b[0;34m\u001b[0m\u001b[0;34m\u001b[0m\u001b[0m\n\u001b[1;32m   6325\u001b[0m         return self._join_compat(other, on=on, how=how, lsuffix=lsuffix,\n\u001b[0;32m-> 6326\u001b[0;31m                                  rsuffix=rsuffix, sort=sort)\n\u001b[0m\u001b[1;32m   6327\u001b[0m \u001b[0;34m\u001b[0m\u001b[0m\n\u001b[1;32m   6328\u001b[0m     def _join_compat(self, other, on=None, how='left', lsuffix='', rsuffix='',\n",
      "\u001b[0;32m~/anaconda3/lib/python3.6/site-packages/pandas/core/frame.py\u001b[0m in \u001b[0;36m_join_compat\u001b[0;34m(self, other, on, how, lsuffix, rsuffix, sort)\u001b[0m\n\u001b[1;32m   6339\u001b[0m             return merge(self, other, left_on=on, how=how,\n\u001b[1;32m   6340\u001b[0m                          \u001b[0mleft_index\u001b[0m\u001b[0;34m=\u001b[0m\u001b[0mon\u001b[0m \u001b[0;32mis\u001b[0m \u001b[0;32mNone\u001b[0m\u001b[0;34m,\u001b[0m \u001b[0mright_index\u001b[0m\u001b[0;34m=\u001b[0m\u001b[0;32mTrue\u001b[0m\u001b[0;34m,\u001b[0m\u001b[0;34m\u001b[0m\u001b[0m\n\u001b[0;32m-> 6341\u001b[0;31m                          suffixes=(lsuffix, rsuffix), sort=sort)\n\u001b[0m\u001b[1;32m   6342\u001b[0m         \u001b[0;32melse\u001b[0m\u001b[0;34m:\u001b[0m\u001b[0;34m\u001b[0m\u001b[0m\n\u001b[1;32m   6343\u001b[0m             \u001b[0;32mif\u001b[0m \u001b[0mon\u001b[0m \u001b[0;32mis\u001b[0m \u001b[0;32mnot\u001b[0m \u001b[0;32mNone\u001b[0m\u001b[0;34m:\u001b[0m\u001b[0;34m\u001b[0m\u001b[0m\n",
      "\u001b[0;32m~/anaconda3/lib/python3.6/site-packages/pandas/core/reshape/merge.py\u001b[0m in \u001b[0;36mmerge\u001b[0;34m(left, right, how, on, left_on, right_on, left_index, right_index, sort, suffixes, copy, indicator, validate)\u001b[0m\n\u001b[1;32m     59\u001b[0m                          \u001b[0mcopy\u001b[0m\u001b[0;34m=\u001b[0m\u001b[0mcopy\u001b[0m\u001b[0;34m,\u001b[0m \u001b[0mindicator\u001b[0m\u001b[0;34m=\u001b[0m\u001b[0mindicator\u001b[0m\u001b[0;34m,\u001b[0m\u001b[0;34m\u001b[0m\u001b[0m\n\u001b[1;32m     60\u001b[0m                          validate=validate)\n\u001b[0;32m---> 61\u001b[0;31m     \u001b[0;32mreturn\u001b[0m \u001b[0mop\u001b[0m\u001b[0;34m.\u001b[0m\u001b[0mget_result\u001b[0m\u001b[0;34m(\u001b[0m\u001b[0;34m)\u001b[0m\u001b[0;34m\u001b[0m\u001b[0m\n\u001b[0m\u001b[1;32m     62\u001b[0m \u001b[0;34m\u001b[0m\u001b[0m\n\u001b[1;32m     63\u001b[0m \u001b[0;34m\u001b[0m\u001b[0m\n",
      "\u001b[0;32m~/anaconda3/lib/python3.6/site-packages/pandas/core/reshape/merge.py\u001b[0m in \u001b[0;36mget_result\u001b[0;34m(self)\u001b[0m\n\u001b[1;32m    565\u001b[0m                 self.left, self.right)\n\u001b[1;32m    566\u001b[0m \u001b[0;34m\u001b[0m\u001b[0m\n\u001b[0;32m--> 567\u001b[0;31m         \u001b[0mjoin_index\u001b[0m\u001b[0;34m,\u001b[0m \u001b[0mleft_indexer\u001b[0m\u001b[0;34m,\u001b[0m \u001b[0mright_indexer\u001b[0m \u001b[0;34m=\u001b[0m \u001b[0mself\u001b[0m\u001b[0;34m.\u001b[0m\u001b[0m_get_join_info\u001b[0m\u001b[0;34m(\u001b[0m\u001b[0;34m)\u001b[0m\u001b[0;34m\u001b[0m\u001b[0m\n\u001b[0m\u001b[1;32m    568\u001b[0m \u001b[0;34m\u001b[0m\u001b[0m\n\u001b[1;32m    569\u001b[0m         \u001b[0mldata\u001b[0m\u001b[0;34m,\u001b[0m \u001b[0mrdata\u001b[0m \u001b[0;34m=\u001b[0m \u001b[0mself\u001b[0m\u001b[0;34m.\u001b[0m\u001b[0mleft\u001b[0m\u001b[0;34m.\u001b[0m\u001b[0m_data\u001b[0m\u001b[0;34m,\u001b[0m \u001b[0mself\u001b[0m\u001b[0;34m.\u001b[0m\u001b[0mright\u001b[0m\u001b[0;34m.\u001b[0m\u001b[0m_data\u001b[0m\u001b[0;34m\u001b[0m\u001b[0m\n",
      "\u001b[0;32m~/anaconda3/lib/python3.6/site-packages/pandas/core/reshape/merge.py\u001b[0m in \u001b[0;36m_get_join_info\u001b[0;34m(self)\u001b[0m\n\u001b[1;32m    762\u001b[0m             \u001b[0mjoin_index\u001b[0m\u001b[0;34m,\u001b[0m \u001b[0mleft_indexer\u001b[0m\u001b[0;34m,\u001b[0m \u001b[0mright_indexer\u001b[0m \u001b[0;34m=\u001b[0m\u001b[0;31m \u001b[0m\u001b[0;31m\\\u001b[0m\u001b[0;34m\u001b[0m\u001b[0m\n\u001b[1;32m    763\u001b[0m                 left_ax.join(right_ax, how=self.how, return_indexers=True,\n\u001b[0;32m--> 764\u001b[0;31m                              sort=self.sort)\n\u001b[0m\u001b[1;32m    765\u001b[0m         \u001b[0;32melif\u001b[0m \u001b[0mself\u001b[0m\u001b[0;34m.\u001b[0m\u001b[0mright_index\u001b[0m \u001b[0;32mand\u001b[0m \u001b[0mself\u001b[0m\u001b[0;34m.\u001b[0m\u001b[0mhow\u001b[0m \u001b[0;34m==\u001b[0m \u001b[0;34m'left'\u001b[0m\u001b[0;34m:\u001b[0m\u001b[0;34m\u001b[0m\u001b[0m\n\u001b[1;32m    766\u001b[0m             \u001b[0mjoin_index\u001b[0m\u001b[0;34m,\u001b[0m \u001b[0mleft_indexer\u001b[0m\u001b[0;34m,\u001b[0m \u001b[0mright_indexer\u001b[0m \u001b[0;34m=\u001b[0m\u001b[0;31m \u001b[0m\u001b[0;31m\\\u001b[0m\u001b[0;34m\u001b[0m\u001b[0m\n",
      "\u001b[0;32m~/anaconda3/lib/python3.6/site-packages/pandas/core/indexes/base.py\u001b[0m in \u001b[0;36mjoin\u001b[0;34m(self, other, how, level, return_indexers, sort)\u001b[0m\n\u001b[1;32m   3759\u001b[0m         \u001b[0;32mif\u001b[0m \u001b[0;32mnot\u001b[0m \u001b[0mself\u001b[0m\u001b[0;34m.\u001b[0m\u001b[0mis_unique\u001b[0m \u001b[0;32mand\u001b[0m \u001b[0;32mnot\u001b[0m \u001b[0mother\u001b[0m\u001b[0;34m.\u001b[0m\u001b[0mis_unique\u001b[0m\u001b[0;34m:\u001b[0m\u001b[0;34m\u001b[0m\u001b[0m\n\u001b[1;32m   3760\u001b[0m             return self._join_non_unique(other, how=how,\n\u001b[0;32m-> 3761\u001b[0;31m                                          return_indexers=return_indexers)\n\u001b[0m\u001b[1;32m   3762\u001b[0m         \u001b[0;32melif\u001b[0m \u001b[0;32mnot\u001b[0m \u001b[0mself\u001b[0m\u001b[0;34m.\u001b[0m\u001b[0mis_unique\u001b[0m \u001b[0;32mor\u001b[0m \u001b[0;32mnot\u001b[0m \u001b[0mother\u001b[0m\u001b[0;34m.\u001b[0m\u001b[0mis_unique\u001b[0m\u001b[0;34m:\u001b[0m\u001b[0;34m\u001b[0m\u001b[0m\n\u001b[1;32m   3763\u001b[0m             \u001b[0;32mif\u001b[0m \u001b[0mself\u001b[0m\u001b[0;34m.\u001b[0m\u001b[0mis_monotonic\u001b[0m \u001b[0;32mand\u001b[0m \u001b[0mother\u001b[0m\u001b[0;34m.\u001b[0m\u001b[0mis_monotonic\u001b[0m\u001b[0;34m:\u001b[0m\u001b[0;34m\u001b[0m\u001b[0m\n",
      "\u001b[0;32m~/anaconda3/lib/python3.6/site-packages/pandas/core/indexes/base.py\u001b[0m in \u001b[0;36m_join_non_unique\u001b[0;34m(self, other, how, return_indexers)\u001b[0m\n\u001b[1;32m   3848\u001b[0m                                                  \u001b[0;34m[\u001b[0m\u001b[0mother\u001b[0m\u001b[0;34m.\u001b[0m\u001b[0m_ndarray_values\u001b[0m\u001b[0;34m]\u001b[0m\u001b[0;34m,\u001b[0m\u001b[0;34m\u001b[0m\u001b[0m\n\u001b[1;32m   3849\u001b[0m                                                  \u001b[0mhow\u001b[0m\u001b[0;34m=\u001b[0m\u001b[0mhow\u001b[0m\u001b[0;34m,\u001b[0m\u001b[0;34m\u001b[0m\u001b[0m\n\u001b[0;32m-> 3850\u001b[0;31m                                                  sort=True)\n\u001b[0m\u001b[1;32m   3851\u001b[0m \u001b[0;34m\u001b[0m\u001b[0m\n\u001b[1;32m   3852\u001b[0m         \u001b[0mleft_idx\u001b[0m \u001b[0;34m=\u001b[0m \u001b[0m_ensure_platform_int\u001b[0m\u001b[0;34m(\u001b[0m\u001b[0mleft_idx\u001b[0m\u001b[0;34m)\u001b[0m\u001b[0;34m\u001b[0m\u001b[0m\n",
      "\u001b[0;32m~/anaconda3/lib/python3.6/site-packages/pandas/core/reshape/merge.py\u001b[0m in \u001b[0;36m_get_join_indexers\u001b[0;34m(left_keys, right_keys, sort, how, **kwargs)\u001b[0m\n\u001b[1;32m   1140\u001b[0m     \u001b[0mjoin_func\u001b[0m \u001b[0;34m=\u001b[0m \u001b[0m_join_functions\u001b[0m\u001b[0;34m[\u001b[0m\u001b[0mhow\u001b[0m\u001b[0;34m]\u001b[0m\u001b[0;34m\u001b[0m\u001b[0m\n\u001b[1;32m   1141\u001b[0m \u001b[0;34m\u001b[0m\u001b[0m\n\u001b[0;32m-> 1142\u001b[0;31m     \u001b[0;32mreturn\u001b[0m \u001b[0mjoin_func\u001b[0m\u001b[0;34m(\u001b[0m\u001b[0mlkey\u001b[0m\u001b[0;34m,\u001b[0m \u001b[0mrkey\u001b[0m\u001b[0;34m,\u001b[0m \u001b[0mcount\u001b[0m\u001b[0;34m,\u001b[0m \u001b[0;34m**\u001b[0m\u001b[0mkwargs\u001b[0m\u001b[0;34m)\u001b[0m\u001b[0;34m\u001b[0m\u001b[0m\n\u001b[0m\u001b[1;32m   1143\u001b[0m \u001b[0;34m\u001b[0m\u001b[0m\n\u001b[1;32m   1144\u001b[0m \u001b[0;34m\u001b[0m\u001b[0m\n",
      "\u001b[0;32mpandas/_libs/join.pyx\u001b[0m in \u001b[0;36mpandas._libs.join.left_outer_join\u001b[0;34m()\u001b[0m\n",
      "\u001b[0;31mMemoryError\u001b[0m: "
     ]
    }
   ],
   "source": [
    "# There is a debate between get_dummies (from pandas) and onehotencoder and vectorizer.\n",
    "# I have decided to pick get_dummies.\n",
    "\n",
    "# The following code generates the histogram of the data.\n",
    "# In case, when the data is not numeric, it does three things.\n",
    "# 1. Generate a bar-chart. The equivalent of histogram.\n",
    "# 2. Do one-hot encoding using get_dummies.\n",
    "# 3. Drop the original column name.\n",
    "for y in df.columns:\n",
    "    try:\n",
    "        plt.figure()\n",
    "        df[y].plot.hist(bins=20, title=y)\n",
    "        plt.show()\n",
    "    except:\n",
    "        print(y + \" can't be plotted\")\n",
    "        df.groupby(y).size().plot(kind='bar', title=y)\n",
    "        plt.show()\n",
    "        df = df.join(pd.get_dummies(df[y], prefix=y))\n",
    "        df.drop(y, axis=1, inplace=True)\n",
    "        plt.show()"
   ]
  },
  {
   "cell_type": "code",
   "execution_count": null,
   "metadata": {},
   "outputs": [],
   "source": []
  }
 ],
 "metadata": {
  "kernelspec": {
   "display_name": "Python 3",
   "language": "python",
   "name": "python3"
  },
  "language_info": {
   "codemirror_mode": {
    "name": "ipython",
    "version": 3
   },
   "file_extension": ".py",
   "mimetype": "text/x-python",
   "name": "python",
   "nbconvert_exporter": "python",
   "pygments_lexer": "ipython3",
   "version": "3.6.5"
  }
 },
 "nbformat": 4,
 "nbformat_minor": 2
}
