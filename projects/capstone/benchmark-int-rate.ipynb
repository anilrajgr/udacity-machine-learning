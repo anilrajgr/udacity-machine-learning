{
 "cells": [
  {
   "cell_type": "code",
   "execution_count": 1,
   "metadata": {},
   "outputs": [],
   "source": [
    "import numpy as np\n",
    "import pandas as pd\n",
    "import matplotlib.pyplot as plt\n",
    "from time import time\n",
    "\n",
    "%matplotlib inline\n",
    "pd.set_option('max_colwidth',1000)"
   ]
  },
  {
   "cell_type": "code",
   "execution_count": 2,
   "metadata": {},
   "outputs": [],
   "source": [
    "# Load the loan data\n",
    "df = pd.read_pickle('data_cleaned.pkl')\n",
    "df.reset_index(drop=True, inplace=True)"
   ]
  },
  {
   "cell_type": "code",
   "execution_count": 3,
   "metadata": {},
   "outputs": [],
   "source": [
    "# Categorical features from data-cleanup.ipynb\n",
    "cat_features = ['grade', 'sub_grade', 'emp_length', 'home_ownership', 'verification_status', \n",
    "                'purpose', 'addr_state', 'initial_list_status', 'application_type', 'disbursement_method',\n",
    "                'loan_status']\n",
    "\n",
    "for y in cat_features:\n",
    "    df = df.join(pd.get_dummies(df[y], prefix=y))\n",
    "    df.drop(y, axis=1, inplace=True)"
   ]
  },
  {
   "cell_type": "code",
   "execution_count": 4,
   "metadata": {},
   "outputs": [],
   "source": [
    "# Split the data in features and target label\n",
    "int_rate = df['int_rate']\n",
    "features = df.drop('int_rate', axis=1)"
   ]
  },
  {
   "cell_type": "code",
   "execution_count": 5,
   "metadata": {},
   "outputs": [
    {
     "name": "stderr",
     "output_type": "stream",
     "text": [
      "/home/anilraj/anaconda3/lib/python3.6/site-packages/sklearn/cross_validation.py:41: DeprecationWarning: This module was deprecated in version 0.18 in favor of the model_selection module into which all the refactored classes and functions are moved. Also note that the interface of the new CV iterators are different from that of this module. This module will be removed in 0.20.\n",
      "  \"This module will be removed in 0.20.\", DeprecationWarning)\n"
     ]
    },
    {
     "name": "stdout",
     "output_type": "stream",
     "text": [
      "Training set has 664548 samples.\n",
      "Testing set has 166137 samples.\n"
     ]
    }
   ],
   "source": [
    "from sklearn.cross_validation import train_test_split\n",
    "\n",
    "# Split the features and int_rate data into training and testing sets\n",
    "X_train, X_test, y_train, y_test = train_test_split(features, int_rate, test_size = 0.2, random_state = 0)\n",
    "\n",
    "print(\"Training set has {} samples.\".format(X_train.shape[0]))\n",
    "print(\"Testing set has {} samples.\".format(X_test.shape[0]))"
   ]
  },
  {
   "cell_type": "code",
   "execution_count": 6,
   "metadata": {},
   "outputs": [],
   "source": [
    "from sklearn.metrics import mean_squared_error\n",
    "import math\n",
    "\n",
    "def train_predict(learner, sample_size, X_train, y_train, X_test, y_test): \n",
    "    '''\n",
    "    inputs:\n",
    "       - learner: the learning algorithm to be trained and predicted on\n",
    "       - sample_size: the size of samples (number) to be drawn from training set\n",
    "       - X_train: features training set\n",
    "       - y_train: income training set\n",
    "       - X_test: features testing set\n",
    "       - y_test: income testing set\n",
    "    '''\n",
    "    \n",
    "    results = {}\n",
    "    \n",
    "    # TODO: Fit the learner to the training data using slicing with 'sample_size'\n",
    "    start = time() # Get start time\n",
    "    learner.fit(X_train[:sample_size], y_train[:sample_size])\n",
    "    end = time() # Get end time\n",
    "    \n",
    "    # TODO: Calculate the training time\n",
    "    results['train_time'] = end - start\n",
    "        \n",
    "    # TODO: Get the predictions on the test set,\n",
    "    #       then get predictions on the first 300 training samples\n",
    "    start = time() # Get start time\n",
    "    predictions_test = learner.predict(X_test)\n",
    "    predictions_train = learner.predict(X_train[:300])\n",
    "    end = time() # Get end time\n",
    "       \n",
    "    # TODO: Calculate the total prediction time\n",
    "    results['pred_time'] = end - start\n",
    "            \n",
    "    # TODO: Compute accuracy on the first 300 training samples\n",
    "    results['rmsd_train'] = math.sqrt(mean_squared_error(y_train, learner.predict(X_train)))\n",
    "        \n",
    "    # TODO: Compute accuracy on test set\n",
    "    results['rmsd_test'] = math.sqrt(mean_squared_error(y_test, learner.predict(X_test)))\n",
    "    \n",
    "    # TODO: Compute accuracy on test set\n",
    "    results['score_train'] = learner.score(X_train, y_train)\n",
    "    results['score_test'] = learner.score(X_test, y_test)\n",
    "    \n",
    "    # Success\n",
    "    print(\"{} trained on {} samples.\".format(learner.__class__.__name__, sample_size))\n",
    "    \n",
    "    y_test.reset_index(drop=True, inplace=True)\n",
    "    join_df = pd.concat([y_test, pd.Series(learner.predict(X_test))], axis=1)\n",
    "    print(join_df)\n",
    "        \n",
    "    # Return the results\n",
    "    return results"
   ]
  },
  {
   "cell_type": "code",
   "execution_count": 7,
   "metadata": {},
   "outputs": [
    {
     "name": "stdout",
     "output_type": "stream",
     "text": [
      "LinearRegression trained on 664548 samples.\n",
      "        int_rate          0\n",
      "0             13  13.784202\n",
      "1             16  16.828891\n",
      "2             11  11.727507\n",
      "3              6   6.015516\n",
      "4             19  20.322893\n",
      "5              7   7.232547\n",
      "6              7   7.369115\n",
      "7              8   7.683018\n",
      "8             19  17.710133\n",
      "9             24  23.888291\n",
      "10            12  11.718896\n",
      "11            24  25.035283\n",
      "12            17  16.148187\n",
      "13            16  16.177130\n",
      "14            14  13.644842\n",
      "15             8   8.214519\n",
      "16            30  24.477509\n",
      "17            17  15.833370\n",
      "18             6   5.149336\n",
      "19            19  18.990720\n",
      "20            12  11.917043\n",
      "21            15  14.306424\n",
      "22            16  16.154196\n",
      "23            16  15.726226\n",
      "24             7   7.098337\n",
      "25            12  12.030966\n",
      "26            10   9.210803\n",
      "27            10   9.656572\n",
      "28            11  10.934964\n",
      "29            15  14.631769\n",
      "...          ...        ...\n",
      "166107        18  19.327682\n",
      "166108        10   9.812098\n",
      "166109        18  17.738188\n",
      "166110        14  14.159116\n",
      "166111        12  12.388545\n",
      "166112        12  12.268141\n",
      "166113        19  18.844416\n",
      "166114        20  20.411444\n",
      "166115        13  13.968332\n",
      "166116        15  14.767537\n",
      "166117         5   5.316506\n",
      "166118        11  10.782840\n",
      "166119        14  13.228234\n",
      "166120        10  10.248456\n",
      "166121        14  13.426078\n",
      "166122        15  14.209369\n",
      "166123        13  12.983818\n",
      "166124        10  11.306078\n",
      "166125        19  17.828888\n",
      "166126        23  24.574462\n",
      "166127        15  14.020378\n",
      "166128        18  18.492816\n",
      "166129        10  10.769692\n",
      "166130        12  11.264060\n",
      "166131        16  18.043450\n",
      "166132        11  10.100174\n",
      "166133         9   9.630543\n",
      "166134         9   8.848973\n",
      "166135        14  12.890337\n",
      "166136        15  14.248702\n",
      "\n",
      "[166137 rows x 2 columns]\n"
     ]
    },
    {
     "data": {
      "text/plain": [
       "{'train_time': 3.2793219089508057,\n",
       " 'pred_time': 0.1743617057800293,\n",
       " 'rmsd_train': 0.8853781456372407,\n",
       " 'rmsd_test': 0.8872887395342114,\n",
       " 'score_train': 0.9631325799234893,\n",
       " 'score_test': 0.963158387391249}"
      ]
     },
     "execution_count": 7,
     "metadata": {},
     "output_type": "execute_result"
    }
   ],
   "source": [
    "from sklearn.linear_model import LinearRegression\n",
    "\n",
    "clf = LinearRegression()\n",
    "\n",
    "result = train_predict(clf, len(y_train), X_train, y_train, X_test, y_test)\n",
    "result"
   ]
  },
  {
   "cell_type": "code",
   "execution_count": null,
   "metadata": {},
   "outputs": [],
   "source": []
  }
 ],
 "metadata": {
  "kernelspec": {
   "display_name": "Python 3",
   "language": "python",
   "name": "python3"
  },
  "language_info": {
   "codemirror_mode": {
    "name": "ipython",
    "version": 3
   },
   "file_extension": ".py",
   "mimetype": "text/x-python",
   "name": "python",
   "nbconvert_exporter": "python",
   "pygments_lexer": "ipython3",
   "version": "3.6.5"
  }
 },
 "nbformat": 4,
 "nbformat_minor": 2
}
