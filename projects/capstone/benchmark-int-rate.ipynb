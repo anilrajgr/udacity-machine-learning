{
 "cells": [
  {
   "cell_type": "code",
   "execution_count": 1,
   "metadata": {},
   "outputs": [],
   "source": [
    "import numpy as np\n",
    "import pandas as pd\n",
    "import matplotlib.pyplot as plt\n",
    "from time import time\n",
    "\n",
    "%matplotlib inline\n",
    "pd.set_option('max_colwidth',1000)"
   ]
  },
  {
   "cell_type": "code",
   "execution_count": 2,
   "metadata": {},
   "outputs": [],
   "source": [
    "# Load the loan data\n",
    "df = pd.read_pickle('data_cleaned.pkl')\n",
    "df.reset_index(drop=True, inplace=True)"
   ]
  },
  {
   "cell_type": "code",
   "execution_count": 3,
   "metadata": {},
   "outputs": [],
   "source": [
    "# Categorical features from data-cleanup.ipynb\n",
    "cat_features = ['grade', 'sub_grade', 'emp_length', 'home_ownership', 'verification_status', \n",
    "                'purpose', 'addr_state', 'initial_list_status', 'application_type', 'disbursement_method',\n",
    "                'loan_status']\n",
    "\n",
    "for y in cat_features:\n",
    "    df = df.join(pd.get_dummies(df[y], prefix=y))\n",
    "    df.drop(y, axis=1, inplace=True)"
   ]
  },
  {
   "cell_type": "code",
   "execution_count": 4,
   "metadata": {},
   "outputs": [],
   "source": [
    "# Split the data in features and target label\n",
    "int_rate = df['int_rate']\n",
    "features = df.drop('int_rate', axis=1)"
   ]
  },
  {
   "cell_type": "code",
   "execution_count": 5,
   "metadata": {},
   "outputs": [
    {
     "name": "stderr",
     "output_type": "stream",
     "text": [
      "/home/anilraj/anaconda3/lib/python3.6/site-packages/sklearn/cross_validation.py:41: DeprecationWarning: This module was deprecated in version 0.18 in favor of the model_selection module into which all the refactored classes and functions are moved. Also note that the interface of the new CV iterators are different from that of this module. This module will be removed in 0.20.\n",
      "  \"This module will be removed in 0.20.\", DeprecationWarning)\n"
     ]
    },
    {
     "name": "stdout",
     "output_type": "stream",
     "text": [
      "Training set has 664548 samples.\n",
      "Testing set has 166137 samples.\n"
     ]
    }
   ],
   "source": [
    "from sklearn.cross_validation import train_test_split\n",
    "\n",
    "# Split the features and int_rate data into training and testing sets\n",
    "X_train, X_test, y_train, y_test = train_test_split(features, int_rate, test_size = 0.2, random_state = 0)\n",
    "\n",
    "print(\"Training set has {} samples.\".format(X_train.shape[0]))\n",
    "print(\"Testing set has {} samples.\".format(X_test.shape[0]))"
   ]
  },
  {
   "cell_type": "code",
   "execution_count": 6,
   "metadata": {},
   "outputs": [],
   "source": [
    "from sklearn.metrics import mean_squared_error\n",
    "import math\n",
    "\n",
    "def train_predict(learner, sample_size, X_train, y_train, X_test, y_test): \n",
    "    '''\n",
    "    inputs:\n",
    "       - learner: the learning algorithm to be trained and predicted on\n",
    "       - sample_size: the size of samples (number) to be drawn from training set\n",
    "       - X_train: features training set\n",
    "       - y_train: income training set\n",
    "       - X_test: features testing set\n",
    "       - y_test: income testing set\n",
    "    '''\n",
    "    \n",
    "    results = {}\n",
    "    \n",
    "    # TODO: Fit the learner to the training data using slicing with 'sample_size'\n",
    "    start = time() # Get start time\n",
    "    learner.fit(X_train[:sample_size], y_train[:sample_size])\n",
    "    end = time() # Get end time\n",
    "    \n",
    "    # TODO: Calculate the training time\n",
    "    results['train_time'] = end - start\n",
    "        \n",
    "    # TODO: Get the predictions on the test set,\n",
    "    #       then get predictions on the first 300 training samples\n",
    "    start = time() # Get start time\n",
    "    predictions_test = learner.predict(X_test)\n",
    "    predictions_train = learner.predict(X_train[:300])\n",
    "    end = time() # Get end time\n",
    "       \n",
    "    # TODO: Calculate the total prediction time\n",
    "    results['pred_time'] = end - start\n",
    "            \n",
    "    # TODO: Compute accuracy on the first 300 training samples\n",
    "    results['rmsd_train'] = math.sqrt(mean_squared_error(y_train, learner.predict(X_train)))\n",
    "        \n",
    "    # TODO: Compute accuracy on test set\n",
    "    results['rmsd_test'] = math.sqrt(mean_squared_error(y_test, learner.predict(X_test)))\n",
    "    \n",
    "    # TODO: Compute accuracy on test set\n",
    "    results['score_train'] = learner.score(X_train, y_train)\n",
    "    results['score_test'] = learner.score(X_test, y_test)\n",
    "    \n",
    "    # Success\n",
    "    print(\"{} trained on {} samples.\".format(learner.__class__.__name__, sample_size))\n",
    "    \n",
    "    y_test.reset_index(drop=True, inplace=True)\n",
    "    join_df = pd.concat([y_test, pd.Series(learner.predict(X_test))], axis=1)\n",
    "    print(join_df)\n",
    "        \n",
    "    # Return the results\n",
    "    return results"
   ]
  },
  {
   "cell_type": "code",
   "execution_count": 7,
   "metadata": {},
   "outputs": [
    {
     "name": "stdout",
     "output_type": "stream",
     "text": [
      "LinearRegression trained on 664548 samples.\n",
      "        int_rate          0\n",
      "0             11  11.311425\n",
      "1             10   9.453917\n",
      "2             13  13.961180\n",
      "3              7   7.198704\n",
      "4             13  13.931096\n",
      "5             12  12.235610\n",
      "6             14  13.186475\n",
      "7              6   5.804977\n",
      "8              6   6.573946\n",
      "9              8   7.717676\n",
      "10            20  20.353740\n",
      "11             9   8.827323\n",
      "12            17  17.143427\n",
      "13            15  14.525209\n",
      "14            11  10.350809\n",
      "15            16  15.916940\n",
      "16             7   7.535429\n",
      "17             6   6.208537\n",
      "18            10  10.260861\n",
      "19            14  13.478954\n",
      "20            12  11.918019\n",
      "21            10   9.439450\n",
      "22            12  12.263324\n",
      "23            13  13.064919\n",
      "24             8   7.618672\n",
      "25            13  13.040381\n",
      "26            13  13.773460\n",
      "27            13  12.994089\n",
      "28             9   9.773574\n",
      "29            17  16.371885\n",
      "...          ...        ...\n",
      "166107        14  14.099928\n",
      "166108        22  22.823580\n",
      "166109        18  18.540858\n",
      "166110        14  13.342243\n",
      "166111        10   9.834755\n",
      "166112         7   7.139434\n",
      "166113        11  11.423024\n",
      "166114        13  12.418087\n",
      "166115         6   6.282076\n",
      "166116        13  11.792465\n",
      "166117         6   5.733564\n",
      "166118        15  14.294315\n",
      "166119        12  11.046702\n",
      "166120        15  17.908387\n",
      "166121        13  14.241686\n",
      "166122        15  14.346953\n",
      "166123         8   8.260470\n",
      "166124        23  20.873249\n",
      "166125        11  10.979994\n",
      "166126        15  13.912580\n",
      "166127        19  19.941334\n",
      "166128        18  18.362873\n",
      "166129        11  10.302157\n",
      "166130        10  10.641153\n",
      "166131        11  10.465329\n",
      "166132         9  10.045633\n",
      "166133         6   5.383421\n",
      "166134        28  22.584031\n",
      "166135        12  11.048176\n",
      "166136        18  17.554902\n",
      "\n",
      "[166137 rows x 2 columns]\n"
     ]
    },
    {
     "data": {
      "text/plain": [
       "{'train_time': 38.606746673583984,\n",
       " 'pred_time': 1.8010108470916748,\n",
       " 'rmsd_train': 0.8861268533480376,\n",
       " 'rmsd_test': 0.88417360179591,\n",
       " 'score_train': 0.9630688771414035,\n",
       " 'score_test': 0.963422512110516}"
      ]
     },
     "execution_count": 7,
     "metadata": {},
     "output_type": "execute_result"
    }
   ],
   "source": [
    "from sklearn.linear_model import LinearRegression\n",
    "\n",
    "clf = LinearRegression()\n",
    "\n",
    "result = train_predict(clf, len(y_train), X_train, y_train, X_test, y_test)\n",
    "result"
   ]
  },
  {
   "cell_type": "code",
   "execution_count": null,
   "metadata": {},
   "outputs": [],
   "source": []
  }
 ],
 "metadata": {
  "kernelspec": {
   "display_name": "Python 3",
   "language": "python",
   "name": "python3"
  },
  "language_info": {
   "codemirror_mode": {
    "name": "ipython",
    "version": 3
   },
   "file_extension": ".py",
   "mimetype": "text/x-python",
   "name": "python",
   "nbconvert_exporter": "python",
   "pygments_lexer": "ipython3",
   "version": "3.6.5"
  }
 },
 "nbformat": 4,
 "nbformat_minor": 2
}
