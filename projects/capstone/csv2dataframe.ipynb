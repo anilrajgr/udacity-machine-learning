{
 "cells": [
  {
   "cell_type": "code",
   "execution_count": 1,
   "metadata": {},
   "outputs": [],
   "source": [
    "import pandas as pd\n",
    "import glob\n",
    "import shutil\n",
    "import sys\n",
    "import numpy as np"
   ]
  },
  {
   "cell_type": "code",
   "execution_count": null,
   "metadata": {},
   "outputs": [],
   "source": [
    "# Manual cleaning\n",
    "    # Removed \"Loans that do not meet credit policy\"\n",
    "    # Removed all the lines beginning with \"Total amount\"\n",
    "    # All the empty cells made 0\n",
    "    # Remove first line from all the CSVs. There is some comment."
   ]
  },
  {
   "cell_type": "code",
   "execution_count": null,
   "metadata": {},
   "outputs": [
    {
     "name": "stdout",
     "output_type": "stream",
     "text": [
      "LoanStats3a.csv\n",
      "LoanStats3b.csv\n",
      "LoanStats3c.csv\n",
      "LoanStats3d.csv\n",
      "LoanStats_2016Q1.csv\n",
      "LoanStats_2016Q2.csv\n"
     ]
    }
   ],
   "source": [
    "# Load all the csv files.\n",
    "loan_data = pd.DataFrame()\n",
    "for file in glob.glob(\"Loan*.csv\"):\n",
    "    print(file)\n",
    "    df = pd.read_csv(file, dtype={'id':float,  # 0\n",
    "                                  'member_id':float,  # 1\n",
    "                                  'loan_amnt':int,  # 2\n",
    "                                  'funded_amnt':int,  # 3\n",
    "                                  'funded_amnt_inv':str,  # 4\n",
    "                                  'term':str,  # 5\n",
    "                                  'int_rate':str,  # 6\n",
    "                                  'installment':float,  # 7\n",
    "                                  'grade':str,  # 8\n",
    "                                  'sub_grade':str,  # 9\n",
    "                                  'emp_title':str,  # 10\n",
    "                                  'emp_length':str,  # 11\n",
    "                                  'home_ownership':str,  # 12\n",
    "                                  'annual_inc':str,  # 13\n",
    "                                  'verification_status':str,  # 14\n",
    "                                  'issue_d':str,  # 15\n",
    "                                  'loan_status':str,  # 16\n",
    "                                  'pymnt_plan':str,  # 17\n",
    "                                  'url':str,  # 18\n",
    "                                  'desc':str,  # 19\n",
    "                                  'purpose':str,  # 20\n",
    "                                  'title':str,  # 21\n",
    "                                  'zip_code':str,  # 22\n",
    "                                  'addr_state':str,  # 23\n",
    "                                  'dti':float,  # 24\n",
    "                                  'delinq_2yrs':int,  # 25\n",
    "                                  'earliest_cr_line':str,  # 26\n",
    "                                  'inq_last_6mths':int,  # 27\n",
    "                                  'mths_since_last_delinq':float,  # 28\n",
    "                                  'mths_since_last_record':float,  # 29\n",
    "                                  'open_acc':int,  # 30\n",
    "                                  'pub_rec':int,  # 31\n",
    "                                  'revol_bal':int,  # 32\n",
    "                                  'revol_util':str,  # 33\n",
    "                                  'total_acc':int,  # 34\n",
    "                                  'initial_list_status':str,  # 35\n",
    "                                  'out_prncp':float,  # 36\n",
    "                                  'out_prncp_inv':float,  # 37\n",
    "                                  'total_pymnt':float,  # 38\n",
    "                                  'total_pymnt_inv':float,  # 39\n",
    "                                  'total_rec_prncp':float,  # 40\n",
    "                                  'total_rec_int':float,  # 41\n",
    "                                  'total_rec_late_fee':float,  # 42\n",
    "                                  'recoveries':float,  # 43\n",
    "                                  'collection_recovery_fee':float,  # 44\n",
    "                                  'last_pymnt_d':str,  # 45\n",
    "                                  'last_pymnt_amnt':float,  # 46\n",
    "                                  'next_pymnt_d':str,  # 47\n",
    "                                  'last_credit_pull_d':str,  # 48\n",
    "                                  'collections_12_mths_ex_med':int,  # 49\n",
    "                                  'mths_since_last_major_derog':float,  # 50\n",
    "                                  'policy_code':int,  # 51\n",
    "                                  'application_type':str,  # 52\n",
    "                                  'annual_inc_joint':float,  # 53\n",
    "                                  'dti_joint':float,  # 54\n",
    "                                  'verification_status_joint':str,  # 55\n",
    "                                  'acc_now_delinq':int,  # 56\n",
    "                                  'tot_coll_amt':float,  # 57\n",
    "                                  'tot_cur_bal':float,  # 58\n",
    "                                  'open_acc_6m':float,  # 59\n",
    "                                  'open_act_il':float,  # 60\n",
    "                                  'open_il_12m':float,  # 61\n",
    "                                  'open_il_24m':float,  # 62\n",
    "                                  'mths_since_rcnt_il':float,  # 63\n",
    "                                  'total_bal_il':float,  # 64\n",
    "                                  'il_util':float,  # 65\n",
    "                                  'open_rv_12m':float,  # 66\n",
    "                                  'open_rv_24m':float,  # 67\n",
    "                                  'max_bal_bc':float,  # 68\n",
    "                                  'all_util':float,  # 69\n",
    "                                  'total_rev_hi_lim':float,  # 70\n",
    "                                  'inq_fi':float,  # 71\n",
    "                                  'total_cu_tl':float,  # 72\n",
    "                                  'inq_last_12m':float,  # 73\n",
    "                                  'acc_open_past_24mths':float,  # 74\n",
    "                                  'avg_cur_bal':float,  # 75\n",
    "                                  'bc_open_to_buy':float,  # 76\n",
    "                                  'bc_util':float,  # 77\n",
    "                                  'chargeoff_within_12_mths':int,  # 78\n",
    "                                  'delinq_amnt':int,  # 79\n",
    "                                  'mo_sin_old_il_acct':float,  # 80\n",
    "                                  'mo_sin_old_rev_tl_op':float,  # 81\n",
    "                                  'mo_sin_rcnt_rev_tl_op':float,  # 82\n",
    "                                  'mo_sin_rcnt_tl':float,  # 83\n",
    "                                  'mort_acc':float,  # 84\n",
    "                                  'mths_since_recent_bc':float,  # 85\n",
    "                                  'mths_since_recent_bc_dlq':float,  # 86\n",
    "                                  'mths_since_recent_inq':float,  # 87\n",
    "                                  'mths_since_recent_revol_delinq':float,  # 88\n",
    "                                  'num_accts_ever_120_pd':float,  # 89\n",
    "                                  'num_actv_bc_tl':float,  # 90\n",
    "                                  'num_actv_rev_tl':float,  # 91\n",
    "                                  'num_bc_sats':float,  # 92\n",
    "                                  'num_bc_tl':float,  # 93\n",
    "                                  'num_il_tl':float,  # 94\n",
    "                                  'num_op_rev_tl':float,  # 95\n",
    "                                  'num_rev_accts':float,  # 96\n",
    "                                  'num_rev_tl_bal_gt_0':float,  # 97\n",
    "                                  'num_sats':float,  # 98\n",
    "                                  'num_tl_120dpd_2m':float,  # 99\n",
    "                                  'num_tl_30dpd':float,  # 100\n",
    "                                  'num_tl_90g_dpd_24m':float,  # 101\n",
    "                                  'num_tl_op_past_12m':float,  # 102\n",
    "                                  'pct_tl_nvr_dlq':float,  # 103\n",
    "                                  'percent_bc_gt_75':float,  # 104\n",
    "                                  'pub_rec_bankruptcies':float,  # 105\n",
    "                                  'tax_liens':int,  # 106\n",
    "                                  'tot_hi_cred_lim':float,  # 107\n",
    "                                  'total_bal_ex_mort':float,  # 108\n",
    "                                  'total_bc_limit':float,  # 109\n",
    "                                  'total_il_high_credit_limit':float,  # 110\n",
    "                                  'revol_bal_joint':float,  # 111\n",
    "                                  'sec_app_earliest_cr_line':str,  # 112\n",
    "                                  'sec_app_inq_last_6mths':float,  # 113\n",
    "                                  'sec_app_mort_acc':float,  # 114\n",
    "                                  'sec_app_open_acc':float,  # 115\n",
    "                                  'sec_app_revol_util':float,  # 116\n",
    "                                  'sec_app_open_act_il':float,  # 117\n",
    "                                  'sec_app_num_rev_accts':float,  # 118\n",
    "                                  'sec_app_chargeoff_within_12_mths':float,  # 119\n",
    "                                  'sec_app_collections_12_mths_ex_med':float,  # 120\n",
    "                                  'sec_app_mths_since_last_major_derog':float,  # 121\n",
    "                                  'hardship_flag':str,  # 122\n",
    "                                  'hardship_type':str,  # 123\n",
    "                                  'hardship_reason':str,  # 124\n",
    "                                  'hardship_status':str,  # 125\n",
    "                                  'deferral_term':float,  # 126\n",
    "                                  'hardship_amount':float,  # 127\n",
    "                                  'hardship_start_date':str,  # 128\n",
    "                                  'hardship_end_date':str,  # 129\n",
    "                                  'payment_plan_start_date':str,  # 130\n",
    "                                  'hardship_length':float,  # 131\n",
    "                                  'hardship_dpd':float,  # 132\n",
    "                                  'hardship_loan_status':str,  # 133\n",
    "                                  'orig_projected_additional_accrued_interest':float,  # 134\n",
    "                                  'hardship_payoff_balance_amount':float,  # 135\n",
    "                                  'hardship_last_payment_amount':float,  # 136\n",
    "                                  'disbursement_method':str,  # 137\n",
    "                                  'debt_settlement_flag':str,  # 138\n",
    "                                  'debt_settlement_flag_date':str,  # 139\n",
    "                                  'settlement_status':str,  # 140\n",
    "                                  'settlement_date':str,  # 141\n",
    "                                  'settlement_amount':str,  # 142\n",
    "                                  'settlement_percentage':str,  # 143\n",
    "                                  'settlement_term':str})\n",
    "    # df = pd.read_csv(file, dtype={'loan_amnt':int, 'funded_amnt':int, 'funded_amnt_inv':str, 'term':str, 'int_rate':str, 'installment':float, 'grade':str, 'sub_grade':str, 'emp_title':str, 'emp_length':str, 'home_ownership':str, 'annual_inc':str, 'verification_status':str, 'issue_d':str, 'loan_status':str, 'pymnt_plan':str, 'url':str, 'desc':str, 'purpose':str, 'title':str, 'zip_code':str, 'addr_state':str, 'dti':float, 'delinq_2yrs':int, 'earliest_cr_line':str, 'inq_last_6mths':int, 'mths_since_last_delinq':int, 'mths_since_last_record':int, 'open_acc':int, 'pub_rec':int, 'revol_bal':int, 'revol_util':str, 'total_acc':int, 'initial_list_status':str, 'out_prncp':float, 'out_prncp_inv':float, 'total_pymnt':float, 'total_pymnt_inv':float, 'total_rec_prncp':float, 'total_rec_int':float, 'total_rec_late_fee':int, 'recoveries':int, 'collection_recovery_fee':int, 'last_pymnt_d':str, 'last_pymnt_amnt':float, 'next_pymnt_d':str, 'last_credit_pull_d':str, 'collections_12_mths_ex_med':int, 'mths_since_last_major_derog':int, 'policy_code':int, 'application_type':str, 'annual_inc_joint':int, 'dti_joint':int, 'verification_status_joint':int, 'acc_now_delinq':int, 'tot_coll_amt':int, 'tot_cur_bal':int, 'open_acc_6m':int, 'open_act_il':int, 'open_il_12m':int, 'open_il_24m':int, 'mths_since_rcnt_il':int, 'total_bal_il':int, 'il_util':int, 'open_rv_12m':int, 'open_rv_24m':int, 'max_bal_bc':int, 'all_util':int, 'total_rev_hi_lim':int, 'inq_fi':int, 'total_cu_tl':int, 'inq_last_12m':int, 'acc_open_past_24mths':int, 'avg_cur_bal':int, 'bc_open_to_buy':int, 'bc_util':float, 'chargeoff_within_12_mths':int, 'delinq_amnt':int, 'mo_sin_old_il_acct':int, 'mo_sin_old_rev_tl_op':int, 'mo_sin_rcnt_rev_tl_op':int, 'mo_sin_rcnt_tl':int, 'mort_acc':int, 'mths_since_recent_bc':int, 'mths_since_recent_bc_dlq':int, 'mths_since_recent_inq':int, 'mths_since_recent_revol_delinq':int, 'num_accts_ever_120_pd':int, 'num_actv_bc_tl':int, 'num_actv_rev_tl':int, 'num_bc_sats':int, 'num_bc_tl':int, 'num_il_tl':int, 'num_op_rev_tl':int, 'num_rev_accts':int, 'num_rev_tl_bal_gt_0':int, 'num_sats':int, 'num_tl_120dpd_2m':int, 'num_tl_30dpd':int, 'num_tl_90g_dpd_24m':int, 'num_tl_op_past_12m':int, 'pct_tl_nvr_dlq':float, 'percent_bc_gt_75':float, 'pub_rec_bankruptcies':int, 'tax_liens':int, 'tot_hi_cred_lim':int, 'total_bal_ex_mort':int, 'total_bc_limit':int, 'total_il_high_credit_limit':int, 'revol_bal_joint':int, 'sec_app_earliest_cr_line':int, 'sec_app_inq_last_6mths':int, 'sec_app_mort_acc':int, 'sec_app_open_acc':int, 'sec_app_revol_util':int, 'sec_app_open_act_il':int, 'sec_app_num_rev_accts':int, 'sec_app_chargeoff_within_12_mths':int, 'sec_app_collections_12_mths_ex_med':int, 'sec_app_mths_since_last_major_derog':int, 'hardship_flag':str, 'hardship_type':str, 'hardship_reason':str, 'hardship_status':str, 'deferral_term':int, 'hardship_amount':float, 'hardship_start_date':str, 'hardship_end_date':str, 'payment_plan_start_date':str, 'hardship_length':int, 'hardship_dpd':int, 'hardship_loan_status':str, 'orig_projected_additional_accrued_interest':float, 'hardship_payoff_balance_amount':float, 'hardship_last_payment_amount':float, 'disbursement_method':str, 'debt_settlement_flag':str, 'debt_settlement_flag_date':str, 'settlement_status':str, 'settlement_date':str, 'settlement_amount':str, 'settlement_percentage':str, 'settlement_term':str})\n",
    "    loan_data = loan_data.append(df)"
   ]
  },
  {
   "cell_type": "code",
   "execution_count": null,
   "metadata": {},
   "outputs": [],
   "source": [
    "import numpy as np\n",
    "# Convert all NaN to 0\n",
    "loan_data.fillna(0, inplace=True)\n",
    "print(loan_data.shape)"
   ]
  },
  {
   "cell_type": "code",
   "execution_count": null,
   "metadata": {},
   "outputs": [],
   "source": [
    "# Delete columns, where all the entries are 0.\n",
    "loan_data = loan_data.loc[:, (loan_data != 0).any(axis=0)]\n",
    "print(loan_data.shape)"
   ]
  },
  {
   "cell_type": "code",
   "execution_count": null,
   "metadata": {},
   "outputs": [],
   "source": [
    "print(loan_data)"
   ]
  },
  {
   "cell_type": "code",
   "execution_count": null,
   "metadata": {},
   "outputs": [],
   "source": [
    "# Load the dictionary from Lending Club data\n",
    "loan_dict = pd.read_excel(open('LCDataDictionary.xlsx','rb'), sheetname='LoanStats')"
   ]
  },
  {
   "cell_type": "code",
   "execution_count": null,
   "metadata": {},
   "outputs": [],
   "source": [
    "loan_data.info()\n",
    "pd.set_option('max_colwidth',1000)"
   ]
  },
  {
   "cell_type": "code",
   "execution_count": null,
   "metadata": {},
   "outputs": [],
   "source": [
    "# Now analyze one column at a time\n",
    "# loan_dict.loc[loan_dict['LoanStatNew'] == 'loan_amnt']\n",
    "print(loan_data.iloc[:5,:6])\n",
    "for y in loan_data.columns[:5]:\n",
    "  print(y, loan_data[y].dtype)\n",
    "loan_dict.loc[loan_dict['LoanStatNew'].isin(list(loan_data.columns.values[:6]))]"
   ]
  },
  {
   "cell_type": "code",
   "execution_count": null,
   "metadata": {},
   "outputs": [],
   "source": [
    "# Analysis\n",
    "# loan_amnt is int32 - Good\n",
    "# funded_amnt is int32 - Good\n",
    "# funded_amnt_inv is object - Bad\n",
    "# term is object - Bad\n",
    "# int_rate is object - Bad\n",
    "\n",
    "# Let's start with funded_amnt_inv\n",
    "# Find the non-int entry\n",
    "df = loan_data['funded_amnt_inv'].to_frame().applymap(np.isreal) == False\n",
    "df.loc[df['funded_amnt_inv'] == True]"
   ]
  },
  {
   "cell_type": "code",
   "execution_count": null,
   "metadata": {},
   "outputs": [],
   "source": [
    "# Looks like all the entries are considered non-integral\n",
    "# Let's examine\n",
    "loan_data['funded_amnt_inv'][:1]\n",
    "# Since each object seems to string, convert it to numeric.\n",
    "loan_data['funded_amnt_inv'] = pd.to_numeric(loan_data['funded_amnt_inv'])\n",
    "# Find the non-numeric entry\n",
    "df = loan_data['funded_amnt_inv'].to_frame().applymap(np.isreal) == False\n",
    "df.loc[df['funded_amnt_inv'] == True]\n",
    "df = loan_data['funded_amnt_inv']\n",
    "df.loc[df.isnull()]\n",
    "# So now the data for funded_amnt_inv is all good."
   ]
  },
  {
   "cell_type": "code",
   "execution_count": null,
   "metadata": {},
   "outputs": [],
   "source": [
    "# Moving to \"term\"\n",
    "# All terms are described in terms of months.\n",
    "# So, a simple replacement should work.\n",
    "loan_data['term'] = loan_data['term'].str.replace(\" months\",\"\")\n",
    "# Now convert all of them to numeric\n",
    "loan_data['term'] = pd.to_numeric(loan_data['term'])\n",
    "# Find the non-numeric entry\n",
    "df = loan_data['term'].to_frame().applymap(np.isreal) == False\n",
    "df.loc[df['term'] == True]\n",
    "# The term data looks all good."
   ]
  },
  {
   "cell_type": "code",
   "execution_count": null,
   "metadata": {},
   "outputs": [],
   "source": [
    "# Moving to \"int_rate\"\n",
    "# All int_rate are described in terms of %.\n",
    "# So, a simple replacement should work.\n",
    "loan_data['int_rate'] = loan_data['int_rate'].str.replace(\"%\",\"\")\n",
    "# Now convert all of them to numeric\n",
    "loan_data['int_rate'] = pd.to_numeric(loan_data['int_rate'])\n",
    "# Find the non-numeric entry\n",
    "df = loan_data['int_rate'].to_frame().applymap(np.isreal) == False\n",
    "df.loc[df['int_rate'] == True]\n",
    "# The int_rate data looks all good."
   ]
  },
  {
   "cell_type": "code",
   "execution_count": null,
   "metadata": {},
   "outputs": [],
   "source": [
    "# Moving to \"installment\"\n",
    "# Find the non-numeric entry\n",
    "df = loan_data['installment'].to_frame().applymap(np.isreal) == False\n",
    "df.loc[df['installment'] == True]\n",
    "# The installment data looks all good."
   ]
  },
  {
   "cell_type": "code",
   "execution_count": null,
   "metadata": {},
   "outputs": [],
   "source": [
    "# Print thoese features again\n",
    "print(loan_data.iloc[:5,:6])\n",
    "for y in loan_data.columns[:5]:\n",
    "  print(y, loan_data[y].dtype)"
   ]
  },
  {
   "cell_type": "code",
   "execution_count": null,
   "metadata": {},
   "outputs": [],
   "source": [
    "# Want to see if the loan_amnt and funded_amnt are ever different\n",
    "df = loan_data['loan_amnt'] - loan_data['funded_amnt'] != 0"
   ]
  },
  {
   "cell_type": "code",
   "execution_count": null,
   "metadata": {},
   "outputs": [],
   "source": [
    "import matplotlib.pyplot as plt\n",
    "def show_histogram(col):\n",
    "    plt.hist(loan_data[col].dropna(), bins='auto')  # arguments are passed to np.histogram\n",
    "    plt.title(col)\n",
    "    plt.show()"
   ]
  },
  {
   "cell_type": "code",
   "execution_count": null,
   "metadata": {},
   "outputs": [],
   "source": [
    "\"\"\"\n",
    "loan_data['loan_status'].value_counts().plot(kind='bar')\n",
    "plt.show()\n",
    "# Predict all the loans are good. No defaults.\n",
    "print(100*loan_data['loan_status'].value_counts()['Charged Off']/float(len(loan_data.index)))\n",
    "true_positive =  loan_data['loan_status'].value_counts()['Fully Paid']\n",
    "false_positive = loan_data['loan_status'].value_counts()['Charged Off']\n",
    "true_negative = 0\n",
    "false_negative = 0\n",
    "accuracy = true_positive / float(true_positive + false_positive )\n",
    "precision = true_positive / float((true_positive + false_positive))\n",
    "recall = true_positive / float(true_positive + false_negative)\n",
    "beta = 0.5\n",
    "fscore = (1 + beta*beta) * precision * recall / (beta*beta*precision + recall)\n",
    "print(\"Accuracy = \", accuracy, \" Recall = \", recall)\n",
    "print(\"Naive Predictor: [Accuracy score: {:.4f}, F-score: {:.4f}]\".format(accuracy, fscore))\n",
    "\"\"\""
   ]
  },
  {
   "cell_type": "code",
   "execution_count": null,
   "metadata": {},
   "outputs": [],
   "source": [
    "\"\"\"\n",
    "loan_data['int_rate'] = df['int_rate'].str.replace(r'%', '').astype('float')\n",
    "# loan_data['int_rate'].plot()\n",
    "# plt.show()\n",
    "show_histogram('int_rate')\n",
    "\"\"\""
   ]
  },
  {
   "cell_type": "code",
   "execution_count": null,
   "metadata": {},
   "outputs": [],
   "source": [
    "\"\"\"\n",
    "for col in list(loan_data.columns.values):\n",
    "    if (type(loan_data[col].iloc[0]) != 'str'):\n",
    "        if(loan_data[col].dtype != 'object'):\n",
    "            print(col)\n",
    "            show_histogram(col)\n",
    "\"\"\""
   ]
  },
  {
   "cell_type": "code",
   "execution_count": null,
   "metadata": {},
   "outputs": [],
   "source": [
    "\"\"\"\n",
    "for col in list(loan_data.columns.values):\n",
    "    if (type(loan_data[col].iloc[0]) != 'str'):\n",
    "        if(loan_data[col].dtype == 'object'):\n",
    "            print(col)\n",
    "            show_histogram(col)\n",
    "\"\"\""
   ]
  }
 ],
 "metadata": {
  "kernelspec": {
   "display_name": "Python 3",
   "language": "python",
   "name": "python3"
  },
  "language_info": {
   "codemirror_mode": {
    "name": "ipython",
    "version": 3
   },
   "file_extension": ".py",
   "mimetype": "text/x-python",
   "name": "python",
   "nbconvert_exporter": "python",
   "pygments_lexer": "ipython3",
   "version": "3.6.4"
  }
 },
 "nbformat": 4,
 "nbformat_minor": 2
}
