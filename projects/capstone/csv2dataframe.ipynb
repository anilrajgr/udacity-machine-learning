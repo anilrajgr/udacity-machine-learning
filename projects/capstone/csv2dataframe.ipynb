{
 "cells": [
  {
   "cell_type": "code",
   "execution_count": 1,
   "metadata": {},
   "outputs": [],
   "source": [
    "import pandas as pd\n",
    "import glob\n",
    "import shutil\n",
    "import sys\n",
    "import numpy as np"
   ]
  },
  {
   "cell_type": "code",
   "execution_count": 2,
   "metadata": {},
   "outputs": [],
   "source": [
    "# Manual cleaning\n",
    "    # Removed \"Loans that do not meet credit policy\"\n",
    "    # Removed all the lines beginning with \"Total amount\"\n",
    "    # All the empty cells made 0\n",
    "    # Remove first line from all the CSVs. There is some comment."
   ]
  },
  {
   "cell_type": "code",
   "execution_count": 3,
   "metadata": {},
   "outputs": [
    {
     "name": "stdout",
     "output_type": "stream",
     "text": [
      "LoanStats3a.csv\n",
      "LoanStats3b.csv\n",
      "LoanStats3c.csv\n",
      "LoanStats3d.csv\n",
      "LoanStats_2016Q1.csv\n",
      "LoanStats_2016Q2.csv\n",
      "LoanStats_2016Q3.csv\n",
      "LoanStats_2016Q4.csv\n",
      "LoanStats_2017Q1.csv\n",
      "LoanStats_2017Q2.csv\n",
      "LoanStats_2017Q3.csv\n",
      "LoanStats_2017Q4.csv\n"
     ]
    }
   ],
   "source": [
    "# Load all the csv files.\n",
    "loan_data = pd.DataFrame()\n",
    "for file in glob.glob(\"Loan*.csv\"):\n",
    "    print(file)\n",
    "    df = pd.read_csv(file, dtype={'id':float,  # 0\n",
    "                                  'member_id':float,  # 1\n",
    "                                  'loan_amnt':int,  # 2\n",
    "                                  'funded_amnt':int,  # 3\n",
    "                                  'funded_amnt_inv':str,  # 4\n",
    "                                  'term':str,  # 5\n",
    "                                  'int_rate':str,  # 6\n",
    "                                  'installment':float,  # 7\n",
    "                                  'grade':str,  # 8\n",
    "                                  'sub_grade':str,  # 9\n",
    "                                  'emp_title':str,  # 10\n",
    "                                  'emp_length':str,  # 11\n",
    "                                  'home_ownership':str,  # 12\n",
    "                                  'annual_inc':str,  # 13\n",
    "                                  'verification_status':str,  # 14\n",
    "                                  'issue_d':str,  # 15\n",
    "                                  'loan_status':str,  # 16\n",
    "                                  'pymnt_plan':str,  # 17\n",
    "                                  'url':str,  # 18\n",
    "                                  'desc':str,  # 19\n",
    "                                  'purpose':str,  # 20\n",
    "                                  'title':str,  # 21\n",
    "                                  'zip_code':str,  # 22\n",
    "                                  'addr_state':str,  # 23\n",
    "                                  'dti':float,  # 24\n",
    "                                  'delinq_2yrs':int,  # 25\n",
    "                                  'earliest_cr_line':str,  # 26\n",
    "                                  'inq_last_6mths':int,  # 27\n",
    "                                  'mths_since_last_delinq':float,  # 28\n",
    "                                  'mths_since_last_record':float,  # 29\n",
    "                                  'open_acc':int,  # 30\n",
    "                                  'pub_rec':int,  # 31\n",
    "                                  'revol_bal':int,  # 32\n",
    "                                  'revol_util':str,  # 33\n",
    "                                  'total_acc':int,  # 34\n",
    "                                  'initial_list_status':str,  # 35\n",
    "                                  'out_prncp':float,  # 36\n",
    "                                  'out_prncp_inv':float,  # 37\n",
    "                                  'total_pymnt':float,  # 38\n",
    "                                  'total_pymnt_inv':float,  # 39\n",
    "                                  'total_rec_prncp':float,  # 40\n",
    "                                  'total_rec_int':float,  # 41\n",
    "                                  'total_rec_late_fee':float,  # 42\n",
    "                                  'recoveries':float,  # 43\n",
    "                                  'collection_recovery_fee':float,  # 44\n",
    "                                  'last_pymnt_d':str,  # 45\n",
    "                                  'last_pymnt_amnt':float,  # 46\n",
    "                                  'next_pymnt_d':str,  # 47\n",
    "                                  'last_credit_pull_d':str,  # 48\n",
    "                                  'collections_12_mths_ex_med':int,  # 49\n",
    "                                  'mths_since_last_major_derog':float,  # 50\n",
    "                                  'policy_code':int,  # 51\n",
    "                                  'application_type':str,  # 52\n",
    "                                  'annual_inc_joint':float,  # 53\n",
    "                                  'dti_joint':float,  # 54\n",
    "                                  'verification_status_joint':str,  # 55\n",
    "                                  'acc_now_delinq':int,  # 56\n",
    "                                  'tot_coll_amt':float,  # 57\n",
    "                                  'tot_cur_bal':float,  # 58\n",
    "                                  'open_acc_6m':float,  # 59\n",
    "                                  'open_act_il':float,  # 60\n",
    "                                  'open_il_12m':float,  # 61\n",
    "                                  'open_il_24m':float,  # 62\n",
    "                                  'mths_since_rcnt_il':float,  # 63\n",
    "                                  'total_bal_il':float,  # 64\n",
    "                                  'il_util':float,  # 65\n",
    "                                  'open_rv_12m':float,  # 66\n",
    "                                  'open_rv_24m':float,  # 67\n",
    "                                  'max_bal_bc':float,  # 68\n",
    "                                  'all_util':float,  # 69\n",
    "                                  'total_rev_hi_lim':float,  # 70\n",
    "                                  'inq_fi':float,  # 71\n",
    "                                  'total_cu_tl':float,  # 72\n",
    "                                  'inq_last_12m':float,  # 73\n",
    "                                  'acc_open_past_24mths':float,  # 74\n",
    "                                  'avg_cur_bal':float,  # 75\n",
    "                                  'bc_open_to_buy':float,  # 76\n",
    "                                  'bc_util':float,  # 77\n",
    "                                  'chargeoff_within_12_mths':int,  # 78\n",
    "                                  'delinq_amnt':int,  # 79\n",
    "                                  'mo_sin_old_il_acct':float,  # 80\n",
    "                                  'mo_sin_old_rev_tl_op':float,  # 81\n",
    "                                  'mo_sin_rcnt_rev_tl_op':float,  # 82\n",
    "                                  'mo_sin_rcnt_tl':float,  # 83\n",
    "                                  'mort_acc':float,  # 84\n",
    "                                  'mths_since_recent_bc':float,  # 85\n",
    "                                  'mths_since_recent_bc_dlq':float,  # 86\n",
    "                                  'mths_since_recent_inq':float,  # 87\n",
    "                                  'mths_since_recent_revol_delinq':float,  # 88\n",
    "                                  'num_accts_ever_120_pd':float,  # 89\n",
    "                                  'num_actv_bc_tl':float,  # 90\n",
    "                                  'num_actv_rev_tl':float,  # 91\n",
    "                                  'num_bc_sats':float,  # 92\n",
    "                                  'num_bc_tl':float,  # 93\n",
    "                                  'num_il_tl':float,  # 94\n",
    "                                  'num_op_rev_tl':float,  # 95\n",
    "                                  'num_rev_accts':float,  # 96\n",
    "                                  'num_rev_tl_bal_gt_0':float,  # 97\n",
    "                                  'num_sats':float,  # 98\n",
    "                                  'num_tl_120dpd_2m':float,  # 99\n",
    "                                  'num_tl_30dpd':float,  # 100\n",
    "                                  'num_tl_90g_dpd_24m':float,  # 101\n",
    "                                  'num_tl_op_past_12m':float,  # 102\n",
    "                                  'pct_tl_nvr_dlq':float,  # 103\n",
    "                                  'percent_bc_gt_75':float,  # 104\n",
    "                                  'pub_rec_bankruptcies':float,  # 105\n",
    "                                  'tax_liens':int,  # 106\n",
    "                                  'tot_hi_cred_lim':float,  # 107\n",
    "                                  'total_bal_ex_mort':float,  # 108\n",
    "                                  'total_bc_limit':float,  # 109\n",
    "                                  'total_il_high_credit_limit':float,  # 110\n",
    "                                  'revol_bal_joint':float,  # 111\n",
    "                                  'sec_app_earliest_cr_line':str,  # 112\n",
    "                                  'sec_app_inq_last_6mths':float,  # 113\n",
    "                                  'sec_app_mort_acc':float,  # 114\n",
    "                                  'sec_app_open_acc':float,  # 115\n",
    "                                  'sec_app_revol_util':float,  # 116\n",
    "                                  'sec_app_open_act_il':float,  # 117\n",
    "                                  'sec_app_num_rev_accts':float,  # 118\n",
    "                                  'sec_app_chargeoff_within_12_mths':float,  # 119\n",
    "                                  'sec_app_collections_12_mths_ex_med':float,  # 120\n",
    "                                  'sec_app_mths_since_last_major_derog':float,  # 121\n",
    "                                  'hardship_flag':str,  # 122\n",
    "                                  'hardship_type':str,  # 123\n",
    "                                  'hardship_reason':str,  # 124\n",
    "                                  'hardship_status':str,  # 125\n",
    "                                  'deferral_term':float,  # 126\n",
    "                                  'hardship_amount':float,  # 127\n",
    "                                  'hardship_start_date':str,  # 128\n",
    "                                  'hardship_end_date':str,  # 129\n",
    "                                  'payment_plan_start_date':str,  # 130\n",
    "                                  'hardship_length':float,  # 131\n",
    "                                  'hardship_dpd':float,  # 132\n",
    "                                  'hardship_loan_status':str,  # 133\n",
    "                                  'orig_projected_additional_accrued_interest':float,  # 134\n",
    "                                  'hardship_payoff_balance_amount':float,  # 135\n",
    "                                  'hardship_last_payment_amount':float,  # 136\n",
    "                                  'disbursement_method':str,  # 137\n",
    "                                  'debt_settlement_flag':str,  # 138\n",
    "                                  'debt_settlement_flag_date':str,  # 139\n",
    "                                  'settlement_status':str,  # 140\n",
    "                                  'settlement_date':str,  # 141\n",
    "                                  'settlement_amount':str,  # 142\n",
    "                                  'settlement_percentage':str,  # 143\n",
    "                                  'settlement_term':str})\n",
    "    # df = pd.read_csv(file, dtype={'loan_amnt':int, 'funded_amnt':int, 'funded_amnt_inv':str, 'term':str, 'int_rate':str, 'installment':float, 'grade':str, 'sub_grade':str, 'emp_title':str, 'emp_length':str, 'home_ownership':str, 'annual_inc':str, 'verification_status':str, 'issue_d':str, 'loan_status':str, 'pymnt_plan':str, 'url':str, 'desc':str, 'purpose':str, 'title':str, 'zip_code':str, 'addr_state':str, 'dti':float, 'delinq_2yrs':int, 'earliest_cr_line':str, 'inq_last_6mths':int, 'mths_since_last_delinq':int, 'mths_since_last_record':int, 'open_acc':int, 'pub_rec':int, 'revol_bal':int, 'revol_util':str, 'total_acc':int, 'initial_list_status':str, 'out_prncp':float, 'out_prncp_inv':float, 'total_pymnt':float, 'total_pymnt_inv':float, 'total_rec_prncp':float, 'total_rec_int':float, 'total_rec_late_fee':int, 'recoveries':int, 'collection_recovery_fee':int, 'last_pymnt_d':str, 'last_pymnt_amnt':float, 'next_pymnt_d':str, 'last_credit_pull_d':str, 'collections_12_mths_ex_med':int, 'mths_since_last_major_derog':int, 'policy_code':int, 'application_type':str, 'annual_inc_joint':int, 'dti_joint':int, 'verification_status_joint':int, 'acc_now_delinq':int, 'tot_coll_amt':int, 'tot_cur_bal':int, 'open_acc_6m':int, 'open_act_il':int, 'open_il_12m':int, 'open_il_24m':int, 'mths_since_rcnt_il':int, 'total_bal_il':int, 'il_util':int, 'open_rv_12m':int, 'open_rv_24m':int, 'max_bal_bc':int, 'all_util':int, 'total_rev_hi_lim':int, 'inq_fi':int, 'total_cu_tl':int, 'inq_last_12m':int, 'acc_open_past_24mths':int, 'avg_cur_bal':int, 'bc_open_to_buy':int, 'bc_util':float, 'chargeoff_within_12_mths':int, 'delinq_amnt':int, 'mo_sin_old_il_acct':int, 'mo_sin_old_rev_tl_op':int, 'mo_sin_rcnt_rev_tl_op':int, 'mo_sin_rcnt_tl':int, 'mort_acc':int, 'mths_since_recent_bc':int, 'mths_since_recent_bc_dlq':int, 'mths_since_recent_inq':int, 'mths_since_recent_revol_delinq':int, 'num_accts_ever_120_pd':int, 'num_actv_bc_tl':int, 'num_actv_rev_tl':int, 'num_bc_sats':int, 'num_bc_tl':int, 'num_il_tl':int, 'num_op_rev_tl':int, 'num_rev_accts':int, 'num_rev_tl_bal_gt_0':int, 'num_sats':int, 'num_tl_120dpd_2m':int, 'num_tl_30dpd':int, 'num_tl_90g_dpd_24m':int, 'num_tl_op_past_12m':int, 'pct_tl_nvr_dlq':float, 'percent_bc_gt_75':float, 'pub_rec_bankruptcies':int, 'tax_liens':int, 'tot_hi_cred_lim':int, 'total_bal_ex_mort':int, 'total_bc_limit':int, 'total_il_high_credit_limit':int, 'revol_bal_joint':int, 'sec_app_earliest_cr_line':int, 'sec_app_inq_last_6mths':int, 'sec_app_mort_acc':int, 'sec_app_open_acc':int, 'sec_app_revol_util':int, 'sec_app_open_act_il':int, 'sec_app_num_rev_accts':int, 'sec_app_chargeoff_within_12_mths':int, 'sec_app_collections_12_mths_ex_med':int, 'sec_app_mths_since_last_major_derog':int, 'hardship_flag':str, 'hardship_type':str, 'hardship_reason':str, 'hardship_status':str, 'deferral_term':int, 'hardship_amount':float, 'hardship_start_date':str, 'hardship_end_date':str, 'payment_plan_start_date':str, 'hardship_length':int, 'hardship_dpd':int, 'hardship_loan_status':str, 'orig_projected_additional_accrued_interest':float, 'hardship_payoff_balance_amount':float, 'hardship_last_payment_amount':float, 'disbursement_method':str, 'debt_settlement_flag':str, 'debt_settlement_flag_date':str, 'settlement_status':str, 'settlement_date':str, 'settlement_amount':str, 'settlement_percentage':str, 'settlement_term':str})\n",
    "    loan_data = loan_data.append(df)"
   ]
  },
  {
   "cell_type": "code",
   "execution_count": 4,
   "metadata": {},
   "outputs": [
    {
     "name": "stdout",
     "output_type": "stream",
     "text": [
      "(1765428, 145)\n"
     ]
    }
   ],
   "source": [
    "import numpy as np\n",
    "# Convert all NaN to 0\n",
    "loan_data.fillna(0, inplace=True)\n",
    "print(loan_data.shape)"
   ]
  },
  {
   "cell_type": "code",
   "execution_count": 5,
   "metadata": {},
   "outputs": [
    {
     "name": "stdout",
     "output_type": "stream",
     "text": [
      "(1765428, 143)\n"
     ]
    }
   ],
   "source": [
    "# Delete columns, where all the entries are 0.\n",
    "loan_data = loan_data.loc[:, (loan_data != 0).any(axis=0)]\n",
    "print(loan_data.shape)"
   ]
  },
  {
   "cell_type": "code",
   "execution_count": 6,
   "metadata": {},
   "outputs": [
    {
     "name": "stdout",
     "output_type": "stream",
     "text": [
      "        loan_amnt  funded_amnt funded_amnt_inv        term int_rate  \\\n",
      "0            5000         5000            4975   36 months   10.65%   \n",
      "1            2500         2500            2500   60 months   15.27%   \n",
      "2            2400         2400            2400   36 months   15.96%   \n",
      "3           10000        10000           10000   36 months   13.49%   \n",
      "4            3000         3000            3000   60 months   12.69%   \n",
      "5            5000         5000            5000   36 months    7.90%   \n",
      "6            7000         7000            7000   60 months   15.96%   \n",
      "7            3000         3000            3000   36 months   18.64%   \n",
      "8            5600         5600            5600   60 months   21.28%   \n",
      "9            5375         5375            5350   60 months   12.69%   \n",
      "10           6500         6500            6500   60 months   14.65%   \n",
      "11          12000        12000           12000   36 months   12.69%   \n",
      "12           9000         9000            9000   36 months   13.49%   \n",
      "13           3000         3000            3000   36 months    9.91%   \n",
      "14          10000        10000           10000   36 months   10.65%   \n",
      "15           1000         1000            1000   36 months   16.29%   \n",
      "16          10000        10000           10000   36 months   15.27%   \n",
      "17           3600         3600            3600   36 months    6.03%   \n",
      "18           6000         6000            6000   36 months   11.71%   \n",
      "19           9200         9200            9200   36 months    6.03%   \n",
      "20          20250        20250     19142.16108   60 months   15.27%   \n",
      "21          21000        21000           21000   36 months   12.42%   \n",
      "22          10000        10000           10000   36 months   11.71%   \n",
      "23          10000        10000           10000   36 months   11.71%   \n",
      "24           6000         6000            6000   36 months   11.71%   \n",
      "25          15000        15000           15000   36 months    9.91%   \n",
      "26          15000        15000            8725   36 months   14.27%   \n",
      "27           5000         5000            5000   60 months   16.77%   \n",
      "28           4000         4000            4000   36 months   11.71%   \n",
      "29           8500         8500            8500   36 months   11.71%   \n",
      "...           ...          ...             ...         ...      ...   \n",
      "118618      32400        32400           32375   36 months   20.00%   \n",
      "118619      20700        20700           20700   60 months   12.62%   \n",
      "118620      21000        21000           21000   36 months   17.09%   \n",
      "118621      15000        15000           15000   60 months   30.75%   \n",
      "118622      30000        30000           30000   36 months   21.45%   \n",
      "118623      10000        10000           10000   36 months    9.44%   \n",
      "118624      35000        35000           34725   60 months   30.75%   \n",
      "118625      20000        20000           20000   36 months   13.59%   \n",
      "118626      16000        16000           16000   60 months   18.06%   \n",
      "118627      35000        35000           35000   36 months    7.97%   \n",
      "118628      10500        10500           10500   36 months   13.59%   \n",
      "118629      32000        32000           32000   60 months   28.72%   \n",
      "118630      15000        15000           15000   36 months   10.91%   \n",
      "118631      25000        25000           25000   60 months   30.65%   \n",
      "118632      10000        10000           10000   60 months   28.72%   \n",
      "118633      35000        35000           35000   60 months   17.09%   \n",
      "118634      17950        17950           17950   60 months   30.17%   \n",
      "118635      30000        30000           30000   60 months   17.09%   \n",
      "118636      18000        18000           18000   60 months   30.65%   \n",
      "118637      19000        19000           19000   60 months   14.08%   \n",
      "118638      15000        15000           15000   60 months   16.02%   \n",
      "118639      10000        10000           10000   36 months   12.62%   \n",
      "118640       3500         3500            3500   36 months   10.91%   \n",
      "118641      21000        21000           21000   60 months   30.94%   \n",
      "118642      30000        30000           30000   60 months   30.75%   \n",
      "118643      12000        12000           12000   60 months   14.08%   \n",
      "118644      12000        12000           12000   60 months   25.82%   \n",
      "118645      10000        10000           10000   36 months   11.99%   \n",
      "118646      16550        16550           16550   60 months   21.45%   \n",
      "118647      12000        12000           12000   60 months   21.45%   \n",
      "\n",
      "        installment grade sub_grade                                emp_title  \\\n",
      "0            162.87     B        B2                                        0   \n",
      "1             59.83     C        C4                                    Ryder   \n",
      "2             84.33     C        C5                                        0   \n",
      "3            339.31     C        C1                      AIR RESOURCES BOARD   \n",
      "4             67.79     B        B5                 University Medical Group   \n",
      "5            156.46     A        A4                     Veolia Transportaton   \n",
      "6            170.08     C        C5                Southern Star Photography   \n",
      "7            109.43     E        E1                          MKC Accounting    \n",
      "8            152.39     F        F2                                        0   \n",
      "9            121.45     B        B5                                Starbucks   \n",
      "10           153.45     C        C3                    Southwest Rural metro   \n",
      "11           402.54     B        B5                                     UCLA   \n",
      "12           305.38     C        C1      Va. Dept of Conservation/Recreation   \n",
      "13            96.68     B        B1                                   Target   \n",
      "14           325.74     B        B2                                    SFMTA   \n",
      "15            35.31     D        D1                 Internal revenue Service   \n",
      "16           347.98     C        C4                        Chin's Restaurant   \n",
      "17           109.57     A        A1                                 Duracell   \n",
      "18           198.46     B        B3                    Connection Inspection   \n",
      "19           280.01     A        A1             Network Interpreting Service   \n",
      "20           484.63     C        C4         Archdiocese of Galveston Houston   \n",
      "21           701.73     B        B4                           Osram Sylvania   \n",
      "22           330.76     B        B3                                Value Air   \n",
      "23           330.76     B        B3                         Wells Fargo Bank   \n",
      "24           198.46     B        B3                          bmg-educational   \n",
      "25           483.38     B        B1           Winfield Pathology Consultants   \n",
      "26           514.64     C        C2                              nyc transit   \n",
      "27           123.65     D        D2                                Frito Lay   \n",
      "28           132.31     B        B3  Shands Hospital at the University of Fl   \n",
      "29           281.15     B        B3                           Oakridge homes   \n",
      "...             ...   ...       ...                                      ...   \n",
      "118618      1204.11     D        D4                          SHIPPING MANGER   \n",
      "118619       466.98     C        C1                         Dental Assistant   \n",
      "118620       749.65     D        D1                               Supervisor   \n",
      "118621       492.24     F        F5                      Corporate Recruiter   \n",
      "118622      1137.20     D        D5                            Cath lab tech   \n",
      "118623       320.05     B        B1                            Acft mechanic   \n",
      "118624      1148.55     F        F5              Desktop Support Technician    \n",
      "118625       679.58     C        C2                         graphic designer   \n",
      "118626       406.82     D        D2                                Head Chef   \n",
      "118627      1096.29     A        A5                 Administrative Assistant   \n",
      "118628       356.78     C        C2                                        0   \n",
      "118629      1010.30     F        F1                                        0   \n",
      "118630       490.45     B        B4                                        0   \n",
      "118631       818.85     F        F4                                        0   \n",
      "118632       315.72     F        F1                          Content Review    \n",
      "118633       871.54     D        D1                           Office Manager   \n",
      "118634       582.62     F        F3                           Head Custodian   \n",
      "118635       747.03     D        D1                          Senior Manager    \n",
      "118636       589.57     F        F4                  Package Delivery Driver   \n",
      "118637       442.89     C        C3                                        0   \n",
      "118638       364.94     C        C5                  Instructional Designer    \n",
      "118639       335.12     C        C1                            Administrator   \n",
      "118640       114.44     B        B4                                        0   \n",
      "118641       691.60     G        G4                                        0   \n",
      "118642       984.47     F        F5                                    Sales   \n",
      "118643       279.72     C        C3                             house keeper   \n",
      "118644       358.01     E        E4                            Skilled Labor   \n",
      "118645       332.10     B        B5                                  Teacher   \n",
      "118646       451.94     D        D5                               BABYSITTER   \n",
      "118647       327.69     D        D5                                        0   \n",
      "\n",
      "       emp_length       ...       hardship_payoff_balance_amount  \\\n",
      "0       10+ years       ...                                  0.0   \n",
      "1        < 1 year       ...                                  0.0   \n",
      "2       10+ years       ...                                  0.0   \n",
      "3       10+ years       ...                                  0.0   \n",
      "4          1 year       ...                                  0.0   \n",
      "5         3 years       ...                                  0.0   \n",
      "6         8 years       ...                                  0.0   \n",
      "7         9 years       ...                                  0.0   \n",
      "8         4 years       ...                                  0.0   \n",
      "9        < 1 year       ...                                  0.0   \n",
      "10        5 years       ...                                  0.0   \n",
      "11      10+ years       ...                                  0.0   \n",
      "12       < 1 year       ...                                  0.0   \n",
      "13        3 years       ...                                  0.0   \n",
      "14        3 years       ...                                  0.0   \n",
      "15       < 1 year       ...                                  0.0   \n",
      "16        4 years       ...                                  0.0   \n",
      "17      10+ years       ...                                  0.0   \n",
      "18         1 year       ...                                  0.0   \n",
      "19        6 years       ...                                  0.0   \n",
      "20        3 years       ...                                  0.0   \n",
      "21      10+ years       ...                                  0.0   \n",
      "22      10+ years       ...                                  0.0   \n",
      "23        5 years       ...                                  0.0   \n",
      "24         1 year       ...                                  0.0   \n",
      "25        2 years       ...                                  0.0   \n",
      "26        9 years       ...                                  0.0   \n",
      "27        2 years       ...                                  0.0   \n",
      "28      10+ years       ...                                  0.0   \n",
      "29       < 1 year       ...                                  0.0   \n",
      "...           ...       ...                                  ...   \n",
      "118618    3 years       ...                                  0.0   \n",
      "118619  10+ years       ...                                  0.0   \n",
      "118620  10+ years       ...                                  0.0   \n",
      "118621    2 years       ...                                  0.0   \n",
      "118622  10+ years       ...                                  0.0   \n",
      "118623  10+ years       ...                                  0.0   \n",
      "118624    3 years       ...                                  0.0   \n",
      "118625    7 years       ...                                  0.0   \n",
      "118626   < 1 year       ...                                  0.0   \n",
      "118627    3 years       ...                                  0.0   \n",
      "118628          0       ...                                  0.0   \n",
      "118629          0       ...                                  0.0   \n",
      "118630          0       ...                                  0.0   \n",
      "118631          0       ...                                  0.0   \n",
      "118632     1 year       ...                                  0.0   \n",
      "118633   < 1 year       ...                                  0.0   \n",
      "118634  10+ years       ...                                  0.0   \n",
      "118635    2 years       ...                                  0.0   \n",
      "118636  10+ years       ...                                  0.0   \n",
      "118637          0       ...                                  0.0   \n",
      "118638   < 1 year       ...                                  0.0   \n",
      "118639    5 years       ...                                  0.0   \n",
      "118640          0       ...                                  0.0   \n",
      "118641          0       ...                                  0.0   \n",
      "118642    6 years       ...                                  0.0   \n",
      "118643  10+ years       ...                                  0.0   \n",
      "118644   < 1 year       ...                                  0.0   \n",
      "118645  10+ years       ...                                  0.0   \n",
      "118646    3 years       ...                                  0.0   \n",
      "118647          0       ...                                  0.0   \n",
      "\n",
      "       hardship_last_payment_amount disbursement_method debt_settlement_flag  \\\n",
      "0                               0.0                Cash                    N   \n",
      "1                               0.0                Cash                    N   \n",
      "2                               0.0                Cash                    N   \n",
      "3                               0.0                Cash                    N   \n",
      "4                               0.0                Cash                    N   \n",
      "5                               0.0                Cash                    N   \n",
      "6                               0.0                Cash                    N   \n",
      "7                               0.0                Cash                    N   \n",
      "8                               0.0                Cash                    N   \n",
      "9                               0.0                Cash                    N   \n",
      "10                              0.0                Cash                    N   \n",
      "11                              0.0                Cash                    N   \n",
      "12                              0.0                Cash                    N   \n",
      "13                              0.0                Cash                    N   \n",
      "14                              0.0                Cash                    N   \n",
      "15                              0.0                Cash                    N   \n",
      "16                              0.0                Cash                    N   \n",
      "17                              0.0                Cash                    N   \n",
      "18                              0.0                Cash                    N   \n",
      "19                              0.0                Cash                    N   \n",
      "20                              0.0                Cash                    N   \n",
      "21                              0.0                Cash                    N   \n",
      "22                              0.0                Cash                    N   \n",
      "23                              0.0                Cash                    N   \n",
      "24                              0.0                Cash                    N   \n",
      "25                              0.0                Cash                    N   \n",
      "26                              0.0                Cash                    N   \n",
      "27                              0.0                Cash                    N   \n",
      "28                              0.0                Cash                    N   \n",
      "29                              0.0                Cash                    N   \n",
      "...                             ...                 ...                  ...   \n",
      "118618                          0.0                Cash                    N   \n",
      "118619                          0.0                Cash                    N   \n",
      "118620                          0.0                Cash                    N   \n",
      "118621                          0.0                Cash                    N   \n",
      "118622                          0.0                Cash                    N   \n",
      "118623                          0.0                Cash                    N   \n",
      "118624                          0.0                Cash                    N   \n",
      "118625                          0.0                Cash                    N   \n",
      "118626                          0.0                Cash                    N   \n",
      "118627                          0.0                Cash                    N   \n",
      "118628                          0.0                Cash                    N   \n",
      "118629                          0.0                Cash                    N   \n",
      "118630                          0.0                Cash                    N   \n",
      "118631                          0.0                Cash                    N   \n",
      "118632                          0.0                Cash                    N   \n",
      "118633                          0.0                Cash                    N   \n",
      "118634                          0.0                Cash                    N   \n",
      "118635                          0.0                Cash                    N   \n",
      "118636                          0.0                Cash                    N   \n",
      "118637                          0.0                Cash                    N   \n",
      "118638                          0.0                Cash                    N   \n",
      "118639                          0.0                Cash                    N   \n",
      "118640                          0.0                Cash                    N   \n",
      "118641                          0.0                Cash                    N   \n",
      "118642                          0.0                Cash                    N   \n",
      "118643                          0.0                Cash                    N   \n",
      "118644                          0.0                Cash                    N   \n",
      "118645                          0.0                Cash                    N   \n",
      "118646                          0.0                Cash                    N   \n",
      "118647                          0.0                Cash                    N   \n",
      "\n",
      "       debt_settlement_flag_date settlement_status settlement_date  \\\n",
      "0                              0                 0               0   \n",
      "1                              0                 0               0   \n",
      "2                              0                 0               0   \n",
      "3                              0                 0               0   \n",
      "4                              0                 0               0   \n",
      "5                              0                 0               0   \n",
      "6                              0                 0               0   \n",
      "7                              0                 0               0   \n",
      "8                              0                 0               0   \n",
      "9                              0                 0               0   \n",
      "10                             0                 0               0   \n",
      "11                             0                 0               0   \n",
      "12                             0                 0               0   \n",
      "13                             0                 0               0   \n",
      "14                             0                 0               0   \n",
      "15                             0                 0               0   \n",
      "16                             0                 0               0   \n",
      "17                             0                 0               0   \n",
      "18                             0                 0               0   \n",
      "19                             0                 0               0   \n",
      "20                             0                 0               0   \n",
      "21                             0                 0               0   \n",
      "22                             0                 0               0   \n",
      "23                             0                 0               0   \n",
      "24                             0                 0               0   \n",
      "25                             0                 0               0   \n",
      "26                             0                 0               0   \n",
      "27                             0                 0               0   \n",
      "28                             0                 0               0   \n",
      "29                             0                 0               0   \n",
      "...                          ...               ...             ...   \n",
      "118618                         0                 0               0   \n",
      "118619                         0                 0               0   \n",
      "118620                         0                 0               0   \n",
      "118621                         0                 0               0   \n",
      "118622                         0                 0               0   \n",
      "118623                         0                 0               0   \n",
      "118624                         0                 0               0   \n",
      "118625                         0                 0               0   \n",
      "118626                         0                 0               0   \n",
      "118627                         0                 0               0   \n",
      "118628                         0                 0               0   \n",
      "118629                         0                 0               0   \n",
      "118630                         0                 0               0   \n",
      "118631                         0                 0               0   \n",
      "118632                         0                 0               0   \n",
      "118633                         0                 0               0   \n",
      "118634                         0                 0               0   \n",
      "118635                         0                 0               0   \n",
      "118636                         0                 0               0   \n",
      "118637                         0                 0               0   \n",
      "118638                         0                 0               0   \n",
      "118639                         0                 0               0   \n",
      "118640                         0                 0               0   \n",
      "118641                         0                 0               0   \n",
      "118642                         0                 0               0   \n",
      "118643                         0                 0               0   \n",
      "118644                         0                 0               0   \n",
      "118645                         0                 0               0   \n",
      "118646                         0                 0               0   \n",
      "118647                         0                 0               0   \n",
      "\n",
      "       settlement_amount settlement_percentage settlement_term  \n",
      "0                      0                     0               0  \n",
      "1                      0                     0               0  \n",
      "2                      0                     0               0  \n",
      "3                      0                     0               0  \n",
      "4                      0                     0               0  \n",
      "5                      0                     0               0  \n",
      "6                      0                     0               0  \n",
      "7                      0                     0               0  \n",
      "8                      0                     0               0  \n",
      "9                      0                     0               0  \n",
      "10                     0                     0               0  \n",
      "11                     0                     0               0  \n",
      "12                     0                     0               0  \n",
      "13                     0                     0               0  \n",
      "14                     0                     0               0  \n",
      "15                     0                     0               0  \n",
      "16                     0                     0               0  \n",
      "17                     0                     0               0  \n",
      "18                     0                     0               0  \n",
      "19                     0                     0               0  \n",
      "20                     0                     0               0  \n",
      "21                     0                     0               0  \n",
      "22                     0                     0               0  \n",
      "23                     0                     0               0  \n",
      "24                     0                     0               0  \n",
      "25                     0                     0               0  \n",
      "26                     0                     0               0  \n",
      "27                     0                     0               0  \n",
      "28                     0                     0               0  \n",
      "29                     0                     0               0  \n",
      "...                  ...                   ...             ...  \n",
      "118618                 0                     0               0  \n",
      "118619                 0                     0               0  \n",
      "118620                 0                     0               0  \n",
      "118621                 0                     0               0  \n",
      "118622                 0                     0               0  \n",
      "118623                 0                     0               0  \n",
      "118624                 0                     0               0  \n",
      "118625                 0                     0               0  \n",
      "118626                 0                     0               0  \n",
      "118627                 0                     0               0  \n",
      "118628                 0                     0               0  \n",
      "118629                 0                     0               0  \n",
      "118630                 0                     0               0  \n",
      "118631                 0                     0               0  \n",
      "118632                 0                     0               0  \n",
      "118633                 0                     0               0  \n",
      "118634                 0                     0               0  \n",
      "118635                 0                     0               0  \n",
      "118636                 0                     0               0  \n",
      "118637                 0                     0               0  \n",
      "118638                 0                     0               0  \n",
      "118639                 0                     0               0  \n",
      "118640                 0                     0               0  \n",
      "118641                 0                     0               0  \n",
      "118642                 0                     0               0  \n",
      "118643                 0                     0               0  \n",
      "118644                 0                     0               0  \n",
      "118645                 0                     0               0  \n",
      "118646                 0                     0               0  \n",
      "118647                 0                     0               0  \n",
      "\n",
      "[1765428 rows x 143 columns]\n"
     ]
    }
   ],
   "source": [
    "print(loan_data)"
   ]
  },
  {
   "cell_type": "code",
   "execution_count": 7,
   "metadata": {},
   "outputs": [],
   "source": [
    "# Load the dictionary from Lending Club data\n",
    "# loan_dict = pd.read_excel(open('LCDataDictionary.xlsx','rb'), sheetname='LoanStats')\n",
    "loan_dict = pd.read_excel(open('LCDataDictionary.xlsx','rb'), sheet_name='LoanStats')"
   ]
  },
  {
   "cell_type": "code",
   "execution_count": 8,
   "metadata": {},
   "outputs": [
    {
     "name": "stdout",
     "output_type": "stream",
     "text": [
      "<class 'pandas.core.frame.DataFrame'>\n",
      "Int64Index: 1765428 entries, 0 to 118647\n",
      "Columns: 143 entries, loan_amnt to settlement_term\n",
      "dtypes: float64(85), int64(14), object(44)\n",
      "memory usage: 1.9+ GB\n"
     ]
    }
   ],
   "source": [
    "loan_data.info()\n",
    "pd.set_option('max_colwidth',1000)"
   ]
  },
  {
   "cell_type": "code",
   "execution_count": 9,
   "metadata": {},
   "outputs": [
    {
     "name": "stdout",
     "output_type": "stream",
     "text": [
      "   loan_amnt  funded_amnt funded_amnt_inv        term int_rate  installment\n",
      "0       5000         5000            4975   36 months   10.65%       162.87\n",
      "1       2500         2500            2500   60 months   15.27%        59.83\n",
      "2       2400         2400            2400   36 months   15.96%        84.33\n",
      "3      10000        10000           10000   36 months   13.49%       339.31\n",
      "4       3000         3000            3000   60 months   12.69%        67.79\n",
      "loan_amnt int64\n",
      "funded_amnt int64\n",
      "funded_amnt_inv object\n",
      "term object\n",
      "int_rate object\n",
      "installment float64\n"
     ]
    },
    {
     "data": {
      "text/html": [
       "<div>\n",
       "<style scoped>\n",
       "    .dataframe tbody tr th:only-of-type {\n",
       "        vertical-align: middle;\n",
       "    }\n",
       "\n",
       "    .dataframe tbody tr th {\n",
       "        vertical-align: top;\n",
       "    }\n",
       "\n",
       "    .dataframe thead th {\n",
       "        text-align: right;\n",
       "    }\n",
       "</style>\n",
       "<table border=\"1\" class=\"dataframe\">\n",
       "  <thead>\n",
       "    <tr style=\"text-align: right;\">\n",
       "      <th></th>\n",
       "      <th>LoanStatNew</th>\n",
       "      <th>Description</th>\n",
       "    </tr>\n",
       "  </thead>\n",
       "  <tbody>\n",
       "    <tr>\n",
       "      <th>23</th>\n",
       "      <td>funded_amnt</td>\n",
       "      <td>The total amount committed to that loan at that point in time.</td>\n",
       "    </tr>\n",
       "    <tr>\n",
       "      <th>24</th>\n",
       "      <td>funded_amnt_inv</td>\n",
       "      <td>The total amount committed by investors for that loan at that point in time.</td>\n",
       "    </tr>\n",
       "    <tr>\n",
       "      <th>33</th>\n",
       "      <td>installment</td>\n",
       "      <td>The monthly payment owed by the borrower if the loan originates.</td>\n",
       "    </tr>\n",
       "    <tr>\n",
       "      <th>34</th>\n",
       "      <td>int_rate</td>\n",
       "      <td>Interest Rate on the loan</td>\n",
       "    </tr>\n",
       "    <tr>\n",
       "      <th>41</th>\n",
       "      <td>loan_amnt</td>\n",
       "      <td>The listed amount of the loan applied for by the borrower. If at some point in time, the credit department reduces the loan amount, then it will be reflected in this value.</td>\n",
       "    </tr>\n",
       "    <tr>\n",
       "      <th>94</th>\n",
       "      <td>term</td>\n",
       "      <td>The number of payments on the loan. Values are in months and can be either 36 or 60.</td>\n",
       "    </tr>\n",
       "  </tbody>\n",
       "</table>\n",
       "</div>"
      ],
      "text/plain": [
       "        LoanStatNew  \\\n",
       "23      funded_amnt   \n",
       "24  funded_amnt_inv   \n",
       "33      installment   \n",
       "34         int_rate   \n",
       "41        loan_amnt   \n",
       "94             term   \n",
       "\n",
       "                                                                                                                                                                     Description  \n",
       "23                                                                                                                The total amount committed to that loan at that point in time.  \n",
       "24                                                                                                  The total amount committed by investors for that loan at that point in time.  \n",
       "33                                                                                                              The monthly payment owed by the borrower if the loan originates.  \n",
       "34                                                                                                                                                     Interest Rate on the loan  \n",
       "41  The listed amount of the loan applied for by the borrower. If at some point in time, the credit department reduces the loan amount, then it will be reflected in this value.  \n",
       "94                                                                                          The number of payments on the loan. Values are in months and can be either 36 or 60.  "
      ]
     },
     "execution_count": 9,
     "metadata": {},
     "output_type": "execute_result"
    }
   ],
   "source": [
    "# Now analyze one column at a time\n",
    "# loan_dict.loc[loan_dict['LoanStatNew'] == 'loan_amnt']\n",
    "print(loan_data.iloc[:5,:6])\n",
    "for y in loan_data.columns[:6]:\n",
    "  print(y, loan_data[y].dtype)\n",
    "loan_dict.loc[loan_dict['LoanStatNew'].isin(list(loan_data.columns.values[:6]))]"
   ]
  },
  {
   "cell_type": "code",
   "execution_count": 10,
   "metadata": {},
   "outputs": [
    {
     "data": {
      "text/html": [
       "<div>\n",
       "<style scoped>\n",
       "    .dataframe tbody tr th:only-of-type {\n",
       "        vertical-align: middle;\n",
       "    }\n",
       "\n",
       "    .dataframe tbody tr th {\n",
       "        vertical-align: top;\n",
       "    }\n",
       "\n",
       "    .dataframe thead th {\n",
       "        text-align: right;\n",
       "    }\n",
       "</style>\n",
       "<table border=\"1\" class=\"dataframe\">\n",
       "  <thead>\n",
       "    <tr style=\"text-align: right;\">\n",
       "      <th></th>\n",
       "      <th>funded_amnt_inv</th>\n",
       "    </tr>\n",
       "  </thead>\n",
       "  <tbody>\n",
       "    <tr>\n",
       "      <th>0</th>\n",
       "      <td>True</td>\n",
       "    </tr>\n",
       "    <tr>\n",
       "      <th>1</th>\n",
       "      <td>True</td>\n",
       "    </tr>\n",
       "    <tr>\n",
       "      <th>2</th>\n",
       "      <td>True</td>\n",
       "    </tr>\n",
       "    <tr>\n",
       "      <th>3</th>\n",
       "      <td>True</td>\n",
       "    </tr>\n",
       "    <tr>\n",
       "      <th>4</th>\n",
       "      <td>True</td>\n",
       "    </tr>\n",
       "    <tr>\n",
       "      <th>5</th>\n",
       "      <td>True</td>\n",
       "    </tr>\n",
       "    <tr>\n",
       "      <th>6</th>\n",
       "      <td>True</td>\n",
       "    </tr>\n",
       "    <tr>\n",
       "      <th>7</th>\n",
       "      <td>True</td>\n",
       "    </tr>\n",
       "    <tr>\n",
       "      <th>8</th>\n",
       "      <td>True</td>\n",
       "    </tr>\n",
       "    <tr>\n",
       "      <th>9</th>\n",
       "      <td>True</td>\n",
       "    </tr>\n",
       "    <tr>\n",
       "      <th>10</th>\n",
       "      <td>True</td>\n",
       "    </tr>\n",
       "    <tr>\n",
       "      <th>11</th>\n",
       "      <td>True</td>\n",
       "    </tr>\n",
       "    <tr>\n",
       "      <th>12</th>\n",
       "      <td>True</td>\n",
       "    </tr>\n",
       "    <tr>\n",
       "      <th>13</th>\n",
       "      <td>True</td>\n",
       "    </tr>\n",
       "    <tr>\n",
       "      <th>14</th>\n",
       "      <td>True</td>\n",
       "    </tr>\n",
       "    <tr>\n",
       "      <th>15</th>\n",
       "      <td>True</td>\n",
       "    </tr>\n",
       "    <tr>\n",
       "      <th>16</th>\n",
       "      <td>True</td>\n",
       "    </tr>\n",
       "    <tr>\n",
       "      <th>17</th>\n",
       "      <td>True</td>\n",
       "    </tr>\n",
       "    <tr>\n",
       "      <th>18</th>\n",
       "      <td>True</td>\n",
       "    </tr>\n",
       "    <tr>\n",
       "      <th>19</th>\n",
       "      <td>True</td>\n",
       "    </tr>\n",
       "    <tr>\n",
       "      <th>20</th>\n",
       "      <td>True</td>\n",
       "    </tr>\n",
       "    <tr>\n",
       "      <th>21</th>\n",
       "      <td>True</td>\n",
       "    </tr>\n",
       "    <tr>\n",
       "      <th>22</th>\n",
       "      <td>True</td>\n",
       "    </tr>\n",
       "    <tr>\n",
       "      <th>23</th>\n",
       "      <td>True</td>\n",
       "    </tr>\n",
       "    <tr>\n",
       "      <th>24</th>\n",
       "      <td>True</td>\n",
       "    </tr>\n",
       "    <tr>\n",
       "      <th>25</th>\n",
       "      <td>True</td>\n",
       "    </tr>\n",
       "    <tr>\n",
       "      <th>26</th>\n",
       "      <td>True</td>\n",
       "    </tr>\n",
       "    <tr>\n",
       "      <th>27</th>\n",
       "      <td>True</td>\n",
       "    </tr>\n",
       "    <tr>\n",
       "      <th>28</th>\n",
       "      <td>True</td>\n",
       "    </tr>\n",
       "    <tr>\n",
       "      <th>29</th>\n",
       "      <td>True</td>\n",
       "    </tr>\n",
       "    <tr>\n",
       "      <th>...</th>\n",
       "      <td>...</td>\n",
       "    </tr>\n",
       "    <tr>\n",
       "      <th>118618</th>\n",
       "      <td>True</td>\n",
       "    </tr>\n",
       "    <tr>\n",
       "      <th>118619</th>\n",
       "      <td>True</td>\n",
       "    </tr>\n",
       "    <tr>\n",
       "      <th>118620</th>\n",
       "      <td>True</td>\n",
       "    </tr>\n",
       "    <tr>\n",
       "      <th>118621</th>\n",
       "      <td>True</td>\n",
       "    </tr>\n",
       "    <tr>\n",
       "      <th>118622</th>\n",
       "      <td>True</td>\n",
       "    </tr>\n",
       "    <tr>\n",
       "      <th>118623</th>\n",
       "      <td>True</td>\n",
       "    </tr>\n",
       "    <tr>\n",
       "      <th>118624</th>\n",
       "      <td>True</td>\n",
       "    </tr>\n",
       "    <tr>\n",
       "      <th>118625</th>\n",
       "      <td>True</td>\n",
       "    </tr>\n",
       "    <tr>\n",
       "      <th>118626</th>\n",
       "      <td>True</td>\n",
       "    </tr>\n",
       "    <tr>\n",
       "      <th>118627</th>\n",
       "      <td>True</td>\n",
       "    </tr>\n",
       "    <tr>\n",
       "      <th>118628</th>\n",
       "      <td>True</td>\n",
       "    </tr>\n",
       "    <tr>\n",
       "      <th>118629</th>\n",
       "      <td>True</td>\n",
       "    </tr>\n",
       "    <tr>\n",
       "      <th>118630</th>\n",
       "      <td>True</td>\n",
       "    </tr>\n",
       "    <tr>\n",
       "      <th>118631</th>\n",
       "      <td>True</td>\n",
       "    </tr>\n",
       "    <tr>\n",
       "      <th>118632</th>\n",
       "      <td>True</td>\n",
       "    </tr>\n",
       "    <tr>\n",
       "      <th>118633</th>\n",
       "      <td>True</td>\n",
       "    </tr>\n",
       "    <tr>\n",
       "      <th>118634</th>\n",
       "      <td>True</td>\n",
       "    </tr>\n",
       "    <tr>\n",
       "      <th>118635</th>\n",
       "      <td>True</td>\n",
       "    </tr>\n",
       "    <tr>\n",
       "      <th>118636</th>\n",
       "      <td>True</td>\n",
       "    </tr>\n",
       "    <tr>\n",
       "      <th>118637</th>\n",
       "      <td>True</td>\n",
       "    </tr>\n",
       "    <tr>\n",
       "      <th>118638</th>\n",
       "      <td>True</td>\n",
       "    </tr>\n",
       "    <tr>\n",
       "      <th>118639</th>\n",
       "      <td>True</td>\n",
       "    </tr>\n",
       "    <tr>\n",
       "      <th>118640</th>\n",
       "      <td>True</td>\n",
       "    </tr>\n",
       "    <tr>\n",
       "      <th>118641</th>\n",
       "      <td>True</td>\n",
       "    </tr>\n",
       "    <tr>\n",
       "      <th>118642</th>\n",
       "      <td>True</td>\n",
       "    </tr>\n",
       "    <tr>\n",
       "      <th>118643</th>\n",
       "      <td>True</td>\n",
       "    </tr>\n",
       "    <tr>\n",
       "      <th>118644</th>\n",
       "      <td>True</td>\n",
       "    </tr>\n",
       "    <tr>\n",
       "      <th>118645</th>\n",
       "      <td>True</td>\n",
       "    </tr>\n",
       "    <tr>\n",
       "      <th>118646</th>\n",
       "      <td>True</td>\n",
       "    </tr>\n",
       "    <tr>\n",
       "      <th>118647</th>\n",
       "      <td>True</td>\n",
       "    </tr>\n",
       "  </tbody>\n",
       "</table>\n",
       "<p>1765428 rows × 1 columns</p>\n",
       "</div>"
      ],
      "text/plain": [
       "        funded_amnt_inv\n",
       "0                  True\n",
       "1                  True\n",
       "2                  True\n",
       "3                  True\n",
       "4                  True\n",
       "5                  True\n",
       "6                  True\n",
       "7                  True\n",
       "8                  True\n",
       "9                  True\n",
       "10                 True\n",
       "11                 True\n",
       "12                 True\n",
       "13                 True\n",
       "14                 True\n",
       "15                 True\n",
       "16                 True\n",
       "17                 True\n",
       "18                 True\n",
       "19                 True\n",
       "20                 True\n",
       "21                 True\n",
       "22                 True\n",
       "23                 True\n",
       "24                 True\n",
       "25                 True\n",
       "26                 True\n",
       "27                 True\n",
       "28                 True\n",
       "29                 True\n",
       "...                 ...\n",
       "118618             True\n",
       "118619             True\n",
       "118620             True\n",
       "118621             True\n",
       "118622             True\n",
       "118623             True\n",
       "118624             True\n",
       "118625             True\n",
       "118626             True\n",
       "118627             True\n",
       "118628             True\n",
       "118629             True\n",
       "118630             True\n",
       "118631             True\n",
       "118632             True\n",
       "118633             True\n",
       "118634             True\n",
       "118635             True\n",
       "118636             True\n",
       "118637             True\n",
       "118638             True\n",
       "118639             True\n",
       "118640             True\n",
       "118641             True\n",
       "118642             True\n",
       "118643             True\n",
       "118644             True\n",
       "118645             True\n",
       "118646             True\n",
       "118647             True\n",
       "\n",
       "[1765428 rows x 1 columns]"
      ]
     },
     "execution_count": 10,
     "metadata": {},
     "output_type": "execute_result"
    }
   ],
   "source": [
    "# Analysis\n",
    "# loan_amnt is int32 - Good\n",
    "# funded_amnt is int32 - Good\n",
    "# funded_amnt_inv is object - Bad\n",
    "# term is object - Bad\n",
    "# int_rate is object - Bad\n",
    "\n",
    "# Let's start with funded_amnt_inv\n",
    "# Find the non-int entry\n",
    "df = loan_data['funded_amnt_inv'].to_frame().applymap(np.isreal) == False\n",
    "df.loc[df['funded_amnt_inv'] == True]"
   ]
  },
  {
   "cell_type": "code",
   "execution_count": 11,
   "metadata": {},
   "outputs": [
    {
     "data": {
      "text/plain": [
       "Series([], Name: funded_amnt_inv, dtype: float64)"
      ]
     },
     "execution_count": 11,
     "metadata": {},
     "output_type": "execute_result"
    }
   ],
   "source": [
    "# Looks like all the entries are considered non-integral\n",
    "# Let's examine\n",
    "loan_data['funded_amnt_inv'][:1]\n",
    "# Since each object seems to string, convert it to numeric.\n",
    "loan_data['funded_amnt_inv'] = pd.to_numeric(loan_data['funded_amnt_inv'])\n",
    "# Find the non-numeric entry\n",
    "df = loan_data['funded_amnt_inv'].to_frame().applymap(np.isreal) == False\n",
    "df.loc[df['funded_amnt_inv'] == True]\n",
    "df = loan_data['funded_amnt_inv']\n",
    "df.loc[df.isnull()]\n",
    "# So now the data for funded_amnt_inv is all good."
   ]
  },
  {
   "cell_type": "code",
   "execution_count": 12,
   "metadata": {},
   "outputs": [
    {
     "data": {
      "text/html": [
       "<div>\n",
       "<style scoped>\n",
       "    .dataframe tbody tr th:only-of-type {\n",
       "        vertical-align: middle;\n",
       "    }\n",
       "\n",
       "    .dataframe tbody tr th {\n",
       "        vertical-align: top;\n",
       "    }\n",
       "\n",
       "    .dataframe thead th {\n",
       "        text-align: right;\n",
       "    }\n",
       "</style>\n",
       "<table border=\"1\" class=\"dataframe\">\n",
       "  <thead>\n",
       "    <tr style=\"text-align: right;\">\n",
       "      <th></th>\n",
       "      <th>term</th>\n",
       "    </tr>\n",
       "  </thead>\n",
       "  <tbody>\n",
       "  </tbody>\n",
       "</table>\n",
       "</div>"
      ],
      "text/plain": [
       "Empty DataFrame\n",
       "Columns: [term]\n",
       "Index: []"
      ]
     },
     "execution_count": 12,
     "metadata": {},
     "output_type": "execute_result"
    }
   ],
   "source": [
    "# Moving to \"term\"\n",
    "# All terms are described in terms of months.\n",
    "# So, a simple replacement should work.\n",
    "loan_data['term'] = loan_data['term'].str.replace(\" months\",\"\")\n",
    "# Now convert all of them to numeric\n",
    "loan_data['term'] = pd.to_numeric(loan_data['term'])\n",
    "# Find the non-numeric entry\n",
    "df = loan_data['term'].to_frame().applymap(np.isreal) == False\n",
    "df.loc[df['term'] == True]\n",
    "# The term data looks all good."
   ]
  },
  {
   "cell_type": "code",
   "execution_count": 13,
   "metadata": {},
   "outputs": [
    {
     "data": {
      "text/html": [
       "<div>\n",
       "<style scoped>\n",
       "    .dataframe tbody tr th:only-of-type {\n",
       "        vertical-align: middle;\n",
       "    }\n",
       "\n",
       "    .dataframe tbody tr th {\n",
       "        vertical-align: top;\n",
       "    }\n",
       "\n",
       "    .dataframe thead th {\n",
       "        text-align: right;\n",
       "    }\n",
       "</style>\n",
       "<table border=\"1\" class=\"dataframe\">\n",
       "  <thead>\n",
       "    <tr style=\"text-align: right;\">\n",
       "      <th></th>\n",
       "      <th>int_rate</th>\n",
       "    </tr>\n",
       "  </thead>\n",
       "  <tbody>\n",
       "  </tbody>\n",
       "</table>\n",
       "</div>"
      ],
      "text/plain": [
       "Empty DataFrame\n",
       "Columns: [int_rate]\n",
       "Index: []"
      ]
     },
     "execution_count": 13,
     "metadata": {},
     "output_type": "execute_result"
    }
   ],
   "source": [
    "# Moving to \"int_rate\"\n",
    "# All int_rate are described in terms of %.\n",
    "# So, a simple replacement should work.\n",
    "loan_data['int_rate'] = loan_data['int_rate'].str.replace(\"%\",\"\")\n",
    "# Now convert all of them to numeric\n",
    "loan_data['int_rate'] = pd.to_numeric(loan_data['int_rate'])\n",
    "# Find the non-numeric entry\n",
    "df = loan_data['int_rate'].to_frame().applymap(np.isreal) == False\n",
    "df.loc[df['int_rate'] == True]\n",
    "# The int_rate data looks all good."
   ]
  },
  {
   "cell_type": "code",
   "execution_count": 14,
   "metadata": {},
   "outputs": [
    {
     "data": {
      "text/html": [
       "<div>\n",
       "<style scoped>\n",
       "    .dataframe tbody tr th:only-of-type {\n",
       "        vertical-align: middle;\n",
       "    }\n",
       "\n",
       "    .dataframe tbody tr th {\n",
       "        vertical-align: top;\n",
       "    }\n",
       "\n",
       "    .dataframe thead th {\n",
       "        text-align: right;\n",
       "    }\n",
       "</style>\n",
       "<table border=\"1\" class=\"dataframe\">\n",
       "  <thead>\n",
       "    <tr style=\"text-align: right;\">\n",
       "      <th></th>\n",
       "      <th>installment</th>\n",
       "    </tr>\n",
       "  </thead>\n",
       "  <tbody>\n",
       "  </tbody>\n",
       "</table>\n",
       "</div>"
      ],
      "text/plain": [
       "Empty DataFrame\n",
       "Columns: [installment]\n",
       "Index: []"
      ]
     },
     "execution_count": 14,
     "metadata": {},
     "output_type": "execute_result"
    }
   ],
   "source": [
    "# Moving to \"installment\"\n",
    "# Find the non-numeric entry\n",
    "df = loan_data['installment'].to_frame().applymap(np.isreal) == False\n",
    "df.loc[df['installment'] == True]\n",
    "# The installment data looks all good."
   ]
  },
  {
   "cell_type": "code",
   "execution_count": 15,
   "metadata": {},
   "outputs": [
    {
     "name": "stdout",
     "output_type": "stream",
     "text": [
      "   loan_amnt  funded_amnt  funded_amnt_inv  term  int_rate  installment\n",
      "0       5000         5000           4975.0    36     10.65       162.87\n",
      "1       2500         2500           2500.0    60     15.27        59.83\n",
      "2       2400         2400           2400.0    36     15.96        84.33\n",
      "3      10000        10000          10000.0    36     13.49       339.31\n",
      "4       3000         3000           3000.0    60     12.69        67.79\n",
      "loan_amnt int64\n",
      "funded_amnt int64\n",
      "funded_amnt_inv float64\n",
      "term int64\n",
      "int_rate float64\n",
      "installment float64\n"
     ]
    }
   ],
   "source": [
    "# Print thoese features again\n",
    "print(loan_data.iloc[:5,:6])\n",
    "for y in loan_data.columns[:6]:\n",
    "  print(y, loan_data[y].dtype)"
   ]
  },
  {
   "cell_type": "code",
   "execution_count": 16,
   "metadata": {},
   "outputs": [
    {
     "name": "stdout",
     "output_type": "stream",
     "text": [
      "2065\n"
     ]
    }
   ],
   "source": [
    "# Want to see if the loan_amnt and funded_amnt are ever different\n",
    "df_ = loan_data['loan_amnt'] - loan_data['funded_amnt'] != 0\n",
    "df = df_.to_frame()\n",
    "print(len(df.loc[df[0] == True]))"
   ]
  },
  {
   "cell_type": "code",
   "execution_count": 17,
   "metadata": {},
   "outputs": [],
   "source": [
    "# Since, there are 2065 cases where the loan_amnt and funded_amnt are different I am going to keep both the features.\n",
    "# 2065 is really small compared to the 1.7 million data we have.\n",
    "# But, for now, I will keep it."
   ]
  },
  {
   "cell_type": "code",
   "execution_count": 18,
   "metadata": {},
   "outputs": [
    {
     "data": {
      "text/html": [
       "<div>\n",
       "<style scoped>\n",
       "    .dataframe tbody tr th:only-of-type {\n",
       "        vertical-align: middle;\n",
       "    }\n",
       "\n",
       "    .dataframe tbody tr th {\n",
       "        vertical-align: top;\n",
       "    }\n",
       "\n",
       "    .dataframe thead th {\n",
       "        text-align: right;\n",
       "    }\n",
       "</style>\n",
       "<table border=\"1\" class=\"dataframe\">\n",
       "  <thead>\n",
       "    <tr style=\"text-align: right;\">\n",
       "      <th></th>\n",
       "      <th>loan_amnt</th>\n",
       "      <th>funded_amnt</th>\n",
       "      <th>funded_amnt_inv</th>\n",
       "      <th>term</th>\n",
       "      <th>int_rate</th>\n",
       "      <th>installment</th>\n",
       "      <th>grade</th>\n",
       "      <th>sub_grade</th>\n",
       "      <th>emp_title</th>\n",
       "      <th>emp_length</th>\n",
       "      <th>...</th>\n",
       "      <th>hardship_payoff_balance_amount</th>\n",
       "      <th>hardship_last_payment_amount</th>\n",
       "      <th>disbursement_method</th>\n",
       "      <th>debt_settlement_flag</th>\n",
       "      <th>debt_settlement_flag_date</th>\n",
       "      <th>settlement_status</th>\n",
       "      <th>settlement_date</th>\n",
       "      <th>settlement_amount</th>\n",
       "      <th>settlement_percentage</th>\n",
       "      <th>settlement_term</th>\n",
       "    </tr>\n",
       "  </thead>\n",
       "  <tbody>\n",
       "  </tbody>\n",
       "</table>\n",
       "<p>0 rows × 143 columns</p>\n",
       "</div>"
      ],
      "text/plain": [
       "Empty DataFrame\n",
       "Columns: [loan_amnt, funded_amnt, funded_amnt_inv, term, int_rate, installment, grade, sub_grade, emp_title, emp_length, home_ownership, annual_inc, verification_status, issue_d, loan_status, pymnt_plan, url, desc, purpose, title, zip_code, addr_state, dti, delinq_2yrs, earliest_cr_line, inq_last_6mths, mths_since_last_delinq, mths_since_last_record, open_acc, pub_rec, revol_bal, revol_util, total_acc, initial_list_status, out_prncp, out_prncp_inv, total_pymnt, total_pymnt_inv, total_rec_prncp, total_rec_int, total_rec_late_fee, recoveries, collection_recovery_fee, last_pymnt_d, last_pymnt_amnt, next_pymnt_d, last_credit_pull_d, collections_12_mths_ex_med, mths_since_last_major_derog, policy_code, application_type, annual_inc_joint, dti_joint, verification_status_joint, acc_now_delinq, tot_coll_amt, tot_cur_bal, open_acc_6m, open_act_il, open_il_12m, open_il_24m, mths_since_rcnt_il, total_bal_il, il_util, open_rv_12m, open_rv_24m, max_bal_bc, all_util, total_rev_hi_lim, inq_fi, total_cu_tl, inq_last_12m, acc_open_past_24mths, avg_cur_bal, bc_open_to_buy, bc_util, chargeoff_within_12_mths, delinq_amnt, mo_sin_old_il_acct, mo_sin_old_rev_tl_op, mo_sin_rcnt_rev_tl_op, mo_sin_rcnt_tl, mort_acc, mths_since_recent_bc, mths_since_recent_bc_dlq, mths_since_recent_inq, mths_since_recent_revol_delinq, num_accts_ever_120_pd, num_actv_bc_tl, num_actv_rev_tl, num_bc_sats, num_bc_tl, num_il_tl, num_op_rev_tl, num_rev_accts, num_rev_tl_bal_gt_0, num_sats, num_tl_120dpd_2m, num_tl_30dpd, num_tl_90g_dpd_24m, ...]\n",
       "Index: []\n",
       "\n",
       "[0 rows x 143 columns]"
      ]
     },
     "execution_count": 18,
     "metadata": {},
     "output_type": "execute_result"
    }
   ],
   "source": [
    "# Look for 0 loan_amnt\n",
    "loan_data.drop(loan_data[loan_data.loan_amnt == 0].index, inplace=True)\n",
    "loan_data.loc[loan_data['loan_amnt'] == 0]"
   ]
  },
  {
   "cell_type": "code",
   "execution_count": 19,
   "metadata": {},
   "outputs": [
    {
     "name": "stdout",
     "output_type": "stream",
     "text": [
      "  grade sub_grade                 emp_title emp_length home_ownership\n",
      "0     B        B2                         0  10+ years           RENT\n",
      "1     C        C4                     Ryder   < 1 year           RENT\n",
      "2     C        C5                         0  10+ years           RENT\n",
      "3     C        C1       AIR RESOURCES BOARD  10+ years           RENT\n",
      "4     B        B5  University Medical Group     1 year           RENT\n",
      "grade object\n",
      "sub_grade object\n",
      "emp_title object\n",
      "emp_length object\n",
      "home_ownership object\n"
     ]
    },
    {
     "data": {
      "text/html": [
       "<div>\n",
       "<style scoped>\n",
       "    .dataframe tbody tr th:only-of-type {\n",
       "        vertical-align: middle;\n",
       "    }\n",
       "\n",
       "    .dataframe tbody tr th {\n",
       "        vertical-align: top;\n",
       "    }\n",
       "\n",
       "    .dataframe thead th {\n",
       "        text-align: right;\n",
       "    }\n",
       "</style>\n",
       "<table border=\"1\" class=\"dataframe\">\n",
       "  <thead>\n",
       "    <tr style=\"text-align: right;\">\n",
       "      <th></th>\n",
       "      <th>LoanStatNew</th>\n",
       "      <th>Description</th>\n",
       "    </tr>\n",
       "  </thead>\n",
       "  <tbody>\n",
       "    <tr>\n",
       "      <th>19</th>\n",
       "      <td>emp_length</td>\n",
       "      <td>Employment length in years. Possible values are between 0 and 10 where 0 means less than one year and 10 means ten or more years.</td>\n",
       "    </tr>\n",
       "    <tr>\n",
       "      <th>20</th>\n",
       "      <td>emp_title</td>\n",
       "      <td>The job title supplied by the Borrower when applying for the loan.*</td>\n",
       "    </tr>\n",
       "    <tr>\n",
       "      <th>25</th>\n",
       "      <td>grade</td>\n",
       "      <td>LC assigned loan grade</td>\n",
       "    </tr>\n",
       "    <tr>\n",
       "      <th>26</th>\n",
       "      <td>home_ownership</td>\n",
       "      <td>The home ownership status provided by the borrower during registration or obtained from the credit report. Our values are: RENT, OWN, MORTGAGE, OTHER</td>\n",
       "    </tr>\n",
       "    <tr>\n",
       "      <th>92</th>\n",
       "      <td>sub_grade</td>\n",
       "      <td>LC assigned loan subgrade</td>\n",
       "    </tr>\n",
       "  </tbody>\n",
       "</table>\n",
       "</div>"
      ],
      "text/plain": [
       "       LoanStatNew  \\\n",
       "19      emp_length   \n",
       "20       emp_title   \n",
       "25           grade   \n",
       "26  home_ownership   \n",
       "92       sub_grade   \n",
       "\n",
       "                                                                                                                                              Description  \n",
       "19                     Employment length in years. Possible values are between 0 and 10 where 0 means less than one year and 10 means ten or more years.   \n",
       "20                                                                                    The job title supplied by the Borrower when applying for the loan.*  \n",
       "25                                                                                                                                 LC assigned loan grade  \n",
       "26  The home ownership status provided by the borrower during registration or obtained from the credit report. Our values are: RENT, OWN, MORTGAGE, OTHER  \n",
       "92                                                                                                                              LC assigned loan subgrade  "
      ]
     },
     "execution_count": 19,
     "metadata": {},
     "output_type": "execute_result"
    }
   ],
   "source": [
    "# Now analyze the next 5 features\n",
    "print(loan_data.iloc[:5,6:11])\n",
    "for y in loan_data.columns[6:11]:\n",
    "  print(y, loan_data[y].dtype)\n",
    "loan_dict.loc[loan_dict['LoanStatNew'].isin(list(loan_data.columns.values[6:11]))]"
   ]
  },
  {
   "cell_type": "code",
   "execution_count": 20,
   "metadata": {},
   "outputs": [
    {
     "data": {
      "text/plain": [
       "array(['B', 'C', 'A', 'E', 'F', 'D', 'G'], dtype=object)"
      ]
     },
     "execution_count": 20,
     "metadata": {},
     "output_type": "execute_result"
    }
   ],
   "source": [
    "# Starting with grade\n",
    "loan_data['grade'].unique()"
   ]
  },
  {
   "cell_type": "code",
   "execution_count": 21,
   "metadata": {},
   "outputs": [
    {
     "data": {
      "text/plain": [
       "array(['B2', 'C4', 'C5', 'C1', 'B5', 'A4', 'E1', 'F2', 'C3', 'B1', 'D1',\n",
       "       'A1', 'B3', 'B4', 'C2', 'D2', 'A3', 'A5', 'D5', 'A2', 'E4', 'D3',\n",
       "       'D4', 'F3', 'E3', 'F4', 'F1', 'E5', 'G4', 'E2', 'G3', 'G2', 'G1',\n",
       "       'F5', 'G5'], dtype=object)"
      ]
     },
     "execution_count": 21,
     "metadata": {},
     "output_type": "execute_result"
    }
   ],
   "source": [
    "# 'grade' looks good for a categorical type.\n",
    "# The 0 corresponds to no data.\n",
    "# For now, it is ok in out case.\n",
    "\n",
    "# Next try sub_grade\n",
    "loan_data['sub_grade'].unique()"
   ]
  },
  {
   "cell_type": "code",
   "execution_count": 22,
   "metadata": {},
   "outputs": [
    {
     "name": "stdout",
     "output_type": "stream",
     "text": [
      "449772\n"
     ]
    },
    {
     "data": {
      "text/plain": [
       "array(['0', 'Ryder', 'AIR RESOURCES BOARD', ..., 'Acft mechanic',\n",
       "       'Content Review ', 'BABYSITTER'], dtype=object)"
      ]
     },
     "execution_count": 22,
     "metadata": {},
     "output_type": "execute_result"
    }
   ],
   "source": [
    "# Again 'sub_grade' looks decent\n",
    "\n",
    "# Moving to emp_title\n",
    "print(len(loan_data['emp_title'].unique()))\n",
    "loan_data['emp_title'].unique()"
   ]
  },
  {
   "cell_type": "code",
   "execution_count": 23,
   "metadata": {},
   "outputs": [],
   "source": [
    "# Too many of them.\n",
    "# Will drop 'emp_title' from the loan_data for now.\n",
    "# Will later do some analysis if needed.\n",
    "loan_data = loan_data.drop('emp_title', 1)"
   ]
  },
  {
   "cell_type": "code",
   "execution_count": 24,
   "metadata": {},
   "outputs": [
    {
     "name": "stdout",
     "output_type": "stream",
     "text": [
      "['10+' '<1' '1' '3' '8' '9' '4' '5' '6' '2' '7' nan]\n",
      "['10+' '<1' '1' '3' '8' '9' '4' '5' '6' '2' '7' 0]\n"
     ]
    }
   ],
   "source": [
    "# Moving to emp_length\n",
    "# First remove \"year\", \"years\" and blanks\n",
    "loan_data['emp_length'] = loan_data['emp_length'].str.replace(\"years\",\"\")\n",
    "loan_data['emp_length'] = loan_data['emp_length'].str.replace(\"year\",\"\")\n",
    "loan_data['emp_length'] = loan_data['emp_length'].str.replace(\" \",\"\")\n",
    "print(loan_data['emp_length'].unique())\n",
    "# Replacing all NaN with 0.\n",
    "# Not sure, if this is the right way.\n",
    "loan_data.loc[(loan_data['emp_length'] != '<1') & \\\n",
    "              (loan_data['emp_length'] != '1') & \\\n",
    "              (loan_data['emp_length'] != '2') & \\\n",
    "              (loan_data['emp_length'] != '3') & \\\n",
    "              (loan_data['emp_length'] != '4') & \\\n",
    "              (loan_data['emp_length'] != '5') & \\\n",
    "              (loan_data['emp_length'] != '6') & \\\n",
    "              (loan_data['emp_length'] != '7') & \\\n",
    "              (loan_data['emp_length'] != '8') & \\\n",
    "              (loan_data['emp_length'] != '9') & \\\n",
    "              (loan_data['emp_length'] != '10+'), 'emp_length'] = 0\n",
    "print(loan_data['emp_length'].unique())"
   ]
  },
  {
   "cell_type": "code",
   "execution_count": 25,
   "metadata": {},
   "outputs": [
    {
     "data": {
      "text/plain": [
       "array(['RENT', 'OWN', 'MORTGAGE', 'OTHER', 'NONE', 'ANY'], dtype=object)"
      ]
     },
     "execution_count": 25,
     "metadata": {},
     "output_type": "execute_result"
    }
   ],
   "source": [
    "# Moving to home_ownership\n",
    "loan_data['home_ownership'].unique()"
   ]
  },
  {
   "cell_type": "code",
   "execution_count": 26,
   "metadata": {},
   "outputs": [
    {
     "name": "stdout",
     "output_type": "stream",
     "text": [
      "  grade sub_grade emp_length home_ownership\n",
      "0     B        B2        10+           RENT\n",
      "1     C        C4         <1           RENT\n",
      "2     C        C5        10+           RENT\n",
      "3     C        C1        10+           RENT\n",
      "4     B        B5          1           RENT\n"
     ]
    }
   ],
   "source": [
    "# Though OTHER, NONE and ANY are a little confusing, I will do that cleaning later.\n",
    "# For now things look ok.\n",
    "\n",
    "# Printing all the columngs together again.\n",
    "print(loan_data.iloc[:5,6:10])"
   ]
  },
  {
   "cell_type": "code",
   "execution_count": 27,
   "metadata": {},
   "outputs": [
    {
     "name": "stdout",
     "output_type": "stream",
     "text": [
      "  annual_inc verification_status issue_d  loan_status pymnt_plan\n",
      "0      24000            Verified  Dec-11   Fully Paid          n\n",
      "1      30000     Source Verified  Dec-11  Charged Off          n\n",
      "2      12252        Not Verified  Dec-11   Fully Paid          n\n",
      "3      49200     Source Verified  Dec-11   Fully Paid          n\n",
      "4      80000     Source Verified  Dec-11   Fully Paid          n\n",
      "annual_inc object\n",
      "verification_status object\n",
      "issue_d object\n",
      "loan_status object\n",
      "pymnt_plan object\n"
     ]
    },
    {
     "data": {
      "text/html": [
       "<div>\n",
       "<style scoped>\n",
       "    .dataframe tbody tr th:only-of-type {\n",
       "        vertical-align: middle;\n",
       "    }\n",
       "\n",
       "    .dataframe tbody tr th {\n",
       "        vertical-align: top;\n",
       "    }\n",
       "\n",
       "    .dataframe thead th {\n",
       "        text-align: right;\n",
       "    }\n",
       "</style>\n",
       "<table border=\"1\" class=\"dataframe\">\n",
       "  <thead>\n",
       "    <tr style=\"text-align: right;\">\n",
       "      <th></th>\n",
       "      <th>LoanStatNew</th>\n",
       "      <th>Description</th>\n",
       "    </tr>\n",
       "  </thead>\n",
       "  <tbody>\n",
       "    <tr>\n",
       "      <th>4</th>\n",
       "      <td>annual_inc</td>\n",
       "      <td>The self-reported annual income provided by the borrower during registration.</td>\n",
       "    </tr>\n",
       "    <tr>\n",
       "      <th>35</th>\n",
       "      <td>issue_d</td>\n",
       "      <td>The month which the loan was funded</td>\n",
       "    </tr>\n",
       "    <tr>\n",
       "      <th>42</th>\n",
       "      <td>loan_status</td>\n",
       "      <td>Current status of the loan</td>\n",
       "    </tr>\n",
       "    <tr>\n",
       "      <th>88</th>\n",
       "      <td>pymnt_plan</td>\n",
       "      <td>Indicates if a payment plan has been put in place for the loan</td>\n",
       "    </tr>\n",
       "    <tr>\n",
       "      <th>112</th>\n",
       "      <td>verification_status</td>\n",
       "      <td>Indicates if income was verified by LC, not verified, or if the income source was verified</td>\n",
       "    </tr>\n",
       "  </tbody>\n",
       "</table>\n",
       "</div>"
      ],
      "text/plain": [
       "             LoanStatNew  \\\n",
       "4             annual_inc   \n",
       "35               issue_d   \n",
       "42           loan_status   \n",
       "88            pymnt_plan   \n",
       "112  verification_status   \n",
       "\n",
       "                                                                                    Description  \n",
       "4                 The self-reported annual income provided by the borrower during registration.  \n",
       "35                                                          The month which the loan was funded  \n",
       "42                                                                   Current status of the loan  \n",
       "88                               Indicates if a payment plan has been put in place for the loan  \n",
       "112  Indicates if income was verified by LC, not verified, or if the income source was verified  "
      ]
     },
     "execution_count": 27,
     "metadata": {},
     "output_type": "execute_result"
    }
   ],
   "source": [
    "# Moving to next 6 columns\n",
    "print(loan_data.iloc[:5,10:15])\n",
    "for y in loan_data.columns[10:15]:\n",
    "  print(y, loan_data[y].dtype)\n",
    "loan_dict.loc[loan_dict['LoanStatNew'].isin(list(loan_data.columns.values[10:15]))]"
   ]
  },
  {
   "cell_type": "code",
   "execution_count": 28,
   "metadata": {},
   "outputs": [
    {
     "data": {
      "text/plain": [
       "1765404"
      ]
     },
     "execution_count": 28,
     "metadata": {},
     "output_type": "execute_result"
    }
   ],
   "source": [
    "# Staring with annual_inc\n",
    "# It should be numeric\n",
    "# So, let'f find the non-numeric entry\n",
    "df = loan_data['annual_inc'].to_frame().applymap(np.isreal) == False\n",
    "len(df.loc[df['annual_inc'] == True])"
   ]
  },
  {
   "cell_type": "code",
   "execution_count": 29,
   "metadata": {},
   "outputs": [
    {
     "data": {
      "text/plain": [
       "Series([], Name: annual_inc, dtype: float64)"
      ]
     },
     "execution_count": 29,
     "metadata": {},
     "output_type": "execute_result"
    }
   ],
   "source": [
    "# Looks like all the entries are considered non-integral\n",
    "# Let's examine\n",
    "loan_data['annual_inc'][:1]\n",
    "# Since each object seems to string, convert it to numeric.\n",
    "loan_data['annual_inc'] = pd.to_numeric(loan_data['annual_inc'])\n",
    "# Find the non-numeric entry\n",
    "df = loan_data['annual_inc'].to_frame().applymap(np.isreal) == False\n",
    "df.loc[df['annual_inc'] == True]\n",
    "df = loan_data['annual_inc']\n",
    "df.loc[df.isnull()]\n",
    "# So now the data for annual_inc is all good."
   ]
  },
  {
   "cell_type": "code",
   "execution_count": 30,
   "metadata": {},
   "outputs": [
    {
     "data": {
      "text/plain": [
       "array(['Verified', 'Source Verified', 'Not Verified'], dtype=object)"
      ]
     },
     "execution_count": 30,
     "metadata": {},
     "output_type": "execute_result"
    }
   ],
   "source": [
    "# Now verification_status\n",
    "loan_data['verification_status'].unique()"
   ]
  },
  {
   "cell_type": "code",
   "execution_count": 31,
   "metadata": {},
   "outputs": [
    {
     "data": {
      "text/plain": [
       "array(['Dec-11', 'Nov-11', 'Oct-11', 'Sep-11', 'Aug-11', 'Jul-11',\n",
       "       'Jun-11', 'May-11', 'Apr-11', 'Mar-11', 'Feb-11', 'Jan-11',\n",
       "       'Dec-10', 'Nov-10', 'Oct-10', 'Sep-10', 'Aug-10', 'Jul-10',\n",
       "       'Jun-10', 'May-10', 'Apr-10', 'Mar-10', 'Feb-10', 'Jan-10',\n",
       "       'Dec-09', 'Nov-09', 'Oct-09', 'Sep-09', 'Aug-09', 'Jul-09',\n",
       "       'Jun-09', 'May-09', 'Apr-09', 'Mar-09', 'Feb-09', 'Jan-09',\n",
       "       'Dec-08', 'Nov-08', 'Oct-08', 'Sep-08', 'Aug-08', 'Jul-08',\n",
       "       'Jun-08', 'May-08', 'Apr-08', 'Mar-08', 'Feb-08', 'Jan-08',\n",
       "       'Dec-07', 'Nov-07', 'Oct-07', 'Sep-07', 'Aug-07', 'Jul-07',\n",
       "       'Jun-07', 'Dec-2013', 'Nov-2013', 'Oct-2013', 'Sep-2013',\n",
       "       'Aug-2013', 'Jul-2013', 'Jun-2013', 'May-2013', 'Apr-2013',\n",
       "       'Mar-2013', 'Feb-2013', 'Jan-2013', 'Dec-2012', 'Nov-2012',\n",
       "       'Oct-2012', 'Sep-2012', 'Aug-2012', 'Jul-2012', 'Jun-2012',\n",
       "       'May-2012', 'Apr-2012', 'Mar-2012', 'Feb-2012', 'Jan-2012',\n",
       "       'Dec-2014', 'Nov-2014', 'Oct-2014', 'Sep-2014', 'Aug-2014',\n",
       "       'Jul-2014', 'Jun-2014', 'May-2014', 'Apr-2014', 'Mar-2014',\n",
       "       'Feb-2014', 'Jan-2014', 'Dec-2015', 'Nov-2015', 'Oct-2015',\n",
       "       'Sep-2015', 'Aug-2015', 'Jul-2015', 'Jun-2015', 'May-2015',\n",
       "       'Apr-2015', 'Mar-2015', 'Feb-2015', 'Jan-2015', 'Mar-2016',\n",
       "       'Feb-2016', 'Jan-2016', 'Jun-2016', 'May-2016', 'Apr-2016',\n",
       "       'Sep-2016', 'Aug-2016', 'Jul-2016', 'Dec-2016', 'Nov-2016',\n",
       "       'Oct-2016', 'Mar-2017', 'Feb-2017', 'Jan-2017', 'Jun-2017',\n",
       "       'May-2017', 'Apr-2017', 'Sep-2017', 'Aug-2017', 'Jul-2017',\n",
       "       'Dec-2017', 'Nov-2017', 'Oct-2017'], dtype=object)"
      ]
     },
     "execution_count": 31,
     "metadata": {},
     "output_type": "execute_result"
    }
   ],
   "source": [
    "# issue_d\n",
    "loan_data['issue_d'].unique()"
   ]
  },
  {
   "cell_type": "code",
   "execution_count": 32,
   "metadata": {},
   "outputs": [
    {
     "data": {
      "text/plain": [
       "array(['Dec-11', 'Nov-11', 'Oct-11', 'Sep-11', 'Aug-11', 'Jul-11',\n",
       "       'Jun-11', 'May-11', 'Apr-11', 'Mar-11', 'Feb-11', 'Jan-11',\n",
       "       'Dec-10', 'Nov-10', 'Oct-10', 'Sep-10', 'Aug-10', 'Jul-10',\n",
       "       'Jun-10', 'May-10', 'Apr-10', 'Mar-10', 'Feb-10', 'Jan-10',\n",
       "       'Dec-09', 'Nov-09', 'Oct-09', 'Sep-09', 'Aug-09', 'Jul-09',\n",
       "       'Jun-09', 'May-09', 'Apr-09', 'Mar-09', 'Feb-09', 'Jan-09',\n",
       "       'Dec-08', 'Nov-08', 'Oct-08', 'Sep-08', 'Aug-08', 'Jul-08',\n",
       "       'Jun-08', 'May-08', 'Apr-08', 'Mar-08', 'Feb-08', 'Jan-08',\n",
       "       'Dec-07', 'Nov-07', 'Oct-07', 'Sep-07', 'Aug-07', 'Jul-07',\n",
       "       'Jun-07', 'Dec-13', 'Nov-13', 'Oct-13', 'Sep-13', 'Aug-13',\n",
       "       'Jul-13', 'Jun-13', 'May-13', 'Apr-13', 'Mar-13', 'Feb-13',\n",
       "       'Jan-13', 'Dec-12', 'Nov-12', 'Oct-12', 'Sep-12', 'Aug-12',\n",
       "       'Jul-12', 'Jun-12', 'May-12', 'Apr-12', 'Mar-12', 'Feb-12',\n",
       "       'Jan-12', 'Dec-14', 'Nov-14', 'Oct-14', 'Sep-14', 'Aug-14',\n",
       "       'Jul-14', 'Jun-14', 'May-14', 'Apr-14', 'Mar-14', 'Feb-14',\n",
       "       'Jan-14', 'Dec-15', 'Nov-15', 'Oct-15', 'Sep-15', 'Aug-15',\n",
       "       'Jul-15', 'Jun-15', 'May-15', 'Apr-15', 'Mar-15', 'Feb-15',\n",
       "       'Jan-15', 'Mar-16', 'Feb-16', 'Jan-16', 'Jun-16', 'May-16',\n",
       "       'Apr-16', 'Sep-16', 'Aug-16', 'Jul-16', 'Dec-16', 'Nov-16',\n",
       "       'Oct-16', 'Mar-17', 'Feb-17', 'Jan-17', 'Jun-17', 'May-17',\n",
       "       'Apr-17', 'Sep-17', 'Aug-17', 'Jul-17', 'Dec-17', 'Nov-17',\n",
       "       'Oct-17'], dtype=object)"
      ]
     },
     "execution_count": 32,
     "metadata": {},
     "output_type": "execute_result"
    }
   ],
   "source": [
    "import re\n",
    "# There are inconsistencies.\n",
    "# Some places the year is called 16 and other places it is 2016\n",
    "loan_data['issue_d'] = loan_data['issue_d'].str.replace(\"-20\",\"\")\n",
    "loan_data['issue_d'].replace(to_replace=\"([a-zA-Z])(\\d+)\", value=r\"\\1-\\2\", regex=True, inplace=True)\n",
    "loan_data['issue_d'].unique()"
   ]
  },
  {
   "cell_type": "code",
   "execution_count": 33,
   "metadata": {},
   "outputs": [
    {
     "data": {
      "text/plain": [
       "array(['Fully Paid', 'Charged Off',\n",
       "       'Does not meet the credit policy. Status:Fully Paid',\n",
       "       'Does not meet the credit policy. Status:Charged Off', 'Current',\n",
       "       'Late (16-30 days)', 'Late (31-120 days)', 'In Grace Period',\n",
       "       'Default', 'Issued'], dtype=object)"
      ]
     },
     "execution_count": 33,
     "metadata": {},
     "output_type": "execute_result"
    }
   ],
   "source": [
    "# loan_status\n",
    "loan_data['loan_status'].unique()"
   ]
  },
  {
   "cell_type": "code",
   "execution_count": 34,
   "metadata": {},
   "outputs": [
    {
     "data": {
      "text/plain": [
       "array(['n', 'y'], dtype=object)"
      ]
     },
     "execution_count": 34,
     "metadata": {},
     "output_type": "execute_result"
    }
   ],
   "source": [
    "# pymnt_plan\n",
    "loan_data['pymnt_plan'].unique()"
   ]
  },
  {
   "cell_type": "code",
   "execution_count": 35,
   "metadata": {},
   "outputs": [
    {
     "name": "stdout",
     "output_type": "stream",
     "text": [
      "  url         purpose                 title zip_code addr_state\n",
      "0   0     credit_card              Computer    860xx         AZ\n",
      "1   0             car                  bike    309xx         GA\n",
      "2   0  small_business  real estate business    606xx         IL\n",
      "3   0           other              personel    917xx         CA\n",
      "4   0           other              Personal    972xx         OR\n",
      "url object\n",
      "purpose object\n",
      "title object\n",
      "zip_code object\n",
      "addr_state object\n"
     ]
    },
    {
     "data": {
      "text/html": [
       "<div>\n",
       "<style scoped>\n",
       "    .dataframe tbody tr th:only-of-type {\n",
       "        vertical-align: middle;\n",
       "    }\n",
       "\n",
       "    .dataframe tbody tr th {\n",
       "        vertical-align: top;\n",
       "    }\n",
       "\n",
       "    .dataframe thead th {\n",
       "        text-align: right;\n",
       "    }\n",
       "</style>\n",
       "<table border=\"1\" class=\"dataframe\">\n",
       "  <thead>\n",
       "    <tr style=\"text-align: right;\">\n",
       "      <th></th>\n",
       "      <th>LoanStatNew</th>\n",
       "      <th>Description</th>\n",
       "    </tr>\n",
       "  </thead>\n",
       "  <tbody>\n",
       "    <tr>\n",
       "      <th>2</th>\n",
       "      <td>addr_state</td>\n",
       "      <td>The state provided by the borrower in the loan application</td>\n",
       "    </tr>\n",
       "    <tr>\n",
       "      <th>87</th>\n",
       "      <td>purpose</td>\n",
       "      <td>A category provided by the borrower for the loan request.</td>\n",
       "    </tr>\n",
       "    <tr>\n",
       "      <th>95</th>\n",
       "      <td>title</td>\n",
       "      <td>The loan title provided by the borrower</td>\n",
       "    </tr>\n",
       "    <tr>\n",
       "      <th>111</th>\n",
       "      <td>url</td>\n",
       "      <td>URL for the LC page with listing data.</td>\n",
       "    </tr>\n",
       "    <tr>\n",
       "      <th>114</th>\n",
       "      <td>zip_code</td>\n",
       "      <td>The first 3 numbers of the zip code provided by the borrower in the loan application.</td>\n",
       "    </tr>\n",
       "  </tbody>\n",
       "</table>\n",
       "</div>"
      ],
      "text/plain": [
       "    LoanStatNew  \\\n",
       "2    addr_state   \n",
       "87      purpose   \n",
       "95        title   \n",
       "111         url   \n",
       "114    zip_code   \n",
       "\n",
       "                                                                               Description  \n",
       "2                               The state provided by the borrower in the loan application  \n",
       "87                              A category provided by the borrower for the loan request.   \n",
       "95                                                 The loan title provided by the borrower  \n",
       "111                                                 URL for the LC page with listing data.  \n",
       "114  The first 3 numbers of the zip code provided by the borrower in the loan application.  "
      ]
     },
     "execution_count": 35,
     "metadata": {},
     "output_type": "execute_result"
    }
   ],
   "source": [
    "# Moving to next 6 columns\n",
    "# Dropping description out of hte list as it is pure text.\n",
    "# Will see later, if adding it adds any value.\n",
    "loan_data = loan_data.drop('desc', 1)\n",
    "print(loan_data.iloc[:5,15:20])\n",
    "for y in loan_data.columns[15:20]:\n",
    "  print(y, loan_data[y].dtype)\n",
    "loan_dict.loc[loan_dict['LoanStatNew'].isin(list(loan_data.columns.values[15:20]))]"
   ]
  },
  {
   "cell_type": "code",
   "execution_count": 36,
   "metadata": {},
   "outputs": [],
   "source": [
    "# url is the URL for the LC page with listing data.\n",
    "# This data is not needed for our purpose\n",
    "loan_data = loan_data.drop('url', 1)"
   ]
  },
  {
   "cell_type": "code",
   "execution_count": 37,
   "metadata": {},
   "outputs": [
    {
     "data": {
      "text/plain": [
       "array(['credit_card', 'car', 'small_business', 'other', 'wedding',\n",
       "       'debt_consolidation', 'home_improvement', 'major_purchase',\n",
       "       'medical', 'moving', 'vacation', 'house', 'renewable_energy',\n",
       "       'educational'], dtype=object)"
      ]
     },
     "execution_count": 37,
     "metadata": {},
     "output_type": "execute_result"
    }
   ],
   "source": [
    "# Let't check purpose\n",
    "loan_data['purpose'].unique()"
   ]
  },
  {
   "cell_type": "code",
   "execution_count": 38,
   "metadata": {},
   "outputs": [
    {
     "data": {
      "text/plain": [
       "63150"
      ]
     },
     "execution_count": 38,
     "metadata": {},
     "output_type": "execute_result"
    }
   ],
   "source": [
    "# 'purpose' looks good.\n",
    "# Let's try title\n",
    "len(loan_data['title'].unique())"
   ]
  },
  {
   "cell_type": "code",
   "execution_count": 39,
   "metadata": {},
   "outputs": [],
   "source": [
    "# Again, 'title' is text entry which, for now, I am going to remove\n",
    "loan_data = loan_data.drop('title', 1)"
   ]
  },
  {
   "cell_type": "code",
   "execution_count": 40,
   "metadata": {},
   "outputs": [
    {
     "data": {
      "text/plain": [
       "954"
      ]
     },
     "execution_count": 40,
     "metadata": {},
     "output_type": "execute_result"
    }
   ],
   "source": [
    "# zip_code\n",
    "len(loan_data['zip_code'].unique())"
   ]
  },
  {
   "cell_type": "code",
   "execution_count": 41,
   "metadata": {},
   "outputs": [
    {
     "data": {
      "text/plain": [
       "0"
      ]
     },
     "execution_count": 41,
     "metadata": {},
     "output_type": "execute_result"
    }
   ],
   "source": [
    "# I am going to keep zip_code.\n",
    "# The number of unique values are not too bad.\n",
    "# Have to see how many zip_codes where missing and I replaced with 0.\n",
    "len(loan_data.loc[loan_data['zip_code'] == 0])\n",
    "# Since only one entry has the zip_code 0, I am going to randomly assign that item with one of the existing zip_codes.\n",
    "# I hope, this won't affect things bad.\n",
    "import random\n",
    "loan_data.loc[(loan_data['zip_code'] == 0), 'zip_code'] =  random.choice(loan_data['zip_code'].unique())\n",
    "len(loan_data.loc[loan_data['zip_code'] == 0])"
   ]
  },
  {
   "cell_type": "code",
   "execution_count": 42,
   "metadata": {},
   "outputs": [
    {
     "data": {
      "text/plain": [
       "array(['AZ', 'GA', 'IL', 'CA', 'OR', 'NC', 'TX', 'VA', 'MO', 'CT', 'UT',\n",
       "       'FL', 'NY', 'PA', 'MN', 'NJ', 'KY', 'OH', 'SC', 'RI', 'LA', 'MA',\n",
       "       'WA', 'WI', 'AL', 'CO', 'KS', 'NV', 'AK', 'MD', 'WV', 'VT', 'MI',\n",
       "       'DC', 'SD', 'NH', 'AR', 'NM', 'MT', 'HI', 'WY', 'OK', 'DE', 'MS',\n",
       "       'TN', 'IA', 'NE', 'ID', 'IN', 'ME', 'ND'], dtype=object)"
      ]
     },
     "execution_count": 42,
     "metadata": {},
     "output_type": "execute_result"
    }
   ],
   "source": [
    "# Moving to addr_state\n",
    "loan_data['addr_state'].unique()"
   ]
  },
  {
   "cell_type": "code",
   "execution_count": 43,
   "metadata": {},
   "outputs": [
    {
     "name": "stdout",
     "output_type": "stream",
     "text": [
      "     dti  delinq_2yrs earliest_cr_line  inq_last_6mths  mths_since_last_delinq\n",
      "0  27.65            0           Jan-85               1                     0.0\n",
      "1   1.00            0           Apr-99               5                     0.0\n",
      "2   8.72            0           Nov-01               2                     0.0\n",
      "3  20.00            0           Feb-96               1                    35.0\n",
      "4  17.94            0           Jan-96               0                    38.0\n",
      "5  11.20            0           Nov-04               3                     0.0\n",
      "dti float64\n",
      "delinq_2yrs int64\n",
      "earliest_cr_line object\n",
      "inq_last_6mths int64\n",
      "mths_since_last_delinq float64\n"
     ]
    },
    {
     "data": {
      "text/html": [
       "<div>\n",
       "<style scoped>\n",
       "    .dataframe tbody tr th:only-of-type {\n",
       "        vertical-align: middle;\n",
       "    }\n",
       "\n",
       "    .dataframe tbody tr th {\n",
       "        vertical-align: top;\n",
       "    }\n",
       "\n",
       "    .dataframe thead th {\n",
       "        text-align: right;\n",
       "    }\n",
       "</style>\n",
       "<table border=\"1\" class=\"dataframe\">\n",
       "  <thead>\n",
       "    <tr style=\"text-align: right;\">\n",
       "      <th></th>\n",
       "      <th>LoanStatNew</th>\n",
       "      <th>Description</th>\n",
       "    </tr>\n",
       "  </thead>\n",
       "  <tbody>\n",
       "    <tr>\n",
       "      <th>13</th>\n",
       "      <td>delinq_2yrs</td>\n",
       "      <td>The number of 30+ days past-due incidences of delinquency in the borrower's credit file for the past 2 years</td>\n",
       "    </tr>\n",
       "    <tr>\n",
       "      <th>16</th>\n",
       "      <td>dti</td>\n",
       "      <td>A ratio calculated using the borrower’s total monthly debt payments on the total debt obligations, excluding mortgage and the requested LC loan, divided by the borrower’s self-reported monthly income.</td>\n",
       "    </tr>\n",
       "    <tr>\n",
       "      <th>18</th>\n",
       "      <td>earliest_cr_line</td>\n",
       "      <td>The month the borrower's earliest reported credit line was opened</td>\n",
       "    </tr>\n",
       "    <tr>\n",
       "      <th>32</th>\n",
       "      <td>inq_last_6mths</td>\n",
       "      <td>The number of inquiries in past 6 months (excluding auto and mortgage inquiries)</td>\n",
       "    </tr>\n",
       "    <tr>\n",
       "      <th>50</th>\n",
       "      <td>mths_since_last_delinq</td>\n",
       "      <td>The number of months since the borrower's last delinquency.</td>\n",
       "    </tr>\n",
       "  </tbody>\n",
       "</table>\n",
       "</div>"
      ],
      "text/plain": [
       "               LoanStatNew  \\\n",
       "13             delinq_2yrs   \n",
       "16                     dti   \n",
       "18        earliest_cr_line   \n",
       "32          inq_last_6mths   \n",
       "50  mths_since_last_delinq   \n",
       "\n",
       "                                                                                                                                                                                                 Description  \n",
       "13                                                                                              The number of 30+ days past-due incidences of delinquency in the borrower's credit file for the past 2 years  \n",
       "16  A ratio calculated using the borrower’s total monthly debt payments on the total debt obligations, excluding mortgage and the requested LC loan, divided by the borrower’s self-reported monthly income.  \n",
       "18                                                                                                                                         The month the borrower's earliest reported credit line was opened  \n",
       "32                                                                                                                          The number of inquiries in past 6 months (excluding auto and mortgage inquiries)  \n",
       "50                                                                                                                                               The number of months since the borrower's last delinquency.  "
      ]
     },
     "execution_count": 43,
     "metadata": {},
     "output_type": "execute_result"
    }
   ],
   "source": [
    "# Moving to next 6 columns\n",
    "print(loan_data.iloc[:6,18:23])\n",
    "for y in loan_data.columns[18:23]:\n",
    "  print(y, loan_data[y].dtype)\n",
    "loan_dict.loc[loan_dict['LoanStatNew'].isin(list(loan_data.columns.values[18:23]))]"
   ]
  },
  {
   "cell_type": "code",
   "execution_count": 44,
   "metadata": {},
   "outputs": [
    {
     "data": {
      "text/plain": [
       "array([  0.,  35.,  38.,  61.,   8.,  20.,  18.,  68.,  45.,  48.,  41.,\n",
       "        40.,  74.,  25.,  53.,  39.,  10.,  26.,  56.,  77.,  28.,  52.,\n",
       "        24.,  16.,  60.,  54.,  23.,   9.,  11.,  13.,  65.,  19.,  80.,\n",
       "        22.,  59.,  79.,  44.,  64.,  57.,  14.,  63.,  49.,  15.,  73.,\n",
       "        70.,  29.,  51.,   5.,  75.,  55.,   2.,  30.,  47.,  33.,  69.,\n",
       "         4.,  43.,  21.,  27.,  46.,  81.,  78.,  82.,  31.,  76.,  62.,\n",
       "        72.,  42.,  50.,   3.,  12.,  67.,  36.,  34.,  58.,  17.,  71.,\n",
       "        66.,  32.,   6.,  37.,   7.,   1.,  83.,  86., 115.,  96., 103.,\n",
       "       120., 106.,  89., 107.,  85.,  97.,  95., 110.,  84., 135.,  88.,\n",
       "        87., 122.,  91., 146., 134., 114.,  99.,  93., 127., 101.,  94.,\n",
       "       102., 129., 113., 139., 131., 156., 143., 109., 119., 149., 118.,\n",
       "       130., 148., 126.,  90., 141., 116., 100., 152.,  98.,  92., 108.,\n",
       "       133., 104., 111., 105., 170., 124., 136., 180., 188., 140., 151.,\n",
       "       159., 121., 123., 157., 112., 154., 171., 142., 125., 117., 176.,\n",
       "       137., 145., 158., 192., 132., 168., 195., 161., 128., 178., 160.,\n",
       "       150., 202., 153., 138., 162.])"
      ]
     },
     "execution_count": 44,
     "metadata": {},
     "output_type": "execute_result"
    }
   ],
   "source": [
    "# dti is float, delinq_2yrs is int and inq_last_6mths is int.\n",
    "# They look good.\n",
    "# mts_since_last_delinq is float.\n",
    "# Let's check it.\n",
    "# Ideally, it should have been int\n",
    "loan_data['mths_since_last_delinq'].unique()"
   ]
  },
  {
   "cell_type": "code",
   "execution_count": 45,
   "metadata": {},
   "outputs": [
    {
     "data": {
      "text/plain": [
       "array([  0,  35,  38,  61,   8,  20,  18,  68,  45,  48,  41,  40,  74,\n",
       "        25,  53,  39,  10,  26,  56,  77,  28,  52,  24,  16,  60,  54,\n",
       "        23,   9,  11,  13,  65,  19,  80,  22,  59,  79,  44,  64,  57,\n",
       "        14,  63,  49,  15,  73,  70,  29,  51,   5,  75,  55,   2,  30,\n",
       "        47,  33,  69,   4,  43,  21,  27,  46,  81,  78,  82,  31,  76,\n",
       "        62,  72,  42,  50,   3,  12,  67,  36,  34,  58,  17,  71,  66,\n",
       "        32,   6,  37,   7,   1,  83,  86, 115,  96, 103, 120, 106,  89,\n",
       "       107,  85,  97,  95, 110,  84, 135,  88,  87, 122,  91, 146, 134,\n",
       "       114,  99,  93, 127, 101,  94, 102, 129, 113, 139, 131, 156, 143,\n",
       "       109, 119, 149, 118, 130, 148, 126,  90, 141, 116, 100, 152,  98,\n",
       "        92, 108, 133, 104, 111, 105, 170, 124, 136, 180, 188, 140, 151,\n",
       "       159, 121, 123, 157, 112, 154, 171, 142, 125, 117, 176, 137, 145,\n",
       "       158, 192, 132, 168, 195, 161, 128, 178, 160, 150, 202, 153, 138,\n",
       "       162])"
      ]
     },
     "execution_count": 45,
     "metadata": {},
     "output_type": "execute_result"
    }
   ],
   "source": [
    "# The data looks clean.\n",
    "# I can safely convert it to int.\n",
    "loan_data[['mths_since_last_delinq']] = loan_data[['mths_since_last_delinq']].astype(int)\n",
    "loan_data['mths_since_last_delinq'].unique()"
   ]
  },
  {
   "cell_type": "code",
   "execution_count": 46,
   "metadata": {},
   "outputs": [
    {
     "data": {
      "text/plain": [
       "array(['Jan-85', 'Apr-99', 'Nov-01', ..., 'Nov-2014', 'Jun-1956',\n",
       "       'Feb-1958'], dtype=object)"
      ]
     },
     "execution_count": 46,
     "metadata": {},
     "output_type": "execute_result"
    }
   ],
   "source": [
    "# All looks good\n",
    "\n",
    "# earliest_cr_line is type object, which is good.\n",
    "loan_data['earliest_cr_line'].unique()"
   ]
  },
  {
   "cell_type": "code",
   "execution_count": 47,
   "metadata": {},
   "outputs": [
    {
     "name": "stdout",
     "output_type": "stream",
     "text": [
      "   mths_since_last_record  open_acc  pub_rec  revol_bal revol_util\n",
      "0                     0.0         3        0      13648     83.70%\n",
      "1                     0.0         3        0       1687      9.40%\n",
      "2                     0.0         2        0       2956     98.50%\n",
      "3                     0.0        10        0       5598        21%\n",
      "4                     0.0        15        0      27783     53.90%\n",
      "5                     0.0         9        0       7963     28.30%\n",
      "mths_since_last_record float64\n",
      "open_acc int64\n",
      "pub_rec int64\n",
      "revol_bal int64\n",
      "revol_util object\n"
     ]
    },
    {
     "data": {
      "text/html": [
       "<div>\n",
       "<style scoped>\n",
       "    .dataframe tbody tr th:only-of-type {\n",
       "        vertical-align: middle;\n",
       "    }\n",
       "\n",
       "    .dataframe tbody tr th {\n",
       "        vertical-align: top;\n",
       "    }\n",
       "\n",
       "    .dataframe thead th {\n",
       "        text-align: right;\n",
       "    }\n",
       "</style>\n",
       "<table border=\"1\" class=\"dataframe\">\n",
       "  <thead>\n",
       "    <tr style=\"text-align: right;\">\n",
       "      <th></th>\n",
       "      <th>LoanStatNew</th>\n",
       "      <th>Description</th>\n",
       "    </tr>\n",
       "  </thead>\n",
       "  <tbody>\n",
       "    <tr>\n",
       "      <th>52</th>\n",
       "      <td>mths_since_last_record</td>\n",
       "      <td>The number of months since the last public record.</td>\n",
       "    </tr>\n",
       "    <tr>\n",
       "      <th>73</th>\n",
       "      <td>open_acc</td>\n",
       "      <td>The number of open credit lines in the borrower's credit file.</td>\n",
       "    </tr>\n",
       "    <tr>\n",
       "      <th>85</th>\n",
       "      <td>pub_rec</td>\n",
       "      <td>Number of derogatory public records</td>\n",
       "    </tr>\n",
       "    <tr>\n",
       "      <th>90</th>\n",
       "      <td>revol_bal</td>\n",
       "      <td>Total credit revolving balance</td>\n",
       "    </tr>\n",
       "    <tr>\n",
       "      <th>91</th>\n",
       "      <td>revol_util</td>\n",
       "      <td>Revolving line utilization rate, or the amount of credit the borrower is using relative to all available revolving credit.</td>\n",
       "    </tr>\n",
       "  </tbody>\n",
       "</table>\n",
       "</div>"
      ],
      "text/plain": [
       "               LoanStatNew  \\\n",
       "52  mths_since_last_record   \n",
       "73                open_acc   \n",
       "85                 pub_rec   \n",
       "90               revol_bal   \n",
       "91              revol_util   \n",
       "\n",
       "                                                                                                                   Description  \n",
       "52                                                                          The number of months since the last public record.  \n",
       "73                                                              The number of open credit lines in the borrower's credit file.  \n",
       "85                                                                                         Number of derogatory public records  \n",
       "90                                                                                              Total credit revolving balance  \n",
       "91  Revolving line utilization rate, or the amount of credit the borrower is using relative to all available revolving credit.  "
      ]
     },
     "execution_count": 47,
     "metadata": {},
     "output_type": "execute_result"
    }
   ],
   "source": [
    "# Moving to next 6 columns\n",
    "print(loan_data.iloc[:6,23:28])\n",
    "for y in loan_data.columns[23:28]:\n",
    "  print(y, loan_data[y].dtype)\n",
    "loan_dict.loc[loan_dict['LoanStatNew'].isin(list(loan_data.columns.values[23:28]))]"
   ]
  },
  {
   "cell_type": "code",
   "execution_count": 48,
   "metadata": {},
   "outputs": [
    {
     "data": {
      "text/plain": [
       "array([  0., 113., 105.,  97.,  33.,  93.,  52.,  85.,  90.,  91., 114.,\n",
       "        92., 117.,  87.,  45.,  83., 118.,  38., 101., 100., 112., 110.,\n",
       "        88.,  79.,  77., 107., 102.,  98.,  95., 103.,  96., 116., 111.,\n",
       "        89., 108.,  29., 106., 115.,  53.,  86.,  57.,  63.,  94., 109.,\n",
       "        99., 104.,  76.,  61.,  28.,  23.,  75.,  47.,  82.,  21.,  62.,\n",
       "        44.,  80.,  67., 119.,  42.,  34.,  66.,  58.,  22.,  56.,  72.,\n",
       "        64.,  50.,  69.,  49.,  74.,  35.,  12.,  26.,  78.,  54.,  37.,\n",
       "        73.,  11.,  31.,  59.,  32.,  81.,  68.,  55.,  39.,  51.,  70.,\n",
       "        30.,  41.,  71.,  40.,  43.,  27.,  65.,  46.,  19.,  17.,  25.,\n",
       "        13.,  48.,  36.,   7.,  60.,  14.,   6.,  18.,  20., 120., 129.,\n",
       "         5.,  24.,  15.,  84.,  10.,  16.,   8.,   9.,   3., 121.,   4.,\n",
       "         1.,   2.])"
      ]
     },
     "execution_count": 48,
     "metadata": {},
     "output_type": "execute_result"
    }
   ],
   "source": [
    "# Start analyzing mths_since_last_record\n",
    "loan_data['mths_since_last_record'].unique()"
   ]
  },
  {
   "cell_type": "code",
   "execution_count": 49,
   "metadata": {},
   "outputs": [
    {
     "data": {
      "text/plain": [
       "array([  0, 113, 105,  97,  33,  93,  52,  85,  90,  91, 114,  92, 117,\n",
       "        87,  45,  83, 118,  38, 101, 100, 112, 110,  88,  79,  77, 107,\n",
       "       102,  98,  95, 103,  96, 116, 111,  89, 108,  29, 106, 115,  53,\n",
       "        86,  57,  63,  94, 109,  99, 104,  76,  61,  28,  23,  75,  47,\n",
       "        82,  21,  62,  44,  80,  67, 119,  42,  34,  66,  58,  22,  56,\n",
       "        72,  64,  50,  69,  49,  74,  35,  12,  26,  78,  54,  37,  73,\n",
       "        11,  31,  59,  32,  81,  68,  55,  39,  51,  70,  30,  41,  71,\n",
       "        40,  43,  27,  65,  46,  19,  17,  25,  13,  48,  36,   7,  60,\n",
       "        14,   6,  18,  20, 120, 129,   5,  24,  15,  84,  10,  16,   8,\n",
       "         9,   3, 121,   4,   1,   2])"
      ]
     },
     "execution_count": 49,
     "metadata": {},
     "output_type": "execute_result"
    }
   ],
   "source": [
    "# Look good and all of them are integers (as there are no partial months).\n",
    "# Hence, converting all of them to int\n",
    "loan_data[['mths_since_last_record']] = loan_data[['mths_since_last_record']].astype(int)\n",
    "loan_data['mths_since_last_record'].unique()"
   ]
  },
  {
   "cell_type": "code",
   "execution_count": 50,
   "metadata": {},
   "outputs": [
    {
     "data": {
      "text/plain": [
       "array([ 3,  2, 10, 15,  9,  7,  4, 11, 14, 12, 20,  8,  6, 17,  5, 13, 16,\n",
       "       30, 21, 18, 19, 27, 23, 34, 25, 22, 24, 26, 32, 28, 29, 33, 31, 39,\n",
       "       35, 36, 38, 44, 41, 42,  1, 46, 37, 47,  0, 40, 45, 49, 53, 51, 43,\n",
       "       62, 48, 50, 52, 54, 76, 58, 55, 84, 75, 61, 65, 67, 57, 66, 68, 70,\n",
       "       60, 56, 82, 63, 59, 64, 79, 74, 90, 72, 81, 77, 71, 69, 80, 86, 97,\n",
       "       88, 93, 91])"
      ]
     },
     "execution_count": 50,
     "metadata": {},
     "output_type": "execute_result"
    }
   ],
   "source": [
    "# Start analyzing open_acc\n",
    "loan_data['open_acc'].unique()"
   ]
  },
  {
   "cell_type": "code",
   "execution_count": 51,
   "metadata": {},
   "outputs": [
    {
     "data": {
      "text/plain": [
       "array([ 0,  1,  2,  3,  4,  5,  6,  9,  8,  7, 11, 49, 10, 54, 12, 18, 19,\n",
       "       16, 15, 14, 40, 63, 13, 21, 34, 17, 23, 26, 28, 20, 86, 22, 46, 37,\n",
       "       31, 47, 24, 45, 25, 61, 32, 44])"
      ]
     },
     "execution_count": 51,
     "metadata": {},
     "output_type": "execute_result"
    }
   ],
   "source": [
    "# Start analyzing pub_rec\n",
    "loan_data['pub_rec'].unique()"
   ]
  },
  {
   "cell_type": "code",
   "execution_count": 52,
   "metadata": {},
   "outputs": [
    {
     "data": {
      "text/plain": [
       "array([ 13648,   1687,   2956, ..., 196098, 171520,  64696])"
      ]
     },
     "execution_count": 52,
     "metadata": {},
     "output_type": "execute_result"
    }
   ],
   "source": [
    "# Start analyzing revol_bal\n",
    "loan_data['revol_bal'].unique()"
   ]
  },
  {
   "cell_type": "code",
   "execution_count": 53,
   "metadata": {},
   "outputs": [
    {
     "data": {
      "text/html": [
       "<div>\n",
       "<style scoped>\n",
       "    .dataframe tbody tr th:only-of-type {\n",
       "        vertical-align: middle;\n",
       "    }\n",
       "\n",
       "    .dataframe tbody tr th {\n",
       "        vertical-align: top;\n",
       "    }\n",
       "\n",
       "    .dataframe thead th {\n",
       "        text-align: right;\n",
       "    }\n",
       "</style>\n",
       "<table border=\"1\" class=\"dataframe\">\n",
       "  <thead>\n",
       "    <tr style=\"text-align: right;\">\n",
       "      <th></th>\n",
       "      <th>revol_util</th>\n",
       "    </tr>\n",
       "  </thead>\n",
       "  <tbody>\n",
       "  </tbody>\n",
       "</table>\n",
       "</div>"
      ],
      "text/plain": [
       "Empty DataFrame\n",
       "Columns: [revol_util]\n",
       "Index: []"
      ]
     },
     "execution_count": 53,
     "metadata": {},
     "output_type": "execute_result"
    }
   ],
   "source": [
    "# Start analyzing revol_util\n",
    "# All revol_util are described in terms of %.\n",
    "# So, a simple replacement should work.\n",
    "loan_data['revol_util'] = loan_data['revol_util'].str.replace(\"%\",\"\")\n",
    "# Now convert all of them to numeric\n",
    "loan_data['revol_util'] = pd.to_numeric(loan_data['revol_util'])\n",
    "# Find the non-numeric entry\n",
    "df = loan_data['revol_util'].to_frame().applymap(np.isreal) == False\n",
    "df.loc[df['revol_util'] == True]\n",
    "# The revol_util data looks all good."
   ]
  },
  {
   "cell_type": "code",
   "execution_count": 54,
   "metadata": {},
   "outputs": [
    {
     "name": "stdout",
     "output_type": "stream",
     "text": [
      "   total_acc initial_list_status  out_prncp  out_prncp_inv   total_pymnt\n",
      "0          9                   f        0.0            0.0   5863.155187\n",
      "1          4                   f        0.0            0.0   1014.530000\n",
      "2         10                   f        0.0            0.0   3005.666844\n",
      "3         37                   f        0.0            0.0  12231.890000\n",
      "4         38                   f        0.0            0.0   4066.908161\n",
      "5         12                   f        0.0            0.0   5632.210000\n",
      "total_acc int64\n",
      "initial_list_status object\n",
      "out_prncp float64\n",
      "out_prncp_inv float64\n",
      "total_pymnt float64\n"
     ]
    },
    {
     "data": {
      "text/html": [
       "<div>\n",
       "<style scoped>\n",
       "    .dataframe tbody tr th:only-of-type {\n",
       "        vertical-align: middle;\n",
       "    }\n",
       "\n",
       "    .dataframe tbody tr th {\n",
       "        vertical-align: top;\n",
       "    }\n",
       "\n",
       "    .dataframe thead th {\n",
       "        text-align: right;\n",
       "    }\n",
       "</style>\n",
       "<table border=\"1\" class=\"dataframe\">\n",
       "  <thead>\n",
       "    <tr style=\"text-align: right;\">\n",
       "      <th></th>\n",
       "      <th>LoanStatNew</th>\n",
       "      <th>Description</th>\n",
       "    </tr>\n",
       "  </thead>\n",
       "  <tbody>\n",
       "    <tr>\n",
       "      <th>29</th>\n",
       "      <td>initial_list_status</td>\n",
       "      <td>The initial listing status of the loan. Possible values are – W, F</td>\n",
       "    </tr>\n",
       "    <tr>\n",
       "      <th>80</th>\n",
       "      <td>out_prncp</td>\n",
       "      <td>Remaining outstanding principal for total amount funded</td>\n",
       "    </tr>\n",
       "    <tr>\n",
       "      <th>81</th>\n",
       "      <td>out_prncp_inv</td>\n",
       "      <td>Remaining outstanding principal for portion of total amount funded by investors</td>\n",
       "    </tr>\n",
       "    <tr>\n",
       "      <th>99</th>\n",
       "      <td>total_acc</td>\n",
       "      <td>The total number of credit lines currently in the borrower's credit file</td>\n",
       "    </tr>\n",
       "    <tr>\n",
       "      <th>105</th>\n",
       "      <td>total_pymnt</td>\n",
       "      <td>Payments received to date for total amount funded</td>\n",
       "    </tr>\n",
       "  </tbody>\n",
       "</table>\n",
       "</div>"
      ],
      "text/plain": [
       "             LoanStatNew  \\\n",
       "29   initial_list_status   \n",
       "80             out_prncp   \n",
       "81         out_prncp_inv   \n",
       "99             total_acc   \n",
       "105          total_pymnt   \n",
       "\n",
       "                                                                         Description  \n",
       "29                The initial listing status of the loan. Possible values are – W, F  \n",
       "80                           Remaining outstanding principal for total amount funded  \n",
       "81   Remaining outstanding principal for portion of total amount funded by investors  \n",
       "99          The total number of credit lines currently in the borrower's credit file  \n",
       "105                                Payments received to date for total amount funded  "
      ]
     },
     "execution_count": 54,
     "metadata": {},
     "output_type": "execute_result"
    }
   ],
   "source": [
    "# Moving to next 5 columns\n",
    "print(loan_data.iloc[:6,28:33])\n",
    "for y in loan_data.columns[28:33]:\n",
    "  print(y, loan_data[y].dtype)\n",
    "loan_dict.loc[loan_dict['LoanStatNew'].isin(list(loan_data.columns.values[28:33]))]"
   ]
  },
  {
   "cell_type": "code",
   "execution_count": 55,
   "metadata": {},
   "outputs": [
    {
     "data": {
      "text/plain": [
       "array([  9,   4,  10,  37,  38,  12,  11,  13,   3,  23,  34,  29,  28,\n",
       "        42,  14,  22,  21,  17,   7,  31,  44,  26,  16,   6,  18,  27,\n",
       "        24,  25,  40,  35,   8,  20,  15,  19,  36,  51,  32,  30,  33,\n",
       "        46,   5,  61,  56,  50,  41,  39,  79,  62,  43,  47,  53,  45,\n",
       "        60,  55,  52,  58,  54,  57,  49,  63,  48,  59,  77,  87,  75,\n",
       "        72,  64,  67,  78,  76,  74,  66,  81,  90,  80,  71,  69,  73,\n",
       "        70,  68,  65,   2,   1,   0, 105,  83,  84,  98,  88,  82,  91,\n",
       "        99,  86,  93,  92,  96, 101, 150,  95,  85,  89, 156, 106,  97,\n",
       "       119, 124, 100,  94, 121, 102, 117, 116, 118, 111, 127, 112, 125,\n",
       "       110, 109, 135, 104, 151, 130, 107, 113, 169, 140, 146, 129, 126,\n",
       "       137, 103, 138, 162, 114, 108, 176, 115, 173, 120, 133, 160, 157,\n",
       "       144, 122, 136, 141, 123, 165])"
      ]
     },
     "execution_count": 55,
     "metadata": {},
     "output_type": "execute_result"
    }
   ],
   "source": [
    "# Start analyzing total_acc\n",
    "loan_data['total_acc'].unique()"
   ]
  },
  {
   "cell_type": "code",
   "execution_count": 56,
   "metadata": {},
   "outputs": [
    {
     "data": {
      "text/plain": [
       "array(['f', 'w'], dtype=object)"
      ]
     },
     "execution_count": 56,
     "metadata": {},
     "output_type": "execute_result"
    }
   ],
   "source": [
    "# Start analyzing initial_list_status\n",
    "loan_data['initial_list_status'].unique()"
   ]
  },
  {
   "cell_type": "code",
   "execution_count": 57,
   "metadata": {},
   "outputs": [
    {
     "data": {
      "text/plain": [
       "array([    0.  ,  5496.76,  2861.71, ..., 13463.07, 17546.03, 17738.59])"
      ]
     },
     "execution_count": 57,
     "metadata": {},
     "output_type": "execute_result"
    }
   ],
   "source": [
    "# Start analyzing out_prncp\n",
    "loan_data['out_prncp'].unique()"
   ]
  },
  {
   "cell_type": "code",
   "execution_count": 58,
   "metadata": {},
   "outputs": [
    {
     "data": {
      "text/plain": [
       "array([    0.  ,  5496.76,  2861.71, ..., 33956.55, 17546.03, 17738.59])"
      ]
     },
     "execution_count": 58,
     "metadata": {},
     "output_type": "execute_result"
    }
   ],
   "source": [
    "# Start analyzing out_prncp_inv\n",
    "loan_data['out_prncp_inv'].unique()"
   ]
  },
  {
   "cell_type": "code",
   "execution_count": 59,
   "metadata": {},
   "outputs": [
    {
     "name": "stdout",
     "output_type": "stream",
     "text": [
      "45216\n"
     ]
    }
   ],
   "source": [
    "# Want to see if the out_prncp and out_prncp_inv are ever different\n",
    "df_ = loan_data['out_prncp'] - loan_data['out_prncp_inv'] != 0\n",
    "df = df_.to_frame()\n",
    "print(len(df.loc[df[0] == True]))"
   ]
  },
  {
   "cell_type": "code",
   "execution_count": 60,
   "metadata": {},
   "outputs": [
    {
     "data": {
      "text/plain": [
       "array([ 5863.155187,  1014.53    ,  3005.666844, ..., 25027.67375 ,\n",
       "        1672.64    ,   605.72    ])"
      ]
     },
     "execution_count": 60,
     "metadata": {},
     "output_type": "execute_result"
    }
   ],
   "source": [
    "# Since, there is a non-zero number of cases where the the out_prncp and out_prncp_inv are different, I am keeping it.\n",
    "# Though, 45K entries out of 1.7million seems small.o\n",
    "\n",
    "# Start analyzing total_pymnt\n",
    "loan_data['total_pymnt'].unique()"
   ]
  },
  {
   "cell_type": "code",
   "execution_count": 61,
   "metadata": {},
   "outputs": [
    {
     "name": "stdout",
     "output_type": "stream",
     "text": [
      "   total_pymnt_inv  total_rec_prncp  total_rec_int  total_rec_late_fee\n",
      "0          5833.84          5000.00         863.16                0.00\n",
      "1          1014.53           456.46         435.17                0.00\n",
      "2          3005.67          2400.00         605.67                0.00\n",
      "3         12231.89         10000.00        2214.92               16.97\n",
      "4          4066.91          3000.00        1066.91                0.00\n",
      "5          5632.21          5000.00         632.21                0.00\n",
      "total_pymnt_inv float64\n",
      "total_rec_prncp float64\n",
      "total_rec_int float64\n",
      "total_rec_late_fee float64\n"
     ]
    },
    {
     "data": {
      "text/html": [
       "<div>\n",
       "<style scoped>\n",
       "    .dataframe tbody tr th:only-of-type {\n",
       "        vertical-align: middle;\n",
       "    }\n",
       "\n",
       "    .dataframe tbody tr th {\n",
       "        vertical-align: top;\n",
       "    }\n",
       "\n",
       "    .dataframe thead th {\n",
       "        text-align: right;\n",
       "    }\n",
       "</style>\n",
       "<table border=\"1\" class=\"dataframe\">\n",
       "  <thead>\n",
       "    <tr style=\"text-align: right;\">\n",
       "      <th></th>\n",
       "      <th>LoanStatNew</th>\n",
       "      <th>Description</th>\n",
       "    </tr>\n",
       "  </thead>\n",
       "  <tbody>\n",
       "    <tr>\n",
       "      <th>106</th>\n",
       "      <td>total_pymnt_inv</td>\n",
       "      <td>Payments received to date for portion of total amount funded by investors</td>\n",
       "    </tr>\n",
       "    <tr>\n",
       "      <th>107</th>\n",
       "      <td>total_rec_int</td>\n",
       "      <td>Interest received to date</td>\n",
       "    </tr>\n",
       "    <tr>\n",
       "      <th>108</th>\n",
       "      <td>total_rec_late_fee</td>\n",
       "      <td>Late fees received to date</td>\n",
       "    </tr>\n",
       "    <tr>\n",
       "      <th>109</th>\n",
       "      <td>total_rec_prncp</td>\n",
       "      <td>Principal received to date</td>\n",
       "    </tr>\n",
       "  </tbody>\n",
       "</table>\n",
       "</div>"
      ],
      "text/plain": [
       "            LoanStatNew  \\\n",
       "106     total_pymnt_inv   \n",
       "107       total_rec_int   \n",
       "108  total_rec_late_fee   \n",
       "109     total_rec_prncp   \n",
       "\n",
       "                                                                   Description  \n",
       "106  Payments received to date for portion of total amount funded by investors  \n",
       "107                                                  Interest received to date  \n",
       "108                                                 Late fees received to date  \n",
       "109                                                 Principal received to date  "
      ]
     },
     "execution_count": 61,
     "metadata": {},
     "output_type": "execute_result"
    }
   ],
   "source": [
    "# Moving to next 4 columns\n",
    "print(loan_data.iloc[:6,33:37])\n",
    "for y in loan_data.columns[33:37]:\n",
    "  print(y, loan_data[y].dtype)\n",
    "loan_dict.loc[loan_dict['LoanStatNew'].isin(list(loan_data.columns.values[33:37]))]"
   ]
  },
  {
   "cell_type": "code",
   "execution_count": 62,
   "metadata": {},
   "outputs": [
    {
     "name": "stdout",
     "output_type": "stream",
     "text": [
      "   recoveries  collection_recovery_fee last_pymnt_d  last_pymnt_amnt\n",
      "0         0.0                     0.00       Jan-15           171.62\n",
      "1       122.9                     1.11       Apr-13           119.66\n",
      "2         0.0                     0.00       Jun-14           649.91\n",
      "3         0.0                     0.00       Jan-15           357.48\n",
      "4         0.0                     0.00       Jan-17            67.30\n",
      "5         0.0                     0.00       Jan-15           161.03\n",
      "recoveries float64\n",
      "collection_recovery_fee float64\n",
      "last_pymnt_d object\n",
      "last_pymnt_amnt float64\n"
     ]
    },
    {
     "data": {
      "text/html": [
       "<div>\n",
       "<style scoped>\n",
       "    .dataframe tbody tr th:only-of-type {\n",
       "        vertical-align: middle;\n",
       "    }\n",
       "\n",
       "    .dataframe tbody tr th {\n",
       "        vertical-align: top;\n",
       "    }\n",
       "\n",
       "    .dataframe thead th {\n",
       "        text-align: right;\n",
       "    }\n",
       "</style>\n",
       "<table border=\"1\" class=\"dataframe\">\n",
       "  <thead>\n",
       "    <tr style=\"text-align: right;\">\n",
       "      <th></th>\n",
       "      <th>LoanStatNew</th>\n",
       "      <th>Description</th>\n",
       "    </tr>\n",
       "  </thead>\n",
       "  <tbody>\n",
       "    <tr>\n",
       "      <th>11</th>\n",
       "      <td>collection_recovery_fee</td>\n",
       "      <td>post charge off collection fee</td>\n",
       "    </tr>\n",
       "    <tr>\n",
       "      <th>39</th>\n",
       "      <td>last_pymnt_amnt</td>\n",
       "      <td>Last total payment amount received</td>\n",
       "    </tr>\n",
       "    <tr>\n",
       "      <th>40</th>\n",
       "      <td>last_pymnt_d</td>\n",
       "      <td>Last month payment was received</td>\n",
       "    </tr>\n",
       "    <tr>\n",
       "      <th>89</th>\n",
       "      <td>recoveries</td>\n",
       "      <td>post charge off gross recovery</td>\n",
       "    </tr>\n",
       "  </tbody>\n",
       "</table>\n",
       "</div>"
      ],
      "text/plain": [
       "                LoanStatNew                         Description\n",
       "11  collection_recovery_fee      post charge off collection fee\n",
       "39          last_pymnt_amnt  Last total payment amount received\n",
       "40             last_pymnt_d     Last month payment was received\n",
       "89               recoveries      post charge off gross recovery"
      ]
     },
     "execution_count": 62,
     "metadata": {},
     "output_type": "execute_result"
    }
   ],
   "source": [
    "# Moving to next 4 columns\n",
    "print(loan_data.iloc[:6,37:41])\n",
    "for y in loan_data.columns[37:41]:\n",
    "  print(y, loan_data[y].dtype)\n",
    "loan_dict.loc[loan_dict['LoanStatNew'].isin(list(loan_data.columns.values[37:41]))]"
   ]
  },
  {
   "cell_type": "code",
   "execution_count": 63,
   "metadata": {},
   "outputs": [
    {
     "data": {
      "text/plain": [
       "array(['Jan-15', 'Apr-13', 'Jun-14', 'Jan-17', 'May-16', 'Apr-12',\n",
       "       'Nov-12', 'Jun-13', 'Sep-13', 'Jul-12', 'Oct-13', 'May-13',\n",
       "       'Feb-15', 'Aug-15', 'Oct-12', 'Sep-12', '0', 'Dec-12', 'Dec-14',\n",
       "       'Aug-13', 'Nov-13', 'Jan-14', 'Apr-14', 'Aug-14', 'Oct-14',\n",
       "       'Aug-12', 'Jul-14', 'Jul-13', 'Jan-16', 'Feb-16', 'Apr-15',\n",
       "       'Feb-14', 'Sep-14', 'Jun-12', 'Feb-13', 'Jun-16', 'Mar-13',\n",
       "       'May-14', 'Mar-15', 'Jan-13', 'Dec-13', 'Feb-12', 'Mar-14',\n",
       "       'Sep-15', 'Nov-15', 'Mar-16', 'Jan-12', 'Oct-15', 'Dec-16',\n",
       "       'Nov-14', 'Mar-12', 'May-12', 'Aug-16', 'Jul-16', 'Oct-16',\n",
       "       'Dec-15', 'Jun-15', 'Feb-17', 'Sep-16', 'Nov-16', 'May-15',\n",
       "       'Jul-15', 'Apr-16', 'Apr-17', 'Dec-11', 'Nov-11', 'Oct-11',\n",
       "       'Sep-11', 'Aug-11', 'Jul-11', 'Jun-11', 'May-11', 'Apr-11',\n",
       "       'Mar-11', 'Feb-11', 'Jan-11', 'Dec-10', 'Nov-10', 'Oct-10',\n",
       "       'Sep-10', 'Aug-10', 'Jul-10', 'Jun-10', 'May-10', 'Apr-10',\n",
       "       'Mar-10', 'Feb-10', 'Jan-10', 'Dec-09', 'Nov-09', 'Oct-09',\n",
       "       'Sep-09', 'Aug-09', 'Jul-09', 'Jun-09', 'May-09', 'Apr-09',\n",
       "       'Mar-09', 'Feb-09', 'Jan-09', 'Dec-08', 'Oct-08', 'Aug-08',\n",
       "       'Jul-08', 'Sep-08', 'Jun-08', 'May-08', 'Nov-08', 'Apr-08',\n",
       "       'Mar-08', 'Feb-08', 'Jan-08', 'Dec-07', 'Dec-2016', 'Jul-2016',\n",
       "       'Sep-2014', 'Apr-2017', 'Oct-2015', 'May-2014', 'Jun-2016',\n",
       "       'Jan-2017', 'Dec-2015', 'Sep-2015', 'Apr-2016', 'May-2015',\n",
       "       'Jul-2014', 'Sep-2017', 'Aug-2014', 'Feb-2016', 'Dec-2017',\n",
       "       'Jan-2018', 'Aug-2015', 'Jan-2014', 'Feb-2014', 'Jan-2016',\n",
       "       'Sep-2016', 'Jun-2017', 'Feb-2015', 'Jan-2015', 'Jun-2014',\n",
       "       'Nov-2014', 'May-2017', 'Nov-2015', 'Mar-2015', 'Jun-2015',\n",
       "       'Feb-2017', 'Aug-2016', 'Oct-2017', 'Oct-2016', 'Mar-2014',\n",
       "       'May-2016', 'Dec-2014', 'Mar-2017', 'Mar-2016', 'Oct-2014',\n",
       "       'Jul-2015', 'Apr-2014', 'Jul-2017', 'Apr-2015', 0, 'Nov-2016',\n",
       "       'Nov-2017', 'Aug-2017', 'Dec-2013', 'Nov-2013', 'Oct-2013',\n",
       "       'Sep-2013', 'Aug-2013', 'Jul-2013', 'Jun-2013', 'May-2013',\n",
       "       'Apr-2013', 'Mar-2013', 'Feb-2013', 'Jan-2013', 'Dec-2012',\n",
       "       'Nov-2012', 'Oct-2012', 'Sep-2012', 'Aug-2012', 'Jul-2012',\n",
       "       'Jun-2012', 'May-2012', 'Apr-2012', 'Mar-2012', 'Feb-2012'],\n",
       "      dtype=object)"
      ]
     },
     "execution_count": 63,
     "metadata": {},
     "output_type": "execute_result"
    }
   ],
   "source": [
    "# All except look good in terms of the data type\n",
    "# Cheching last_pymnt_d\n",
    "loan_data['last_pymnt_d'].unique()"
   ]
  },
  {
   "cell_type": "code",
   "execution_count": 64,
   "metadata": {},
   "outputs": [
    {
     "data": {
      "text/plain": [
       "array(['Jan-15', 'Apr-13', 'Jun-14', 'Jan-17', 'May-16', 'Apr-12',\n",
       "       'Nov-12', 'Jun-13', 'Sep-13', 'Jul-12', 'Oct-13', 'May-13',\n",
       "       'Feb-15', 'Aug-15', 'Oct-12', 'Sep-12', '0', 'Dec-12', 'Dec-14',\n",
       "       'Aug-13', 'Nov-13', 'Jan-14', 'Apr-14', 'Aug-14', 'Oct-14',\n",
       "       'Aug-12', 'Jul-14', 'Jul-13', 'Jan-16', 'Feb-16', 'Apr-15',\n",
       "       'Feb-14', 'Sep-14', 'Jun-12', 'Feb-13', 'Jun-16', 'Mar-13',\n",
       "       'May-14', 'Mar-15', 'Jan-13', 'Dec-13', 'Feb-12', 'Mar-14',\n",
       "       'Sep-15', 'Nov-15', 'Mar-16', 'Jan-12', 'Oct-15', 'Dec-16',\n",
       "       'Nov-14', 'Mar-12', 'May-12', 'Aug-16', 'Jul-16', 'Oct-16',\n",
       "       'Dec-15', 'Jun-15', 'Feb-17', 'Sep-16', 'Nov-16', 'May-15',\n",
       "       'Jul-15', 'Apr-16', 'Apr-17', 'Dec-11', 'Nov-11', 'Oct-11',\n",
       "       'Sep-11', 'Aug-11', 'Jul-11', 'Jun-11', 'May-11', 'Apr-11',\n",
       "       'Mar-11', 'Feb-11', 'Jan-11', 'Dec-10', 'Nov-10', 'Oct-10',\n",
       "       'Sep-10', 'Aug-10', 'Jul-10', 'Jun-10', 'May-10', 'Apr-10',\n",
       "       'Mar-10', 'Feb-10', 'Jan-10', 'Dec-09', 'Nov-09', 'Oct-09',\n",
       "       'Sep-09', 'Aug-09', 'Jul-09', 'Jun-09', 'May-09', 'Apr-09',\n",
       "       'Mar-09', 'Feb-09', 'Jan-09', 'Dec-08', 'Oct-08', 'Aug-08',\n",
       "       'Jul-08', 'Sep-08', 'Jun-08', 'May-08', 'Nov-08', 'Apr-08',\n",
       "       'Mar-08', 'Feb-08', 'Jan-08', 'Dec-07', 'Sep-17', 'Dec-17',\n",
       "       'Jan-18', 'Jun-17', 'May-17', 'Oct-17', 'Mar-17', 'Jul-17', nan,\n",
       "       'Nov-17', 'Aug-17'], dtype=object)"
      ]
     },
     "execution_count": 64,
     "metadata": {},
     "output_type": "execute_result"
    }
   ],
   "source": [
    "import re\n",
    "# There are inconsistencies.\n",
    "# Some places the year is called 16 and other places it is 2016\n",
    "loan_data['last_pymnt_d'] = loan_data['last_pymnt_d'].str.replace(\"-20\",\"\")\n",
    "loan_data['last_pymnt_d'].replace(to_replace=\"([a-zA-Z])(\\d+)\", value=r\"\\1-\\2\", regex=True, inplace=True)\n",
    "loan_data['last_pymnt_d'].unique()"
   ]
  },
  {
   "cell_type": "code",
   "execution_count": 65,
   "metadata": {},
   "outputs": [
    {
     "data": {
      "text/plain": [
       "array(['Jan-15', 'Apr-13', 'Jun-14', 'Jan-17', 'May-16', 'Apr-12',\n",
       "       'Nov-12', 'Jun-13', 'Sep-13', 'Jul-12', 'Oct-13', 'May-13',\n",
       "       'Feb-15', 'Aug-15', 'Oct-12', 'Sep-12', 'Dec-12', 'Dec-14',\n",
       "       'Aug-13', 'Nov-13', 'Jan-14', 'Apr-14', 'Aug-14', 'Oct-14',\n",
       "       'Aug-12', 'Jul-14', 'Jul-13', 'Jan-16', 'Feb-16', 'Apr-15',\n",
       "       'Feb-14', 'Sep-14', 'Jun-12', 'Feb-13', 'Jun-16', 'Mar-13',\n",
       "       'May-14', 'Mar-15', 'Jan-13', 'Dec-13', 'Feb-12', 'Mar-14',\n",
       "       'Sep-15', 'Nov-15', 'Mar-16', 'Jan-12', 'Oct-15', 'Dec-16',\n",
       "       'Nov-14', 'Mar-12', 'May-12', 'Aug-16', 'Jul-16', 'Oct-16',\n",
       "       'Dec-15', 'Jun-15', 'Feb-17', 'Sep-16', 'Nov-16', 'May-15',\n",
       "       'Jul-15', 'Apr-16', 'Apr-17', 'Dec-11', 'Nov-11', 'Oct-11',\n",
       "       'Sep-11', 'Aug-11', 'Jul-11', 'Jun-11', 'May-11', 'Apr-11',\n",
       "       'Mar-11', 'Feb-11', 'Jan-11', 'Dec-10', 'Nov-10', 'Oct-10',\n",
       "       'Sep-10', 'Aug-10', 'Jul-10', 'Jun-10', 'May-10', 'Apr-10',\n",
       "       'Mar-10', 'Feb-10', 'Jan-10', 'Dec-09', 'Nov-09', 'Oct-09',\n",
       "       'Sep-09', 'Aug-09', 'Jul-09', 'Jun-09', 'May-09', 'Apr-09',\n",
       "       'Mar-09', 'Feb-09', 'Jan-09', 'Dec-08', 'Oct-08', 'Aug-08',\n",
       "       'Jul-08', 'Sep-08', 'Jun-08', 'May-08', 'Nov-08', 'Apr-08',\n",
       "       'Mar-08', 'Feb-08', 'Jan-08', 'Dec-07', 'Sep-17', 'Dec-17',\n",
       "       'Jan-18', 'Jun-17', 'May-17', 'Oct-17', 'Mar-17', 'Jul-17', nan,\n",
       "       'Nov-17', 'Aug-17'], dtype=object)"
      ]
     },
     "execution_count": 65,
     "metadata": {},
     "output_type": "execute_result"
    }
   ],
   "source": [
    "# Delete the entries with last_pymnt_d = 0, if the total number of those are less than 0.1% of the total data.\n",
    "# Else, we need to think of a way to fix it.\n",
    "if (len(loan_data.loc[loan_data['last_pymnt_d'] == '0']) < len(loan_data) * 0.1 / 100):\n",
    "    loan_data.drop(loan_data[loan_data.last_pymnt_d == '0'].index, inplace=True)\n",
    "    loan_data.loc[loan_data['last_pymnt_d'] == '0']\n",
    "loan_data['last_pymnt_d'].unique()"
   ]
  },
  {
   "cell_type": "code",
   "execution_count": 66,
   "metadata": {},
   "outputs": [
    {
     "name": "stdout",
     "output_type": "stream",
     "text": [
      "  next_pymnt_d last_credit_pull_d  collections_12_mths_ex_med\n",
      "0            0             Jan-18                           0\n",
      "1            0             Oct-16                           0\n",
      "2            0             Jun-17                           0\n",
      "3            0             Apr-16                           0\n",
      "4            0             Jan-17                           0\n",
      "5            0             Feb-17                           0\n",
      "next_pymnt_d object\n",
      "last_credit_pull_d object\n",
      "collections_12_mths_ex_med int64\n"
     ]
    },
    {
     "data": {
      "text/html": [
       "<div>\n",
       "<style scoped>\n",
       "    .dataframe tbody tr th:only-of-type {\n",
       "        vertical-align: middle;\n",
       "    }\n",
       "\n",
       "    .dataframe tbody tr th {\n",
       "        vertical-align: top;\n",
       "    }\n",
       "\n",
       "    .dataframe thead th {\n",
       "        text-align: right;\n",
       "    }\n",
       "</style>\n",
       "<table border=\"1\" class=\"dataframe\">\n",
       "  <thead>\n",
       "    <tr style=\"text-align: right;\">\n",
       "      <th></th>\n",
       "      <th>LoanStatNew</th>\n",
       "      <th>Description</th>\n",
       "    </tr>\n",
       "  </thead>\n",
       "  <tbody>\n",
       "    <tr>\n",
       "      <th>12</th>\n",
       "      <td>collections_12_mths_ex_med</td>\n",
       "      <td>Number of collections in 12 months excluding medical collections</td>\n",
       "    </tr>\n",
       "    <tr>\n",
       "      <th>36</th>\n",
       "      <td>last_credit_pull_d</td>\n",
       "      <td>The most recent month LC pulled credit for this loan</td>\n",
       "    </tr>\n",
       "    <tr>\n",
       "      <th>58</th>\n",
       "      <td>next_pymnt_d</td>\n",
       "      <td>Next scheduled payment date</td>\n",
       "    </tr>\n",
       "  </tbody>\n",
       "</table>\n",
       "</div>"
      ],
      "text/plain": [
       "                   LoanStatNew  \\\n",
       "12  collections_12_mths_ex_med   \n",
       "36          last_credit_pull_d   \n",
       "58                next_pymnt_d   \n",
       "\n",
       "                                                         Description  \n",
       "12  Number of collections in 12 months excluding medical collections  \n",
       "36              The most recent month LC pulled credit for this loan  \n",
       "58                                       Next scheduled payment date  "
      ]
     },
     "execution_count": 66,
     "metadata": {},
     "output_type": "execute_result"
    }
   ],
   "source": [
    "# Moving to next 4 columns\n",
    "print(loan_data.iloc[:6,41:44])\n",
    "for y in loan_data.columns[41:44]:\n",
    "  print(y, loan_data[y].dtype)\n",
    "loan_dict.loc[loan_dict['LoanStatNew'].isin(list(loan_data.columns.values[41:44]))]"
   ]
  },
  {
   "cell_type": "code",
   "execution_count": 67,
   "metadata": {},
   "outputs": [],
   "source": [
    "# next_pymnt_d looks wrong\n",
    "len(loan_data.loc[loan_data['next_pymnt_d'] == '0'])\n",
    "# It has 92648 entries.\n",
    "# For now, I am dropping this. \n",
    "# Next payment is future payment is not completely relevant.\n",
    "# This information should already by hidden in all the other data.\n",
    "loan_data = loan_data.drop('next_pymnt_d', 1)"
   ]
  },
  {
   "cell_type": "code",
   "execution_count": 68,
   "metadata": {},
   "outputs": [
    {
     "data": {
      "text/plain": [
       "array(['Jan-18', 'Oct-16', 'Jun-17', 'Apr-16', 'Jan-17', 'Feb-17',\n",
       "       'Sep-16', 'Dec-14', 'Dec-16', 'Aug-17', 'Aug-13', 'Apr-17',\n",
       "       'Sep-17', 'May-14', 'Jul-15', 'Feb-16', 'Jun-16', 'Mar-14',\n",
       "       'Sep-12', 'Jan-15', 'Jul-17', 'Jan-16', 'Dec-15', 'Jun-12',\n",
       "       'Nov-17', 'Dec-17', 'Mar-15', 'Sep-14', 'Mar-17', 'Apr-14',\n",
       "       'Oct-17', 'Oct-14', 'Feb-14', 'Feb-13', 'Nov-15', 'Jul-14',\n",
       "       'Dec-12', 'Jul-16', 'Jun-15', 'Mar-13', 'Feb-12', 'Nov-13',\n",
       "       'Nov-16', 'Oct-15', 'May-16', 'Apr-12', 'Sep-15', 'Mar-16',\n",
       "       'May-13', 'Aug-15', 'Jun-14', 'Aug-12', 'Sep-13', 'Jan-12',\n",
       "       'Aug-14', 'Oct-13', 'May-17', 'Aug-16', 'May-12', 'Jul-12',\n",
       "       'Jan-14', 'Oct-12', 'Jun-13', 'Dec-13', 'Nov-14', 'Apr-15',\n",
       "       'Apr-13', 'Nov-12', 'May-15', 'Jul-13', 'Feb-15', 'Mar-12',\n",
       "       'Nov-11', 'Dec-11', 'Jan-13', 'Oct-11', 'Sep-11', 'Aug-11',\n",
       "       'Jul-11', 'Jun-11', 'May-11', 'Apr-11', 'Mar-11', 'Feb-11',\n",
       "       'Jan-11', 'Dec-10', 'Nov-10', 'Oct-10', '0', 'Sep-10', 'Aug-10',\n",
       "       'Jul-10', 'Jun-10', 'May-10', 'Apr-10', 'Mar-10', 'Feb-10',\n",
       "       'Aug-07', 'Jan-10', 'Dec-09', 'Nov-09', 'Oct-09', 'Sep-09',\n",
       "       'Jul-09', 'Aug-09', 'May-09', 'Jun-09', 'Apr-09', 'Mar-09',\n",
       "       'Feb-09', 'Jan-09', 'Dec-08', 'Jun-08', 'Sep-08', 'May-08',\n",
       "       'Aug-08', 'Mar-08', 'Oct-08', 'Feb-08', 'Jan-08', 'Dec-07',\n",
       "       'Jul-08', 'Oct-07', 'Sep-07', 'Jun-07', 'May-07', 'Jul-07',\n",
       "       'Nov-07', 'Jan-2018', 'Sep-2017', 'Jan-2017', 'Oct-2016',\n",
       "       'Dec-2016', 'Jul-2017', 'Dec-2017', 'Aug-2014', 'Aug-2016',\n",
       "       'Aug-2015', 'Nov-2017', 'May-2015', 'Jul-2016', 'Oct-2017',\n",
       "       'Nov-2016', 'Mar-2016', 'Sep-2016', 'Aug-2017', 'Feb-2017',\n",
       "       'Mar-2014', 'Jun-2017', 'May-2016', 'Mar-2017', 'Oct-2015',\n",
       "       'Dec-2015', 'Feb-2016', 'Mar-2015', 'Apr-2017', 'May-2017',\n",
       "       'Apr-2015', 'Sep-2014', 'May-2014', 'Dec-2014', 'Jan-2014',\n",
       "       'Jan-2015', 'Feb-2014', 'Jun-2016', 'Sep-2015', 'Jul-2014',\n",
       "       'Jun-2015', 'Apr-2016', 'Nov-2015', 'Nov-2014', 'Jan-2016',\n",
       "       'Oct-2014', 'Jun-2014', 'Feb-2015', 'Jul-2015', 'Apr-2014',\n",
       "       'Nov-2013', 'Dec-2013', 0, 'Oct-2013', 'Sep-2013', 'Aug-2013',\n",
       "       'Jun-2013', 'Jul-2013', 'May-2013', 'Apr-2013', 'Mar-2013',\n",
       "       'Feb-2013', 'Jan-2013', 'Dec-2012', 'Nov-2012', 'Oct-2012',\n",
       "       'Sep-2012', 'Aug-2012', 'Jun-2012', 'Jul-2012', 'May-2012',\n",
       "       'Apr-2012', 'Feb-2012', 'Mar-2012', 'Jan-2012'], dtype=object)"
      ]
     },
     "execution_count": 68,
     "metadata": {},
     "output_type": "execute_result"
    }
   ],
   "source": [
    "# Analyze last_credit_pull_d\n",
    "loan_data['last_credit_pull_d'].unique()"
   ]
  },
  {
   "cell_type": "code",
   "execution_count": 69,
   "metadata": {},
   "outputs": [
    {
     "data": {
      "text/plain": [
       "array(['Jan-18', 'Oct-16', 'Jun-17', 'Apr-16', 'Jan-17', 'Feb-17',\n",
       "       'Sep-16', 'Dec-14', 'Dec-16', 'Aug-17', 'Aug-13', 'Apr-17',\n",
       "       'Sep-17', 'May-14', 'Jul-15', 'Feb-16', 'Jun-16', 'Mar-14',\n",
       "       'Sep-12', 'Jan-15', 'Jul-17', 'Jan-16', 'Dec-15', 'Jun-12',\n",
       "       'Nov-17', 'Dec-17', 'Mar-15', 'Sep-14', 'Mar-17', 'Apr-14',\n",
       "       'Oct-17', 'Oct-14', 'Feb-14', 'Feb-13', 'Nov-15', 'Jul-14',\n",
       "       'Dec-12', 'Jul-16', 'Jun-15', 'Mar-13', 'Feb-12', 'Nov-13',\n",
       "       'Nov-16', 'Oct-15', 'May-16', 'Apr-12', 'Sep-15', 'Mar-16',\n",
       "       'May-13', 'Aug-15', 'Jun-14', 'Aug-12', 'Sep-13', 'Jan-12',\n",
       "       'Aug-14', 'Oct-13', 'May-17', 'Aug-16', 'May-12', 'Jul-12',\n",
       "       'Jan-14', 'Oct-12', 'Jun-13', 'Dec-13', 'Nov-14', 'Apr-15',\n",
       "       'Apr-13', 'Nov-12', 'May-15', 'Jul-13', 'Feb-15', 'Mar-12',\n",
       "       'Nov-11', 'Dec-11', 'Jan-13', 'Oct-11', 'Sep-11', 'Aug-11',\n",
       "       'Jul-11', 'Jun-11', 'May-11', 'Apr-11', 'Mar-11', 'Feb-11',\n",
       "       'Jan-11', 'Dec-10', 'Nov-10', 'Oct-10', '0', 'Sep-10', 'Aug-10',\n",
       "       'Jul-10', 'Jun-10', 'May-10', 'Apr-10', 'Mar-10', 'Feb-10',\n",
       "       'Aug-07', 'Jan-10', 'Dec-09', 'Nov-09', 'Oct-09', 'Sep-09',\n",
       "       'Jul-09', 'Aug-09', 'May-09', 'Jun-09', 'Apr-09', 'Mar-09',\n",
       "       'Feb-09', 'Jan-09', 'Dec-08', 'Jun-08', 'Sep-08', 'May-08',\n",
       "       'Aug-08', 'Mar-08', 'Oct-08', 'Feb-08', 'Jan-08', 'Dec-07',\n",
       "       'Jul-08', 'Oct-07', 'Sep-07', 'Jun-07', 'May-07', 'Jul-07',\n",
       "       'Nov-07', nan], dtype=object)"
      ]
     },
     "execution_count": 69,
     "metadata": {},
     "output_type": "execute_result"
    }
   ],
   "source": [
    "# There are inconsistencies.\n",
    "# Some places the year is called 16 and other places it is 2016\n",
    "loan_data['last_credit_pull_d'] = loan_data['last_credit_pull_d'].str.replace(\"-20\",\"\")\n",
    "loan_data['last_credit_pull_d'].replace(to_replace=\"([a-zA-Z])(\\d+)\", value=r\"\\1-\\2\", regex=True, inplace=True)\n",
    "loan_data['last_credit_pull_d'].unique()"
   ]
  },
  {
   "cell_type": "code",
   "execution_count": 70,
   "metadata": {},
   "outputs": [
    {
     "data": {
      "text/plain": [
       "array([ 0,  1,  2,  4,  3,  6, 16, 20,  5,  7, 10, 14, 11, 12,  9,  8])"
      ]
     },
     "execution_count": 70,
     "metadata": {},
     "output_type": "execute_result"
    }
   ],
   "source": [
    "# I am keeping the 0 values in the last_credit_pull_d.\n",
    "# It could mean, the credit was not pulled before.\n",
    "\n",
    "loan_data['collections_12_mths_ex_med'].unique()"
   ]
  },
  {
   "cell_type": "code",
   "execution_count": 71,
   "metadata": {},
   "outputs": [],
   "source": [
    "# collections_12_mths_ex_med looks clean.\n",
    "# Moving on"
   ]
  },
  {
   "cell_type": "code",
   "execution_count": 72,
   "metadata": {},
   "outputs": [
    {
     "name": "stdout",
     "output_type": "stream",
     "text": [
      "   policy_code application_type  annual_inc_joint  dti_joint\n",
      "0            1       Individual               0.0        0.0\n",
      "1            1       Individual               0.0        0.0\n",
      "2            1       Individual               0.0        0.0\n",
      "3            1       Individual               0.0        0.0\n",
      "4            1       Individual               0.0        0.0\n",
      "5            1       Individual               0.0        0.0\n",
      "policy_code int64\n",
      "application_type object\n",
      "annual_inc_joint float64\n",
      "dti_joint float64\n"
     ]
    },
    {
     "data": {
      "text/html": [
       "<div>\n",
       "<style scoped>\n",
       "    .dataframe tbody tr th:only-of-type {\n",
       "        vertical-align: middle;\n",
       "    }\n",
       "\n",
       "    .dataframe tbody tr th {\n",
       "        vertical-align: top;\n",
       "    }\n",
       "\n",
       "    .dataframe thead th {\n",
       "        text-align: right;\n",
       "    }\n",
       "</style>\n",
       "<table border=\"1\" class=\"dataframe\">\n",
       "  <thead>\n",
       "    <tr style=\"text-align: right;\">\n",
       "      <th></th>\n",
       "      <th>LoanStatNew</th>\n",
       "      <th>Description</th>\n",
       "    </tr>\n",
       "  </thead>\n",
       "  <tbody>\n",
       "    <tr>\n",
       "      <th>5</th>\n",
       "      <td>annual_inc_joint</td>\n",
       "      <td>The combined self-reported annual income provided by the co-borrowers during registration</td>\n",
       "    </tr>\n",
       "    <tr>\n",
       "      <th>6</th>\n",
       "      <td>application_type</td>\n",
       "      <td>Indicates whether the loan is an individual application or a joint application with two co-borrowers</td>\n",
       "    </tr>\n",
       "    <tr>\n",
       "      <th>17</th>\n",
       "      <td>dti_joint</td>\n",
       "      <td>A ratio calculated using the co-borrowers' total monthly payments on the total debt obligations, excluding mortgages and the requested LC loan, divided by the co-borrowers' combined self-reported monthly income</td>\n",
       "    </tr>\n",
       "    <tr>\n",
       "      <th>84</th>\n",
       "      <td>policy_code</td>\n",
       "      <td>publicly available policy_code=1\\nnew products not publicly available policy_code=2</td>\n",
       "    </tr>\n",
       "  </tbody>\n",
       "</table>\n",
       "</div>"
      ],
      "text/plain": [
       "         LoanStatNew  \\\n",
       "5   annual_inc_joint   \n",
       "6   application_type   \n",
       "17         dti_joint   \n",
       "84       policy_code   \n",
       "\n",
       "                                                                                                                                                                                                           Description  \n",
       "5                                                                                                                            The combined self-reported annual income provided by the co-borrowers during registration  \n",
       "6                                                                                                                 Indicates whether the loan is an individual application or a joint application with two co-borrowers  \n",
       "17  A ratio calculated using the co-borrowers' total monthly payments on the total debt obligations, excluding mortgages and the requested LC loan, divided by the co-borrowers' combined self-reported monthly income  \n",
       "84                                                                                                                                 publicly available policy_code=1\\nnew products not publicly available policy_code=2  "
      ]
     },
     "execution_count": 72,
     "metadata": {},
     "output_type": "execute_result"
    }
   ],
   "source": [
    "# Moving to next 4 columns\n",
    "print(loan_data.iloc[:6,44:48])\n",
    "for y in loan_data.columns[44:48]:\n",
    "  print(y, loan_data[y].dtype)\n",
    "loan_dict.loc[loan_dict['LoanStatNew'].isin(list(loan_data.columns.values[44:48]))]"
   ]
  },
  {
   "cell_type": "code",
   "execution_count": 73,
   "metadata": {},
   "outputs": [
    {
     "data": {
      "text/plain": [
       "array([  0,   7,  34,  53,  71,  54,  69,  16,  56,  59,   8,  11,  33,\n",
       "        45,  50,  64,  47,  62,  32,  70,  39,  49,  76,  52,  46,  74,\n",
       "        68,  51,  60,  43,  77,  58,  10,  72,  19,  27,  48,  22,  23,\n",
       "        35,  40,  30,  73,  57,  61,  18,  63,  25,  31,  44,  28,  80,\n",
       "        67,  41,  21,  65,  75,  26,  13,  15,  12,  14,   5,  81,  29,\n",
       "         6,  37,  38,  42,   4,  17,  94,  24,   9,  66,  79, 138,  20,\n",
       "        36, 110,   1,  84,  55,  78,   2,   3,  82, 100, 111, 102,  93,\n",
       "       135, 152,  95, 115,  92,  86,  88, 123, 106,  83,  87,  85, 122,\n",
       "        89, 109,  91, 146, 134, 114,  99,  97,  96,  90, 165, 127, 119,\n",
       "       101, 124, 129, 113, 120, 139, 131, 112, 156, 143, 149, 118, 130,\n",
       "       104, 148, 126, 141, 116, 133, 137, 108, 169,  98, 103, 105, 125,\n",
       "       128, 142, 117, 132, 154, 121, 107, 147, 144, 151, 140, 136, 162,\n",
       "       170, 180, 188, 150, 159, 145, 158, 157, 153, 171, 155, 176, 160,\n",
       "       197, 192, 168, 195, 161, 177, 175, 178, 202])"
      ]
     },
     "execution_count": 73,
     "metadata": {},
     "output_type": "execute_result"
    }
   ],
   "source": [
    "# mths_since_last_major_derog should be int\n",
    "loan_data[['mths_since_last_major_derog']] = loan_data[['mths_since_last_major_derog']].astype(int)\n",
    "loan_data['mths_since_last_major_derog'].unique()"
   ]
  },
  {
   "cell_type": "code",
   "execution_count": 74,
   "metadata": {},
   "outputs": [
    {
     "data": {
      "text/plain": [
       "array([1])"
      ]
     },
     "execution_count": 74,
     "metadata": {},
     "output_type": "execute_result"
    }
   ],
   "source": [
    "loan_data['policy_code'].unique()"
   ]
  },
  {
   "cell_type": "code",
   "execution_count": 75,
   "metadata": {},
   "outputs": [],
   "source": [
    "# Value for policy_code is all 1.\n",
    "# Dropping it.\n",
    "loan_data = loan_data.drop('policy_code', 1)"
   ]
  },
  {
   "cell_type": "code",
   "execution_count": 76,
   "metadata": {},
   "outputs": [
    {
     "data": {
      "text/plain": [
       "array(['Individual', 'Joint App'], dtype=object)"
      ]
     },
     "execution_count": 76,
     "metadata": {},
     "output_type": "execute_result"
    }
   ],
   "source": [
    "loan_data['application_type'].unique()"
   ]
  },
  {
   "cell_type": "code",
   "execution_count": 77,
   "metadata": {},
   "outputs": [
    {
     "data": {
      "text/plain": [
       "array([     0. ,  71000. , 100000. , ...,  67956. ,  65465.4, 130736. ])"
      ]
     },
     "execution_count": 77,
     "metadata": {},
     "output_type": "execute_result"
    }
   ],
   "source": [
    "loan_data['annual_inc_joint'].unique()"
   ]
  },
  {
   "cell_type": "code",
   "execution_count": 78,
   "metadata": {},
   "outputs": [
    {
     "data": {
      "text/plain": [
       "1711302"
      ]
     },
     "execution_count": 78,
     "metadata": {},
     "output_type": "execute_result"
    }
   ],
   "source": [
    "# Joint annual income of 0 looks like missing data.\n",
    "len(loan_data.loc[loan_data['annual_inc_joint'] == 0.0])"
   ]
  },
  {
   "cell_type": "code",
   "execution_count": 79,
   "metadata": {},
   "outputs": [],
   "source": [
    "# THat is large number of data, which is showing annual_inc_joint = 0.\n",
    "# And there is no easy way to fix it.\n",
    "# So, dropping it.\n",
    "loan_data = loan_data.drop('annual_inc_joint', 1)"
   ]
  },
  {
   "cell_type": "code",
   "execution_count": 80,
   "metadata": {},
   "outputs": [
    {
     "name": "stdout",
     "output_type": "stream",
     "text": [
      "   acc_now_delinq  tot_coll_amt  tot_cur_bal  open_acc_6m\n",
      "0               0           0.0          0.0          0.0\n",
      "1               0           0.0          0.0          0.0\n",
      "2               0           0.0          0.0          0.0\n",
      "3               0           0.0          0.0          0.0\n",
      "4               0           0.0          0.0          0.0\n",
      "5               0           0.0          0.0          0.0\n",
      "acc_now_delinq int64\n",
      "tot_coll_amt float64\n",
      "tot_cur_bal float64\n",
      "open_acc_6m float64\n"
     ]
    },
    {
     "data": {
      "text/html": [
       "<div>\n",
       "<style scoped>\n",
       "    .dataframe tbody tr th:only-of-type {\n",
       "        vertical-align: middle;\n",
       "    }\n",
       "\n",
       "    .dataframe tbody tr th {\n",
       "        vertical-align: top;\n",
       "    }\n",
       "\n",
       "    .dataframe thead th {\n",
       "        text-align: right;\n",
       "    }\n",
       "</style>\n",
       "<table border=\"1\" class=\"dataframe\">\n",
       "  <thead>\n",
       "    <tr style=\"text-align: right;\">\n",
       "      <th></th>\n",
       "      <th>LoanStatNew</th>\n",
       "      <th>Description</th>\n",
       "    </tr>\n",
       "  </thead>\n",
       "  <tbody>\n",
       "    <tr>\n",
       "      <th>0</th>\n",
       "      <td>acc_now_delinq</td>\n",
       "      <td>The number of accounts on which the borrower is now delinquent.</td>\n",
       "    </tr>\n",
       "    <tr>\n",
       "      <th>74</th>\n",
       "      <td>open_acc_6m</td>\n",
       "      <td>Number of open trades in last 6 months</td>\n",
       "    </tr>\n",
       "    <tr>\n",
       "      <th>96</th>\n",
       "      <td>tot_coll_amt</td>\n",
       "      <td>Total collection amounts ever owed</td>\n",
       "    </tr>\n",
       "    <tr>\n",
       "      <th>97</th>\n",
       "      <td>tot_cur_bal</td>\n",
       "      <td>Total current balance of all accounts</td>\n",
       "    </tr>\n",
       "  </tbody>\n",
       "</table>\n",
       "</div>"
      ],
      "text/plain": [
       "       LoanStatNew  \\\n",
       "0   acc_now_delinq   \n",
       "74     open_acc_6m   \n",
       "96    tot_coll_amt   \n",
       "97     tot_cur_bal   \n",
       "\n",
       "                                                        Description  \n",
       "0   The number of accounts on which the borrower is now delinquent.  \n",
       "74                           Number of open trades in last 6 months  \n",
       "96                               Total collection amounts ever owed  \n",
       "97                            Total current balance of all accounts  "
      ]
     },
     "execution_count": 80,
     "metadata": {},
     "output_type": "execute_result"
    }
   ],
   "source": [
    "# Moving to next 4 columns\n",
    "print(loan_data.iloc[:6,47:51])\n",
    "for y in loan_data.columns[47:51]:\n",
    "  print(y, loan_data[y].dtype)\n",
    "loan_dict.loc[loan_dict['LoanStatNew'].isin(list(loan_data.columns.values[47:51]))]"
   ]
  },
  {
   "cell_type": "code",
   "execution_count": 81,
   "metadata": {},
   "outputs": [
    {
     "data": {
      "text/plain": [
       "array([ 0.  , 13.85, 16.4 , ..., 38.47,  1.04, 35.8 ])"
      ]
     },
     "execution_count": 81,
     "metadata": {},
     "output_type": "execute_result"
    }
   ],
   "source": [
    "loan_data['dti_joint'].unique()"
   ]
  },
  {
   "cell_type": "code",
   "execution_count": 82,
   "metadata": {},
   "outputs": [
    {
     "data": {
      "text/plain": [
       "1711314"
      ]
     },
     "execution_count": 82,
     "metadata": {},
     "output_type": "execute_result"
    }
   ],
   "source": [
    "len(loan_data.loc[loan_data['dti_joint'] == 0.0])"
   ]
  },
  {
   "cell_type": "code",
   "execution_count": 83,
   "metadata": {},
   "outputs": [],
   "source": [
    "# The dti_joint = 0 is a large percentage of our total data.\n",
    "# Hence, dropping it.\n",
    "loan_data = loan_data.drop('dti_joint', 1)"
   ]
  },
  {
   "cell_type": "code",
   "execution_count": 84,
   "metadata": {},
   "outputs": [
    {
     "data": {
      "text/plain": [
       "array(['0', 0, 'Not Verified', 'Source Verified', 'Verified'],\n",
       "      dtype=object)"
      ]
     },
     "execution_count": 84,
     "metadata": {},
     "output_type": "execute_result"
    }
   ],
   "source": [
    "loan_data['verification_status_joint'].unique()"
   ]
  },
  {
   "cell_type": "code",
   "execution_count": 85,
   "metadata": {},
   "outputs": [
    {
     "data": {
      "text/plain": [
       "1711308"
      ]
     },
     "execution_count": 85,
     "metadata": {},
     "output_type": "execute_result"
    }
   ],
   "source": [
    "len(loan_data.loc[loan_data['verification_status_joint'] == '0']) + len(loan_data.loc[loan_data['verification_status_joint'] == 0.0])"
   ]
  },
  {
   "cell_type": "code",
   "execution_count": 86,
   "metadata": {},
   "outputs": [],
   "source": [
    "# Again a big chunk of the verification_status_joint is 0.\n",
    "# Hence, dropping it.\n",
    "loan_data = loan_data.drop('verification_status_joint', 1)"
   ]
  },
  {
   "cell_type": "code",
   "execution_count": 87,
   "metadata": {},
   "outputs": [
    {
     "data": {
      "text/plain": [
       "array([ 0,  1,  2,  3,  5,  4,  6, 14,  7])"
      ]
     },
     "execution_count": 87,
     "metadata": {},
     "output_type": "execute_result"
    }
   ],
   "source": [
    "loan_data['acc_now_delinq'].unique()"
   ]
  },
  {
   "cell_type": "code",
   "execution_count": 88,
   "metadata": {},
   "outputs": [
    {
     "data": {
      "text/plain": [
       "array([    0.,  1514.,   539., ..., 27136.,  9677.,  7921.])"
      ]
     },
     "execution_count": 88,
     "metadata": {},
     "output_type": "execute_result"
    }
   ],
   "source": [
    "loan_data['tot_coll_amt'].unique()"
   ]
  },
  {
   "cell_type": "code",
   "execution_count": 89,
   "metadata": {},
   "outputs": [
    {
     "name": "stdout",
     "output_type": "stream",
     "text": [
      "   open_act_il  open_il_12m  open_il_24m  mths_since_rcnt_il  total_bal_il\n",
      "0          0.0          0.0          0.0                 0.0           0.0\n",
      "1          0.0          0.0          0.0                 0.0           0.0\n",
      "2          0.0          0.0          0.0                 0.0           0.0\n",
      "3          0.0          0.0          0.0                 0.0           0.0\n",
      "4          0.0          0.0          0.0                 0.0           0.0\n",
      "5          0.0          0.0          0.0                 0.0           0.0\n",
      "open_act_il float64\n",
      "open_il_12m float64\n",
      "open_il_24m float64\n",
      "mths_since_rcnt_il float64\n",
      "total_bal_il float64\n"
     ]
    },
    {
     "data": {
      "text/html": [
       "<div>\n",
       "<style scoped>\n",
       "    .dataframe tbody tr th:only-of-type {\n",
       "        vertical-align: middle;\n",
       "    }\n",
       "\n",
       "    .dataframe tbody tr th {\n",
       "        vertical-align: top;\n",
       "    }\n",
       "\n",
       "    .dataframe thead th {\n",
       "        text-align: right;\n",
       "    }\n",
       "</style>\n",
       "<table border=\"1\" class=\"dataframe\">\n",
       "  <thead>\n",
       "    <tr style=\"text-align: right;\">\n",
       "      <th></th>\n",
       "      <th>LoanStatNew</th>\n",
       "      <th>Description</th>\n",
       "    </tr>\n",
       "  </thead>\n",
       "  <tbody>\n",
       "    <tr>\n",
       "      <th>53</th>\n",
       "      <td>mths_since_rcnt_il</td>\n",
       "      <td>Months since most recent installment accounts opened</td>\n",
       "    </tr>\n",
       "    <tr>\n",
       "      <th>75</th>\n",
       "      <td>open_il_12m</td>\n",
       "      <td>Number of installment accounts opened in past 12 months</td>\n",
       "    </tr>\n",
       "    <tr>\n",
       "      <th>76</th>\n",
       "      <td>open_il_24m</td>\n",
       "      <td>Number of installment accounts opened in past 24 months</td>\n",
       "    </tr>\n",
       "    <tr>\n",
       "      <th>77</th>\n",
       "      <td>open_act_il</td>\n",
       "      <td>Number of currently active installment trades</td>\n",
       "    </tr>\n",
       "    <tr>\n",
       "      <th>101</th>\n",
       "      <td>total_bal_il</td>\n",
       "      <td>Total current balance of all installment accounts</td>\n",
       "    </tr>\n",
       "  </tbody>\n",
       "</table>\n",
       "</div>"
      ],
      "text/plain": [
       "            LoanStatNew  \\\n",
       "53   mths_since_rcnt_il   \n",
       "75          open_il_12m   \n",
       "76          open_il_24m   \n",
       "77          open_act_il   \n",
       "101        total_bal_il   \n",
       "\n",
       "                                                 Description  \n",
       "53      Months since most recent installment accounts opened  \n",
       "75   Number of installment accounts opened in past 12 months  \n",
       "76   Number of installment accounts opened in past 24 months  \n",
       "77             Number of currently active installment trades  \n",
       "101        Total current balance of all installment accounts  "
      ]
     },
     "execution_count": 89,
     "metadata": {},
     "output_type": "execute_result"
    }
   ],
   "source": [
    "# Moving to next 4 columns\n",
    "print(loan_data.iloc[:6,49:54])\n",
    "for y in loan_data.columns[49:54]:\n",
    "  print(y, loan_data[y].dtype)\n",
    "loan_dict.loc[loan_dict['LoanStatNew'].isin(list(loan_data.columns.values[49:54]))]"
   ]
  },
  {
   "cell_type": "code",
   "execution_count": 90,
   "metadata": {},
   "outputs": [
    {
     "data": {
      "text/plain": [
       "array([     0.,   5759., 114834., ..., 533325., 477195., 239081.])"
      ]
     },
     "execution_count": 90,
     "metadata": {},
     "output_type": "execute_result"
    }
   ],
   "source": [
    "# The datatypes of all of them look good. May need to change the type to int for tot_cur_bal\n",
    "loan_data['tot_cur_bal'].unique()"
   ]
  },
  {
   "cell_type": "code",
   "execution_count": 91,
   "metadata": {},
   "outputs": [],
   "source": [
    "# Converting tot_cur_bal to int as it won't do any harm\n",
    "loan_data[['tot_cur_bal']] = loan_data[['tot_cur_bal']].astype(int)"
   ]
  },
  {
   "cell_type": "code",
   "execution_count": 92,
   "metadata": {},
   "outputs": [],
   "source": [
    "# Coverting all the others also to int\n",
    "loan_data[['open_acc_6m']] = loan_data[['open_acc_6m']].astype(int)\n",
    "loan_data[['open_act_il']] = loan_data[['open_act_il']].astype(int)\n",
    "loan_data[['open_il_12m']] = loan_data[['open_il_12m']].astype(int)\n",
    "loan_data[['open_il_24m']] = loan_data[['open_il_24m']].astype(int)"
   ]
  },
  {
   "cell_type": "code",
   "execution_count": 93,
   "metadata": {},
   "outputs": [
    {
     "name": "stdout",
     "output_type": "stream",
     "text": [
      "[ 0  3  2  1  6  5  4  9  7  8 10 14 12 11 13 16 15 18 17]\n",
      "[ 0  2  1  3  4  5  6  7  9  8 10 12 11 13 15 14 20 21 25]\n",
      "[ 0  4  1  2  3  5  6  9  8  7 10 13 19 11 12 14 15 17 18 21 16 30 20 26\n",
      " 39 24 31 28 51 22 23]\n",
      "[ 0  2  3  4  1  6 10  7 14 15 11  9  5 18 12 19 17  8 21 16 13 24 20 30\n",
      " 23 25 22 31 26 33 32 34 27 28 40 39 35 47 29 48 38 37 36 43 45 41 42 57\n",
      " 53 55 46]\n",
      "[     0   5759 114834 ... 533325 477195 239081]\n"
     ]
    }
   ],
   "source": [
    "# Now print to see if there is anything I missed.\n",
    "print(loan_data['open_acc_6m'].unique())\n",
    "print(loan_data['open_il_12m'].unique())\n",
    "print(loan_data['open_il_24m'].unique())\n",
    "print(loan_data['open_act_il'].unique())\n",
    "print(loan_data['tot_cur_bal'].unique())"
   ]
  },
  {
   "cell_type": "code",
   "execution_count": 94,
   "metadata": {},
   "outputs": [
    {
     "name": "stdout",
     "output_type": "stream",
     "text": [
      "   total_rev_hi_lim  inq_fi  total_cu_tl  inq_last_12m  acc_open_past_24mths\n",
      "0               0.0     0.0          0.0           0.0                   0.0\n",
      "1               0.0     0.0          0.0           0.0                   0.0\n",
      "2               0.0     0.0          0.0           0.0                   0.0\n",
      "3               0.0     0.0          0.0           0.0                   0.0\n",
      "4               0.0     0.0          0.0           0.0                   0.0\n",
      "5               0.0     0.0          0.0           0.0                   0.0\n",
      "total_rev_hi_lim float64\n",
      "inq_fi float64\n",
      "total_cu_tl float64\n",
      "inq_last_12m float64\n",
      "acc_open_past_24mths float64\n"
     ]
    },
    {
     "data": {
      "text/html": [
       "<div>\n",
       "<style scoped>\n",
       "    .dataframe tbody tr th:only-of-type {\n",
       "        vertical-align: middle;\n",
       "    }\n",
       "\n",
       "    .dataframe tbody tr th {\n",
       "        vertical-align: top;\n",
       "    }\n",
       "\n",
       "    .dataframe thead th {\n",
       "        text-align: right;\n",
       "    }\n",
       "</style>\n",
       "<table border=\"1\" class=\"dataframe\">\n",
       "  <thead>\n",
       "    <tr style=\"text-align: right;\">\n",
       "      <th></th>\n",
       "      <th>LoanStatNew</th>\n",
       "      <th>Description</th>\n",
       "    </tr>\n",
       "  </thead>\n",
       "  <tbody>\n",
       "    <tr>\n",
       "      <th>1</th>\n",
       "      <td>acc_open_past_24mths</td>\n",
       "      <td>Number of trades opened in past 24 months.</td>\n",
       "    </tr>\n",
       "    <tr>\n",
       "      <th>30</th>\n",
       "      <td>inq_fi</td>\n",
       "      <td>Number of personal finance inquiries</td>\n",
       "    </tr>\n",
       "    <tr>\n",
       "      <th>31</th>\n",
       "      <td>inq_last_12m</td>\n",
       "      <td>Number of credit inquiries in past 12 months</td>\n",
       "    </tr>\n",
       "    <tr>\n",
       "      <th>103</th>\n",
       "      <td>total_cu_tl</td>\n",
       "      <td>Number of finance trades</td>\n",
       "    </tr>\n",
       "  </tbody>\n",
       "</table>\n",
       "</div>"
      ],
      "text/plain": [
       "              LoanStatNew                                   Description\n",
       "1    acc_open_past_24mths    Number of trades opened in past 24 months.\n",
       "30                 inq_fi          Number of personal finance inquiries\n",
       "31           inq_last_12m  Number of credit inquiries in past 12 months\n",
       "103           total_cu_tl                      Number of finance trades"
      ]
     },
     "execution_count": 94,
     "metadata": {},
     "output_type": "execute_result"
    }
   ],
   "source": [
    "# Moving to next 4 columns\n",
    "print(loan_data.iloc[:6,59:64])\n",
    "for y in loan_data.columns[59:64]:\n",
    "  print(y, loan_data[y].dtype)\n",
    "loan_dict.loc[loan_dict['LoanStatNew'].isin(list(loan_data.columns.values[59:64]))]"
   ]
  },
  {
   "cell_type": "code",
   "execution_count": 95,
   "metadata": {},
   "outputs": [],
   "source": [
    "# all of these should be int type\n",
    "loan_data[['max_bal_bc']] = loan_data[['max_bal_bc']].astype(int)\n",
    "loan_data[['all_util']] = loan_data[['all_util']].astype(int)\n",
    "loan_data[['total_rev_hi_lim']] = loan_data[['total_rev_hi_lim']].astype(int)\n",
    "loan_data[['inq_fi']] = loan_data[['inq_fi']].astype(int)\n",
    "loan_data[['total_cu_tl']] = loan_data[['total_cu_tl']].astype(int)"
   ]
  },
  {
   "cell_type": "code",
   "execution_count": 96,
   "metadata": {},
   "outputs": [
    {
     "name": "stdout",
     "output_type": "stream",
     "text": [
      "[    0  8752    48 ... 37187 25949 21448]\n",
      "[  0  61  87  91  34  52  57  41  50  54  30  42  64  71  38  33  95  76\n",
      "  60  65  73  67  35  80  56  63  82  90  74  78  22  55  96  21  75  51\n",
      "  89  40  53  88  15  29  44  62  66  46  47   7  49  58 108  77  45  36\n",
      "  24  85  28  68  25  69  93  27  79  70  86  14  48  23  81  83  92  59\n",
      "  17  72  11  20  26  12  16  31  18  43   9  84  19  97  39  94  32 114\n",
      "  37  10 113  99 100 119 118  98 102   5 103 127  13 109   8 101   3 106\n",
      " 105   1 112 124 110   4 104 107   2   6 128 111 135 116 117 137 115 141\n",
      " 120 123 125 129 132 122 146 151 140 136 131 138 126 133 121 145 169 144\n",
      " 158 130 139 150 157 134 142 165 148 172 143 149 198 154 170 147 167 161\n",
      " 204 153 156 184 162 171 173 168 177 186 175 152 185 160 155 211 164 210\n",
      " 182 159 197]\n",
      "[     0   8000  59900 ... 189950  19140  94240]\n",
      "[ 0  6  3  1  2  4  5  8 16  7  9 10 13 11 17 12 14 15 24 20 21 18 19 23\n",
      " 28 27 25 22 48]\n",
      "[  0   1   3   7   4   2   6   5   8   9  10  12  13  14  16  11  18  15\n",
      "  17  19  21  24  28  22  23  20  29  30  33  27  25  35  32  43  40  42\n",
      "  46  26  31  77  34  38  60  37  44  47  79  41 111  36  54  39  45  48\n",
      "  49  52  56  51  68  55  71  65]\n"
     ]
    }
   ],
   "source": [
    "# And print\n",
    "print(loan_data['max_bal_bc'].unique())\n",
    "print(loan_data['all_util'].unique())\n",
    "print(loan_data['total_rev_hi_lim'].unique())\n",
    "print(loan_data['inq_fi'].unique())\n",
    "print(loan_data['total_cu_tl'].unique())"
   ]
  },
  {
   "cell_type": "code",
   "execution_count": 97,
   "metadata": {},
   "outputs": [
    {
     "name": "stdout",
     "output_type": "stream",
     "text": [
      "   avg_cur_bal  bc_open_to_buy  bc_util  chargeoff_within_12_mths  delinq_amnt\n",
      "0          0.0             0.0      0.0                         0            0\n",
      "1          0.0             0.0      0.0                         0            0\n",
      "2          0.0             0.0      0.0                         0            0\n",
      "3          0.0             0.0      0.0                         0            0\n",
      "4          0.0             0.0      0.0                         0            0\n",
      "5          0.0             0.0      0.0                         0            0\n",
      "avg_cur_bal float64\n",
      "bc_open_to_buy float64\n",
      "bc_util float64\n",
      "chargeoff_within_12_mths int64\n",
      "delinq_amnt int64\n"
     ]
    },
    {
     "data": {
      "text/html": [
       "<div>\n",
       "<style scoped>\n",
       "    .dataframe tbody tr th:only-of-type {\n",
       "        vertical-align: middle;\n",
       "    }\n",
       "\n",
       "    .dataframe tbody tr th {\n",
       "        vertical-align: top;\n",
       "    }\n",
       "\n",
       "    .dataframe thead th {\n",
       "        text-align: right;\n",
       "    }\n",
       "</style>\n",
       "<table border=\"1\" class=\"dataframe\">\n",
       "  <thead>\n",
       "    <tr style=\"text-align: right;\">\n",
       "      <th></th>\n",
       "      <th>LoanStatNew</th>\n",
       "      <th>Description</th>\n",
       "    </tr>\n",
       "  </thead>\n",
       "  <tbody>\n",
       "    <tr>\n",
       "      <th>7</th>\n",
       "      <td>avg_cur_bal</td>\n",
       "      <td>Average current balance of all accounts</td>\n",
       "    </tr>\n",
       "    <tr>\n",
       "      <th>8</th>\n",
       "      <td>bc_open_to_buy</td>\n",
       "      <td>Total open to buy on revolving bankcards.</td>\n",
       "    </tr>\n",
       "    <tr>\n",
       "      <th>9</th>\n",
       "      <td>bc_util</td>\n",
       "      <td>Ratio of total current balance to high credit/credit limit for all bankcard accounts.</td>\n",
       "    </tr>\n",
       "    <tr>\n",
       "      <th>10</th>\n",
       "      <td>chargeoff_within_12_mths</td>\n",
       "      <td>Number of charge-offs within 12 months</td>\n",
       "    </tr>\n",
       "    <tr>\n",
       "      <th>14</th>\n",
       "      <td>delinq_amnt</td>\n",
       "      <td>The past-due amount owed for the accounts on which the borrower is now delinquent.</td>\n",
       "    </tr>\n",
       "  </tbody>\n",
       "</table>\n",
       "</div>"
      ],
      "text/plain": [
       "                 LoanStatNew  \\\n",
       "7                avg_cur_bal   \n",
       "8             bc_open_to_buy   \n",
       "9                    bc_util   \n",
       "10  chargeoff_within_12_mths   \n",
       "14               delinq_amnt   \n",
       "\n",
       "                                                                              Description  \n",
       "7                                                 Average current balance of all accounts  \n",
       "8                                               Total open to buy on revolving bankcards.  \n",
       "9   Ratio of total current balance to high credit/credit limit for all bankcard accounts.  \n",
       "10                                                 Number of charge-offs within 12 months  \n",
       "14     The past-due amount owed for the accounts on which the borrower is now delinquent.  "
      ]
     },
     "execution_count": 97,
     "metadata": {},
     "output_type": "execute_result"
    }
   ],
   "source": [
    "# Moving to next 4 columns\n",
    "print(loan_data.iloc[:6,64:69])\n",
    "for y in loan_data.columns[64:69]:\n",
    "  print(y, loan_data[y].dtype)\n",
    "loan_dict.loc[loan_dict['LoanStatNew'].isin(list(loan_data.columns.values[64:69]))]"
   ]
  },
  {
   "cell_type": "code",
   "execution_count": 98,
   "metadata": {},
   "outputs": [
    {
     "name": "stdout",
     "output_type": "stream",
     "text": [
      "[ 0  1  3  2  6  4  7  8  9  5 10 11 21 12 13 17 14 15 16 18 22 19 24 20\n",
      " 28 23 31 27 25 33 40 29 26 39 42 53 30 50 32 64 35 34 47 36 41 38 48 37\n",
      " 43 46 45 49 54 56 61 55 44]\n",
      "[     0   1440   9570 ... 276846  65237  88481]\n",
      "[     0    160  16473 ... 183987  74186  68766]\n",
      "[ 0  5  4  1  2  3  6  8  7  9 10 14 12 16 13 20 15 11 18 26 19 17 21 30\n",
      " 25 22 32 24 27 36 23 28 34 29 33 40 31 49 38 35 41 42 37]\n"
     ]
    }
   ],
   "source": [
    "# Other than bc_util, everything can be int.\n",
    "loan_data[['acc_open_past_24mths']] = loan_data[['acc_open_past_24mths']].astype(int)\n",
    "loan_data[['avg_cur_bal']] = loan_data[['avg_cur_bal']].astype(int)\n",
    "loan_data[['bc_open_to_buy']] = loan_data[['bc_open_to_buy']].astype(int)\n",
    "loan_data[['inq_last_12m']] = loan_data[['inq_last_12m']].astype(int)\n",
    "\n",
    "print(loan_data['acc_open_past_24mths'].unique())\n",
    "print(loan_data['avg_cur_bal'].unique())\n",
    "print(loan_data['bc_open_to_buy'].unique())\n",
    "print(loan_data['inq_last_12m'].unique())"
   ]
  },
  {
   "cell_type": "code",
   "execution_count": 99,
   "metadata": {},
   "outputs": [
    {
     "name": "stdout",
     "output_type": "stream",
     "text": [
      "   mo_sin_old_il_acct  mo_sin_old_rev_tl_op  mo_sin_rcnt_rev_tl_op\n",
      "0                 0.0                   0.0                    0.0\n",
      "1                 0.0                   0.0                    0.0\n",
      "2                 0.0                   0.0                    0.0\n",
      "3                 0.0                   0.0                    0.0\n",
      "4                 0.0                   0.0                    0.0\n",
      "5                 0.0                   0.0                    0.0\n",
      "mo_sin_old_il_acct float64\n",
      "mo_sin_old_rev_tl_op float64\n",
      "mo_sin_rcnt_rev_tl_op float64\n"
     ]
    },
    {
     "data": {
      "text/html": [
       "<div>\n",
       "<style scoped>\n",
       "    .dataframe tbody tr th:only-of-type {\n",
       "        vertical-align: middle;\n",
       "    }\n",
       "\n",
       "    .dataframe tbody tr th {\n",
       "        vertical-align: top;\n",
       "    }\n",
       "\n",
       "    .dataframe thead th {\n",
       "        text-align: right;\n",
       "    }\n",
       "</style>\n",
       "<table border=\"1\" class=\"dataframe\">\n",
       "  <thead>\n",
       "    <tr style=\"text-align: right;\">\n",
       "      <th></th>\n",
       "      <th>LoanStatNew</th>\n",
       "      <th>Description</th>\n",
       "    </tr>\n",
       "  </thead>\n",
       "  <tbody>\n",
       "    <tr>\n",
       "      <th>45</th>\n",
       "      <td>mo_sin_old_il_acct</td>\n",
       "      <td>Months since oldest bank installment account opened</td>\n",
       "    </tr>\n",
       "    <tr>\n",
       "      <th>46</th>\n",
       "      <td>mo_sin_old_rev_tl_op</td>\n",
       "      <td>Months since oldest revolving account opened</td>\n",
       "    </tr>\n",
       "    <tr>\n",
       "      <th>47</th>\n",
       "      <td>mo_sin_rcnt_rev_tl_op</td>\n",
       "      <td>Months since most recent revolving account opened</td>\n",
       "    </tr>\n",
       "  </tbody>\n",
       "</table>\n",
       "</div>"
      ],
      "text/plain": [
       "              LoanStatNew                                          Description\n",
       "45     mo_sin_old_il_acct  Months since oldest bank installment account opened\n",
       "46   mo_sin_old_rev_tl_op         Months since oldest revolving account opened\n",
       "47  mo_sin_rcnt_rev_tl_op    Months since most recent revolving account opened"
      ]
     },
     "execution_count": 99,
     "metadata": {},
     "output_type": "execute_result"
    }
   ],
   "source": [
    "# Moving to next columns\n",
    "print(loan_data.iloc[:6,69:72])\n",
    "for y in loan_data.columns[69:72]:\n",
    "  print(y, loan_data[y].dtype)\n",
    "loan_dict.loc[loan_dict['LoanStatNew'].isin(list(loan_data.columns.values[69:72]))]"
   ]
  },
  {
   "cell_type": "code",
   "execution_count": 100,
   "metadata": {},
   "outputs": [
    {
     "data": {
      "text/plain": [
       "array([ 0,  5,  4,  1,  2,  3,  6,  8,  7,  9, 10, 14, 12, 16, 13, 20, 15,\n",
       "       11, 18, 26, 19, 17, 21, 30, 25, 22, 32, 24, 27, 36, 23, 28, 34, 29,\n",
       "       33, 40, 31, 49, 38, 35, 41, 42, 37])"
      ]
     },
     "execution_count": 100,
     "metadata": {},
     "output_type": "execute_result"
    }
   ],
   "source": [
    "# Converting mo_sin_old_il_acct to int\n",
    "loan_data[['inq_last_12m']] = loan_data[['inq_last_12m']].astype(int)\n",
    "loan_data['inq_last_12m'].unique()"
   ]
  },
  {
   "cell_type": "code",
   "execution_count": 101,
   "metadata": {},
   "outputs": [
    {
     "name": "stdout",
     "output_type": "stream",
     "text": [
      "   mo_sin_rcnt_tl  mort_acc  mths_since_recent_bc  mths_since_recent_bc_dlq\n",
      "0             0.0       0.0                   0.0                       0.0\n",
      "1             0.0       0.0                   0.0                       0.0\n",
      "2             0.0       0.0                   0.0                       0.0\n",
      "3             0.0       0.0                   0.0                       0.0\n",
      "4             0.0       0.0                   0.0                       0.0\n",
      "5             0.0       0.0                   0.0                       0.0\n",
      "mo_sin_rcnt_tl float64\n",
      "mort_acc float64\n",
      "mths_since_recent_bc float64\n",
      "mths_since_recent_bc_dlq float64\n"
     ]
    },
    {
     "data": {
      "text/html": [
       "<div>\n",
       "<style scoped>\n",
       "    .dataframe tbody tr th:only-of-type {\n",
       "        vertical-align: middle;\n",
       "    }\n",
       "\n",
       "    .dataframe tbody tr th {\n",
       "        vertical-align: top;\n",
       "    }\n",
       "\n",
       "    .dataframe thead th {\n",
       "        text-align: right;\n",
       "    }\n",
       "</style>\n",
       "<table border=\"1\" class=\"dataframe\">\n",
       "  <thead>\n",
       "    <tr style=\"text-align: right;\">\n",
       "      <th></th>\n",
       "      <th>LoanStatNew</th>\n",
       "      <th>Description</th>\n",
       "    </tr>\n",
       "  </thead>\n",
       "  <tbody>\n",
       "    <tr>\n",
       "      <th>48</th>\n",
       "      <td>mo_sin_rcnt_tl</td>\n",
       "      <td>Months since most recent account opened</td>\n",
       "    </tr>\n",
       "    <tr>\n",
       "      <th>49</th>\n",
       "      <td>mort_acc</td>\n",
       "      <td>Number of mortgage accounts.</td>\n",
       "    </tr>\n",
       "    <tr>\n",
       "      <th>54</th>\n",
       "      <td>mths_since_recent_bc</td>\n",
       "      <td>Months since most recent bankcard account opened.</td>\n",
       "    </tr>\n",
       "    <tr>\n",
       "      <th>55</th>\n",
       "      <td>mths_since_recent_bc_dlq</td>\n",
       "      <td>Months since most recent bankcard delinquency</td>\n",
       "    </tr>\n",
       "  </tbody>\n",
       "</table>\n",
       "</div>"
      ],
      "text/plain": [
       "                 LoanStatNew  \\\n",
       "48            mo_sin_rcnt_tl   \n",
       "49                  mort_acc   \n",
       "54      mths_since_recent_bc   \n",
       "55  mths_since_recent_bc_dlq   \n",
       "\n",
       "                                          Description  \n",
       "48            Months since most recent account opened  \n",
       "49                       Number of mortgage accounts.  \n",
       "54  Months since most recent bankcard account opened.  \n",
       "55      Months since most recent bankcard delinquency  "
      ]
     },
     "execution_count": 101,
     "metadata": {},
     "output_type": "execute_result"
    }
   ],
   "source": [
    "# Moving to next columns\n",
    "print(loan_data.iloc[:6,72:76])\n",
    "for y in loan_data.columns[72:76]:\n",
    "  print(y, loan_data[y].dtype)\n",
    "loan_dict.loc[loan_dict['LoanStatNew'].isin(list(loan_data.columns.values[72:76]))]"
   ]
  },
  {
   "cell_type": "code",
   "execution_count": 102,
   "metadata": {},
   "outputs": [
    {
     "name": "stdout",
     "output_type": "stream",
     "text": [
      "[  0  17   6  25   4  14   2   9  13   7   1   8   3  12  11   5  16  27\n",
      "  24  10  20  69  30  21  75  15  19  29  55  33  50  23  22  26  18  49\n",
      "  31  41  32  35  36  40  57  63  46  47  65  44  28  39  56  53  73  43\n",
      "  37  48  76  84  59  38 102  68  45  34  42  51  78  54  77  89  66  70\n",
      "  52  79  87  67  64  80  62  61  60 113  82  90  95 119  74 116  58  88\n",
      "  81  71 211  72 101  94  83  86 121  97  85 100  99  98  93 106 117  91\n",
      " 111 124 127  96 135 114 107 118 105 148 103 109 143  92 104 122 174 137\n",
      " 154 110 145 156 194 112 132 108 123 155 226 141 140 133 130 129 125 180\n",
      " 166 131 192 146 150 126 197 176 134 139 158 136 120 142 138 263 164 181\n",
      " 115 128 160 184 157 167 147 186 236 151 162 144 152 255 272 283 177 169\n",
      " 159 210 183 173 168 289 171 170 161 268 233 165 153 149 314 199 195 175\n",
      " 248 206 250 201 257 182 172 213 219 196 253]\n",
      "[ 0  4  1  3  6  5  2  7 10 11  8  9 14 15 12 13 19 24 17 18 16 31 27 20\n",
      " 30 25 23 22 29 26 21 36 34 37 32 28 35 47 52 51 45 61 33 41 94]\n",
      "[  0  17  16  25   4  18   7  10  38  24  11  85   1  20  14   5  12  31\n",
      "   6  27   9  40   8  26  29  13  15 142 136  19  21  33  30  90  41   3\n",
      " 102  22  39  45  36   2  77  60  23  50  65  97  37  75  72  70  78  82\n",
      "  84  62  71  74  61  47  44  76  55 129  35  32  56 109  87  59  89  88\n",
      "  83  63  28 106  69  52  54  66  68  93 108  46  92  49  53  86  91 114\n",
      " 139  80  43  79  95  58  57 100  48 166  64 105  73  42  51 112 137  67\n",
      " 117 134 113 103 118 115 216 140 116 107  81  34  98 104 151  99 156 132\n",
      " 194 254  96 143 101 146 135 110 221 174 138 220 124 119 204 111  94 191\n",
      " 163 158 121 122 126 152 170 125 130 128 295 206 224 183 154 133 192 177\n",
      " 329 363 228 148 145 165 164 291 213 123 169 157 197 153 190 205 167 120\n",
      " 144 188 211 207 255 181 210 312 162 296 199 141 176 243 175 320 127 171\n",
      " 226 235 185 315 283 150 201 149 449 459 348 196 223 147 155 160 270 212\n",
      " 161 276 131 267 189 227 292 159 231 208 168 288 238 502 179 290 386 209\n",
      " 274 193 252 182 245 275 327 240 172 303 187 202 242 232 225 237 249 398\n",
      " 285 300 261 217 173 198 219 222 178 180 239 294 307 200 250 263 214 284\n",
      " 306 417 230 554 383 420 339 215 229 277 317 282 195 251 186 318 234 354\n",
      " 246 351 278 273 244 343 361 493 313 256 265 301 218 328 266 272 279 247\n",
      " 321 289 316 269 264 280 297 310 342 311 248 305 233 353 358 319 326 184\n",
      " 360 203 236 302 527 262 241 293 416 538 268 338 257 309 521 287 259 299\n",
      " 298 346 412 356 375 260 362 359 281 413 308 337 404 325 340 314 334 372\n",
      " 304 391 323 390 408 451 510 377 376 436 286 330 347 336 382 253 533 616\n",
      " 384 401 385 341 368 427 335 424 258 440 378 500 365 322 419 441 480 371\n",
      " 324 388 345 491 364 344 333 387 524 369 425 349 331 271 394 379 352 350\n",
      " 462 485 483 367 473 534 610 498 380 373 467 454 552 389 466 381 429 604\n",
      " 484 422 357 370 555 332 435 518 392 615 507 476 395 415 464 407 475 399\n",
      " 444 458 447 611 488 564 355 402 506 537 423 439 438 414 397 393 577 457\n",
      " 639 472 400 431 426 463 546 512 504 396 455 421 445 570 461 470 608 366\n",
      " 403 553 450 499 410 523 474 434 405 551 594 453 406 442 487 562 520 539\n",
      " 409 374 513 432 418 481 591 656 547]\n",
      "[  0   7  16  75  53  70  11  69  35   8  14  59  48  10  45  50  20  62\n",
      "  25  38  37  28  41  34  76  71  74  47  60  56  12  18  58  77  55  19\n",
      "  49  15  66  22  21  61  81  33  31  42  52  57  23  36  29  17   6  46\n",
      "   5  40  64   9  13  68  44   3   4  26  73  80  24  65  72   1  43  79\n",
      "  27  30  78  39  63  32  51  67  54  84  82   2 106  92  90  83  88  95\n",
      "  86 102  94  87  85  89 122  93 109  91  99  96 145 107 127 124 143 149\n",
      " 100 116 152  97 108 113  98 115 104 114 103 105 111 110 112 135 101 154\n",
      " 129 140 134 136 142 170 133 151 131 146 120 159 130 139 189 125 153 119\n",
      " 157 123 186 141 195 132 148 117 128 138 165 144 176 121 158 156 160 155\n",
      " 188 150 174 118 126 162 137 161 202]\n"
     ]
    }
   ],
   "source": [
    "# Converting all of them to int\n",
    "loan_data[['mo_sin_rcnt_tl']] = loan_data[['mo_sin_rcnt_tl']].astype(int)\n",
    "loan_data[['mort_acc']] = loan_data[['mort_acc']].astype(int)\n",
    "loan_data[['mths_since_recent_bc']] = loan_data[['mths_since_recent_bc']].astype(int)\n",
    "loan_data[['mths_since_recent_bc_dlq']] = loan_data[['mths_since_recent_bc_dlq']].astype(int)\n",
    "\n",
    "print(loan_data['mo_sin_rcnt_tl'].unique())\n",
    "print(loan_data['mort_acc'].unique())\n",
    "print(loan_data['mths_since_recent_bc'].unique())\n",
    "print(loan_data['mths_since_recent_bc_dlq'].unique())"
   ]
  },
  {
   "cell_type": "code",
   "execution_count": 103,
   "metadata": {},
   "outputs": [
    {
     "name": "stdout",
     "output_type": "stream",
     "text": [
      "   mths_since_recent_inq  mths_since_recent_revol_delinq\n",
      "0                    0.0                             0.0\n",
      "1                    0.0                             0.0\n",
      "2                    0.0                             0.0\n",
      "3                    0.0                             0.0\n",
      "4                    0.0                             0.0\n",
      "5                    0.0                             0.0\n",
      "mths_since_recent_inq float64\n",
      "mths_since_recent_revol_delinq float64\n"
     ]
    },
    {
     "data": {
      "text/html": [
       "<div>\n",
       "<style scoped>\n",
       "    .dataframe tbody tr th:only-of-type {\n",
       "        vertical-align: middle;\n",
       "    }\n",
       "\n",
       "    .dataframe tbody tr th {\n",
       "        vertical-align: top;\n",
       "    }\n",
       "\n",
       "    .dataframe thead th {\n",
       "        text-align: right;\n",
       "    }\n",
       "</style>\n",
       "<table border=\"1\" class=\"dataframe\">\n",
       "  <thead>\n",
       "    <tr style=\"text-align: right;\">\n",
       "      <th></th>\n",
       "      <th>LoanStatNew</th>\n",
       "      <th>Description</th>\n",
       "    </tr>\n",
       "  </thead>\n",
       "  <tbody>\n",
       "    <tr>\n",
       "      <th>56</th>\n",
       "      <td>mths_since_recent_inq</td>\n",
       "      <td>Months since most recent inquiry.</td>\n",
       "    </tr>\n",
       "    <tr>\n",
       "      <th>57</th>\n",
       "      <td>mths_since_recent_revol_delinq</td>\n",
       "      <td>Months since most recent revolving delinquency.</td>\n",
       "    </tr>\n",
       "  </tbody>\n",
       "</table>\n",
       "</div>"
      ],
      "text/plain": [
       "                       LoanStatNew  \\\n",
       "56           mths_since_recent_inq   \n",
       "57  mths_since_recent_revol_delinq   \n",
       "\n",
       "                                        Description  \n",
       "56                Months since most recent inquiry.  \n",
       "57  Months since most recent revolving delinquency.  "
      ]
     },
     "execution_count": 103,
     "metadata": {},
     "output_type": "execute_result"
    }
   ],
   "source": [
    "# Moving to next columns\n",
    "print(loan_data.iloc[:6,76:78])\n",
    "for y in loan_data.columns[76:78]:\n",
    "  print(y, loan_data[y].dtype)\n",
    "loan_dict.loc[loan_dict['LoanStatNew'].isin(list(loan_data.columns.values[76:78]))]"
   ]
  },
  {
   "cell_type": "code",
   "execution_count": 104,
   "metadata": {},
   "outputs": [
    {
     "name": "stdout",
     "output_type": "stream",
     "text": [
      "[ 0 17  8  3  6  2 10 12  7  4 14 20 11  1  5  9 13 16 21 19 18 15 23 22\n",
      " 24 25]\n",
      "[  0   7  16  75  53  70  11  43  69  35   8  14  59  48  10  45  50  20\n",
      "  21  62  25  38  28  36  17  41  34  76  15   5  37  71  29  74  47  60\n",
      "  54  12  18  77  55  19  49  66  40  23  56  61   4  33   3  31   9  13\n",
      "  39  32  42  44  52  57  22  80   6  46  30  68  26  81  73  64  24  72\n",
      "   1  79   2  67  27  58  78  51  63  84  65  82 106 135 115  88  93  95\n",
      "  86  83 102  87  85 122  89  94 109  91 146 134 114  99  96  90 107 165\n",
      " 127 119 101 124 129 113 120 131 156  98 143 149 103 118 130 148 126 141\n",
      " 116 100 152  92  97 110 133 108 104 140 105 111 112 154 117 142 170 136\n",
      " 180 151 159 121 125 153 157 123 138 171 145 144 176 137 158 197 188 150\n",
      " 174 162 132 139 155 161 177 128 178 160 202]\n"
     ]
    }
   ],
   "source": [
    "# Converting all of them to int\n",
    "loan_data[['mths_since_recent_inq']] = loan_data[['mths_since_recent_inq']].astype(int)\n",
    "loan_data[['mths_since_recent_revol_delinq']] = loan_data[['mths_since_recent_revol_delinq']].astype(int)\n",
    "\n",
    "print(loan_data['mths_since_recent_inq'].unique())\n",
    "print(loan_data['mths_since_recent_revol_delinq'].unique())"
   ]
  },
  {
   "cell_type": "code",
   "execution_count": 105,
   "metadata": {},
   "outputs": [
    {
     "name": "stdout",
     "output_type": "stream",
     "text": [
      "   num_accts_ever_120_pd  num_actv_bc_tl  num_actv_rev_tl  num_bc_sats\n",
      "0                    0.0             0.0              0.0          0.0\n",
      "1                    0.0             0.0              0.0          0.0\n",
      "2                    0.0             0.0              0.0          0.0\n",
      "3                    0.0             0.0              0.0          0.0\n",
      "4                    0.0             0.0              0.0          0.0\n",
      "5                    0.0             0.0              0.0          0.0\n",
      "num_accts_ever_120_pd float64\n",
      "num_actv_bc_tl float64\n",
      "num_actv_rev_tl float64\n",
      "num_bc_sats float64\n"
     ]
    },
    {
     "data": {
      "text/html": [
       "<div>\n",
       "<style scoped>\n",
       "    .dataframe tbody tr th:only-of-type {\n",
       "        vertical-align: middle;\n",
       "    }\n",
       "\n",
       "    .dataframe tbody tr th {\n",
       "        vertical-align: top;\n",
       "    }\n",
       "\n",
       "    .dataframe thead th {\n",
       "        text-align: right;\n",
       "    }\n",
       "</style>\n",
       "<table border=\"1\" class=\"dataframe\">\n",
       "  <thead>\n",
       "    <tr style=\"text-align: right;\">\n",
       "      <th></th>\n",
       "      <th>LoanStatNew</th>\n",
       "      <th>Description</th>\n",
       "    </tr>\n",
       "  </thead>\n",
       "  <tbody>\n",
       "    <tr>\n",
       "      <th>59</th>\n",
       "      <td>num_accts_ever_120_pd</td>\n",
       "      <td>Number of accounts ever 120 or more days past due</td>\n",
       "    </tr>\n",
       "    <tr>\n",
       "      <th>60</th>\n",
       "      <td>num_actv_bc_tl</td>\n",
       "      <td>Number of currently active bankcard accounts</td>\n",
       "    </tr>\n",
       "    <tr>\n",
       "      <th>61</th>\n",
       "      <td>num_actv_rev_tl</td>\n",
       "      <td>Number of currently active revolving trades</td>\n",
       "    </tr>\n",
       "    <tr>\n",
       "      <th>62</th>\n",
       "      <td>num_bc_sats</td>\n",
       "      <td>Number of satisfactory bankcard accounts</td>\n",
       "    </tr>\n",
       "  </tbody>\n",
       "</table>\n",
       "</div>"
      ],
      "text/plain": [
       "              LoanStatNew                                        Description\n",
       "59  num_accts_ever_120_pd  Number of accounts ever 120 or more days past due\n",
       "60         num_actv_bc_tl       Number of currently active bankcard accounts\n",
       "61        num_actv_rev_tl        Number of currently active revolving trades\n",
       "62            num_bc_sats           Number of satisfactory bankcard accounts"
      ]
     },
     "execution_count": 105,
     "metadata": {},
     "output_type": "execute_result"
    }
   ],
   "source": [
    "# Moving to next columns\n",
    "print(loan_data.iloc[:6,78:82])\n",
    "for y in loan_data.columns[78:82]:\n",
    "  print(y, loan_data[y].dtype)\n",
    "loan_dict.loc[loan_dict['LoanStatNew'].isin(list(loan_data.columns.values[78:82]))]"
   ]
  },
  {
   "cell_type": "code",
   "execution_count": 106,
   "metadata": {},
   "outputs": [
    {
     "name": "stdout",
     "output_type": "stream",
     "text": [
      "[ 0  3  6  1  7  5  2  4  9 10  8 20 12 17 11 13 15 14 21 19 29 24 26 18\n",
      " 23 22 16 33 30 25 32 27 31 39 28 35 38 34 36 51 42 45]\n",
      "[ 0  2  5  3  8  4  6  1 10  7 11 15  9 13 12 17 16 20 14 21 19 26 18 23\n",
      " 22 30 24 25 29 32 27 28 36 35 46 47 33 31 37]\n",
      "[ 0  4  2  7  5  8 24  3  1 13  6 11 12  9 10 18 19 15 21 14 16 17 20 26\n",
      " 23 22 29 27 28 25 37 31 34 30 32 36 38 33 35 42 39 41 40 44 47 52 51 43\n",
      " 46 59 57 63 60 45 48]\n",
      "[ 0  2  4  3  5 13  8 11  6  1 16  7 18 12  9 10 15 14 17 19 21 20 24 22\n",
      " 25 28 27 35 32 26 29 23 30 31 33 34 39 38 36 37 55 45 48 57 40 42 46 63\n",
      " 41 43 49 54 44 61 71 47 50]\n"
     ]
    }
   ],
   "source": [
    "# Converting all of them to int\n",
    "loan_data[['num_accts_ever_120_pd']] = loan_data[['num_accts_ever_120_pd']].astype(int)\n",
    "loan_data[['num_actv_bc_tl']] = loan_data[['num_actv_bc_tl']].astype(int)\n",
    "loan_data[['num_actv_rev_tl']] = loan_data[['num_actv_rev_tl']].astype(int)\n",
    "loan_data[['num_bc_sats']] = loan_data[['num_bc_sats']].astype(int)\n",
    "\n",
    "print(loan_data['num_accts_ever_120_pd'].unique())\n",
    "print(loan_data['num_actv_bc_tl'].unique())\n",
    "print(loan_data['num_actv_rev_tl'].unique())\n",
    "print(loan_data['num_bc_sats'].unique())"
   ]
  },
  {
   "cell_type": "code",
   "execution_count": 107,
   "metadata": {},
   "outputs": [
    {
     "name": "stdout",
     "output_type": "stream",
     "text": [
      "   num_bc_tl  num_il_tl  num_op_rev_tl  num_rev_accts  num_rev_tl_bal_gt_0\n",
      "0        0.0        0.0            0.0            0.0                  0.0\n",
      "1        0.0        0.0            0.0            0.0                  0.0\n",
      "2        0.0        0.0            0.0            0.0                  0.0\n",
      "3        0.0        0.0            0.0            0.0                  0.0\n",
      "4        0.0        0.0            0.0            0.0                  0.0\n",
      "5        0.0        0.0            0.0            0.0                  0.0\n",
      "num_bc_tl float64\n",
      "num_il_tl float64\n",
      "num_op_rev_tl float64\n",
      "num_rev_accts float64\n",
      "num_rev_tl_bal_gt_0 float64\n"
     ]
    },
    {
     "data": {
      "text/html": [
       "<div>\n",
       "<style scoped>\n",
       "    .dataframe tbody tr th:only-of-type {\n",
       "        vertical-align: middle;\n",
       "    }\n",
       "\n",
       "    .dataframe tbody tr th {\n",
       "        vertical-align: top;\n",
       "    }\n",
       "\n",
       "    .dataframe thead th {\n",
       "        text-align: right;\n",
       "    }\n",
       "</style>\n",
       "<table border=\"1\" class=\"dataframe\">\n",
       "  <thead>\n",
       "    <tr style=\"text-align: right;\">\n",
       "      <th></th>\n",
       "      <th>LoanStatNew</th>\n",
       "      <th>Description</th>\n",
       "    </tr>\n",
       "  </thead>\n",
       "  <tbody>\n",
       "    <tr>\n",
       "      <th>63</th>\n",
       "      <td>num_bc_tl</td>\n",
       "      <td>Number of bankcard accounts</td>\n",
       "    </tr>\n",
       "    <tr>\n",
       "      <th>64</th>\n",
       "      <td>num_il_tl</td>\n",
       "      <td>Number of installment accounts</td>\n",
       "    </tr>\n",
       "    <tr>\n",
       "      <th>65</th>\n",
       "      <td>num_op_rev_tl</td>\n",
       "      <td>Number of open revolving accounts</td>\n",
       "    </tr>\n",
       "    <tr>\n",
       "      <th>66</th>\n",
       "      <td>num_rev_accts</td>\n",
       "      <td>Number of revolving accounts</td>\n",
       "    </tr>\n",
       "    <tr>\n",
       "      <th>67</th>\n",
       "      <td>num_rev_tl_bal_gt_0</td>\n",
       "      <td>Number of revolving trades with balance &gt;0</td>\n",
       "    </tr>\n",
       "  </tbody>\n",
       "</table>\n",
       "</div>"
      ],
      "text/plain": [
       "            LoanStatNew                                 Description\n",
       "63            num_bc_tl                 Number of bankcard accounts\n",
       "64            num_il_tl              Number of installment accounts\n",
       "65        num_op_rev_tl           Number of open revolving accounts\n",
       "66        num_rev_accts                Number of revolving accounts\n",
       "67  num_rev_tl_bal_gt_0  Number of revolving trades with balance >0"
      ]
     },
     "execution_count": 107,
     "metadata": {},
     "output_type": "execute_result"
    }
   ],
   "source": [
    "# Moving to next columns\n",
    "print(loan_data.iloc[:6,82:87])\n",
    "for y in loan_data.columns[82:87]:\n",
    "  print(y, loan_data[y].dtype)\n",
    "loan_dict.loc[loan_dict['LoanStatNew'].isin(list(loan_data.columns.values[82:87]))]"
   ]
  },
  {
   "cell_type": "code",
   "execution_count": 108,
   "metadata": {},
   "outputs": [
    {
     "name": "stdout",
     "output_type": "stream",
     "text": [
      "[ 0  2  8  4 11  7 13 10  9 14 17  6  5 19 25 18 12  3 16 20 15 23 26  1\n",
      " 24 21 22 32 29 28 27 31 34 30 38 36 33 39 37 65 35 42 40 43 46 52 44 41\n",
      " 45 50 47 51 48 58 49 61 55 54 57 60 56 53 70 68 59 67 79 64 77 63 76]\n",
      "[  0   8   1   4   2  15   3  17   9  11  16   5  13  12   6  14  22  30\n",
      "   7  10  27  31  28  39  24  20  19  33  18  21  36  35  54  29  23  26\n",
      "  25  40  32  43  37  41  51  34  42  44  48  38  46  47  50  45  52  56\n",
      "  57  49  53  58  61  66  55  59  64  63  86  72  60  62  65 150  73  69\n",
      "  67  74  68  70  75  78  76  71  83  87  97  81  85  80  89  82  99  98\n",
      " 104 100 101  77 117  96 118 132  79  93  84  91  88 107 131  94 121 110\n",
      " 159 102 140 128  90 113 109  95 103 127 138]\n",
      "[ 0  4 10  3  7  8 15  6  5 29  9  1 13 11 16 12 17 20 14 19 26 23 18 22\n",
      "  2 28 24 21 27 25 31 30 39 32 37 45 35 34 38 43 33 58 36 42 47 48 46 40\n",
      " 41 44 62 50 52 56 51 57 66 49 67 54 63 53 83 72 77 73 61 55 79 76 59 91\n",
      " 60 69 65 64 71 86]\n",
      "[  0   5  15   7  16  14  10  17  19  24   8  18  40  13   9  20  11   2\n",
      "  23  30   6  12  25  29  22  28  27  26  21  46  34   4  38  32  31  50\n",
      "  35  51  41   3  37  36  43  44  33  42  39  47  48  45  49  94  75  52\n",
      "  53  54  55  56  58  57  60  62  59  91  61  64   1  69 105  68  67  65\n",
      "  81  66  70  73  71  80  78  89  63  77  74  86  82  76  79 118  72  84\n",
      "  92  90  96 102 112  93  83  87 101 103 104 100  88 108  98 128  85 113\n",
      " 127 143 107]\n",
      "[ 0  4  2  7  5  8 24  3  1 13  6 11 12  9 10 18 19 15 21 14 16 17 20 26\n",
      " 23 22 29 27 28 25 37 31 34 30 32 38 33 35 43 39 42 36 45 40 44 41 47 59]\n"
     ]
    }
   ],
   "source": [
    "# Converting all of them to int\n",
    "loan_data[['num_bc_tl']] = loan_data[['num_bc_tl']].astype(int)\n",
    "loan_data[['num_il_tl']] = loan_data[['num_il_tl']].astype(int)\n",
    "loan_data[['num_op_rev_tl']] = loan_data[['num_op_rev_tl']].astype(int)\n",
    "loan_data[['num_rev_accts']] = loan_data[['num_rev_accts']].astype(int)\n",
    "loan_data[['num_rev_tl_bal_gt_0']] = loan_data[['num_rev_tl_bal_gt_0']].astype(int)\n",
    "\n",
    "print(loan_data['num_bc_tl'].unique())\n",
    "print(loan_data['num_il_tl'].unique())\n",
    "print(loan_data['num_op_rev_tl'].unique())\n",
    "print(loan_data['num_rev_accts'].unique())\n",
    "print(loan_data['num_rev_tl_bal_gt_0'].unique())"
   ]
  },
  {
   "cell_type": "code",
   "execution_count": 109,
   "metadata": {},
   "outputs": [
    {
     "name": "stdout",
     "output_type": "stream",
     "text": [
      "   num_sats  num_tl_120dpd_2m  num_tl_30dpd  num_tl_90g_dpd_24m\n",
      "0       0.0               0.0           0.0                 0.0\n",
      "1       0.0               0.0           0.0                 0.0\n",
      "2       0.0               0.0           0.0                 0.0\n",
      "3       0.0               0.0           0.0                 0.0\n",
      "4       0.0               0.0           0.0                 0.0\n",
      "5       0.0               0.0           0.0                 0.0\n",
      "num_sats float64\n",
      "num_tl_120dpd_2m float64\n",
      "num_tl_30dpd float64\n",
      "num_tl_90g_dpd_24m float64\n"
     ]
    },
    {
     "data": {
      "text/html": [
       "<div>\n",
       "<style scoped>\n",
       "    .dataframe tbody tr th:only-of-type {\n",
       "        vertical-align: middle;\n",
       "    }\n",
       "\n",
       "    .dataframe tbody tr th {\n",
       "        vertical-align: top;\n",
       "    }\n",
       "\n",
       "    .dataframe thead th {\n",
       "        text-align: right;\n",
       "    }\n",
       "</style>\n",
       "<table border=\"1\" class=\"dataframe\">\n",
       "  <thead>\n",
       "    <tr style=\"text-align: right;\">\n",
       "      <th></th>\n",
       "      <th>LoanStatNew</th>\n",
       "      <th>Description</th>\n",
       "    </tr>\n",
       "  </thead>\n",
       "  <tbody>\n",
       "    <tr>\n",
       "      <th>68</th>\n",
       "      <td>num_sats</td>\n",
       "      <td>Number of satisfactory accounts</td>\n",
       "    </tr>\n",
       "    <tr>\n",
       "      <th>69</th>\n",
       "      <td>num_tl_120dpd_2m</td>\n",
       "      <td>Number of accounts currently 120 days past due (updated in past 2 months)</td>\n",
       "    </tr>\n",
       "    <tr>\n",
       "      <th>70</th>\n",
       "      <td>num_tl_30dpd</td>\n",
       "      <td>Number of accounts currently 30 days past due (updated in past 2 months)</td>\n",
       "    </tr>\n",
       "    <tr>\n",
       "      <th>71</th>\n",
       "      <td>num_tl_90g_dpd_24m</td>\n",
       "      <td>Number of accounts 90 or more days past due in last 24 months</td>\n",
       "    </tr>\n",
       "  </tbody>\n",
       "</table>\n",
       "</div>"
      ],
      "text/plain": [
       "           LoanStatNew  \\\n",
       "68            num_sats   \n",
       "69    num_tl_120dpd_2m   \n",
       "70        num_tl_30dpd   \n",
       "71  num_tl_90g_dpd_24m   \n",
       "\n",
       "                                                                  Description  \n",
       "68                                            Number of satisfactory accounts  \n",
       "69  Number of accounts currently 120 days past due (updated in past 2 months)  \n",
       "70   Number of accounts currently 30 days past due (updated in past 2 months)  \n",
       "71              Number of accounts 90 or more days past due in last 24 months  "
      ]
     },
     "execution_count": 109,
     "metadata": {},
     "output_type": "execute_result"
    }
   ],
   "source": [
    "# Moving to next columns\n",
    "print(loan_data.iloc[:6,87:91])\n",
    "for y in loan_data.columns[87:91]:\n",
    "  print(y, loan_data[y].dtype)\n",
    "loan_dict.loc[loan_dict['LoanStatNew'].isin(list(loan_data.columns.values[87:91]))]"
   ]
  },
  {
   "cell_type": "code",
   "execution_count": 110,
   "metadata": {},
   "outputs": [
    {
     "name": "stdout",
     "output_type": "stream",
     "text": [
      "[ 0  4 14  3 10  9 16 17  6  8  7 15 29 12  5 11 13 20 19 21 25 30 18 27\n",
      " 22 23 24 40 26  2 28 31  1 37 32 33 42 41 34 39 36 35 45 38 49 53 51 43\n",
      " 62 44 48 50 52 46 54 47 75 58 55 84 76 61 65 67 57 66 56 70 60 82 63 59\n",
      " 64 79 74 90 72 81 77 71 69 80 85 97 68 87 93 91]\n",
      "[0 2 1 6 3 4 7]\n",
      "[0 1 2 3 4]\n",
      "[ 0  1  3  2  7  4  5  6  8  9 10 11 17 15 13 18 12 20 24 22 14 16 30 26\n",
      " 39 19 29 42 25 21 36]\n"
     ]
    }
   ],
   "source": [
    "# Converting all of them to int\n",
    "loan_data[['num_sats']] = loan_data[['num_sats']].astype(int)\n",
    "loan_data[['num_tl_120dpd_2m']] = loan_data[['num_tl_120dpd_2m']].astype(int)\n",
    "loan_data[['num_tl_30dpd']] = loan_data[['num_tl_30dpd']].astype(int)\n",
    "loan_data[['num_tl_90g_dpd_24m']] = loan_data[['num_tl_90g_dpd_24m']].astype(int)\n",
    "\n",
    "print(loan_data['num_sats'].unique())\n",
    "print(loan_data['num_tl_120dpd_2m'].unique())\n",
    "print(loan_data['num_tl_30dpd'].unique())\n",
    "print(loan_data['num_tl_90g_dpd_24m'].unique())"
   ]
  },
  {
   "cell_type": "code",
   "execution_count": 111,
   "metadata": {},
   "outputs": [
    {
     "name": "stdout",
     "output_type": "stream",
     "text": [
      "   num_tl_op_past_12m  pct_tl_nvr_dlq  percent_bc_gt_75  pub_rec_bankruptcies\n",
      "0                 0.0             0.0               0.0                   0.0\n",
      "1                 0.0             0.0               0.0                   0.0\n",
      "2                 0.0             0.0               0.0                   0.0\n",
      "3                 0.0             0.0               0.0                   0.0\n",
      "4                 0.0             0.0               0.0                   0.0\n",
      "5                 0.0             0.0               0.0                   0.0\n",
      "num_tl_op_past_12m float64\n",
      "pct_tl_nvr_dlq float64\n",
      "percent_bc_gt_75 float64\n",
      "pub_rec_bankruptcies float64\n"
     ]
    },
    {
     "data": {
      "text/html": [
       "<div>\n",
       "<style scoped>\n",
       "    .dataframe tbody tr th:only-of-type {\n",
       "        vertical-align: middle;\n",
       "    }\n",
       "\n",
       "    .dataframe tbody tr th {\n",
       "        vertical-align: top;\n",
       "    }\n",
       "\n",
       "    .dataframe thead th {\n",
       "        text-align: right;\n",
       "    }\n",
       "</style>\n",
       "<table border=\"1\" class=\"dataframe\">\n",
       "  <thead>\n",
       "    <tr style=\"text-align: right;\">\n",
       "      <th></th>\n",
       "      <th>LoanStatNew</th>\n",
       "      <th>Description</th>\n",
       "    </tr>\n",
       "  </thead>\n",
       "  <tbody>\n",
       "    <tr>\n",
       "      <th>72</th>\n",
       "      <td>num_tl_op_past_12m</td>\n",
       "      <td>Number of accounts opened in past 12 months</td>\n",
       "    </tr>\n",
       "    <tr>\n",
       "      <th>82</th>\n",
       "      <td>pct_tl_nvr_dlq</td>\n",
       "      <td>Percent of trades never delinquent</td>\n",
       "    </tr>\n",
       "    <tr>\n",
       "      <th>83</th>\n",
       "      <td>percent_bc_gt_75</td>\n",
       "      <td>Percentage of all bankcard accounts &gt; 75% of limit.</td>\n",
       "    </tr>\n",
       "    <tr>\n",
       "      <th>86</th>\n",
       "      <td>pub_rec_bankruptcies</td>\n",
       "      <td>Number of public record bankruptcies</td>\n",
       "    </tr>\n",
       "  </tbody>\n",
       "</table>\n",
       "</div>"
      ],
      "text/plain": [
       "             LoanStatNew                                          Description\n",
       "72    num_tl_op_past_12m          Number of accounts opened in past 12 months\n",
       "82        pct_tl_nvr_dlq                   Percent of trades never delinquent\n",
       "83      percent_bc_gt_75  Percentage of all bankcard accounts > 75% of limit.\n",
       "86  pub_rec_bankruptcies                 Number of public record bankruptcies"
      ]
     },
     "execution_count": 111,
     "metadata": {},
     "output_type": "execute_result"
    }
   ],
   "source": [
    "# Moving to next columns\n",
    "print(loan_data.iloc[:6,91:95])\n",
    "for y in loan_data.columns[91:95]:\n",
    "  print(y, loan_data[y].dtype)\n",
    "loan_dict.loc[loan_dict['LoanStatNew'].isin(list(loan_data.columns.values[91:95]))]"
   ]
  },
  {
   "cell_type": "code",
   "execution_count": 112,
   "metadata": {},
   "outputs": [
    {
     "name": "stdout",
     "output_type": "stream",
     "text": [
      "[ 0  1  2  3  4  5  6  9  8  7 15 10 12 11 13 14 17 16 19 24 25 18 20 26\n",
      " 21 23 30 22 28 27 31 32 29]\n",
      "[  0.  100.   87.5  78.6  89.3  81.2  90.2  77.3  95.5  91.3  75.   90.\n",
      "  96.   86.3  95.   94.1  82.4  95.3  68.2  80.   77.1  92.3  96.9  87.\n",
      "  97.4  85.   91.7  94.7  96.4  92.1  76.   87.2  93.3  91.2  89.4  93.2\n",
      "  77.4  95.8  97.1  95.2  71.4  88.2  97.7  96.6  97.5  98.1  93.9  81.8\n",
      "  97.   88.5  85.2  88.9  83.3  85.3  92.9  65.   71.1  86.   89.7  76.3\n",
      "  88.   84.6  96.2  84.2  84.8  90.9  59.1  93.7  90.5  93.1  87.1  86.2\n",
      "  95.6  88.1  95.7  70.   89.5  85.7  66.7  97.8  89.2  96.8  83.8  81.\n",
      "  94.9  75.9  78.9  92.6  76.2  97.6  91.5  92.   72.2  94.   86.4  96.7\n",
      "  74.2  84.   90.3  94.4  94.6  38.1  91.9  78.   52.9  97.3  93.   96.3\n",
      "  69.6  94.3  73.9  95.1  81.5  90.6  98.2  97.2  79.2  97.9  98.   68.7\n",
      "  87.3  92.5  70.6  82.   76.7  86.7  98.4  77.8  73.5  93.5  74.1  72.7\n",
      "  91.1  62.5  92.7  53.8  71.   82.8  64.3  69.2  73.3  82.6  64.5  82.1\n",
      "  73.7  86.5  72.   56.   76.5  76.9  80.6  87.9  84.1  88.6  68.4  79.\n",
      "  86.1  65.6  91.4  60.9  77.   84.4  91.8  67.4  79.5  83.   80.8  65.5\n",
      "  81.6  66.   82.9  78.3  63.   68.1  67.9  91.   67.   87.8  73.   98.3\n",
      "  62.   64.7  72.4  56.2  83.9  68.   74.   79.1  90.4  89.   56.5  60.\n",
      "  33.3  70.4  74.3  62.1  79.3  79.4  70.8  63.6  88.4  65.4  55.6  85.5\n",
      "  82.2  35.7  61.5  78.1  86.9  85.4  90.7  57.5  64.   75.7  92.2  72.5\n",
      "  69.   65.2  63.3  61.1  75.8  57.   60.7  86.8  61.9  42.9  68.9  89.1\n",
      "  95.9  96.1  93.6  53.3  52.6  58.3  67.6  41.2  57.1  96.5  77.5  80.9\n",
      "  82.5  36.8  92.8  63.2  56.7  89.6  94.2  80.4  78.4  93.4  88.7  69.4\n",
      "  35.3  50.   74.5  89.8  75.6  59.4  80.5  65.7  73.8  54.5  61.8  45.\n",
      "  55.   59.3  78.8  61.3  81.4  73.1  84.9  70.3  52.4  41.   67.3  83.7\n",
      "  34.8  84.3  71.9  55.9  78.7  94.5  65.8  58.8  40.   68.6  81.1  67.7\n",
      "  45.8  69.7  48.1  54.8  75.4  57.9  74.4  46.7  94.8  51.   62.2  51.9\n",
      "  56.8  58.6  85.1  73.6  45.7  44.   98.5  46.2  79.6  53.1  87.7  61.\n",
      "  58.   67.5  54.   46.   53.   18.   17.   33.   59.   48.   42.   52.\n",
      "  36.   47.   43.   34.   99.   30.   25.   38.   27.   35.   39.   31.\n",
      "  37.   28.   15.   49.   16.   56.4  51.4  98.6  47.8  75.5  98.9  52.2\n",
      "  57.6  37.5  34.5  93.8  76.4  36.4  55.2  76.1  64.9  57.7  73.2  71.2\n",
      "  76.6  59.5  60.3  79.7  82.7  98.7  30.8  95.4  39.3  62.8  70.7  47.6\n",
      "  47.4  83.6  65.9  71.8  45.5  39.1  62.9  69.8  45.2  47.1  81.7  26.7\n",
      "  65.1  70.5  48.4  42.3  48.3  85.9  64.1  44.4  43.3  27.3  92.4  41.7\n",
      "  20.   89.9  61.4  59.6  61.7  88.3  72.3  83.1  51.6  63.9  44.8  63.8\n",
      "  98.8  48.6  70.2  53.6  77.6  84.7  54.2  99.2  72.1  54.3  60.6  42.1\n",
      "  45.9  64.4  71.7  76.8  66.2  72.6  72.9  51.3  23.8  60.5  68.3  78.5\n",
      "  53.7  56.1  47.5  55.3  51.5  16.7  78.2  40.9  34.6  84.5  34.2  29.\n",
      "  31.8  30.4  43.7  20.7  44.1  65.3  38.5  77.9  90.1  58.1  90.8  81.3\n",
      "  74.6  63.4  51.7  77.2  64.6  51.1  19.   55.8  52.7  46.9  31.6  21.4\n",
      "  18.2  43.5  82.3  38.9  28.6  46.4  66.1  62.7  63.5  41.5  58.7  60.4\n",
      "  39.2  44.7  37.8  64.8  52.8  48.5  47.2  80.7  29.4  17.6  35.5  12.5\n",
      "  27.5  37.3  91.6  57.8  23.5  29.7  14.8  54.1  41.4  22.2  27.8  99.1\n",
      "  25.7  44.2  37.9  31.2  22.6  37.2  48.7  21.7  39.5  11.1  38.2  57.4\n",
      "  14.3  80.3  58.5  25.9  13.   86.6  32.   55.1  23.1  26.1  48.9  40.7\n",
      "  28.2  42.6  60.8  41.8  70.9  53.5  45.3  40.6  42.4  59.2  51.2  46.8\n",
      "  32.3  20.6  29.2  69.1  64.2  32.7  56.6  43.2  38.7  27.6  87.4  18.9\n",
      "  24.2  25.6  52.5  21.9  39.4  68.5  18.7  52.3  69.5  73.4  24.1  53.2\n",
      "  26.3  62.3  52.1   7.7  29.5  46.3   7.1  31.4  34.3  22.9  29.6  31.1\n",
      "  30.2  46.5  29.3  48.2  12.   40.5  45.1  47.3  13.2  15.8  20.5  30.3\n",
      "  56.9  43.6  99.4  67.1  30.6  54.9  81.9  13.8  23.3  58.2  32.1  99.3\n",
      "  21.1  58.4  88.8  68.8  56.3  44.9  36.7  43.8  24.   31.3  35.9  48.8\n",
      "  31.9  40.4  50.9  37.1  15.4  21.2  25.8  41.9  58.9  10.   13.3  18.4\n",
      "   5.    8.3  27.9  28.3  10.7  32.4  17.4  35.1  19.2  26.9  34.7  49.1\n",
      "  39.8  31.7   6.7  26.5  67.2  36.1   5.9  75.3  11.8  22.7  21.6  34.4\n",
      "  16.3  34.9  83.5  59.7  80.2  43.4  43.9  11.5  17.5  69.9  42.5  36.6\n",
      "  18.5  71.6  28.1   7.9  22.   61.2  47.7  41.3  10.5  25.4  35.8  23.7\n",
      "  24.4  50.8]\n",
      "[  0.   100.    25.    80.    75.     7.7   66.7   33.3    1.    50.\n",
      "  16.7   20.    40.    60.    37.5   72.7   81.8   57.1   10.    52.9\n",
      "  54.5   14.3   77.8   22.2    0.33  88.9   36.4   83.3   42.9   85.7\n",
      "  44.4   61.5   28.6    0.75  62.5    0.67   0.8   76.9   71.4    9.1\n",
      "  12.5   46.2   11.1   55.6   87.5    8.3    0.5    0.4   18.2    0.25\n",
      "  26.7    0.6   27.3   15.4    6.2   23.1   70.    30.    53.8    0.2\n",
      "  91.7   41.7   90.    45.5   10.5    0.38  90.9   19.    63.6    0.82\n",
      "  92.3    0.63   0.43   7.1   38.5    0.29  90.5   21.4   17.6   13.3\n",
      "  30.8   92.9   58.3   64.3    6.7   84.6    5.9   86.7   26.1   11.8\n",
      "  35.7    5.6   53.3   21.1   23.5   69.2   26.3    4.5   58.8   68.4\n",
      "  76.2   73.3   31.2    9.5    5.    27.8   15.8   18.7   43.7    4.2\n",
      "  46.7    5.3   29.4    3.1   78.6   23.8   68.7   41.2   56.2   31.6\n",
      "  93.3   47.4   88.2   35.3   70.6   93.7   52.6   81.2   94.1    8.7\n",
      "  38.9   76.5   15.    35.    73.7   94.4   64.7   28.1   84.2   36.8\n",
      "  22.7    4.3   82.4    4.8   47.1    3.6    8.    55.    48.1   84.\n",
      "  42.1   52.4   39.1   47.6   57.9    3.3   40.9   61.1   68.2   28.\n",
      "  52.    10.3   61.9   15.6   14.8   72.2    6.5   56.5   78.3   94.7\n",
      "  13.     3.4   31.8    0.14   0.86  13.6    0.17   0.57   0.71  95.5\n",
      "  43.8    6.3    3.7   63.2   78.9   31.3   30.4   45.    85.    18.8\n",
      "  39.3   48.    10.7   12.    79.3   40.7   95.8   38.1   17.4    4.\n",
      "  20.8   93.8   16.    11.5   19.2   37.    43.5    3.8   26.9   17.9\n",
      "  52.2   26.5   89.5   24.    34.8   29.2   81.    13.8   21.9    7.4\n",
      "  95.     6.9    8.8   81.3   18.5   20.7    7.5   36.    36.7   21.7\n",
      "   3.    88.     2.6   32.    91.3   82.6   17.1    6.1   34.6    1.9\n",
      "   2.1   56.3   68.8    1.4   65.    44.8   60.9   59.1    3.2   76.\n",
      "  45.8    9.4    2.2   42.4   30.6   77.3    2.7    5.1   73.9   31.\n",
      "  69.6    2.3   17.2   25.9   95.2   65.2   87.     2.4 ]\n",
      "[ 0  1  2  4  3  8  5  6  7 12  9 11]\n"
     ]
    }
   ],
   "source": [
    "# converting some to int\n",
    "loan_data[['num_tl_op_past_12m']] = loan_data[['num_tl_op_past_12m']].astype(int)\n",
    "loan_data[['pub_rec_bankruptcies']] = loan_data[['pub_rec_bankruptcies']].astype(int)\n",
    "\n",
    "print(loan_data['num_tl_op_past_12m'].unique())\n",
    "print(loan_data['pct_tl_nvr_dlq'].unique())\n",
    "print(loan_data['percent_bc_gt_75'].unique())\n",
    "print(loan_data['pub_rec_bankruptcies'].unique())"
   ]
  },
  {
   "cell_type": "code",
   "execution_count": 113,
   "metadata": {},
   "outputs": [
    {
     "name": "stdout",
     "output_type": "stream",
     "text": [
      "   tax_liens  tot_hi_cred_lim  total_bal_ex_mort  total_bc_limit\n",
      "0          0              0.0                0.0             0.0\n",
      "1          0              0.0                0.0             0.0\n",
      "2          0              0.0                0.0             0.0\n",
      "3          0              0.0                0.0             0.0\n",
      "4          0              0.0                0.0             0.0\n",
      "5          0              0.0                0.0             0.0\n",
      "tax_liens int64\n",
      "tot_hi_cred_lim float64\n",
      "total_bal_ex_mort float64\n",
      "total_bc_limit float64\n"
     ]
    },
    {
     "data": {
      "text/html": [
       "<div>\n",
       "<style scoped>\n",
       "    .dataframe tbody tr th:only-of-type {\n",
       "        vertical-align: middle;\n",
       "    }\n",
       "\n",
       "    .dataframe tbody tr th {\n",
       "        vertical-align: top;\n",
       "    }\n",
       "\n",
       "    .dataframe thead th {\n",
       "        text-align: right;\n",
       "    }\n",
       "</style>\n",
       "<table border=\"1\" class=\"dataframe\">\n",
       "  <thead>\n",
       "    <tr style=\"text-align: right;\">\n",
       "      <th></th>\n",
       "      <th>LoanStatNew</th>\n",
       "      <th>Description</th>\n",
       "    </tr>\n",
       "  </thead>\n",
       "  <tbody>\n",
       "    <tr>\n",
       "      <th>93</th>\n",
       "      <td>tax_liens</td>\n",
       "      <td>Number of tax liens</td>\n",
       "    </tr>\n",
       "    <tr>\n",
       "      <th>98</th>\n",
       "      <td>tot_hi_cred_lim</td>\n",
       "      <td>Total high credit/credit limit</td>\n",
       "    </tr>\n",
       "    <tr>\n",
       "      <th>100</th>\n",
       "      <td>total_bal_ex_mort</td>\n",
       "      <td>Total credit balance excluding mortgage</td>\n",
       "    </tr>\n",
       "    <tr>\n",
       "      <th>102</th>\n",
       "      <td>total_bc_limit</td>\n",
       "      <td>Total bankcard high credit/credit limit</td>\n",
       "    </tr>\n",
       "  </tbody>\n",
       "</table>\n",
       "</div>"
      ],
      "text/plain": [
       "           LoanStatNew                              Description\n",
       "93           tax_liens                      Number of tax liens\n",
       "98     tot_hi_cred_lim           Total high credit/credit limit\n",
       "100  total_bal_ex_mort  Total credit balance excluding mortgage\n",
       "102     total_bc_limit  Total bankcard high credit/credit limit"
      ]
     },
     "execution_count": 113,
     "metadata": {},
     "output_type": "execute_result"
    }
   ],
   "source": [
    "# Moving to next columns\n",
    "print(loan_data.iloc[:6,95:99])\n",
    "for y in loan_data.columns[95:99]:\n",
    "  print(y, loan_data[y].dtype)\n",
    "loan_dict.loc[loan_dict['LoanStatNew'].isin(list(loan_data.columns.values[95:99]))]"
   ]
  },
  {
   "cell_type": "code",
   "execution_count": 114,
   "metadata": {},
   "outputs": [
    {
     "name": "stdout",
     "output_type": "stream",
     "text": [
      "[ 0  1  3  2  4  8  7  5  6 10 48 11 53 12 17 18 16 14  9 39 63 13 20 34\n",
      " 22 25 15 27 85 21 46 45 37 30 19 23 24 61 28 29 44]\n",
      "[     0   8000 138554 ... 334355 303325 328405]\n",
      "[     0   5759  70186 ... 206653 103095 239081]\n",
      "[     0   4000  35700 ... 241000 173950  18751]\n"
     ]
    }
   ],
   "source": [
    "# Converting all of them to in\n",
    "loan_data[['tot_hi_cred_lim']] = loan_data[['tot_hi_cred_lim']].astype(int)\n",
    "loan_data[['total_bal_ex_mort']] = loan_data[['total_bal_ex_mort']].astype(int)\n",
    "loan_data[['total_bc_limit']] = loan_data[['total_bc_limit']].astype(int)\n",
    "\n",
    "print(loan_data['tax_liens'].unique())\n",
    "print(loan_data['tot_hi_cred_lim'].unique())\n",
    "print(loan_data['total_bal_ex_mort'].unique())\n",
    "print(loan_data['total_bc_limit'].unique())"
   ]
  },
  {
   "cell_type": "code",
   "execution_count": 115,
   "metadata": {},
   "outputs": [
    {
     "name": "stdout",
     "output_type": "stream",
     "text": [
      "   total_il_high_credit_limit  revol_bal_joint sec_app_earliest_cr_line\n",
      "0                         0.0              0.0                        0\n",
      "1                         0.0              0.0                        0\n",
      "2                         0.0              0.0                        0\n",
      "3                         0.0              0.0                        0\n",
      "4                         0.0              0.0                        0\n",
      "5                         0.0              0.0                        0\n",
      "total_il_high_credit_limit float64\n",
      "revol_bal_joint float64\n",
      "sec_app_earliest_cr_line object\n"
     ]
    },
    {
     "data": {
      "text/html": [
       "<div>\n",
       "<style scoped>\n",
       "    .dataframe tbody tr th:only-of-type {\n",
       "        vertical-align: middle;\n",
       "    }\n",
       "\n",
       "    .dataframe tbody tr th {\n",
       "        vertical-align: top;\n",
       "    }\n",
       "\n",
       "    .dataframe thead th {\n",
       "        text-align: right;\n",
       "    }\n",
       "</style>\n",
       "<table border=\"1\" class=\"dataframe\">\n",
       "  <thead>\n",
       "    <tr style=\"text-align: right;\">\n",
       "      <th></th>\n",
       "      <th>LoanStatNew</th>\n",
       "      <th>Description</th>\n",
       "    </tr>\n",
       "  </thead>\n",
       "  <tbody>\n",
       "    <tr>\n",
       "      <th>104</th>\n",
       "      <td>total_il_high_credit_limit</td>\n",
       "      <td>Total installment high credit/credit limit</td>\n",
       "    </tr>\n",
       "  </tbody>\n",
       "</table>\n",
       "</div>"
      ],
      "text/plain": [
       "                    LoanStatNew                                 Description\n",
       "104  total_il_high_credit_limit  Total installment high credit/credit limit"
      ]
     },
     "execution_count": 115,
     "metadata": {},
     "output_type": "execute_result"
    }
   ],
   "source": [
    "# Moving to next columns\n",
    "print(loan_data.iloc[:6,99:102])\n",
    "for y in loan_data.columns[99:102]:\n",
    "  print(y, loan_data[y].dtype)\n",
    "loan_dict.loc[loan_dict['LoanStatNew'].isin(list(loan_data.columns.values[99:102]))]"
   ]
  },
  {
   "cell_type": "code",
   "execution_count": 116,
   "metadata": {},
   "outputs": [
    {
     "name": "stdout",
     "output_type": "stream",
     "text": [
      "[     0.  33054.  14075. ... 160504. 144681. 216485.]\n",
      "[    0.  2711. 19041. ... 20624. 55616.  6360.]\n",
      "['0' 0 'Nov-2004' 'Jan-1977' 'Oct-1991' 'Jun-2002' 'Dec-2005' 'Nov-2012'\n",
      " 'Feb-1984' 'Oct-2012' 'Apr-2000' 'Sep-1999' 'May-1996' 'Jan-1999'\n",
      " 'Mar-1998' 'Jul-2001' 'Aug-2006' 'Sep-1988' 'Jan-1981' 'Aug-1992'\n",
      " 'Jul-2004' 'Sep-2010' 'Dec-2004' 'Apr-1999' 'Feb-2009' 'Sep-2000'\n",
      " 'Aug-2009' 'Sep-1995' 'May-2014' 'Jan-1959' 'Dec-2006' 'Jul-2002'\n",
      " 'Jun-1991' 'Jul-1997' 'Oct-2001' 'Jan-1990' 'Apr-1994' 'Oct-1999'\n",
      " 'Jun-1994' 'Feb-2011' 'Nov-1996' 'Jan-2008' 'Jan-2002' 'May-1987'\n",
      " 'Mar-1993' 'Jun-1975' 'Sep-2004' 'May-1985' 'Dec-1990' 'Feb-2000'\n",
      " 'Jul-2006' 'Jul-2005' 'Dec-1998' 'Jul-1994' 'Jul-2011' 'Jun-1982'\n",
      " 'Jan-2005' 'Feb-2007' 'Mar-1996' 'Oct-1996' 'Aug-2005' 'Aug-2007'\n",
      " 'Apr-2009' 'Sep-2002' 'Jun-2006' 'Mar-1975' 'Aug-1994' 'Oct-2006'\n",
      " 'Oct-2000' 'Mar-2000' 'Oct-1988' 'Aug-2010' 'Aug-2011' 'Mar-2001'\n",
      " 'Dec-1988' 'Nov-2001' 'Nov-2002' 'Sep-1984' 'Dec-1999' 'Dec-2003'\n",
      " 'Jun-1974' 'Dec-1994' 'Sep-1994' 'Sep-1986' 'Aug-2000' 'Sep-2015'\n",
      " 'Apr-2007' 'Aug-2004' 'May-2013' 'Dec-2013' 'Mar-2005' 'Mar-2008'\n",
      " 'Jun-2004' 'Sep-2008' 'Jun-2011' 'Jul-2000' 'Feb-2001' 'May-1997'\n",
      " 'Sep-1983' 'Jan-1998' 'May-2012' 'Jan-2003' 'May-1972' 'Dec-2015'\n",
      " 'Jun-1992' 'Feb-1996' 'Aug-2003' 'Apr-2005' 'Nov-1999' 'Apr-2006'\n",
      " 'Dec-1981' 'Jan-2014' 'Aug-1995' 'Oct-1973' 'Aug-1990' 'Mar-2004'\n",
      " 'Feb-2002' 'Sep-2007' 'Feb-1988' 'Jan-1996' 'Apr-2013' 'Sep-1992'\n",
      " 'Nov-1985' 'Sep-2005' 'Apr-1987' 'Aug-1998' 'Aug-1987' 'Sep-1997'\n",
      " 'Nov-2006' 'Feb-1992' 'May-2005' 'Apr-1983' 'Jun-1997' 'May-2004'\n",
      " 'Oct-1993' 'Nov-2005' 'Oct-1995' 'Jun-2007' 'Aug-1991' 'Oct-2011'\n",
      " 'May-1993' 'Aug-2013' 'Aug-1996' 'Mar-1995' 'Oct-2004' 'Mar-2013'\n",
      " 'Feb-1995' 'Nov-2014' 'Nov-1978' 'Feb-2004' 'Nov-1975' 'Dec-2008'\n",
      " 'May-2007' 'Aug-2008' 'Apr-2003' 'Apr-2002' 'Apr-2001' 'Apr-1997'\n",
      " 'Dec-2007' 'Dec-2001' 'Jan-2011' 'Aug-2002' 'May-2002' 'May-1995'\n",
      " 'Mar-1992' 'Aug-2001' 'Jan-2000' 'Jun-1999' 'Oct-2008' 'Apr-2010'\n",
      " 'May-2000' 'Nov-1998' 'Sep-1991' 'Jan-2013' 'Jun-2008' 'Oct-2002'\n",
      " 'Jan-1992' 'Jun-1988' 'Apr-1998' 'Nov-1988' 'Apr-2015' 'Jan-2004'\n",
      " 'Jan-1995' 'Jun-2016' 'Jun-2005' 'Mar-1997' 'May-2001' 'Nov-2003'\n",
      " 'Jul-2003' 'Mar-2003' 'Jun-2001' 'Jul-1998' 'Feb-1998' 'Feb-2008'\n",
      " 'Sep-2001' 'Apr-1991' 'Jun-1995' 'Jan-1994' 'Apr-1970' 'Dec-2011'\n",
      " 'Nov-2000' 'Nov-1987' 'Oct-1987' 'Dec-1993' 'Oct-1998' 'Mar-1973'\n",
      " 'Jun-2003' 'Oct-2007' 'Jan-2006' 'Oct-2005' 'May-2010' 'Jul-1989'\n",
      " 'Aug-2012' 'Oct-1989' 'Oct-2003' 'Feb-2013' 'Dec-1997' 'Jul-2013'\n",
      " 'Jul-1995' 'May-2011' 'Jan-2007' 'Oct-1976' 'Oct-2010' 'Sep-2011'\n",
      " 'Apr-2004' 'May-2009' 'Jun-2012' 'Jun-1998' 'Jul-2009' 'Mar-2007'\n",
      " 'Feb-1997' 'Oct-1992' 'Oct-1980' 'Feb-2006' 'Apr-1992' 'Feb-2010'\n",
      " 'Aug-2015' 'Nov-1995' 'Jun-2015' 'Jan-2009' 'Mar-2002' 'Mar-1988'\n",
      " 'Jun-1989' 'Jul-1999' 'Sep-2003' 'Aug-1988' 'Apr-2008' 'Jul-2007'\n",
      " 'Feb-2005' 'Jan-2010' 'Feb-1990' 'Sep-1998' 'Nov-1997' 'Jan-1979'\n",
      " 'Mar-1987' 'Mar-1986' 'May-1998' 'Aug-2014' 'Mar-1981' 'Jul-1993'\n",
      " 'Mar-2011' 'Oct-1997' 'Dec-2009' 'Jun-2009' 'Nov-1993' 'Sep-2006'\n",
      " 'Nov-1981' 'Feb-1980' 'Sep-1996' 'Jul-1984' 'Sep-2012' 'May-2008'\n",
      " 'Aug-1999' 'May-2006' 'Dec-2000' 'Jun-1996' 'Jul-2012' 'Jan-2001'\n",
      " 'Dec-1996' 'Sep-2009' 'Dec-1980' 'Jun-1993' 'Jul-1992' 'Jun-2000'\n",
      " 'May-1992' 'Oct-1994' 'Mar-2006' 'Dec-2002' 'Feb-1994' 'Apr-1986'\n",
      " 'May-1999' 'May-1986' 'Sep-1987' 'Sep-1990' 'Nov-1983' 'Oct-2013'\n",
      " 'Aug-1997' 'May-2003' 'Feb-1987' 'May-1994' 'Mar-1982' 'Jun-1984'\n",
      " 'Sep-1993' 'Jul-1996' 'Jan-1997' 'Apr-1979' 'Oct-2009' 'Apr-1980'\n",
      " 'Feb-1975' 'Nov-1992' 'Jan-1988' 'Sep-2014' 'Jun-1985' 'Nov-2010'\n",
      " 'Nov-2008' 'Nov-1994' 'Jun-2014' 'Jul-2008' 'Dec-2012' 'Dec-1995'\n",
      " 'Jan-2016' 'Feb-2003' 'Mar-1979' 'May-2015' 'Jul-2014' 'Jan-1989'\n",
      " 'Oct-2015' 'Aug-1977' 'Sep-1982' 'Jan-1972' 'Apr-1990' 'Jan-1991'\n",
      " 'Jul-1990' 'Aug-1986' 'Oct-1985' 'Apr-1982' 'Apr-1988' 'Dec-1986'\n",
      " 'Nov-2013' 'Jan-1984' 'Jan-1982' 'Aug-1993' 'Oct-1990' 'Jun-2013'\n",
      " 'Jan-1993' 'Apr-2014' 'Mar-1999' 'Jun-1990' 'Feb-1991' 'Sep-1981'\n",
      " 'Apr-1984' 'Jul-2016' 'Feb-1989' 'Apr-1995' 'Nov-1982' 'Oct-1982'\n",
      " 'Mar-2009' 'Sep-2013' 'Mar-1985' 'Jun-1973' 'Aug-1982' 'Nov-2015'\n",
      " 'Apr-2011' 'Jan-2015' 'Jun-1965' 'Jan-1986' 'Aug-1989' 'Apr-1985'\n",
      " 'Feb-2014' 'Apr-1996' 'Nov-2009' 'Apr-2012' 'Mar-1934' 'Jan-2012'\n",
      " 'Oct-1984' 'Jul-1987' 'Feb-2012' 'Aug-1985' 'Feb-1981' 'Mar-1994'\n",
      " 'Apr-1993' 'Sep-1985' 'Feb-1986' 'Jan-1973' 'Feb-1999' 'May-1991'\n",
      " 'Jul-1975' 'Jul-1988' 'Nov-2007' 'Nov-1977' 'Nov-2011' 'Feb-1983'\n",
      " 'Jul-1963' 'Mar-2015' 'Mar-1969' 'Mar-1991' 'May-1982' 'Mar-2014'\n",
      " 'Jul-1985' 'Jun-1986' 'Jun-2010' 'Mar-1989' 'Feb-2015' 'Nov-1972'\n",
      " 'Jul-1982' 'Feb-1979' 'Dec-2014' 'May-1989' 'Nov-1989' 'Sep-1974'\n",
      " 'Aug-2016' 'Nov-1990' 'Jul-1991' 'Jun-1977' 'Mar-2016' 'Mar-2010'\n",
      " 'Oct-2014' 'Mar-1990' 'Dec-2010' 'Nov-1984' 'May-1975' 'Mar-2012'\n",
      " 'Mar-1984' 'Nov-1991' 'May-1980' 'Apr-1989' 'Feb-1973' 'Jun-1968'\n",
      " 'Dec-1991' 'Jan-1987' 'Jun-1979' 'Apr-1972' 'Feb-1993' 'May-1983'\n",
      " 'May-1988' 'May-1976' 'Jul-1976' 'Mar-1978' 'Dec-1989' 'Dec-1979'\n",
      " 'Apr-2016' 'Dec-1985' 'May-1970' 'Dec-1992' 'Feb-2016' 'Jul-1979'\n",
      " 'Oct-1986' 'Aug-1981' 'Aug-1968' 'Jul-2010' 'May-1981' 'Jun-1978'\n",
      " 'Nov-1976' 'Jun-1983' 'Jan-1964' 'Aug-1984' 'Aug-1983' 'Aug-1975'\n",
      " 'Apr-1974' 'Sep-1970' 'Oct-2016' 'Aug-1978' 'Mar-1976' 'Jun-1981'\n",
      " 'Oct-1978' 'Oct-1983' 'Nov-1979' 'Sep-2016' 'Jun-1987' 'May-1974'\n",
      " 'Apr-1977' 'Sep-1989' 'Apr-1973' 'Dec-1987' 'Jul-1977' 'Aug-1974'\n",
      " 'Jul-1986' 'May-1990' 'Jan-1978' 'Dec-1983' 'May-2016' 'May-1984'\n",
      " 'Nov-1986' 'Jan-1983' 'Nov-1969' 'Jan-1968' 'Oct-1981' 'May-1978'\n",
      " 'Jul-1964' 'Jan-1967' 'Jul-2015' 'Jan-1985' 'Oct-1969' 'Mar-1983'\n",
      " 'Dec-1984' 'Jan-1975' 'Feb-1985' 'Dec-1982' 'Mar-1980' 'Dec-1978'\n",
      " 'Oct-1977' 'May-1973' 'Dec-1976' 'Jun-1976' 'Jan-1976' 'Nov-2016'\n",
      " 'Dec-1975' 'Sep-1980' 'Feb-1969' 'Apr-1966' 'Mar-1970' 'Jul-1983'\n",
      " 'Jul-1969' 'Sep-1979' 'Oct-1974' 'Jun-1980' 'Mar-2017' 'Aug-1979'\n",
      " 'Mar-1972' 'Sep-1975' 'Oct-1975' 'Dec-1965' 'Oct-1971' 'Jul-1978'\n",
      " 'Apr-1978' 'Jun-1964' 'Oct-1979' 'Dec-1971' 'Feb-1977' 'Mar-1977'\n",
      " 'Jul-1981' 'Jan-1962' 'Jul-1974' 'Mar-1965' 'Feb-2017' 'Nov-1974'\n",
      " 'Feb-1982' 'Feb-1972' 'Feb-1971' 'Mar-1968' 'Mar-1974' 'Apr-1971'\n",
      " 'Dec-1973' 'Feb-1976' 'Jan-2017' 'Feb-1974' 'Aug-1976' 'Dec-2016'\n",
      " 'Sep-1977' 'Sep-1973' 'Sep-1976' 'Oct-1965' 'Jul-1973' 'Nov-1980'\n",
      " 'Sep-1978' 'Sep-1972' 'Aug-1980' 'Apr-1981' 'Mar-1964' 'Oct-1970'\n",
      " 'Nov-1973' 'Jan-1971' 'Jan-1974' 'May-1969' 'Jan-1970' 'Jul-1980'\n",
      " 'Aug-1966' 'Jul-1958' 'Dec-1974' 'Jun-2017' 'Jun-1970' 'Oct-1966'\n",
      " 'Mar-1967' 'Jan-1951' 'Aug-1971' 'Nov-1962' 'Apr-2017' 'Nov-1971'\n",
      " 'Sep-1969' 'Jun-1972' 'Aug-1973' 'May-1977' 'Sep-1964' 'Sep-1967'\n",
      " 'Dec-1977' 'May-1979' 'Jul-1971' 'Dec-1972' 'Feb-1968' 'Dec-1970'\n",
      " 'Apr-1975' 'Feb-1978' 'Aug-1967' 'May-2017' 'Jan-1980' 'Nov-1967'\n",
      " 'Nov-1966' 'Jun-1959' 'Sep-1971' 'Nov-1965' 'Sep-1963']\n"
     ]
    }
   ],
   "source": [
    "print(loan_data['total_il_high_credit_limit'].unique())\n",
    "print(loan_data['revol_bal_joint'].unique())\n",
    "print(loan_data['sec_app_earliest_cr_line'].unique())"
   ]
  },
  {
   "cell_type": "code",
   "execution_count": 117,
   "metadata": {},
   "outputs": [],
   "source": [
    "#Converting the numeric data to in\n",
    "loan_data[['total_il_high_credit_limit']] = loan_data[['total_il_high_credit_limit']].astype(int)\n",
    "loan_data[['revol_bal_joint']] = loan_data[['revol_bal_joint']].astype(int)"
   ]
  },
  {
   "cell_type": "code",
   "execution_count": 118,
   "metadata": {},
   "outputs": [
    {
     "name": "stdout",
     "output_type": "stream",
     "text": [
      "176062\n",
      "1547906\n",
      "215014\n"
     ]
    }
   ],
   "source": [
    "# Show all the sec_app_earliest_cr_line, where the data is 0\n",
    "print(len(loan_data.loc[loan_data['sec_app_earliest_cr_line'] == '0']))\n",
    "print(len(loan_data.loc[loan_data['sec_app_earliest_cr_line'] == 0]))\n",
    "print(len(loan_data.loc[loan_data['sec_app_earliest_cr_line'] != 0]))\n",
    "\n",
    "# Converting all the 0s to one type\n",
    "loan_data.loc[loan_data['sec_app_earliest_cr_line'] == 0, 'sec_app_earliest_cr_line'] = '0'"
   ]
  },
  {
   "cell_type": "code",
   "execution_count": 119,
   "metadata": {},
   "outputs": [
    {
     "name": "stdout",
     "output_type": "stream",
     "text": [
      "   sec_app_inq_last_6mths  sec_app_mort_acc  sec_app_open_acc\n",
      "0                     0.0               0.0               0.0\n",
      "1                     0.0               0.0               0.0\n",
      "2                     0.0               0.0               0.0\n",
      "3                     0.0               0.0               0.0\n",
      "4                     0.0               0.0               0.0\n",
      "5                     0.0               0.0               0.0\n",
      "sec_app_inq_last_6mths float64\n",
      "sec_app_mort_acc float64\n",
      "sec_app_open_acc float64\n"
     ]
    },
    {
     "data": {
      "text/html": [
       "<div>\n",
       "<style scoped>\n",
       "    .dataframe tbody tr th:only-of-type {\n",
       "        vertical-align: middle;\n",
       "    }\n",
       "\n",
       "    .dataframe tbody tr th {\n",
       "        vertical-align: top;\n",
       "    }\n",
       "\n",
       "    .dataframe thead th {\n",
       "        text-align: right;\n",
       "    }\n",
       "</style>\n",
       "<table border=\"1\" class=\"dataframe\">\n",
       "  <thead>\n",
       "    <tr style=\"text-align: right;\">\n",
       "      <th></th>\n",
       "      <th>LoanStatNew</th>\n",
       "      <th>Description</th>\n",
       "    </tr>\n",
       "  </thead>\n",
       "  <tbody>\n",
       "  </tbody>\n",
       "</table>\n",
       "</div>"
      ],
      "text/plain": [
       "Empty DataFrame\n",
       "Columns: [LoanStatNew, Description]\n",
       "Index: []"
      ]
     },
     "execution_count": 119,
     "metadata": {},
     "output_type": "execute_result"
    }
   ],
   "source": [
    "# Fow now, I am keeping all of them.\n",
    "# Later, I will do histogram and see if there is somethign else, I should do.\n",
    "\n",
    "# Moving to next columns\n",
    "print(loan_data.iloc[:6,102:105])\n",
    "for y in loan_data.columns[102:105]:\n",
    "  print(y, loan_data[y].dtype)\n",
    "loan_dict.loc[loan_dict['LoanStatNew'].isin(list(loan_data.columns.values[102:105]))]"
   ]
  },
  {
   "cell_type": "code",
   "execution_count": 120,
   "metadata": {},
   "outputs": [
    {
     "name": "stdout",
     "output_type": "stream",
     "text": [
      "[0. 1. 3. 4. 2. 5. 6.]\n",
      "[ 0.  1.  2.  5.  4.  3.  6.  9.  7.  8. 15. 10. 12. 11. 13. 14. 18. 17.]\n",
      "[ 0.  5.  8. 15.  9.  7. 12.  4. 10. 13. 19. 30.  6. 17. 25. 20. 11. 27.\n",
      " 14. 26.  2. 21. 16. 18.  3. 22. 23. 24. 37. 28. 29.  1. 34. 46. 33. 43.\n",
      " 32. 39. 31. 35. 57. 36. 40. 44. 38. 45. 42. 48. 56. 59. 73. 52. 47. 41.\n",
      " 50. 51. 54. 49. 65. 82.]\n"
     ]
    }
   ],
   "source": [
    "print(loan_data['sec_app_inq_last_6mths'].unique())\n",
    "print(loan_data['sec_app_mort_acc'].unique())\n",
    "print(loan_data['sec_app_open_acc'].unique())"
   ]
  },
  {
   "cell_type": "code",
   "execution_count": 121,
   "metadata": {},
   "outputs": [
    {
     "name": "stdout",
     "output_type": "stream",
     "text": [
      "[0 1 3 4 2 5 6]\n",
      "[ 0  1  2  5  4  3  6  9  7  8 15 10 12 11 13 14 18 17]\n",
      "[ 0  5  8 15  9  7 12  4 10 13 19 30  6 17 25 20 11 27 14 26  2 21 16 18\n",
      "  3 22 23 24 37 28 29  1 34 46 33 43 32 39 31 35 57 36 40 44 38 45 42 48\n",
      " 56 59 73 52 47 41 50 51 54 49 65 82]\n"
     ]
    }
   ],
   "source": [
    "# These can be safely converted to int\n",
    "loan_data[['sec_app_inq_last_6mths']] = loan_data[['sec_app_inq_last_6mths']].astype(int)\n",
    "loan_data[['sec_app_mort_acc']] = loan_data[['sec_app_mort_acc']].astype(int)\n",
    "loan_data[['sec_app_open_acc']] = loan_data[['sec_app_open_acc']].astype(int)\n",
    "\n",
    "print(loan_data['sec_app_inq_last_6mths'].unique())\n",
    "print(loan_data['sec_app_mort_acc'].unique())\n",
    "print(loan_data['sec_app_open_acc'].unique())"
   ]
  },
  {
   "cell_type": "code",
   "execution_count": 122,
   "metadata": {},
   "outputs": [
    {
     "name": "stdout",
     "output_type": "stream",
     "text": [
      "   sec_app_revol_util  sec_app_open_act_il  sec_app_num_rev_accts\n",
      "0                 0.0                  0.0                    0.0\n",
      "1                 0.0                  0.0                    0.0\n",
      "2                 0.0                  0.0                    0.0\n",
      "3                 0.0                  0.0                    0.0\n",
      "4                 0.0                  0.0                    0.0\n",
      "5                 0.0                  0.0                    0.0\n",
      "sec_app_revol_util float64\n",
      "sec_app_open_act_il float64\n",
      "sec_app_num_rev_accts float64\n"
     ]
    },
    {
     "data": {
      "text/html": [
       "<div>\n",
       "<style scoped>\n",
       "    .dataframe tbody tr th:only-of-type {\n",
       "        vertical-align: middle;\n",
       "    }\n",
       "\n",
       "    .dataframe tbody tr th {\n",
       "        vertical-align: top;\n",
       "    }\n",
       "\n",
       "    .dataframe thead th {\n",
       "        text-align: right;\n",
       "    }\n",
       "</style>\n",
       "<table border=\"1\" class=\"dataframe\">\n",
       "  <thead>\n",
       "    <tr style=\"text-align: right;\">\n",
       "      <th></th>\n",
       "      <th>LoanStatNew</th>\n",
       "      <th>Description</th>\n",
       "    </tr>\n",
       "  </thead>\n",
       "  <tbody>\n",
       "    <tr>\n",
       "      <th>123</th>\n",
       "      <td>sec_app_open_act_il</td>\n",
       "      <td>Number of currently active installment trades at time of application for the secondary applicant</td>\n",
       "    </tr>\n",
       "  </tbody>\n",
       "</table>\n",
       "</div>"
      ],
      "text/plain": [
       "             LoanStatNew  \\\n",
       "123  sec_app_open_act_il   \n",
       "\n",
       "                                                                                           Description  \n",
       "123   Number of currently active installment trades at time of application for the secondary applicant  "
      ]
     },
     "execution_count": 122,
     "metadata": {},
     "output_type": "execute_result"
    }
   ],
   "source": [
    "# Moving to next columns\n",
    "print(loan_data.iloc[:6,105:108])\n",
    "for y in loan_data.columns[105:108]:\n",
    "  print(y, loan_data[y].dtype)\n",
    "loan_dict.loc[loan_dict['LoanStatNew'].isin(list(loan_data.columns.values[105:108]))]"
   ]
  },
  {
   "cell_type": "code",
   "execution_count": 123,
   "metadata": {},
   "outputs": [
    {
     "name": "stdout",
     "output_type": "stream",
     "text": [
      "[  0.    9.2  27.7 ... 103.1 109.  105.5]\n",
      "[ 0.  1.  3.  2.  4. 11.  7. 12.  5. 10.  6. 17. 16.  8. 18.  9. 15. 19.\n",
      " 13. 25. 28. 14. 23. 26. 33. 30. 29. 39. 22. 20. 21. 24. 27. 32. 36. 31.\n",
      " 38.]\n",
      "[ 0.  9. 16. 21. 13.  7.  2. 12. 10. 18. 17. 11. 19. 36.  6. 20. 22.  8.\n",
      "  5. 46. 14. 15.  3. 23. 28.  4. 51. 32. 34. 24.  1. 29. 47. 40. 27. 33.\n",
      " 35. 38. 26. 30. 41. 37. 25. 31. 39. 54. 52. 90. 57. 43. 53. 42. 45. 55.\n",
      " 64. 65. 50. 69. 44. 84. 48. 56. 49. 60. 79. 96. 71. 89. 59. 63. 62. 61.\n",
      " 58. 92.]\n"
     ]
    }
   ],
   "source": [
    "# First print the values. If things look ok, then convert them to int.\n",
    "print(loan_data['sec_app_revol_util'].unique())\n",
    "print(loan_data['sec_app_open_act_il'].unique())\n",
    "print(loan_data['sec_app_num_rev_accts'].unique())"
   ]
  },
  {
   "cell_type": "code",
   "execution_count": 124,
   "metadata": {},
   "outputs": [
    {
     "name": "stdout",
     "output_type": "stream",
     "text": [
      "[  0   9  27  69  50  54  41  36  81  85  49  84  80  23  40  61  42  99\n",
      " 102  66  60  65  74  96  11   2  46  83  48  88  63  64  68  58  92   4\n",
      "  59  87  53  24  94  70  90  62  71  32  56  77  38  30  35  51  82  73\n",
      "  78  16  19  86  95  15  39  91  52  26   1  57  93  45  33  89   7  13\n",
      "  98  17  43  31  72  76  97  79  22  75  37  47  29  34  12  67  44   5\n",
      "  20  55  18 101  14 100  10  25   8 106 103  28  21   6 107 108 104 111\n",
      " 120 129   3 110 127 124 109 105 158 118 172 139 112 148 116 126 133 145\n",
      " 114 121 117 132 137 115 142 125 159 135 119 122 182]\n",
      "[ 0  1  3  2  4 11  7 12  5 10  6 17 16  8 18  9 15 19 13 25 28 14 23 26\n",
      " 33 30 29 39 22 20 21 24 27 32 36 31 38]\n",
      "[ 0  9 16 21 13  7  2 12 10 18 17 11 19 36  6 20 22  8  5 46 14 15  3 23\n",
      " 28  4 51 32 34 24  1 29 47 40 27 33 35 38 26 30 41 37 25 31 39 54 52 90\n",
      " 57 43 53 42 45 55 64 65 50 69 44 84 48 56 49 60 79 96 71 89 59 63 62 61\n",
      " 58 92]\n"
     ]
    }
   ],
   "source": [
    "# Convert them to int\n",
    "loan_data[['sec_app_revol_util']] = loan_data[['sec_app_revol_util']].astype(int)\n",
    "loan_data[['sec_app_open_act_il']] = loan_data[['sec_app_open_act_il']].astype(int)\n",
    "loan_data[['sec_app_num_rev_accts']] = loan_data[['sec_app_num_rev_accts']].astype(int)\n",
    "\n",
    "print(loan_data['sec_app_revol_util'].unique())\n",
    "print(loan_data['sec_app_open_act_il'].unique())\n",
    "print(loan_data['sec_app_num_rev_accts'].unique())"
   ]
  },
  {
   "cell_type": "code",
   "execution_count": 125,
   "metadata": {},
   "outputs": [
    {
     "name": "stdout",
     "output_type": "stream",
     "text": [
      "   sec_app_chargeoff_within_12_mths  sec_app_collections_12_mths_ex_med\n",
      "0                               0.0                                 0.0\n",
      "1                               0.0                                 0.0\n",
      "2                               0.0                                 0.0\n",
      "3                               0.0                                 0.0\n",
      "4                               0.0                                 0.0\n",
      "5                               0.0                                 0.0\n",
      "sec_app_chargeoff_within_12_mths float64\n",
      "sec_app_collections_12_mths_ex_med float64\n"
     ]
    },
    {
     "data": {
      "text/html": [
       "<div>\n",
       "<style scoped>\n",
       "    .dataframe tbody tr th:only-of-type {\n",
       "        vertical-align: middle;\n",
       "    }\n",
       "\n",
       "    .dataframe tbody tr th {\n",
       "        vertical-align: top;\n",
       "    }\n",
       "\n",
       "    .dataframe thead th {\n",
       "        text-align: right;\n",
       "    }\n",
       "</style>\n",
       "<table border=\"1\" class=\"dataframe\">\n",
       "  <thead>\n",
       "    <tr style=\"text-align: right;\">\n",
       "      <th></th>\n",
       "      <th>LoanStatNew</th>\n",
       "      <th>Description</th>\n",
       "    </tr>\n",
       "  </thead>\n",
       "  <tbody>\n",
       "  </tbody>\n",
       "</table>\n",
       "</div>"
      ],
      "text/plain": [
       "Empty DataFrame\n",
       "Columns: [LoanStatNew, Description]\n",
       "Index: []"
      ]
     },
     "execution_count": 125,
     "metadata": {},
     "output_type": "execute_result"
    }
   ],
   "source": [
    "# Moving to next columns\n",
    "print(loan_data.iloc[:6,108:110])\n",
    "for y in loan_data.columns[108:110]:\n",
    "  print(y, loan_data[y].dtype)\n",
    "loan_dict.loc[loan_dict['LoanStatNew'].isin(list(loan_data.columns.values[108:110]))]"
   ]
  },
  {
   "cell_type": "code",
   "execution_count": 126,
   "metadata": {},
   "outputs": [
    {
     "name": "stdout",
     "output_type": "stream",
     "text": [
      "Before\n",
      "[ 0.  1.  4.  2.  3.  6.  7. 11.  5.  9. 14. 10. 18. 13. 21. 16. 12. 17.\n",
      "  8.]\n",
      "[ 0.  2.  1.  3.  4. 10.  6. 11.  5.  9.  7.  8. 12. 16.]\n",
      "After\n",
      "[ 0  1  4  2  3  6  7 11  5  9 14 10 18 13 21 16 12 17  8]\n",
      "[ 0  2  1  3  4 10  6 11  5  9  7  8 12 16]\n"
     ]
    }
   ],
   "source": [
    "# Print\n",
    "print('Before')\n",
    "print(loan_data['sec_app_chargeoff_within_12_mths'].unique())\n",
    "print(loan_data['sec_app_collections_12_mths_ex_med'].unique())\n",
    "\n",
    "# Convert them to int\n",
    "loan_data[['sec_app_chargeoff_within_12_mths']] = loan_data[['sec_app_chargeoff_within_12_mths']].astype(int)\n",
    "loan_data[['sec_app_collections_12_mths_ex_med']] = loan_data[['sec_app_collections_12_mths_ex_med']].astype(int)\n",
    "\n",
    "# Print again\n",
    "print('After')\n",
    "print(loan_data['sec_app_chargeoff_within_12_mths'].unique())\n",
    "print(loan_data['sec_app_collections_12_mths_ex_med'].unique())"
   ]
  },
  {
   "cell_type": "code",
   "execution_count": 127,
   "metadata": {},
   "outputs": [
    {
     "name": "stdout",
     "output_type": "stream",
     "text": [
      "   sec_app_mths_since_last_major_derog hardship_flag hardship_type\n",
      "0                                  0.0             N             0\n",
      "1                                  0.0             N             0\n",
      "2                                  0.0             N             0\n",
      "3                                  0.0             N             0\n",
      "4                                  0.0             N             0\n",
      "5                                  0.0             N             0\n",
      "sec_app_mths_since_last_major_derog float64\n",
      "hardship_flag object\n",
      "hardship_type object\n"
     ]
    },
    {
     "data": {
      "text/html": [
       "<div>\n",
       "<style scoped>\n",
       "    .dataframe tbody tr th:only-of-type {\n",
       "        vertical-align: middle;\n",
       "    }\n",
       "\n",
       "    .dataframe tbody tr th {\n",
       "        vertical-align: top;\n",
       "    }\n",
       "\n",
       "    .dataframe thead th {\n",
       "        text-align: right;\n",
       "    }\n",
       "</style>\n",
       "<table border=\"1\" class=\"dataframe\">\n",
       "  <thead>\n",
       "    <tr style=\"text-align: right;\">\n",
       "      <th></th>\n",
       "      <th>LoanStatNew</th>\n",
       "      <th>Description</th>\n",
       "    </tr>\n",
       "  </thead>\n",
       "  <tbody>\n",
       "    <tr>\n",
       "      <th>128</th>\n",
       "      <td>hardship_flag</td>\n",
       "      <td>Flags whether or not the borrower is on a hardship plan</td>\n",
       "    </tr>\n",
       "    <tr>\n",
       "      <th>129</th>\n",
       "      <td>hardship_type</td>\n",
       "      <td>Describes the hardship plan offering</td>\n",
       "    </tr>\n",
       "  </tbody>\n",
       "</table>\n",
       "</div>"
      ],
      "text/plain": [
       "       LoanStatNew                                              Description\n",
       "128  hardship_flag  Flags whether or not the borrower is on a hardship plan\n",
       "129  hardship_type                     Describes the hardship plan offering"
      ]
     },
     "execution_count": 127,
     "metadata": {},
     "output_type": "execute_result"
    }
   ],
   "source": [
    "# Moving to next columns\n",
    "print(loan_data.iloc[:6,110:113])\n",
    "for y in loan_data.columns[110:113]:\n",
    "  print(y, loan_data[y].dtype)\n",
    "loan_dict.loc[loan_dict['LoanStatNew'].isin(list(loan_data.columns.values[110:113]))]"
   ]
  },
  {
   "cell_type": "code",
   "execution_count": 128,
   "metadata": {},
   "outputs": [
    {
     "name": "stdout",
     "output_type": "stream",
     "text": [
      "[  0.  52.  38.  72.  36.  57.   2.  55.  75.  13.  10.  26.  73. 105.\n",
      "  62.   8.  47.  70.  30.  15.  88.  19.  49.  77.   4.   6.  50.  63.\n",
      "  24.  59.  54.  45.  74.  11.  22.  44.  20.  41.  32.  37.  67.  16.\n",
      "  39.  71.  81.  28.   5.  43.  58.   1.   3.   9.  35.  64.   7.  17.\n",
      "  34.  79.  25.  61.  29.  56.  31.  18.  33.  12.  51.  46.  14.  40.\n",
      "  65.  76.  48.  68.  42.  66.  80.  23.  27.  21.  78.  53.  60.  69.\n",
      " 102. 108.  92.  83.  82.  85.  84.  97.  98.  93. 119. 101.  95. 115.\n",
      "  90.  91. 114.  94. 136. 159. 104.  89. 103.  96.  86. 118. 109.  87.\n",
      " 100. 141. 142. 110. 107. 131.  99. 116. 113. 106. 125. 129. 124. 132.]\n",
      "['N' 'Y']\n",
      "['0' 0 'INTEREST ONLY-3 MONTHS DEFERRAL']\n"
     ]
    }
   ],
   "source": [
    "print(loan_data['sec_app_mths_since_last_major_derog'].unique())\n",
    "print(loan_data['hardship_flag'].unique())\n",
    "print(loan_data['hardship_type'].unique())"
   ]
  },
  {
   "cell_type": "code",
   "execution_count": 129,
   "metadata": {},
   "outputs": [
    {
     "name": "stdout",
     "output_type": "stream",
     "text": [
      "[  0  52  38  72  36  57   2  55  75  13  10  26  73 105  62   8  47  70\n",
      "  30  15  88  19  49  77   4   6  50  63  24  59  54  45  74  11  22  44\n",
      "  20  41  32  37  67  16  39  71  81  28   5  43  58   1   3   9  35  64\n",
      "   7  17  34  79  25  61  29  56  31  18  33  12  51  46  14  40  65  76\n",
      "  48  68  42  66  80  23  27  21  78  53  60  69 102 108  92  83  82  85\n",
      "  84  97  98  93 119 101  95 115  90  91 114  94 136 159 104  89 103  96\n",
      "  86 118 109  87 100 141 142 110 107 131  99 116 113 106 125 129 124 132]\n",
      "['N' 'Y']\n"
     ]
    }
   ],
   "source": [
    "# Converting sec_app_mths_since_last_major_derog to int.\n",
    "loan_data[['sec_app_mths_since_last_major_derog']] = loan_data[['sec_app_mths_since_last_major_derog']].astype(int)\n",
    "\n",
    "# Dropping hardship_type as there is only one type of non-zero data\n",
    "loan_data = loan_data.drop('hardship_type', 1)\n",
    "\n",
    "print(loan_data['sec_app_mths_since_last_major_derog'].unique())\n",
    "print(loan_data['hardship_flag'].unique())"
   ]
  },
  {
   "cell_type": "code",
   "execution_count": 130,
   "metadata": {},
   "outputs": [
    {
     "name": "stdout",
     "output_type": "stream",
     "text": [
      "  hardship_reason hardship_status  deferral_term  hardship_amount\n",
      "0               0               0            0.0              0.0\n",
      "1               0               0            0.0              0.0\n",
      "2               0               0            0.0              0.0\n",
      "3               0               0            0.0              0.0\n",
      "4               0               0            0.0              0.0\n",
      "5               0               0            0.0              0.0\n",
      "hardship_reason object\n",
      "hardship_status object\n",
      "deferral_term float64\n",
      "hardship_amount float64\n"
     ]
    },
    {
     "data": {
      "text/html": [
       "<div>\n",
       "<style scoped>\n",
       "    .dataframe tbody tr th:only-of-type {\n",
       "        vertical-align: middle;\n",
       "    }\n",
       "\n",
       "    .dataframe tbody tr th {\n",
       "        vertical-align: top;\n",
       "    }\n",
       "\n",
       "    .dataframe thead th {\n",
       "        text-align: right;\n",
       "    }\n",
       "</style>\n",
       "<table border=\"1\" class=\"dataframe\">\n",
       "  <thead>\n",
       "    <tr style=\"text-align: right;\">\n",
       "      <th></th>\n",
       "      <th>LoanStatNew</th>\n",
       "      <th>Description</th>\n",
       "    </tr>\n",
       "  </thead>\n",
       "  <tbody>\n",
       "    <tr>\n",
       "      <th>130</th>\n",
       "      <td>hardship_reason</td>\n",
       "      <td>Describes the reason the hardship plan was offered</td>\n",
       "    </tr>\n",
       "    <tr>\n",
       "      <th>131</th>\n",
       "      <td>hardship_status</td>\n",
       "      <td>Describes if the hardship plan is active, pending, canceled, completed, or broken</td>\n",
       "    </tr>\n",
       "    <tr>\n",
       "      <th>132</th>\n",
       "      <td>deferral_term</td>\n",
       "      <td>Amount of months that the borrower is expected to pay less than the contractual monthly payment amount due to a hardship plan</td>\n",
       "    </tr>\n",
       "    <tr>\n",
       "      <th>133</th>\n",
       "      <td>hardship_amount</td>\n",
       "      <td>The interest payment that the borrower has committed to make each month while they are on a hardship plan</td>\n",
       "    </tr>\n",
       "  </tbody>\n",
       "</table>\n",
       "</div>"
      ],
      "text/plain": [
       "         LoanStatNew  \\\n",
       "130  hardship_reason   \n",
       "131  hardship_status   \n",
       "132    deferral_term   \n",
       "133  hardship_amount   \n",
       "\n",
       "                                                                                                                       Description  \n",
       "130                                                                             Describes the reason the hardship plan was offered  \n",
       "131                                              Describes if the hardship plan is active, pending, canceled, completed, or broken  \n",
       "132  Amount of months that the borrower is expected to pay less than the contractual monthly payment amount due to a hardship plan  \n",
       "133                      The interest payment that the borrower has committed to make each month while they are on a hardship plan  "
      ]
     },
     "execution_count": 130,
     "metadata": {},
     "output_type": "execute_result"
    }
   ],
   "source": [
    "# Moving to next columns\n",
    "print(loan_data.iloc[:6,112:116])\n",
    "for y in loan_data.columns[112:116]:\n",
    "  print(y, loan_data[y].dtype)\n",
    "loan_dict.loc[loan_dict['LoanStatNew'].isin(list(loan_data.columns.values[112:116]))]"
   ]
  },
  {
   "cell_type": "code",
   "execution_count": 131,
   "metadata": {},
   "outputs": [
    {
     "name": "stdout",
     "output_type": "stream",
     "text": [
      "['0' 0 'INCOME_CURTAILMENT' 'MEDICAL' 'NATURAL_DISASTER'\n",
      " 'EXCESSIVE_OBLIGATIONS' 'UNEMPLOYMENT' 'FAMILY_DEATH' 'REDUCED_HOURS'\n",
      " 'DISABILITY' 'DIVORCE']\n",
      "['0' 0 'COMPLETED' 'BROKEN' 'ACTIVE']\n",
      "[0. 3.]\n",
      "[  0.   174.27  43.51 ... 196.12 742.51 181.84]\n"
     ]
    }
   ],
   "source": [
    "print(loan_data['hardship_reason'].unique())\n",
    "print(loan_data['hardship_status'].unique())\n",
    "print(loan_data['deferral_term'].unique())\n",
    "print(loan_data['hardship_amount'].unique())"
   ]
  },
  {
   "cell_type": "code",
   "execution_count": 132,
   "metadata": {},
   "outputs": [
    {
     "name": "stdout",
     "output_type": "stream",
     "text": [
      "['0' 'INCOME_CURTAILMENT' 'MEDICAL' 'NATURAL_DISASTER'\n",
      " 'EXCESSIVE_OBLIGATIONS' 'UNEMPLOYMENT' 'FAMILY_DEATH' 'REDUCED_HOURS'\n",
      " 'DISABILITY' 'DIVORCE']\n",
      "['0' 'COMPLETED' 'BROKEN' 'ACTIVE']\n",
      "[0 3]\n",
      "[  0.   174.27  43.51 ... 196.12 742.51 181.84]\n"
     ]
    }
   ],
   "source": [
    "# Converting some of them to int\n",
    "loan_data[['deferral_term']] = loan_data[['deferral_term']].astype(int)\n",
    "\n",
    "# Converting all the 0s to one type\n",
    "loan_data.loc[loan_data['hardship_reason'] == 0, 'hardship_reason'] = '0'\n",
    "loan_data.loc[loan_data['hardship_status'] == 0, 'hardship_status'] = '0'\n",
    "\n",
    "print(loan_data['hardship_reason'].unique())\n",
    "print(loan_data['hardship_status'].unique())\n",
    "print(loan_data['deferral_term'].unique())\n",
    "print(loan_data['hardship_amount'].unique())"
   ]
  },
  {
   "cell_type": "code",
   "execution_count": 133,
   "metadata": {},
   "outputs": [
    {
     "name": "stdout",
     "output_type": "stream",
     "text": [
      "  hardship_start_date hardship_end_date payment_plan_start_date\n",
      "0                   0                 0                       0\n",
      "1                   0                 0                       0\n",
      "2                   0                 0                       0\n",
      "3                   0                 0                       0\n",
      "4                   0                 0                       0\n",
      "5                   0                 0                       0\n",
      "hardship_start_date object\n",
      "hardship_end_date object\n",
      "payment_plan_start_date object\n"
     ]
    },
    {
     "data": {
      "text/html": [
       "<div>\n",
       "<style scoped>\n",
       "    .dataframe tbody tr th:only-of-type {\n",
       "        vertical-align: middle;\n",
       "    }\n",
       "\n",
       "    .dataframe tbody tr th {\n",
       "        vertical-align: top;\n",
       "    }\n",
       "\n",
       "    .dataframe thead th {\n",
       "        text-align: right;\n",
       "    }\n",
       "</style>\n",
       "<table border=\"1\" class=\"dataframe\">\n",
       "  <thead>\n",
       "    <tr style=\"text-align: right;\">\n",
       "      <th></th>\n",
       "      <th>LoanStatNew</th>\n",
       "      <th>Description</th>\n",
       "    </tr>\n",
       "  </thead>\n",
       "  <tbody>\n",
       "    <tr>\n",
       "      <th>134</th>\n",
       "      <td>hardship_start_date</td>\n",
       "      <td>The start date of the hardship plan period</td>\n",
       "    </tr>\n",
       "    <tr>\n",
       "      <th>135</th>\n",
       "      <td>hardship_end_date</td>\n",
       "      <td>The end date of the hardship plan period</td>\n",
       "    </tr>\n",
       "    <tr>\n",
       "      <th>136</th>\n",
       "      <td>payment_plan_start_date</td>\n",
       "      <td>The day the first hardship plan payment is due. For example, if a borrower has a hardship plan period of 3 months, the start date is the start of the three-month period in which the borrower is allowed to make interest-only payments.</td>\n",
       "    </tr>\n",
       "  </tbody>\n",
       "</table>\n",
       "</div>"
      ],
      "text/plain": [
       "                 LoanStatNew  \\\n",
       "134      hardship_start_date   \n",
       "135        hardship_end_date   \n",
       "136  payment_plan_start_date   \n",
       "\n",
       "                                                                                                                                                                                                                                   Description  \n",
       "134                                                                                                                                                                                                 The start date of the hardship plan period  \n",
       "135                                                                                                                                                                                                   The end date of the hardship plan period  \n",
       "136  The day the first hardship plan payment is due. For example, if a borrower has a hardship plan period of 3 months, the start date is the start of the three-month period in which the borrower is allowed to make interest-only payments.  "
      ]
     },
     "execution_count": 133,
     "metadata": {},
     "output_type": "execute_result"
    }
   ],
   "source": [
    "# Moving to next columns\n",
    "print(loan_data.iloc[:6,116:119])\n",
    "for y in loan_data.columns[116:119]:\n",
    "  print(y, loan_data[y].dtype)\n",
    "loan_dict.loc[loan_dict['LoanStatNew'].isin(list(loan_data.columns.values[116:119]))]"
   ]
  },
  {
   "cell_type": "code",
   "execution_count": 134,
   "metadata": {},
   "outputs": [
    {
     "name": "stdout",
     "output_type": "stream",
     "text": [
      "['0' 'May-2017' 'Jun-2017' 'Sep-2017' 'Oct-2017' 'Dec-2017' 'Aug-2017'\n",
      " 'Jul-2017' 'Jan-2018' 'Nov-2017' 'Feb-2017' 'Mar-2017' 'Apr-2017'\n",
      " 'Jan-2017']\n",
      "['0' 'Aug-2017' 'Sep-2017' 'Dec-2017' 'Nov-2017' 'Jun-2017' 'Feb-2018'\n",
      " 'Jan-2018' 'Oct-2017' 'Mar-2018' 'Jul-2017' 'Apr-2017' 'Apr-2018'\n",
      " 'May-2017' 'Mar-2017']\n",
      "['0' 'May-2017' 'Jul-2017' 'Oct-2017' 'Sep-2017' 'Dec-2017' 'Nov-2017'\n",
      " 'Aug-2017' 'Jun-2017' 'Jan-2018' 'Feb-2017' 'Feb-2018' 'Mar-2017'\n",
      " 'Apr-2017']\n"
     ]
    }
   ],
   "source": [
    "# Converting all the 0s to one type\n",
    "loan_data.loc[loan_data['hardship_start_date'] == 0, 'hardship_start_date'] = '0'\n",
    "loan_data.loc[loan_data['hardship_end_date'] == 0, 'hardship_end_date'] = '0'\n",
    "loan_data.loc[loan_data['payment_plan_start_date'] == 0, 'payment_plan_start_date'] = '0'\n",
    "\n",
    "print(loan_data['hardship_start_date'].unique())\n",
    "print(loan_data['hardship_end_date'].unique())\n",
    "print(loan_data['payment_plan_start_date'].unique())"
   ]
  },
  {
   "cell_type": "code",
   "execution_count": 135,
   "metadata": {},
   "outputs": [
    {
     "name": "stdout",
     "output_type": "stream",
     "text": [
      "   hardship_length  hardship_dpd hardship_loan_status\n",
      "0              0.0           0.0                    0\n",
      "1              0.0           0.0                    0\n",
      "2              0.0           0.0                    0\n",
      "3              0.0           0.0                    0\n",
      "4              0.0           0.0                    0\n",
      "5              0.0           0.0                    0\n",
      "hardship_length float64\n",
      "hardship_dpd float64\n",
      "hardship_loan_status object\n"
     ]
    },
    {
     "data": {
      "text/html": [
       "<div>\n",
       "<style scoped>\n",
       "    .dataframe tbody tr th:only-of-type {\n",
       "        vertical-align: middle;\n",
       "    }\n",
       "\n",
       "    .dataframe tbody tr th {\n",
       "        vertical-align: top;\n",
       "    }\n",
       "\n",
       "    .dataframe thead th {\n",
       "        text-align: right;\n",
       "    }\n",
       "</style>\n",
       "<table border=\"1\" class=\"dataframe\">\n",
       "  <thead>\n",
       "    <tr style=\"text-align: right;\">\n",
       "      <th></th>\n",
       "      <th>LoanStatNew</th>\n",
       "      <th>Description</th>\n",
       "    </tr>\n",
       "  </thead>\n",
       "  <tbody>\n",
       "    <tr>\n",
       "      <th>137</th>\n",
       "      <td>hardship_length</td>\n",
       "      <td>The number of months the borrower will make smaller payments than normally obligated due to a hardship plan</td>\n",
       "    </tr>\n",
       "    <tr>\n",
       "      <th>138</th>\n",
       "      <td>hardship_dpd</td>\n",
       "      <td>Account days past due as of the hardship plan start date</td>\n",
       "    </tr>\n",
       "    <tr>\n",
       "      <th>139</th>\n",
       "      <td>hardship_loan_status</td>\n",
       "      <td>Loan Status as of the hardship plan start date</td>\n",
       "    </tr>\n",
       "  </tbody>\n",
       "</table>\n",
       "</div>"
      ],
      "text/plain": [
       "              LoanStatNew  \\\n",
       "137       hardship_length   \n",
       "138          hardship_dpd   \n",
       "139  hardship_loan_status   \n",
       "\n",
       "                                                                                                     Description  \n",
       "137  The number of months the borrower will make smaller payments than normally obligated due to a hardship plan  \n",
       "138                                                     Account days past due as of the hardship plan start date  \n",
       "139                                                               Loan Status as of the hardship plan start date  "
      ]
     },
     "execution_count": 135,
     "metadata": {},
     "output_type": "execute_result"
    }
   ],
   "source": [
    "# Moving to next columns\n",
    "print(loan_data.iloc[:6,119:122])\n",
    "for y in loan_data.columns[119:122]:\n",
    "  print(y, loan_data[y].dtype)\n",
    "loan_dict.loc[loan_dict['LoanStatNew'].isin(list(loan_data.columns.values[119:122]))]"
   ]
  },
  {
   "cell_type": "code",
   "execution_count": 136,
   "metadata": {},
   "outputs": [
    {
     "name": "stdout",
     "output_type": "stream",
     "text": [
      "[0. 3.]\n",
      "[ 0. 15. 10. 21. 26. 22. 27.  9. 29. 28. 11. 12. 14. 20. 13. 25. 16.  8.\n",
      " 17. 24. 18. 19. 23. 32.  7.  3.  6. 30.  4.  5.  2.  1. 31. 37.]\n",
      "['0' 0 'Late (31-120 days)' 'Current' 'In Grace Period'\n",
      " 'Late (16-30 days)' 'Issued']\n"
     ]
    }
   ],
   "source": [
    "print(loan_data['hardship_length'].unique())\n",
    "print(loan_data['hardship_dpd'].unique())\n",
    "print(loan_data['hardship_loan_status'].unique())"
   ]
  },
  {
   "cell_type": "code",
   "execution_count": 137,
   "metadata": {},
   "outputs": [
    {
     "name": "stdout",
     "output_type": "stream",
     "text": [
      "[0 3]\n",
      "[ 0 15 10 21 26 22 27  9 29 28 11 12 14 20 13 25 16  8 17 24 18 19 23 32\n",
      "  7  3  6 30  4  5  2  1 31 37]\n",
      "['0' 0 'Late (31-120 days)' 'Current' 'In Grace Period'\n",
      " 'Late (16-30 days)' 'Issued']\n"
     ]
    }
   ],
   "source": [
    "# Converting some to int\n",
    "loan_data['hardship_length'] = loan_data['hardship_length'].astype(int)\n",
    "loan_data['hardship_dpd'] = loan_data['hardship_dpd'].astype(int)\n",
    "\n",
    "print(loan_data['hardship_length'].unique())\n",
    "print(loan_data['hardship_dpd'].unique())\n",
    "print(loan_data['hardship_loan_status'].unique())"
   ]
  },
  {
   "cell_type": "code",
   "execution_count": 138,
   "metadata": {},
   "outputs": [
    {
     "name": "stdout",
     "output_type": "stream",
     "text": [
      "[0 3]\n",
      "[ 0 15 10 21 26 22 27  9 29 28 11 12 14 20 13 25 16  8 17 24 18 19 23 32\n",
      "  7  3  6 30  4  5  2  1 31 37]\n",
      "['0' 'Late (31-120 days)' 'Current' 'In Grace Period' 'Late (16-30 days)'\n",
      " 'Issued']\n"
     ]
    }
   ],
   "source": [
    "# Converting all the 0s to one type\n",
    "loan_data.loc[loan_data['hardship_loan_status'] == 0, 'hardship_loan_status'] = '0'\n",
    "print(loan_data['hardship_length'].unique())\n",
    "print(loan_data['hardship_dpd'].unique())\n",
    "print(loan_data['hardship_loan_status'].unique())"
   ]
  },
  {
   "cell_type": "code",
   "execution_count": 139,
   "metadata": {},
   "outputs": [
    {
     "name": "stdout",
     "output_type": "stream",
     "text": [
      "   orig_projected_additional_accrued_interest  hardship_payoff_balance_amount\n",
      "0                                         0.0                             0.0\n",
      "1                                         0.0                             0.0\n",
      "2                                         0.0                             0.0\n",
      "3                                         0.0                             0.0\n",
      "4                                         0.0                             0.0\n",
      "5                                         0.0                             0.0\n",
      "orig_projected_additional_accrued_interest float64\n",
      "hardship_payoff_balance_amount float64\n"
     ]
    },
    {
     "data": {
      "text/html": [
       "<div>\n",
       "<style scoped>\n",
       "    .dataframe tbody tr th:only-of-type {\n",
       "        vertical-align: middle;\n",
       "    }\n",
       "\n",
       "    .dataframe tbody tr th {\n",
       "        vertical-align: top;\n",
       "    }\n",
       "\n",
       "    .dataframe thead th {\n",
       "        text-align: right;\n",
       "    }\n",
       "</style>\n",
       "<table border=\"1\" class=\"dataframe\">\n",
       "  <thead>\n",
       "    <tr style=\"text-align: right;\">\n",
       "      <th></th>\n",
       "      <th>LoanStatNew</th>\n",
       "      <th>Description</th>\n",
       "    </tr>\n",
       "  </thead>\n",
       "  <tbody>\n",
       "    <tr>\n",
       "      <th>140</th>\n",
       "      <td>orig_projected_additional_accrued_interest</td>\n",
       "      <td>The original projected additional interest amount that will accrue for the given hardship payment plan as of the Hardship Start Date. This field will be null if the borrower has broken their hardship payment plan.</td>\n",
       "    </tr>\n",
       "    <tr>\n",
       "      <th>141</th>\n",
       "      <td>hardship_payoff_balance_amount</td>\n",
       "      <td>The payoff balance amount as of the hardship plan start date</td>\n",
       "    </tr>\n",
       "  </tbody>\n",
       "</table>\n",
       "</div>"
      ],
      "text/plain": [
       "                                    LoanStatNew  \\\n",
       "140  orig_projected_additional_accrued_interest   \n",
       "141              hardship_payoff_balance_amount   \n",
       "\n",
       "                                                                                                                                                                                                               Description  \n",
       "140  The original projected additional interest amount that will accrue for the given hardship payment plan as of the Hardship Start Date. This field will be null if the borrower has broken their hardship payment plan.  \n",
       "141                                                                                                                                                           The payoff balance amount as of the hardship plan start date  "
      ]
     },
     "execution_count": 139,
     "metadata": {},
     "output_type": "execute_result"
    }
   ],
   "source": [
    "# Moving to next columns\n",
    "print(loan_data.iloc[:6,122:124])\n",
    "for y in loan_data.columns[122:124]:\n",
    "  print(y, loan_data[y].dtype)\n",
    "loan_dict.loc[loan_dict['LoanStatNew'].isin(list(loan_data.columns.values[122:124]))]"
   ]
  },
  {
   "cell_type": "code",
   "execution_count": 140,
   "metadata": {},
   "outputs": [
    {
     "name": "stdout",
     "output_type": "stream",
     "text": [
      "[   0.    522.81  130.53 ...  588.36 2227.53  545.52]\n",
      "[    0.   13484.05  3390.41 ... 15787.3  29633.81 20078.79]\n"
     ]
    }
   ],
   "source": [
    "print(loan_data['orig_projected_additional_accrued_interest'].unique())\n",
    "print(loan_data['hardship_payoff_balance_amount'].unique())"
   ]
  },
  {
   "cell_type": "code",
   "execution_count": 141,
   "metadata": {},
   "outputs": [
    {
     "name": "stdout",
     "output_type": "stream",
     "text": [
      "   hardship_last_payment_amount disbursement_method debt_settlement_flag\n",
      "0                           0.0                Cash                    N\n",
      "1                           0.0                Cash                    N\n",
      "2                           0.0                Cash                    N\n",
      "3                           0.0                Cash                    N\n",
      "4                           0.0                Cash                    N\n",
      "5                           0.0                Cash                    N\n",
      "hardship_last_payment_amount float64\n",
      "disbursement_method object\n",
      "debt_settlement_flag object\n"
     ]
    },
    {
     "data": {
      "text/html": [
       "<div>\n",
       "<style scoped>\n",
       "    .dataframe tbody tr th:only-of-type {\n",
       "        vertical-align: middle;\n",
       "    }\n",
       "\n",
       "    .dataframe tbody tr th {\n",
       "        vertical-align: top;\n",
       "    }\n",
       "\n",
       "    .dataframe thead th {\n",
       "        text-align: right;\n",
       "    }\n",
       "</style>\n",
       "<table border=\"1\" class=\"dataframe\">\n",
       "  <thead>\n",
       "    <tr style=\"text-align: right;\">\n",
       "      <th></th>\n",
       "      <th>LoanStatNew</th>\n",
       "      <th>Description</th>\n",
       "    </tr>\n",
       "  </thead>\n",
       "  <tbody>\n",
       "    <tr>\n",
       "      <th>142</th>\n",
       "      <td>hardship_last_payment_amount</td>\n",
       "      <td>The last payment amount as of the hardship plan start date</td>\n",
       "    </tr>\n",
       "    <tr>\n",
       "      <th>143</th>\n",
       "      <td>disbursement_method</td>\n",
       "      <td>The method by which the borrower receives their loan. Possible values are: CASH, DIRECT_PAY</td>\n",
       "    </tr>\n",
       "    <tr>\n",
       "      <th>144</th>\n",
       "      <td>debt_settlement_flag</td>\n",
       "      <td>Flags whether or not the borrower, who has charged-off, is working with a debt-settlement company.</td>\n",
       "    </tr>\n",
       "  </tbody>\n",
       "</table>\n",
       "</div>"
      ],
      "text/plain": [
       "                      LoanStatNew  \\\n",
       "142  hardship_last_payment_amount   \n",
       "143           disbursement_method   \n",
       "144          debt_settlement_flag   \n",
       "\n",
       "                                                                                            Description  \n",
       "142                                          The last payment amount as of the hardship plan start date  \n",
       "143         The method by which the borrower receives their loan. Possible values are: CASH, DIRECT_PAY  \n",
       "144  Flags whether or not the borrower, who has charged-off, is working with a debt-settlement company.  "
      ]
     },
     "execution_count": 141,
     "metadata": {},
     "output_type": "execute_result"
    }
   ],
   "source": [
    "# Moving to next columns\n",
    "print(loan_data.iloc[:6,124:127])\n",
    "for y in loan_data.columns[124:127]:\n",
    "  print(y, loan_data[y].dtype)\n",
    "loan_dict.loc[loan_dict['LoanStatNew'].isin(list(loan_data.columns.values[124:127]))]"
   ]
  },
  {
   "cell_type": "code",
   "execution_count": 142,
   "metadata": {},
   "outputs": [
    {
     "name": "stdout",
     "output_type": "stream",
     "text": [
      "[  0.   232.1  124.9  ... 778.58 131.12 104.86]\n",
      "['Cash' 'DirectPay']\n",
      "['N' 'Y']\n"
     ]
    }
   ],
   "source": [
    "print(loan_data['hardship_last_payment_amount'].unique())\n",
    "print(loan_data['disbursement_method'].unique())\n",
    "print(loan_data['debt_settlement_flag'].unique())"
   ]
  },
  {
   "cell_type": "code",
   "execution_count": 143,
   "metadata": {},
   "outputs": [
    {
     "name": "stdout",
     "output_type": "stream",
     "text": [
      "  debt_settlement_flag_date settlement_status settlement_date\n",
      "0                         0                 0               0\n",
      "1                         0                 0               0\n",
      "2                         0                 0               0\n",
      "3                         0                 0               0\n",
      "4                         0                 0               0\n",
      "5                         0                 0               0\n",
      "debt_settlement_flag_date object\n",
      "settlement_status object\n",
      "settlement_date object\n"
     ]
    },
    {
     "data": {
      "text/html": [
       "<div>\n",
       "<style scoped>\n",
       "    .dataframe tbody tr th:only-of-type {\n",
       "        vertical-align: middle;\n",
       "    }\n",
       "\n",
       "    .dataframe tbody tr th {\n",
       "        vertical-align: top;\n",
       "    }\n",
       "\n",
       "    .dataframe thead th {\n",
       "        text-align: right;\n",
       "    }\n",
       "</style>\n",
       "<table border=\"1\" class=\"dataframe\">\n",
       "  <thead>\n",
       "    <tr style=\"text-align: right;\">\n",
       "      <th></th>\n",
       "      <th>LoanStatNew</th>\n",
       "      <th>Description</th>\n",
       "    </tr>\n",
       "  </thead>\n",
       "  <tbody>\n",
       "    <tr>\n",
       "      <th>145</th>\n",
       "      <td>debt_settlement_flag_date</td>\n",
       "      <td>The most recent date that the Debt_Settlement_Flag has been set</td>\n",
       "    </tr>\n",
       "    <tr>\n",
       "      <th>146</th>\n",
       "      <td>settlement_status</td>\n",
       "      <td>The status of the borrower’s settlement plan. Possible values are: COMPLETE, ACTIVE, BROKEN, CANCELLED, DENIED, DRAFT</td>\n",
       "    </tr>\n",
       "    <tr>\n",
       "      <th>147</th>\n",
       "      <td>settlement_date</td>\n",
       "      <td>The date that the borrower agrees to the settlement plan</td>\n",
       "    </tr>\n",
       "  </tbody>\n",
       "</table>\n",
       "</div>"
      ],
      "text/plain": [
       "                   LoanStatNew  \\\n",
       "145  debt_settlement_flag_date   \n",
       "146          settlement_status   \n",
       "147            settlement_date   \n",
       "\n",
       "                                                                                                               Description  \n",
       "145                                                      The most recent date that the Debt_Settlement_Flag has been set    \n",
       "146  The status of the borrower’s settlement plan. Possible values are: COMPLETE, ACTIVE, BROKEN, CANCELLED, DENIED, DRAFT  \n",
       "147                                                               The date that the borrower agrees to the settlement plan  "
      ]
     },
     "execution_count": 143,
     "metadata": {},
     "output_type": "execute_result"
    }
   ],
   "source": [
    "# Moving to next columns\n",
    "print(loan_data.iloc[:6,127:130])\n",
    "for y in loan_data.columns[127:130]:\n",
    "  print(y, loan_data[y].dtype)\n",
    "loan_dict.loc[loan_dict['LoanStatNew'].isin(list(loan_data.columns.values[127:130]))]"
   ]
  },
  {
   "cell_type": "code",
   "execution_count": 144,
   "metadata": {},
   "outputs": [
    {
     "name": "stdout",
     "output_type": "stream",
     "text": [
      "['0' 'Feb-16' 'May-14' 'Apr-14' 'Apr-16' 'Feb-15' 'Mar-13' 'Mar-14'\n",
      " 'Nov-14' 'Jun-17' 'Apr-15' 'Sep-15' 'Jun-13' 'Feb-14' 'Oct-17' 'Apr-17'\n",
      " 'Jun-16' 'Mar-16' 'Dec-15' 'Jun-15' 'Dec-13' 'Mar-17' 'Jul-14' 'Aug-15'\n",
      " 'Sep-14' 'Oct-13' 'Dec-14' 'Nov-17' 'Sep-13' 'Nov-13' 'Jan-15' 'Oct-12'\n",
      " 'Jul-17' 'Jun-12' 'Aug-13' 'May-16' 'Apr-13' 'Aug-14' 'Sep-16' 'Oct-14'\n",
      " 'Oct-16' 'Jun-14' 'Jul-13' 'Sep-17' 'Feb-12' 'May-17' 'Nov-12' 'Jul-16'\n",
      " 'Jul-15' 'May-15' 'Sep-12' 'Feb-11' 'Dec-16' 'Dec-12' 'Oct-11' 'Feb-13'\n",
      " 'Nov-11' 'Mar-15' 'Feb-10' 0 'Apr-2017' 'Sep-2017' 'Dec-2016' 'Jan-2017'\n",
      " 'Feb-2015' 'Nov-2017' 'Apr-2016' 'Aug-2015' 'Jun-2017' 'Dec-2017'\n",
      " 'Jan-2018' 'Oct-2016' 'Oct-2015' 'Nov-2015' 'May-2015' 'Oct-2017'\n",
      " 'Jun-2016' 'Aug-2017' 'Jul-2017' 'Nov-2014' 'Jul-2016' 'Dec-2015'\n",
      " 'Mar-2015' 'Mar-2017' 'Sep-2016' 'Apr-2015' 'Jul-2015' 'Feb-2016'\n",
      " 'Sep-2015' 'Mar-2016' 'Jun-2015' 'Feb-2017' 'Aug-2016' 'Jan-2015'\n",
      " 'May-2016' 'May-2017' 'Dec-2014' 'Jan-2016' 'May-2014' 'Sep-2014'\n",
      " 'Jul-2014' 'Apr-2014' 'Jun-2014' 'Oct-2014' 'Aug-2014' 'Aug-2013'\n",
      " 'Mar-2014' 'Jan-2014' 'Nov-2013' 'Oct-2013' 'Feb-2014' 'Sep-2013'\n",
      " 'Mar-2013' 'Jun-2013' 'Nov-2012' 'Nov-2016']\n",
      "['0' 'COMPLETE' 'BROKEN' 'ACTIVE' 0]\n",
      "['0' 'Feb-15' 'Nov-13' 'Mar-14' 'May-15' 'Aug-14' 'Mar-13' 'Oct-13'\n",
      " 'May-14' 'Jul-16' 'Jan-15' 'Jun-13' 'Feb-14' 'Apr-13' 'Apr-17' 'Jun-15'\n",
      " 'Aug-15' 'Apr-15' 'Feb-13' 'May-17' 'Aug-13' 'Jan-14' 'Jul-14' 'Oct-12'\n",
      " 'Dec-13' 'Jun-14' 'Mar-16' 'Sep-13' 'Feb-17' 'Jul-13' 'May-12' 'Mar-15'\n",
      " 'Jun-12' 'Oct-14' 'Nov-14' 'Jun-17' 'Dec-14' 'Apr-16' 'Aug-12' 'Jan-12'\n",
      " 'Mar-17' 'Sep-16' 'Sep-14' 'Sep-12' 'Oct-11' 'Feb-12' 'Apr-14' 'Nov-12'\n",
      " 'Jun-16' 'Jan-17' 'May-13' 'Feb-11' 'Aug-16' 'Jul-12' 'Jul-11' 'Mar-12'\n",
      " 'Feb-10' 'Mar-09' 'Aug-17' 'Jan-16' 0 'Mar-2016' 'Aug-2017' 'Nov-2015'\n",
      " 'Oct-2016' 'Sep-2014' 'Jul-2017' 'Jul-2016' 'May-2015' 'Apr-2017'\n",
      " 'Jul-2015' 'Feb-2016' 'Sep-2017' 'Sep-2016' 'Oct-2015' 'Jan-2017'\n",
      " 'Mar-2017' 'Nov-2017' 'Apr-2015' 'Jun-2016' 'May-2016' 'Jun-2017'\n",
      " 'Jan-2016' 'Oct-2014' 'Dec-2017' 'Dec-2016' 'Aug-2016' 'Oct-2017'\n",
      " 'Sep-2015' 'Feb-2017' 'Mar-2015' 'Dec-2015' 'Jan-2015' 'Feb-2015'\n",
      " 'Jun-2015' 'May-2017' 'Apr-2016' 'Nov-2014' 'Nov-2016' 'Aug-2015'\n",
      " 'Aug-2014' 'Dec-2014' 'Jan-2018' 'Jul-2014' 'Apr-2014' 'Jun-2014'\n",
      " 'Mar-2014' 'May-2014' 'Feb-2014' 'Jan-2014' 'Nov-2013' 'Oct-2013'\n",
      " 'Dec-2013' 'Jul-2013' 'Aug-2013' 'Sep-2013' 'Jun-2013' 'Feb-2013'\n",
      " 'Mar-2013' 'May-2013' 'Nov-2012' 'Dec-2012']\n"
     ]
    }
   ],
   "source": [
    "print(loan_data['debt_settlement_flag_date'].unique())\n",
    "print(loan_data['settlement_status'].unique())\n",
    "print(loan_data['settlement_date'].unique())"
   ]
  },
  {
   "cell_type": "code",
   "execution_count": 145,
   "metadata": {},
   "outputs": [
    {
     "name": "stdout",
     "output_type": "stream",
     "text": [
      "['0' 'Feb-16' 'May-14' 'Apr-14' 'Apr-16' 'Feb-15' 'Mar-13' 'Mar-14'\n",
      " 'Nov-14' 'Jun-17' 'Apr-15' 'Sep-15' 'Jun-13' 'Feb-14' 'Oct-17' 'Apr-17'\n",
      " 'Jun-16' 'Mar-16' 'Dec-15' 'Jun-15' 'Dec-13' 'Mar-17' 'Jul-14' 'Aug-15'\n",
      " 'Sep-14' 'Oct-13' 'Dec-14' 'Nov-17' 'Sep-13' 'Nov-13' 'Jan-15' 'Oct-12'\n",
      " 'Jul-17' 'Jun-12' 'Aug-13' 'May-16' 'Apr-13' 'Aug-14' 'Sep-16' 'Oct-14'\n",
      " 'Oct-16' 'Jun-14' 'Jul-13' 'Sep-17' 'Feb-12' 'May-17' 'Nov-12' 'Jul-16'\n",
      " 'Jul-15' 'May-15' 'Sep-12' 'Feb-11' 'Dec-16' 'Dec-12' 'Oct-11' 'Feb-13'\n",
      " 'Nov-11' 'Mar-15' 'Feb-10' nan 'Jan-17' 'Dec-17' 'Jan-18' 'Oct-15'\n",
      " 'Nov-15' 'Aug-17' 'Feb-17' 'Aug-16' 'Jan-16' 'Jan-14' 'Nov-16']\n",
      "['0' 'Feb-15' 'Nov-13' 'Mar-14' 'May-15' 'Aug-14' 'Mar-13' 'Oct-13'\n",
      " 'May-14' 'Jul-16' 'Jan-15' 'Jun-13' 'Feb-14' 'Apr-13' 'Apr-17' 'Jun-15'\n",
      " 'Aug-15' 'Apr-15' 'Feb-13' 'May-17' 'Aug-13' 'Jan-14' 'Jul-14' 'Oct-12'\n",
      " 'Dec-13' 'Jun-14' 'Mar-16' 'Sep-13' 'Feb-17' 'Jul-13' 'May-12' 'Mar-15'\n",
      " 'Jun-12' 'Oct-14' 'Nov-14' 'Jun-17' 'Dec-14' 'Apr-16' 'Aug-12' 'Jan-12'\n",
      " 'Mar-17' 'Sep-16' 'Sep-14' 'Sep-12' 'Oct-11' 'Feb-12' 'Apr-14' 'Nov-12'\n",
      " 'Jun-16' 'Jan-17' 'May-13' 'Feb-11' 'Aug-16' 'Jul-12' 'Jul-11' 'Mar-12'\n",
      " 'Feb-10' 'Mar-09' 'Aug-17' 'Jan-16' nan 'Nov-15' 'Oct-16' 'Jul-17'\n",
      " 'Jul-15' 'Feb-16' 'Sep-17' 'Oct-15' 'Nov-17' 'May-16' 'Dec-17' 'Dec-16'\n",
      " 'Oct-17' 'Sep-15' 'Dec-15' 'Nov-16' 'Jan-18' 'Dec-12']\n",
      "['0' 'COMPLETE' 'BROKEN' 'ACTIVE']\n"
     ]
    }
   ],
   "source": [
    "# Fixing date format\n",
    "loan_data['debt_settlement_flag_date'] = loan_data['debt_settlement_flag_date'].str.replace(\"-20\",\"\")\n",
    "loan_data['debt_settlement_flag_date'].replace(to_replace=\"([a-zA-Z])(\\d+)\", value=r\"\\1-\\2\", regex=True, inplace=True)\n",
    "print(loan_data['debt_settlement_flag_date'].unique())\n",
    "\n",
    "loan_data['settlement_date'] = loan_data['settlement_date'].str.replace(\"-20\",\"\")\n",
    "loan_data['settlement_date'].replace(to_replace=\"([a-zA-Z])(\\d+)\", value=r\"\\1-\\2\", regex=True, inplace=True)\n",
    "print(loan_data['settlement_date'].unique())\n",
    "\n",
    "# Converting all the 0s to one type\n",
    "loan_data.loc[loan_data['settlement_status'] == 0, 'settlement_status'] = '0'\n",
    "print(loan_data['settlement_status'].unique())"
   ]
  },
  {
   "cell_type": "code",
   "execution_count": 146,
   "metadata": {},
   "outputs": [
    {
     "name": "stdout",
     "output_type": "stream",
     "text": [
      "  settlement_amount settlement_percentage settlement_term\n",
      "0                 0                     0               0\n",
      "1                 0                     0               0\n",
      "2                 0                     0               0\n",
      "3                 0                     0               0\n",
      "4                 0                     0               0\n",
      "5                 0                     0               0\n",
      "settlement_amount object\n",
      "settlement_percentage object\n",
      "settlement_term object\n"
     ]
    },
    {
     "data": {
      "text/html": [
       "<div>\n",
       "<style scoped>\n",
       "    .dataframe tbody tr th:only-of-type {\n",
       "        vertical-align: middle;\n",
       "    }\n",
       "\n",
       "    .dataframe tbody tr th {\n",
       "        vertical-align: top;\n",
       "    }\n",
       "\n",
       "    .dataframe thead th {\n",
       "        text-align: right;\n",
       "    }\n",
       "</style>\n",
       "<table border=\"1\" class=\"dataframe\">\n",
       "  <thead>\n",
       "    <tr style=\"text-align: right;\">\n",
       "      <th></th>\n",
       "      <th>LoanStatNew</th>\n",
       "      <th>Description</th>\n",
       "    </tr>\n",
       "  </thead>\n",
       "  <tbody>\n",
       "    <tr>\n",
       "      <th>148</th>\n",
       "      <td>settlement_amount</td>\n",
       "      <td>The loan amount that the borrower has agreed to settle for</td>\n",
       "    </tr>\n",
       "    <tr>\n",
       "      <th>149</th>\n",
       "      <td>settlement_percentage</td>\n",
       "      <td>The settlement amount as a percentage of the payoff balance amount on the loan</td>\n",
       "    </tr>\n",
       "    <tr>\n",
       "      <th>150</th>\n",
       "      <td>settlement_term</td>\n",
       "      <td>The number of months that the borrower will be on the settlement plan</td>\n",
       "    </tr>\n",
       "  </tbody>\n",
       "</table>\n",
       "</div>"
      ],
      "text/plain": [
       "               LoanStatNew  \\\n",
       "148      settlement_amount   \n",
       "149  settlement_percentage   \n",
       "150        settlement_term   \n",
       "\n",
       "                                                                        Description  \n",
       "148                      The loan amount that the borrower has agreed to settle for  \n",
       "149  The settlement amount as a percentage of the payoff balance amount on the loan  \n",
       "150           The number of months that the borrower will be on the settlement plan  "
      ]
     },
     "execution_count": 146,
     "metadata": {},
     "output_type": "execute_result"
    }
   ],
   "source": [
    "# Moving to next columns\n",
    "print(loan_data.iloc[:6,130:])\n",
    "for y in loan_data.columns[130:]:\n",
    "  print(y, loan_data[y].dtype)\n",
    "loan_dict.loc[loan_dict['LoanStatNew'].isin(list(loan_data.columns.values[130:]))]"
   ]
  },
  {
   "cell_type": "code",
   "execution_count": 147,
   "metadata": {},
   "outputs": [
    {
     "name": "stdout",
     "output_type": "stream",
     "text": [
      "['0' '3852.29' '3171.48' ... '16600.77' '13681' '12790.18']\n",
      "['0' '33.1' '33' ... '64.46' '70.01' '64.14']\n",
      "[0 '0' '12' '24' '23' '1' '11' '6' '8' '2' '9' '18' '3' '10' '15' '16' '5'\n",
      " '17' '4' '14' '20' '13' '36' '7' '22' '19' '21' '65' '60' '30' '28' '45'\n",
      " '181']\n"
     ]
    }
   ],
   "source": [
    "print(loan_data['settlement_amount'].unique())\n",
    "print(loan_data['settlement_percentage'].unique())\n",
    "print(loan_data['settlement_term'].unique())"
   ]
  },
  {
   "cell_type": "code",
   "execution_count": 148,
   "metadata": {},
   "outputs": [
    {
     "name": "stdout",
     "output_type": "stream",
     "text": [
      "[    0.    3852.29  3171.48 ... 16600.77 13681.   12790.18]\n",
      "[ 0.   33.1  33.   ... 64.46 70.01 64.14]\n",
      "[  0  12  24  23   1  11   6   8   2   9  18   3  10  15  16   5  17   4\n",
      "  14  20  13  36   7  22  19  21  65  60  30  28  45 181]\n"
     ]
    }
   ],
   "source": [
    "# Since each object seems to string, convert it to numeric.\n",
    "loan_data['settlement_amount'] = pd.to_numeric(loan_data['settlement_amount'])\n",
    "loan_data['settlement_percentage'] = pd.to_numeric(loan_data['settlement_percentage'])\n",
    "loan_data['settlement_term'] = pd.to_numeric(loan_data['settlement_term'])\n",
    "\n",
    "print(loan_data['settlement_amount'].unique())\n",
    "print(loan_data['settlement_percentage'].unique())\n",
    "print(loan_data['settlement_term'].unique())"
   ]
  },
  {
   "cell_type": "code",
   "execution_count": 149,
   "metadata": {},
   "outputs": [],
   "source": [
    "# At this point the preliminary data reading and conversion are done.\n",
    "# Save data pickle form\n",
    "# Next would be to read the pickle data and run histogram in each entry.\n",
    "\n",
    "loan_data.to_pickle('loan_data.pkl')"
   ]
  },
  {
   "cell_type": "code",
   "execution_count": null,
   "metadata": {},
   "outputs": [],
   "source": []
  }
 ],
 "metadata": {
  "kernelspec": {
   "display_name": "Python 3",
   "language": "python",
   "name": "python3"
  },
  "language_info": {
   "codemirror_mode": {
    "name": "ipython",
    "version": 3
   },
   "file_extension": ".py",
   "mimetype": "text/x-python",
   "name": "python",
   "nbconvert_exporter": "python",
   "pygments_lexer": "ipython3",
   "version": "3.6.5"
  }
 },
 "nbformat": 4,
 "nbformat_minor": 2
}
