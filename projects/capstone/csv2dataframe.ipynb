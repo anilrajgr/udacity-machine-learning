{
 "cells": [
  {
   "cell_type": "code",
   "execution_count": 1,
   "metadata": {},
   "outputs": [],
   "source": [
    "import pandas as pd\n",
    "import glob\n",
    "import shutil\n",
    "import sys\n",
    "import numpy as np"
   ]
  },
  {
   "cell_type": "code",
   "execution_count": 2,
   "metadata": {},
   "outputs": [],
   "source": [
    "# Manual cleaning\n",
    "    # Removed \"Loans that do not meet credit policy\"\n",
    "    # Removed all the lines beginning with \"Total amount\"\n",
    "    # All the empty cells made 0\n",
    "    # Remove first line from all the CSVs. There is some comment."
   ]
  },
  {
   "cell_type": "markdown",
   "metadata": {},
   "source": [
    "## Load data\n",
    "Use read_csv function to load the data. I am already using the dtype for the right kind of assignments. While it takes longer to code it, it helped me later."
   ]
  },
  {
   "cell_type": "code",
   "execution_count": 3,
   "metadata": {},
   "outputs": [
    {
     "name": "stdout",
     "output_type": "stream",
     "text": [
      "LoanStats_2016Q3.csv\n",
      "LoanStats_2017Q2.csv\n",
      "LoanStats3b.csv\n",
      "LoanStats3d.csv\n",
      "LoanStats_2017Q1.csv\n",
      "LoanStats3c.csv\n",
      "LoanStats_2016Q4.csv\n",
      "LoanStats_2017Q4.csv\n",
      "LoanStats_2017Q3.csv\n",
      "LoanStats_2016Q1.csv\n",
      "LoanStats3a.csv\n",
      "LoanStats_2016Q2.csv\n"
     ]
    }
   ],
   "source": [
    "# Load all the csv files.\n",
    "loan_data = pd.DataFrame()\n",
    "for file in glob.glob(\"Loan*.csv\"):\n",
    "    print(file)\n",
    "    df = pd.read_csv(file, dtype={'id':float,  # 0\n",
    "                                  'member_id':float,  # 1\n",
    "                                  'loan_amnt':int,  # 2\n",
    "                                  'funded_amnt':int,  # 3\n",
    "                                  'funded_amnt_inv':str,  # 4\n",
    "                                  'term':str,  # 5\n",
    "                                  'int_rate':str,  # 6\n",
    "                                  'installment':float,  # 7\n",
    "                                  'grade':str,  # 8\n",
    "                                  'sub_grade':str,  # 9\n",
    "                                  'emp_title':str,  # 10\n",
    "                                  'emp_length':str,  # 11\n",
    "                                  'home_ownership':str,  # 12\n",
    "                                  'annual_inc':str,  # 13\n",
    "                                  'verification_status':str,  # 14\n",
    "                                  'issue_d':str,  # 15\n",
    "                                  'loan_status':str,  # 16\n",
    "                                  'pymnt_plan':str,  # 17\n",
    "                                  'url':str,  # 18\n",
    "                                  'desc':str,  # 19\n",
    "                                  'purpose':str,  # 20\n",
    "                                  'title':str,  # 21\n",
    "                                  'zip_code':str,  # 22\n",
    "                                  'addr_state':str,  # 23\n",
    "                                  'dti':float,  # 24\n",
    "                                  'delinq_2yrs':int,  # 25\n",
    "                                  'earliest_cr_line':str,  # 26\n",
    "                                  'inq_last_6mths':int,  # 27\n",
    "                                  'mths_since_last_delinq':float,  # 28\n",
    "                                  'mths_since_last_record':float,  # 29\n",
    "                                  'open_acc':int,  # 30\n",
    "                                  'pub_rec':int,  # 31\n",
    "                                  'revol_bal':int,  # 32\n",
    "                                  'revol_util':str,  # 33\n",
    "                                  'total_acc':int,  # 34\n",
    "                                  'initial_list_status':str,  # 35\n",
    "                                  'out_prncp':float,  # 36\n",
    "                                  'out_prncp_inv':float,  # 37\n",
    "                                  'total_pymnt':float,  # 38\n",
    "                                  'total_pymnt_inv':float,  # 39\n",
    "                                  'total_rec_prncp':float,  # 40\n",
    "                                  'total_rec_int':float,  # 41\n",
    "                                  'total_rec_late_fee':float,  # 42\n",
    "                                  'recoveries':float,  # 43\n",
    "                                  'collection_recovery_fee':float,  # 44\n",
    "                                  'last_pymnt_d':str,  # 45\n",
    "                                  'last_pymnt_amnt':float,  # 46\n",
    "                                  'next_pymnt_d':str,  # 47\n",
    "                                  'last_credit_pull_d':str,  # 48\n",
    "                                  'collections_12_mths_ex_med':int,  # 49\n",
    "                                  'mths_since_last_major_derog':float,  # 50\n",
    "                                  'policy_code':int,  # 51\n",
    "                                  'application_type':str,  # 52\n",
    "                                  'annual_inc_joint':float,  # 53\n",
    "                                  'dti_joint':float,  # 54\n",
    "                                  'verification_status_joint':str,  # 55\n",
    "                                  'acc_now_delinq':int,  # 56\n",
    "                                  'tot_coll_amt':float,  # 57\n",
    "                                  'tot_cur_bal':float,  # 58\n",
    "                                  'open_acc_6m':float,  # 59\n",
    "                                  'open_act_il':float,  # 60\n",
    "                                  'open_il_12m':float,  # 61\n",
    "                                  'open_il_24m':float,  # 62\n",
    "                                  'mths_since_rcnt_il':float,  # 63\n",
    "                                  'total_bal_il':float,  # 64\n",
    "                                  'il_util':float,  # 65\n",
    "                                  'open_rv_12m':float,  # 66\n",
    "                                  'open_rv_24m':float,  # 67\n",
    "                                  'max_bal_bc':float,  # 68\n",
    "                                  'all_util':float,  # 69\n",
    "                                  'total_rev_hi_lim':float,  # 70\n",
    "                                  'inq_fi':float,  # 71\n",
    "                                  'total_cu_tl':float,  # 72\n",
    "                                  'inq_last_12m':float,  # 73\n",
    "                                  'acc_open_past_24mths':float,  # 74\n",
    "                                  'avg_cur_bal':float,  # 75\n",
    "                                  'bc_open_to_buy':float,  # 76\n",
    "                                  'bc_util':float,  # 77\n",
    "                                  'chargeoff_within_12_mths':int,  # 78\n",
    "                                  'delinq_amnt':int,  # 79\n",
    "                                  'mo_sin_old_il_acct':float,  # 80\n",
    "                                  'mo_sin_old_rev_tl_op':float,  # 81\n",
    "                                  'mo_sin_rcnt_rev_tl_op':float,  # 82\n",
    "                                  'mo_sin_rcnt_tl':float,  # 83\n",
    "                                  'mort_acc':float,  # 84\n",
    "                                  'mths_since_recent_bc':float,  # 85\n",
    "                                  'mths_since_recent_bc_dlq':float,  # 86\n",
    "                                  'mths_since_recent_inq':float,  # 87\n",
    "                                  'mths_since_recent_revol_delinq':float,  # 88\n",
    "                                  'num_accts_ever_120_pd':float,  # 89\n",
    "                                  'num_actv_bc_tl':float,  # 90\n",
    "                                  'num_actv_rev_tl':float,  # 91\n",
    "                                  'num_bc_sats':float,  # 92\n",
    "                                  'num_bc_tl':float,  # 93\n",
    "                                  'num_il_tl':float,  # 94\n",
    "                                  'num_op_rev_tl':float,  # 95\n",
    "                                  'num_rev_accts':float,  # 96\n",
    "                                  'num_rev_tl_bal_gt_0':float,  # 97\n",
    "                                  'num_sats':float,  # 98\n",
    "                                  'num_tl_120dpd_2m':float,  # 99\n",
    "                                  'num_tl_30dpd':float,  # 100\n",
    "                                  'num_tl_90g_dpd_24m':float,  # 101\n",
    "                                  'num_tl_op_past_12m':float,  # 102\n",
    "                                  'pct_tl_nvr_dlq':float,  # 103\n",
    "                                  'percent_bc_gt_75':float,  # 104\n",
    "                                  'pub_rec_bankruptcies':float,  # 105\n",
    "                                  'tax_liens':int,  # 106\n",
    "                                  'tot_hi_cred_lim':float,  # 107\n",
    "                                  'total_bal_ex_mort':float,  # 108\n",
    "                                  'total_bc_limit':float,  # 109\n",
    "                                  'total_il_high_credit_limit':float,  # 110\n",
    "                                  'revol_bal_joint':float,  # 111\n",
    "                                  'sec_app_earliest_cr_line':str,  # 112\n",
    "                                  'sec_app_inq_last_6mths':float,  # 113\n",
    "                                  'sec_app_mort_acc':float,  # 114\n",
    "                                  'sec_app_open_acc':float,  # 115\n",
    "                                  'sec_app_revol_util':float,  # 116\n",
    "                                  'sec_app_open_act_il':float,  # 117\n",
    "                                  'sec_app_num_rev_accts':float,  # 118\n",
    "                                  'sec_app_chargeoff_within_12_mths':float,  # 119\n",
    "                                  'sec_app_collections_12_mths_ex_med':float,  # 120\n",
    "                                  'sec_app_mths_since_last_major_derog':float,  # 121\n",
    "                                  'hardship_flag':str,  # 122\n",
    "                                  'hardship_type':str,  # 123\n",
    "                                  'hardship_reason':str,  # 124\n",
    "                                  'hardship_status':str,  # 125\n",
    "                                  'deferral_term':float,  # 126\n",
    "                                  'hardship_amount':float,  # 127\n",
    "                                  'hardship_start_date':str,  # 128\n",
    "                                  'hardship_end_date':str,  # 129\n",
    "                                  'payment_plan_start_date':str,  # 130\n",
    "                                  'hardship_length':float,  # 131\n",
    "                                  'hardship_dpd':float,  # 132\n",
    "                                  'hardship_loan_status':str,  # 133\n",
    "                                  'orig_projected_additional_accrued_interest':float,  # 134\n",
    "                                  'hardship_payoff_balance_amount':float,  # 135\n",
    "                                  'hardship_last_payment_amount':float,  # 136\n",
    "                                  'disbursement_method':str,  # 137\n",
    "                                  'debt_settlement_flag':str,  # 138\n",
    "                                  'debt_settlement_flag_date':str,  # 139\n",
    "                                  'settlement_status':str,  # 140\n",
    "                                  'settlement_date':str,  # 141\n",
    "                                  'settlement_amount':str,  # 142\n",
    "                                  'settlement_percentage':str,  # 143\n",
    "                                  'settlement_term':str})\n",
    "    # df = pd.read_csv(file, dtype={'loan_amnt':int, 'funded_amnt':int, 'funded_amnt_inv':str, 'term':str, 'int_rate':str, 'installment':float, 'grade':str, 'sub_grade':str, 'emp_title':str, 'emp_length':str, 'home_ownership':str, 'annual_inc':str, 'verification_status':str, 'issue_d':str, 'loan_status':str, 'pymnt_plan':str, 'url':str, 'desc':str, 'purpose':str, 'title':str, 'zip_code':str, 'addr_state':str, 'dti':float, 'delinq_2yrs':int, 'earliest_cr_line':str, 'inq_last_6mths':int, 'mths_since_last_delinq':int, 'mths_since_last_record':int, 'open_acc':int, 'pub_rec':int, 'revol_bal':int, 'revol_util':str, 'total_acc':int, 'initial_list_status':str, 'out_prncp':float, 'out_prncp_inv':float, 'total_pymnt':float, 'total_pymnt_inv':float, 'total_rec_prncp':float, 'total_rec_int':float, 'total_rec_late_fee':int, 'recoveries':int, 'collection_recovery_fee':int, 'last_pymnt_d':str, 'last_pymnt_amnt':float, 'next_pymnt_d':str, 'last_credit_pull_d':str, 'collections_12_mths_ex_med':int, 'mths_since_last_major_derog':int, 'policy_code':int, 'application_type':str, 'annual_inc_joint':int, 'dti_joint':int, 'verification_status_joint':int, 'acc_now_delinq':int, 'tot_coll_amt':int, 'tot_cur_bal':int, 'open_acc_6m':int, 'open_act_il':int, 'open_il_12m':int, 'open_il_24m':int, 'mths_since_rcnt_il':int, 'total_bal_il':int, 'il_util':int, 'open_rv_12m':int, 'open_rv_24m':int, 'max_bal_bc':int, 'all_util':int, 'total_rev_hi_lim':int, 'inq_fi':int, 'total_cu_tl':int, 'inq_last_12m':int, 'acc_open_past_24mths':int, 'avg_cur_bal':int, 'bc_open_to_buy':int, 'bc_util':float, 'chargeoff_within_12_mths':int, 'delinq_amnt':int, 'mo_sin_old_il_acct':int, 'mo_sin_old_rev_tl_op':int, 'mo_sin_rcnt_rev_tl_op':int, 'mo_sin_rcnt_tl':int, 'mort_acc':int, 'mths_since_recent_bc':int, 'mths_since_recent_bc_dlq':int, 'mths_since_recent_inq':int, 'mths_since_recent_revol_delinq':int, 'num_accts_ever_120_pd':int, 'num_actv_bc_tl':int, 'num_actv_rev_tl':int, 'num_bc_sats':int, 'num_bc_tl':int, 'num_il_tl':int, 'num_op_rev_tl':int, 'num_rev_accts':int, 'num_rev_tl_bal_gt_0':int, 'num_sats':int, 'num_tl_120dpd_2m':int, 'num_tl_30dpd':int, 'num_tl_90g_dpd_24m':int, 'num_tl_op_past_12m':int, 'pct_tl_nvr_dlq':float, 'percent_bc_gt_75':float, 'pub_rec_bankruptcies':int, 'tax_liens':int, 'tot_hi_cred_lim':int, 'total_bal_ex_mort':int, 'total_bc_limit':int, 'total_il_high_credit_limit':int, 'revol_bal_joint':int, 'sec_app_earliest_cr_line':int, 'sec_app_inq_last_6mths':int, 'sec_app_mort_acc':int, 'sec_app_open_acc':int, 'sec_app_revol_util':int, 'sec_app_open_act_il':int, 'sec_app_num_rev_accts':int, 'sec_app_chargeoff_within_12_mths':int, 'sec_app_collections_12_mths_ex_med':int, 'sec_app_mths_since_last_major_derog':int, 'hardship_flag':str, 'hardship_type':str, 'hardship_reason':str, 'hardship_status':str, 'deferral_term':int, 'hardship_amount':float, 'hardship_start_date':str, 'hardship_end_date':str, 'payment_plan_start_date':str, 'hardship_length':int, 'hardship_dpd':int, 'hardship_loan_status':str, 'orig_projected_additional_accrued_interest':float, 'hardship_payoff_balance_amount':float, 'hardship_last_payment_amount':float, 'disbursement_method':str, 'debt_settlement_flag':str, 'debt_settlement_flag_date':str, 'settlement_status':str, 'settlement_date':str, 'settlement_amount':str, 'settlement_percentage':str, 'settlement_term':str})\n",
    "    loan_data = loan_data.append(df)"
   ]
  },
  {
   "cell_type": "markdown",
   "metadata": {},
   "source": [
    "### Basic operations\n",
    "Get the size of the dataframe. Also, print it. It gives a quick high level view of how the data looks like."
   ]
  },
  {
   "cell_type": "code",
   "execution_count": 4,
   "metadata": {},
   "outputs": [
    {
     "name": "stdout",
     "output_type": "stream",
     "text": [
      "(1765428, 145)\n",
      "<class 'pandas.core.frame.DataFrame'>\n",
      "Int64Index: 1765428 entries, 0 to 97853\n",
      "Columns: 145 entries, id to settlement_term\n",
      "dtypes: float64(87), int64(14), object(44)\n",
      "memory usage: 1.9+ GB\n"
     ]
    }
   ],
   "source": [
    "# Delete columns, where all the entries are 0.\n",
    "loan_data = loan_data.loc[:, (loan_data != 0).any(axis=0)]\n",
    "print(loan_data.shape)\n",
    "loan_data.info()"
   ]
  },
  {
   "cell_type": "code",
   "execution_count": 5,
   "metadata": {},
   "outputs": [],
   "source": [
    "loan_data.to_pickle('loan_data_raw.pkl')"
   ]
  },
  {
   "cell_type": "code",
   "execution_count": 6,
   "metadata": {},
   "outputs": [
    {
     "name": "stdout",
     "output_type": "stream",
     "text": [
      "        id  member_id  loan_amnt  funded_amnt funded_amnt_inv        term  \\\n",
      "0      0.0        NaN      10000        10000           10000   36 months   \n",
      "1      0.0        NaN      15000        15000           15000   36 months   \n",
      "2      0.0        NaN      17000        17000           17000   36 months   \n",
      "3      0.0        NaN       9000         9000            9000   36 months   \n",
      "4      0.0        NaN       3250         3250            3250   36 months   \n",
      "5      0.0        NaN      20000        20000           20000   36 months   \n",
      "6      0.0        NaN      24000        24000           24000   60 months   \n",
      "7      0.0        NaN       5000         5000            5000   36 months   \n",
      "8      0.0        NaN      15000        15000           15000   36 months   \n",
      "9      0.0        NaN      15000        15000           15000   36 months   \n",
      "10     0.0        NaN       3000         3000            3000   36 months   \n",
      "11     0.0        NaN      35000        35000           35000   36 months   \n",
      "12     0.0        NaN       5000         5000            5000   36 months   \n",
      "13     0.0        NaN       3000         3000            3000   36 months   \n",
      "14     0.0        NaN      18000        18000           18000   60 months   \n",
      "15     0.0        NaN      12000        12000           12000   60 months   \n",
      "16     0.0        NaN      12000        12000           12000   60 months   \n",
      "17     0.0        NaN       8000         8000            8000   36 months   \n",
      "18     0.0        NaN      10000        10000           10000   36 months   \n",
      "19     0.0        NaN      10000        10000           10000   36 months   \n",
      "20     0.0        NaN      20000        20000           20000   36 months   \n",
      "21     0.0        NaN       6400         6400            6400   36 months   \n",
      "22     0.0        NaN      30000        30000           30000   60 months   \n",
      "23     0.0        NaN       1000         1000            1000   36 months   \n",
      "24     0.0        NaN      30000        30000           30000   36 months   \n",
      "25     0.0        NaN       3000         3000            3000   36 months   \n",
      "26     0.0        NaN       8400         8400            8400   36 months   \n",
      "27     0.0        NaN      12000        12000           12000   60 months   \n",
      "28     0.0        NaN       6000         6000            6000   36 months   \n",
      "29     0.0        NaN       6000         6000            6000   36 months   \n",
      "...    ...        ...        ...          ...             ...         ...   \n",
      "97824  0.0        NaN      12000        12000           12000   36 months   \n",
      "97825  0.0        NaN      14000        14000           14000   60 months   \n",
      "97826  0.0        NaN      35000        35000           35000   60 months   \n",
      "97827  0.0        NaN      15000        15000           15000   60 months   \n",
      "97828  0.0        NaN       5000         5000            5000   36 months   \n",
      "97829  0.0        NaN      15000        15000           15000   36 months   \n",
      "97830  0.0        NaN      10000        10000           10000   36 months   \n",
      "97831  0.0        NaN      15000        15000           15000   36 months   \n",
      "97832  0.0        NaN      30600        30600           30600   36 months   \n",
      "97833  0.0        NaN       8000         8000            8000   36 months   \n",
      "97834  0.0        NaN       7000         7000            7000   36 months   \n",
      "97835  0.0        NaN      30000        30000           29925   36 months   \n",
      "97836  0.0        NaN      12000        12000           12000   60 months   \n",
      "97837  0.0        NaN      14000        14000           14000   36 months   \n",
      "97838  0.0        NaN       8775         8775            8775   36 months   \n",
      "97839  0.0        NaN      19050        19050           19050   36 months   \n",
      "97840  0.0        NaN      10625        10625           10625   36 months   \n",
      "97841  0.0        NaN      27100        27100           27050   36 months   \n",
      "97842  0.0        NaN      24475        24475           24400   36 months   \n",
      "97843  0.0        NaN      10000        10000           10000   36 months   \n",
      "97844  0.0        NaN      19600        19600           19600   60 months   \n",
      "97845  0.0        NaN      28000        28000           28000   60 months   \n",
      "97846  0.0        NaN      22400        22400           22400   60 months   \n",
      "97847  0.0        NaN      13350        13350           13350   60 months   \n",
      "97848  0.0        NaN       5000         5000            5000   36 months   \n",
      "97849  0.0        NaN       7000         7000            7000   36 months   \n",
      "97850  0.0        NaN      21475        21475           21475   60 months   \n",
      "97851  0.0        NaN       6050         6050            6050   60 months   \n",
      "97852  0.0        NaN      30000        30000           30000   60 months   \n",
      "97853  0.0        NaN       5000         5000            5000   36 months   \n",
      "\n",
      "      int_rate  installment grade sub_grade       ...        \\\n",
      "0        8.59%       316.10     A        A5       ...         \n",
      "1       13.99%       512.60     C        C3       ...         \n",
      "2       14.49%       585.08     C        C4       ...         \n",
      "3       10.99%       294.61     B        B4       ...         \n",
      "4       13.49%       110.28     C        C2       ...         \n",
      "5       14.49%       688.33     C        C4       ...         \n",
      "6       15.59%       578.42     C        C5       ...         \n",
      "7       13.99%       170.87     C        C3       ...         \n",
      "8        5.32%       451.73     A        A1       ...         \n",
      "9       12.79%       503.90     C        C1       ...         \n",
      "10      11.49%        98.92     B        B5       ...         \n",
      "11      19.99%      1300.55     D        D4       ...         \n",
      "12       8.99%       158.98     B        B1       ...         \n",
      "13       8.59%        94.83     A        A5       ...         \n",
      "14      14.49%       423.42     C        C4       ...         \n",
      "15      24.99%       352.15     E        E4       ...         \n",
      "16      12.79%       271.75     C        C1       ...         \n",
      "17      12.79%       268.75     C        C1       ...         \n",
      "18      10.49%       324.98     B        B3       ...         \n",
      "19       9.49%       320.29     B        B2       ...         \n",
      "20       6.99%       617.46     A        A2       ...         \n",
      "21       7.99%       200.53     A        A4       ...         \n",
      "22      13.99%       697.90     C        C3       ...         \n",
      "23      13.49%        33.94     C        C2       ...         \n",
      "24      10.99%       982.02     B        B4       ...         \n",
      "25      14.49%       103.25     C        C4       ...         \n",
      "26      13.49%       285.02     C        C2       ...         \n",
      "27      22.39%       334.10     E        E1       ...         \n",
      "28      13.49%       203.59     C        C2       ...         \n",
      "29      13.99%       205.04     C        C3       ...         \n",
      "...        ...          ...   ...       ...       ...         \n",
      "97824    7.89%       375.43     A        A5       ...         \n",
      "97825   16.29%       342.62     D        D1       ...         \n",
      "97826   22.45%       975.64     E        E5       ...         \n",
      "97827   13.67%       346.47     C        C3       ...         \n",
      "97828   16.29%       176.51     D        D1       ...         \n",
      "97829    9.75%       482.25     B        B3       ...         \n",
      "97830   11.99%       332.10     C        C1       ...         \n",
      "97831   16.29%       529.51     D        D1       ...         \n",
      "97832   13.67%      1040.94     C        C3       ...         \n",
      "97833    5.32%       240.92     A        A1       ...         \n",
      "97834    5.32%       210.81     A        A1       ...         \n",
      "97835   20.75%      1126.41     E        E2       ...         \n",
      "97836    9.75%       253.50     B        B3       ...         \n",
      "97837   10.75%       456.69     B        B4       ...         \n",
      "97838   12.99%       295.63     C        C2       ...         \n",
      "97839   15.31%       663.28     C        C5       ...         \n",
      "97840    6.97%       327.93     A        A3       ...         \n",
      "97841   12.99%       912.98     C        C2       ...         \n",
      "97842   11.47%       806.74     B        B5       ...         \n",
      "97843   10.75%       326.21     B        B4       ...         \n",
      "97844   11.47%       430.76     B        B5       ...         \n",
      "97845   28.67%       883.16     G        G4       ...         \n",
      "97846   28.34%       702.05     G        G3       ...         \n",
      "97847   28.34%       418.41     G        G3       ...         \n",
      "97848    8.39%       157.59     B        B1       ...         \n",
      "97849    5.32%       210.81     A        A1       ...         \n",
      "97850   17.27%       536.84     D        D2       ...         \n",
      "97851   18.25%       154.46     D        D3       ...         \n",
      "97852   18.99%       778.06     D        D4       ...         \n",
      "97853   10.75%       163.11     B        B4       ...         \n",
      "\n",
      "      hardship_payoff_balance_amount hardship_last_payment_amount  \\\n",
      "0                                NaN                          NaN   \n",
      "1                                NaN                          NaN   \n",
      "2                                NaN                          NaN   \n",
      "3                                NaN                          NaN   \n",
      "4                            2417.63                       110.04   \n",
      "5                                NaN                          NaN   \n",
      "6                                NaN                          NaN   \n",
      "7                                NaN                          NaN   \n",
      "8                                NaN                          NaN   \n",
      "9                                NaN                          NaN   \n",
      "10                               NaN                          NaN   \n",
      "11                               NaN                          NaN   \n",
      "12                               NaN                          NaN   \n",
      "13                               NaN                          NaN   \n",
      "14                               NaN                          NaN   \n",
      "15                               NaN                          NaN   \n",
      "16                               NaN                          NaN   \n",
      "17                               NaN                          NaN   \n",
      "18                               NaN                          NaN   \n",
      "19                               NaN                          NaN   \n",
      "20                               NaN                          NaN   \n",
      "21                               NaN                          NaN   \n",
      "22                               NaN                          NaN   \n",
      "23                               NaN                          NaN   \n",
      "24                               NaN                          NaN   \n",
      "25                               NaN                          NaN   \n",
      "26                               NaN                          NaN   \n",
      "27                               NaN                          NaN   \n",
      "28                               NaN                          NaN   \n",
      "29                               NaN                          NaN   \n",
      "...                              ...                          ...   \n",
      "97824                            NaN                          NaN   \n",
      "97825                            NaN                          NaN   \n",
      "97826                            NaN                          NaN   \n",
      "97827                            NaN                          NaN   \n",
      "97828                            NaN                          NaN   \n",
      "97829                            NaN                          NaN   \n",
      "97830                            NaN                          NaN   \n",
      "97831                            NaN                          NaN   \n",
      "97832                            NaN                          NaN   \n",
      "97833                            NaN                          NaN   \n",
      "97834                            NaN                          NaN   \n",
      "97835                            NaN                          NaN   \n",
      "97836                            NaN                          NaN   \n",
      "97837                            NaN                          NaN   \n",
      "97838                            NaN                          NaN   \n",
      "97839                            NaN                          NaN   \n",
      "97840                            NaN                          NaN   \n",
      "97841                            NaN                          NaN   \n",
      "97842                            NaN                          NaN   \n",
      "97843                            NaN                          NaN   \n",
      "97844                            NaN                          NaN   \n",
      "97845                            NaN                          NaN   \n",
      "97846                            NaN                          NaN   \n",
      "97847                            NaN                          NaN   \n",
      "97848                            NaN                          NaN   \n",
      "97849                            NaN                          NaN   \n",
      "97850                            NaN                          NaN   \n",
      "97851                            NaN                          NaN   \n",
      "97852                            NaN                          NaN   \n",
      "97853                            NaN                          NaN   \n",
      "\n",
      "      disbursement_method debt_settlement_flag debt_settlement_flag_date  \\\n",
      "0                    Cash                    N                       NaN   \n",
      "1                    Cash                    N                       NaN   \n",
      "2                    Cash                    N                       NaN   \n",
      "3                    Cash                    N                       NaN   \n",
      "4                    Cash                    N                       NaN   \n",
      "5                    Cash                    N                       NaN   \n",
      "6                    Cash                    N                       NaN   \n",
      "7                    Cash                    N                       NaN   \n",
      "8                    Cash                    N                       NaN   \n",
      "9                    Cash                    N                       NaN   \n",
      "10                   Cash                    N                       NaN   \n",
      "11                   Cash                    N                       NaN   \n",
      "12                   Cash                    N                       NaN   \n",
      "13                   Cash                    N                       NaN   \n",
      "14                   Cash                    N                       NaN   \n",
      "15                   Cash                    N                       NaN   \n",
      "16                   Cash                    N                       NaN   \n",
      "17                   Cash                    N                       NaN   \n",
      "18                   Cash                    N                       NaN   \n",
      "19                   Cash                    N                       NaN   \n",
      "20                   Cash                    N                       NaN   \n",
      "21                   Cash                    N                       NaN   \n",
      "22                   Cash                    N                       NaN   \n",
      "23                   Cash                    N                       NaN   \n",
      "24                   Cash                    N                       NaN   \n",
      "25                   Cash                    N                       NaN   \n",
      "26                   Cash                    N                       NaN   \n",
      "27                   Cash                    N                       NaN   \n",
      "28                   Cash                    N                       NaN   \n",
      "29                   Cash                    N                       NaN   \n",
      "...                   ...                  ...                       ...   \n",
      "97824                Cash                    N                       NaN   \n",
      "97825                Cash                    N                       NaN   \n",
      "97826                Cash                    N                       NaN   \n",
      "97827                Cash                    N                       NaN   \n",
      "97828                Cash                    N                       NaN   \n",
      "97829                Cash                    N                       NaN   \n",
      "97830                Cash                    N                       NaN   \n",
      "97831                Cash                    N                       NaN   \n",
      "97832                Cash                    N                       NaN   \n",
      "97833                Cash                    N                       NaN   \n",
      "97834                Cash                    N                       NaN   \n",
      "97835                Cash                    N                       NaN   \n",
      "97836                Cash                    N                       NaN   \n",
      "97837                Cash                    N                       NaN   \n",
      "97838                Cash                    N                       NaN   \n",
      "97839                Cash                    N                       NaN   \n",
      "97840                Cash                    N                       NaN   \n",
      "97841                Cash                    N                       NaN   \n",
      "97842                Cash                    N                       NaN   \n",
      "97843                Cash                    N                       NaN   \n",
      "97844                Cash                    N                       NaN   \n",
      "97845                Cash                    N                       NaN   \n",
      "97846                Cash                    N                       NaN   \n",
      "97847                Cash                    N                       NaN   \n",
      "97848                Cash                    N                       NaN   \n",
      "97849                Cash                    N                       NaN   \n",
      "97850                Cash                    N                       NaN   \n",
      "97851                Cash                    N                       NaN   \n",
      "97852                Cash                    N                       NaN   \n",
      "97853                Cash                    N                       NaN   \n",
      "\n",
      "      settlement_status settlement_date settlement_amount  \\\n",
      "0                   NaN             NaN               NaN   \n",
      "1                   NaN             NaN               NaN   \n",
      "2                   NaN             NaN               NaN   \n",
      "3                   NaN             NaN               NaN   \n",
      "4                   NaN             NaN               NaN   \n",
      "5                   NaN             NaN               NaN   \n",
      "6                   NaN             NaN               NaN   \n",
      "7                   NaN             NaN               NaN   \n",
      "8                   NaN             NaN               NaN   \n",
      "9                   NaN             NaN               NaN   \n",
      "10                  NaN             NaN               NaN   \n",
      "11                  NaN             NaN               NaN   \n",
      "12                  NaN             NaN               NaN   \n",
      "13                  NaN             NaN               NaN   \n",
      "14                  NaN             NaN               NaN   \n",
      "15                  NaN             NaN               NaN   \n",
      "16                  NaN             NaN               NaN   \n",
      "17                  NaN             NaN               NaN   \n",
      "18                  NaN             NaN               NaN   \n",
      "19                  NaN             NaN               NaN   \n",
      "20                  NaN             NaN               NaN   \n",
      "21                  NaN             NaN               NaN   \n",
      "22                  NaN             NaN               NaN   \n",
      "23                  NaN             NaN               NaN   \n",
      "24                  NaN             NaN               NaN   \n",
      "25                  NaN             NaN               NaN   \n",
      "26                  NaN             NaN               NaN   \n",
      "27                  NaN             NaN               NaN   \n",
      "28                  NaN             NaN               NaN   \n",
      "29                  NaN             NaN               NaN   \n",
      "...                 ...             ...               ...   \n",
      "97824               NaN             NaN               NaN   \n",
      "97825               NaN             NaN               NaN   \n",
      "97826               NaN             NaN               NaN   \n",
      "97827               NaN             NaN               NaN   \n",
      "97828               NaN             NaN               NaN   \n",
      "97829               NaN             NaN               NaN   \n",
      "97830               NaN             NaN               NaN   \n",
      "97831               NaN             NaN               NaN   \n",
      "97832               NaN             NaN               NaN   \n",
      "97833               NaN             NaN               NaN   \n",
      "97834               NaN             NaN               NaN   \n",
      "97835               NaN             NaN               NaN   \n",
      "97836               NaN             NaN               NaN   \n",
      "97837               NaN             NaN               NaN   \n",
      "97838               NaN             NaN               NaN   \n",
      "97839               NaN             NaN               NaN   \n",
      "97840               NaN             NaN               NaN   \n",
      "97841               NaN             NaN               NaN   \n",
      "97842               NaN             NaN               NaN   \n",
      "97843               NaN             NaN               NaN   \n",
      "97844               NaN             NaN               NaN   \n",
      "97845               NaN             NaN               NaN   \n",
      "97846               NaN             NaN               NaN   \n",
      "97847               NaN             NaN               NaN   \n",
      "97848               NaN             NaN               NaN   \n",
      "97849               NaN             NaN               NaN   \n",
      "97850               NaN             NaN               NaN   \n",
      "97851               NaN             NaN               NaN   \n",
      "97852               NaN             NaN               NaN   \n",
      "97853               NaN             NaN               NaN   \n",
      "\n",
      "      settlement_percentage settlement_term  \n",
      "0                       NaN             NaN  \n",
      "1                       NaN             NaN  \n",
      "2                       NaN             NaN  \n",
      "3                       NaN             NaN  \n",
      "4                       NaN             NaN  \n",
      "5                       NaN             NaN  \n",
      "6                       NaN             NaN  \n",
      "7                       NaN             NaN  \n",
      "8                       NaN             NaN  \n",
      "9                       NaN             NaN  \n",
      "10                      NaN             NaN  \n",
      "11                      NaN             NaN  \n",
      "12                      NaN             NaN  \n",
      "13                      NaN             NaN  \n",
      "14                      NaN             NaN  \n",
      "15                      NaN             NaN  \n",
      "16                      NaN             NaN  \n",
      "17                      NaN             NaN  \n",
      "18                      NaN             NaN  \n",
      "19                      NaN             NaN  \n",
      "20                      NaN             NaN  \n",
      "21                      NaN             NaN  \n",
      "22                      NaN             NaN  \n",
      "23                      NaN             NaN  \n",
      "24                      NaN             NaN  \n",
      "25                      NaN             NaN  \n",
      "26                      NaN             NaN  \n",
      "27                      NaN             NaN  \n",
      "28                      NaN             NaN  \n",
      "29                      NaN             NaN  \n",
      "...                     ...             ...  \n",
      "97824                   NaN             NaN  \n",
      "97825                   NaN             NaN  \n",
      "97826                   NaN             NaN  \n",
      "97827                   NaN             NaN  \n",
      "97828                   NaN             NaN  \n",
      "97829                   NaN             NaN  \n",
      "97830                   NaN             NaN  \n",
      "97831                   NaN             NaN  \n",
      "97832                   NaN             NaN  \n",
      "97833                   NaN             NaN  \n",
      "97834                   NaN             NaN  \n",
      "97835                   NaN             NaN  \n",
      "97836                   NaN             NaN  \n",
      "97837                   NaN             NaN  \n",
      "97838                   NaN             NaN  \n",
      "97839                   NaN             NaN  \n",
      "97840                   NaN             NaN  \n",
      "97841                   NaN             NaN  \n",
      "97842                   NaN             NaN  \n",
      "97843                   NaN             NaN  \n",
      "97844                   NaN             NaN  \n",
      "97845                   NaN             NaN  \n",
      "97846                   NaN             NaN  \n",
      "97847                   NaN             NaN  \n",
      "97848                   NaN             NaN  \n",
      "97849                   NaN             NaN  \n",
      "97850                   NaN             NaN  \n",
      "97851                   NaN             NaN  \n",
      "97852                   NaN             NaN  \n",
      "97853                   NaN             NaN  \n",
      "\n",
      "[1765428 rows x 145 columns]\n"
     ]
    }
   ],
   "source": [
    "print(loan_data)"
   ]
  },
  {
   "cell_type": "markdown",
   "metadata": {},
   "source": [
    "### Now read the dictionary also\n",
    "It has all the information about the various headers of the load_data"
   ]
  },
  {
   "cell_type": "code",
   "execution_count": 7,
   "metadata": {},
   "outputs": [],
   "source": [
    "# Load the dictionary from Lending Club data\n",
    "# loan_dict = pd.read_excel(open('LCDataDictionary.xlsx','rb'), sheetname='LoanStats')\n",
    "loan_dict = pd.read_excel(open('LCDataDictionary.xlsx','rb'), sheet_name='LoanStats')"
   ]
  },
  {
   "cell_type": "code",
   "execution_count": 8,
   "metadata": {},
   "outputs": [],
   "source": [
    "# Changing max-column-width option for better print.\n",
    "pd.set_option('max_colwidth',1000)"
   ]
  },
  {
   "cell_type": "code",
   "execution_count": 9,
   "metadata": {
    "scrolled": false
   },
   "outputs": [
    {
     "name": "stdout",
     "output_type": "stream",
     "text": [
      "settlement_term 99.20591493960671\n",
      "150    The number of months that the borrower will be on the settlement plan\n",
      "Name: Description, dtype: object\n",
      "------\n",
      "member_id 90.00672924639238\n",
      "44    A unique LC assigned Id for the borrower member.\n",
      "Name: Description, dtype: object\n",
      "------\n",
      "url 90.00672924639238\n",
      "111    URL for the LC page with listing data.\n",
      "Name: Description, dtype: object\n",
      "------\n",
      "orig_projected_additional_accrued_interest 89.76616435221374\n",
      "140    The original projected additional interest amount that will accrue for the given hardship payment plan as of the Hardship Start Date. This field will be null if the borrower has broken their hardship payment plan.\n",
      "Name: Description, dtype: object\n",
      "------\n",
      "hardship_type 89.71631808264058\n",
      "129    Describes the hardship plan offering\n",
      "Name: Description, dtype: object\n",
      "------\n",
      "hardship_reason 89.71631808264058\n",
      "130    Describes the reason the hardship plan was offered\n",
      "Name: Description, dtype: object\n",
      "------\n",
      "hardship_status 89.71631808264058\n",
      "131    Describes if the hardship plan is active, pending, canceled, completed, or broken\n",
      "Name: Description, dtype: object\n",
      "------\n",
      "deferral_term 89.71631808264058\n",
      "132    Amount of months that the borrower is expected to pay less than the contractual monthly payment amount due to a hardship plan\n",
      "Name: Description, dtype: object\n",
      "------\n",
      "hardship_amount 89.71631808264058\n",
      "133    The interest payment that the borrower has committed to make each month while they are on a hardship plan\n",
      "Name: Description, dtype: object\n",
      "------\n",
      "hardship_start_date 89.71631808264058\n",
      "134    The start date of the hardship plan period\n",
      "Name: Description, dtype: object\n",
      "------\n",
      "hardship_end_date 89.71631808264058\n",
      "135    The end date of the hardship plan period\n",
      "Name: Description, dtype: object\n",
      "------\n",
      "payment_plan_start_date 89.71631808264058\n",
      "136    The day the first hardship plan payment is due. For example, if a borrower has a hardship plan period of 3 months, the start date is the start of the three-month period in which the borrower is allowed to make interest-only payments.\n",
      "Name: Description, dtype: object\n",
      "------\n",
      "hardship_length 89.71631808264058\n",
      "137    The number of months the borrower will make smaller payments than normally obligated due to a hardship plan\n",
      "Name: Description, dtype: object\n",
      "------\n",
      "hardship_dpd 89.71631808264058\n",
      "138    Account days past due as of the hardship plan start date\n",
      "Name: Description, dtype: object\n",
      "------\n",
      "hardship_loan_status 89.71631808264058\n",
      "139    Loan Status as of the hardship plan start date\n",
      "Name: Description, dtype: object\n",
      "------\n",
      "hardship_payoff_balance_amount 89.71631808264058\n",
      "141    The payoff balance amount as of the hardship plan start date\n",
      "Name: Description, dtype: object\n",
      "------\n",
      "hardship_last_payment_amount 89.71631808264058\n",
      "142    The last payment amount as of the hardship plan start date\n",
      "Name: Description, dtype: object\n",
      "------\n",
      "debt_settlement_flag_date 89.29692969636825\n",
      "145    The most recent date that the Debt_Settlement_Flag has been set  \n",
      "Name: Description, dtype: object\n",
      "------\n",
      "settlement_status 89.29692969636825\n",
      "146    The status of the borrower’s settlement plan. Possible values are: COMPLETE, ACTIVE, BROKEN, CANCELLED, DENIED, DRAFT\n",
      "Name: Description, dtype: object\n",
      "------\n",
      "settlement_date 89.29692969636825\n",
      "147    The date that the borrower agrees to the settlement plan\n",
      "Name: Description, dtype: object\n",
      "------\n",
      "settlement_amount 89.29692969636825\n",
      "148    The loan amount that the borrower has agreed to settle for\n",
      "Name: Description, dtype: object\n",
      "------\n",
      "settlement_percentage 89.29692969636825\n",
      "149    The settlement amount as a percentage of the payoff balance amount on the loan\n",
      "Name: Description, dtype: object\n",
      "------\n",
      "sec_app_mths_since_last_major_derog 89.23836032961978\n",
      "Series([], Name: Description, dtype: object)\n",
      "------\n",
      "sec_app_revol_util 87.83184587533448\n",
      "Series([], Name: Description, dtype: object)\n",
      "------\n",
      "revol_bal_joint 87.79565068640579\n",
      "Series([], Name: Description, dtype: object)\n",
      "------\n",
      "sec_app_earliest_cr_line 87.79559404291764\n",
      "Series([], Name: Description, dtype: object)\n",
      "------\n",
      "sec_app_inq_last_6mths 87.79559404291764\n",
      "Series([], Name: Description, dtype: object)\n",
      "------\n",
      "sec_app_mort_acc 87.79559404291764\n",
      "Series([], Name: Description, dtype: object)\n",
      "------\n",
      "sec_app_open_acc 87.79559404291764\n",
      "Series([], Name: Description, dtype: object)\n",
      "------\n",
      "sec_app_open_act_il 87.79559404291764\n",
      "123     Number of currently active installment trades at time of application for the secondary applicant\n",
      "Name: Description, dtype: object\n",
      "------\n",
      "sec_app_num_rev_accts 87.79559404291764\n",
      "Series([], Name: Description, dtype: object)\n",
      "------\n",
      "sec_app_chargeoff_within_12_mths 87.79559404291764\n",
      "Series([], Name: Description, dtype: object)\n",
      "------\n",
      "sec_app_collections_12_mths_ex_med 87.79559404291764\n",
      "Series([], Name: Description, dtype: object)\n",
      "------\n",
      "verification_status_joint 87.22791300466515\n",
      "Series([], Name: Description, dtype: object)\n",
      "------\n",
      "dti_joint 87.22768643071255\n",
      "17    A ratio calculated using the co-borrowers' total monthly payments on the total debt obligations, excluding mortgages and the requested LC loan, divided by the co-borrowers' combined self-reported monthly income\n",
      "Name: Description, dtype: object\n",
      "------\n",
      "annual_inc_joint 87.22757314373625\n",
      "5    The combined self-reported annual income provided by the co-borrowers during registration\n",
      "Name: Description, dtype: object\n",
      "------\n",
      "desc 84.52284658451096\n",
      "15    Loan description provided by the borrower\n",
      "Name: Description, dtype: object\n",
      "------\n",
      "id 81.25887886676772\n",
      "27    A unique LC assigned ID for the loan listing.\n",
      "Name: Description, dtype: object\n",
      "------\n",
      "mths_since_last_record 74.77812745691129\n",
      "52    The number of months since the last public record.\n",
      "Name: Description, dtype: object\n",
      "------\n",
      "mths_since_recent_bc_dlq 68.03840201922706\n",
      "55    Months since most recent bankcard delinquency\n",
      "Name: Description, dtype: object\n",
      "------\n",
      "mths_since_last_major_derog 65.77079325806547\n",
      "51    Months since most recent 90-day or worse rating\n",
      "Name: Description, dtype: object\n",
      "------\n",
      "mths_since_recent_revol_delinq 58.85926812081829\n",
      "57    Months since most recent revolving delinquency.\n",
      "Name: Description, dtype: object\n",
      "------\n",
      "il_util 52.54317933101775\n",
      "28    Ratio of total current balance to high credit/credit limit on all install acct\n",
      "Name: Description, dtype: object\n",
      "------\n",
      "mths_since_rcnt_il 47.87949437756737\n",
      "53    Months since most recent installment accounts opened\n",
      "Name: Description, dtype: object\n",
      "------\n",
      "all_util 46.65253978072173\n",
      "3    Balance to credit limit on all trades\n",
      "Name: Description, dtype: object\n",
      "------\n",
      "open_acc_6m 46.64778172771702\n",
      "74    Number of open trades in last 6 months\n",
      "Name: Description, dtype: object\n",
      "------\n",
      "open_act_il 46.64778172771702\n",
      "77    Number of currently active installment trades\n",
      "Name: Description, dtype: object\n",
      "------\n",
      "open_il_12m 46.64778172771702\n",
      "75    Number of installment accounts opened in past 12 months\n",
      "Name: Description, dtype: object\n",
      "------\n",
      "open_il_24m 46.64778172771702\n",
      "76    Number of installment accounts opened in past 24 months\n",
      "Name: Description, dtype: object\n",
      "------\n",
      "total_bal_il 46.64778172771702\n",
      "101    Total current balance of all installment accounts\n",
      "Name: Description, dtype: object\n",
      "------\n",
      "open_rv_12m 46.64778172771702\n",
      "78    Number of revolving trades opened in past 12 months\n",
      "Name: Description, dtype: object\n",
      "------\n",
      "open_rv_24m 46.64778172771702\n",
      "79    Number of revolving trades opened in past 24 months\n",
      "Name: Description, dtype: object\n",
      "------\n",
      "max_bal_bc 46.64778172771702\n",
      "43    Maximum current balance owed on all revolving accounts\n",
      "Name: Description, dtype: object\n",
      "------\n",
      "inq_fi 46.64778172771702\n",
      "30    Number of personal finance inquiries\n",
      "Name: Description, dtype: object\n",
      "------\n",
      "total_cu_tl 46.64778172771702\n",
      "103    Number of finance trades\n",
      "Name: Description, dtype: object\n",
      "------\n",
      "inq_last_12m 46.64778172771702\n",
      "31    Number of credit inquiries in past 12 months\n",
      "Name: Description, dtype: object\n",
      "------\n",
      "mths_since_last_delinq 44.76869065178529\n",
      "50    The number of months since the borrower's last delinquency.\n",
      "Name: Description, dtype: object\n",
      "------\n",
      "next_pymnt_d 41.98200096520504\n",
      "58    Next scheduled payment date\n",
      "Name: Description, dtype: object\n",
      "------\n",
      "mths_since_recent_inq 10.071042262839379\n",
      "56    Months since most recent inquiry.\n",
      "Name: Description, dtype: object\n",
      "------\n",
      "emp_length 5.943034776835986\n",
      "19    Employment length in years. Possible values are between 0 and 10 where 0 means less than one year and 10 means ten or more years. \n",
      "Name: Description, dtype: object\n",
      "------\n",
      "emp_title 5.704678978695251\n",
      "20    The job title supplied by the Borrower when applying for the loan.*\n",
      "Name: Description, dtype: object\n",
      "------\n",
      "num_tl_120dpd_2m 5.160051840120356\n",
      "69    Number of accounts currently 120 days past due (updated in past 2 months)\n",
      "Name: Description, dtype: object\n",
      "------\n",
      "mo_sin_old_il_acct 4.218806997509953\n",
      "45    Months since oldest bank installment account opened\n",
      "Name: Description, dtype: object\n",
      "------\n",
      "pct_tl_nvr_dlq 1.5800134584927847\n",
      "82    Percent of trades never delinquent\n",
      "Name: Description, dtype: object\n",
      "------\n",
      "avg_cur_bal 1.573046309450173\n",
      "7    Average current balance of all accounts\n",
      "Name: Description, dtype: object\n",
      "------\n",
      "mo_sin_old_rev_tl_op 1.5714036482937848\n",
      "46    Months since oldest revolving account opened\n",
      "Name: Description, dtype: object\n",
      "------\n",
      "mo_sin_rcnt_rev_tl_op 1.5714036482937848\n",
      "47    Months since most recent revolving account opened\n",
      "Name: Description, dtype: object\n",
      "------\n",
      "num_rev_accts 1.5714036482937848\n",
      "66    Number of revolving accounts\n",
      "Name: Description, dtype: object\n",
      "------\n",
      "tot_coll_amt 1.5713470048056335\n",
      "96    Total collection amounts ever owed\n",
      "Name: Description, dtype: object\n",
      "------\n",
      "tot_cur_bal 1.5713470048056335\n",
      "97    Total current balance of all accounts\n",
      "Name: Description, dtype: object\n",
      "------\n",
      "total_rev_hi_lim 1.5713470048056335\n",
      "Series([], Name: Description, dtype: object)\n",
      "------\n",
      "mo_sin_rcnt_tl 1.5713470048056335\n",
      "48    Months since most recent account opened\n",
      "Name: Description, dtype: object\n",
      "------\n",
      "num_accts_ever_120_pd 1.5713470048056335\n",
      "59    Number of accounts ever 120 or more days past due\n",
      "Name: Description, dtype: object\n",
      "------\n",
      "num_actv_bc_tl 1.5713470048056335\n",
      "60    Number of currently active bankcard accounts\n",
      "Name: Description, dtype: object\n",
      "------\n",
      "num_actv_rev_tl 1.5713470048056335\n",
      "61    Number of currently active revolving trades\n",
      "Name: Description, dtype: object\n",
      "------\n",
      "num_bc_tl 1.5713470048056335\n",
      "63    Number of bankcard accounts\n",
      "Name: Description, dtype: object\n",
      "------\n",
      "num_il_tl 1.5713470048056335\n",
      "64    Number of installment accounts\n",
      "Name: Description, dtype: object\n",
      "------\n",
      "num_op_rev_tl 1.5713470048056335\n",
      "65    Number of open revolving accounts\n",
      "Name: Description, dtype: object\n",
      "------\n",
      "num_rev_tl_bal_gt_0 1.5713470048056335\n",
      "67    Number of revolving trades with balance >0\n",
      "Name: Description, dtype: object\n",
      "------\n",
      "num_tl_30dpd 1.5713470048056335\n",
      "70    Number of accounts currently 30 days past due (updated in past 2 months)\n",
      "Name: Description, dtype: object\n",
      "------\n",
      "num_tl_90g_dpd_24m 1.5713470048056335\n",
      "71    Number of accounts 90 or more days past due in last 24 months\n",
      "Name: Description, dtype: object\n",
      "------\n",
      "num_tl_op_past_12m 1.5713470048056335\n",
      "72    Number of accounts opened in past 12 months\n",
      "Name: Description, dtype: object\n",
      "------\n",
      "tot_hi_cred_lim 1.5713470048056335\n",
      "98    Total high credit/credit limit\n",
      "Name: Description, dtype: object\n",
      "------\n",
      "total_il_high_credit_limit 1.5713470048056335\n",
      "104    Total installment high credit/credit limit\n",
      "Name: Description, dtype: object\n",
      "------\n",
      "bc_util 1.4476942701713125\n",
      "9    Ratio of total current balance to high credit/credit limit for all bankcard accounts.\n",
      "Name: Description, dtype: object\n",
      "------\n",
      "percent_bc_gt_75 1.4228277788728851\n",
      "83    Percentage of all bankcard accounts > 75% of limit.\n",
      "Name: Description, dtype: object\n",
      "------\n",
      "bc_open_to_buy 1.3991508008256355\n",
      "8    Total open to buy on revolving bankcards.\n",
      "Name: Description, dtype: object\n",
      "------\n",
      "last_pymnt_d 1.357008045641057\n",
      "40    Last month payment was received\n",
      "Name: Description, dtype: object\n",
      "------\n",
      "mths_since_recent_bc 1.3387688424563335\n",
      "54    Months since most recent bankcard account opened.\n",
      "Name: Description, dtype: object\n",
      "------\n",
      "num_bc_sats 0.9094112022693647\n",
      "62    Number of satisfactory bankcard accounts\n",
      "Name: Description, dtype: object\n",
      "------\n",
      "num_sats 0.9094112022693647\n",
      "68    Number of satisfactory accounts\n",
      "Name: Description, dtype: object\n",
      "------\n",
      "title 0.7190324385927945\n",
      "95    The loan title provided by the borrower\n",
      "Name: Description, dtype: object\n",
      "------\n",
      "acc_open_past_24mths 0.42454294369410706\n",
      "1    Number of trades opened in past 24 months.\n",
      "Name: Description, dtype: object\n",
      "------\n",
      "mort_acc 0.42454294369410706\n",
      "49    Number of mortgage accounts.\n",
      "Name: Description, dtype: object\n",
      "------\n",
      "total_bal_ex_mort 0.42454294369410706\n",
      "100    Total credit balance excluding mortgage\n",
      "Name: Description, dtype: object\n",
      "------\n",
      "total_bc_limit 0.42454294369410706\n",
      "102    Total bankcard high credit/credit limit\n",
      "Name: Description, dtype: object\n",
      "------\n",
      "revol_util 0.05941901907072959\n",
      "91    Revolving line utilization rate, or the amount of credit the borrower is using relative to all available revolving credit.\n",
      "Name: Description, dtype: object\n",
      "------\n",
      "dti 0.03183364034103911\n",
      "16    A ratio calculated using the borrower’s total monthly debt payments on the total debt obligations, excluding mortgage and the requested LC loan, divided by the borrower’s self-reported monthly income.\n",
      "Name: Description, dtype: object\n",
      "------\n",
      "last_credit_pull_d 0.003908400682440746\n",
      "36    The most recent month LC pulled credit for this loan\n",
      "Name: Description, dtype: object\n",
      "------\n",
      "zip_code 5.6643488151315146e-05\n",
      "114    The first 3 numbers of the zip code provided by the borrower in the loan application.\n",
      "Name: Description, dtype: object\n",
      "------\n"
     ]
    }
   ],
   "source": [
    "import operator \n",
    "# Find all the NaN\n",
    "# See what percentage of each column is NaN\n",
    "x_pct = {}\n",
    "length = len(loan_data)\n",
    "for y in loan_data.columns:\n",
    "    if loan_data[y].isnull().sum() > 0:\n",
    "        x_cnt = loan_data[y].isnull().sum()\n",
    "        x_pct[y] = 100.0*x_cnt/length\n",
    "        \n",
    "x_pct_list = sorted(x_pct.items(), key=operator.itemgetter(1), reverse=True)\n",
    "        \n",
    "for f, val in x_pct_list:\n",
    "    print(f, val)\n",
    "    print(loan_dict.loc[loan_dict['LoanStatNew'] == f]['Description'])\n",
    "    print('------')"
   ]
  },
  {
   "cell_type": "code",
   "execution_count": 10,
   "metadata": {},
   "outputs": [
    {
     "name": "stdout",
     "output_type": "stream",
     "text": [
      "settlement_term\n",
      "member_id\n",
      "url\n",
      "orig_projected_additional_accrued_interest\n",
      "hardship_type\n",
      "hardship_reason\n",
      "hardship_status\n",
      "deferral_term\n",
      "hardship_amount\n",
      "hardship_start_date\n",
      "hardship_end_date\n",
      "payment_plan_start_date\n",
      "hardship_length\n",
      "hardship_dpd\n",
      "hardship_loan_status\n",
      "hardship_payoff_balance_amount\n",
      "hardship_last_payment_amount\n",
      "debt_settlement_flag_date\n",
      "settlement_status\n",
      "settlement_date\n",
      "settlement_amount\n",
      "settlement_percentage\n",
      "sec_app_mths_since_last_major_derog\n",
      "sec_app_revol_util\n",
      "revol_bal_joint\n",
      "sec_app_earliest_cr_line\n",
      "sec_app_inq_last_6mths\n",
      "sec_app_mort_acc\n",
      "sec_app_open_acc\n",
      "sec_app_open_act_il\n",
      "sec_app_num_rev_accts\n",
      "sec_app_chargeoff_within_12_mths\n",
      "sec_app_collections_12_mths_ex_med\n",
      "verification_status_joint\n",
      "dti_joint\n",
      "annual_inc_joint\n",
      "desc\n",
      "id\n"
     ]
    }
   ],
   "source": [
    "# It shows that for cases where the columns are more than 80% NaN, they fall in the following categories.\n",
    "# 1. Related to settlement\n",
    "# 2. Related to secondary applicant\n",
    "# 3. ID\n",
    "# 4. Description.\n",
    "# All of them can be dropped.\n",
    "\n",
    "for f, val in x_pct_list:\n",
    "    if val > 80:\n",
    "        print(f)\n",
    "        loan_data = loan_data.drop(f, 1)"
   ]
  },
  {
   "cell_type": "markdown",
   "metadata": {},
   "source": [
    "### Clean data\n",
    "From this point onwards, read all the data in small chunks and clean it.\n",
    "Cleaning involves the following steps:\n",
    "1. Something"
   ]
  },
  {
   "cell_type": "code",
   "execution_count": 11,
   "metadata": {},
   "outputs": [
    {
     "name": "stdout",
     "output_type": "stream",
     "text": [
      "   loan_amnt  funded_amnt funded_amnt_inv        term int_rate  installment\n",
      "0      10000        10000           10000   36 months    8.59%       316.10\n",
      "1      15000        15000           15000   36 months   13.99%       512.60\n",
      "2      17000        17000           17000   36 months   14.49%       585.08\n",
      "3       9000         9000            9000   36 months   10.99%       294.61\n",
      "4       3250         3250            3250   36 months   13.49%       110.28\n",
      "loan_amnt int64\n",
      "funded_amnt int64\n",
      "funded_amnt_inv object\n",
      "term object\n",
      "int_rate object\n",
      "installment float64\n"
     ]
    },
    {
     "data": {
      "text/html": [
       "<div>\n",
       "<style scoped>\n",
       "    .dataframe tbody tr th:only-of-type {\n",
       "        vertical-align: middle;\n",
       "    }\n",
       "\n",
       "    .dataframe tbody tr th {\n",
       "        vertical-align: top;\n",
       "    }\n",
       "\n",
       "    .dataframe thead th {\n",
       "        text-align: right;\n",
       "    }\n",
       "</style>\n",
       "<table border=\"1\" class=\"dataframe\">\n",
       "  <thead>\n",
       "    <tr style=\"text-align: right;\">\n",
       "      <th></th>\n",
       "      <th>LoanStatNew</th>\n",
       "      <th>Description</th>\n",
       "    </tr>\n",
       "  </thead>\n",
       "  <tbody>\n",
       "    <tr>\n",
       "      <th>23</th>\n",
       "      <td>funded_amnt</td>\n",
       "      <td>The total amount committed to that loan at that point in time.</td>\n",
       "    </tr>\n",
       "    <tr>\n",
       "      <th>24</th>\n",
       "      <td>funded_amnt_inv</td>\n",
       "      <td>The total amount committed by investors for that loan at that point in time.</td>\n",
       "    </tr>\n",
       "    <tr>\n",
       "      <th>33</th>\n",
       "      <td>installment</td>\n",
       "      <td>The monthly payment owed by the borrower if the loan originates.</td>\n",
       "    </tr>\n",
       "    <tr>\n",
       "      <th>34</th>\n",
       "      <td>int_rate</td>\n",
       "      <td>Interest Rate on the loan</td>\n",
       "    </tr>\n",
       "    <tr>\n",
       "      <th>41</th>\n",
       "      <td>loan_amnt</td>\n",
       "      <td>The listed amount of the loan applied for by the borrower. If at some point in time, the credit department reduces the loan amount, then it will be reflected in this value.</td>\n",
       "    </tr>\n",
       "    <tr>\n",
       "      <th>94</th>\n",
       "      <td>term</td>\n",
       "      <td>The number of payments on the loan. Values are in months and can be either 36 or 60.</td>\n",
       "    </tr>\n",
       "  </tbody>\n",
       "</table>\n",
       "</div>"
      ],
      "text/plain": [
       "        LoanStatNew  \\\n",
       "23      funded_amnt   \n",
       "24  funded_amnt_inv   \n",
       "33      installment   \n",
       "34         int_rate   \n",
       "41        loan_amnt   \n",
       "94             term   \n",
       "\n",
       "                                                                                                                                                                     Description  \n",
       "23                                                                                                                The total amount committed to that loan at that point in time.  \n",
       "24                                                                                                  The total amount committed by investors for that loan at that point in time.  \n",
       "33                                                                                                              The monthly payment owed by the borrower if the loan originates.  \n",
       "34                                                                                                                                                     Interest Rate on the loan  \n",
       "41  The listed amount of the loan applied for by the borrower. If at some point in time, the credit department reduces the loan amount, then it will be reflected in this value.  \n",
       "94                                                                                          The number of payments on the loan. Values are in months and can be either 36 or 60.  "
      ]
     },
     "execution_count": 11,
     "metadata": {},
     "output_type": "execute_result"
    }
   ],
   "source": [
    "# Now analyze one column at a time\n",
    "# loan_dict.loc[loan_dict['LoanStatNew'] == 'loan_amnt']\n",
    "print(loan_data.iloc[:5,:6])\n",
    "for y in loan_data.columns[:6]:\n",
    "    print(y, loan_data[y].dtype)\n",
    "loan_dict.loc[loan_dict['LoanStatNew'].isin(list(loan_data.columns.values[:6]))]"
   ]
  },
  {
   "cell_type": "code",
   "execution_count": 12,
   "metadata": {},
   "outputs": [
    {
     "data": {
      "text/html": [
       "<div>\n",
       "<style scoped>\n",
       "    .dataframe tbody tr th:only-of-type {\n",
       "        vertical-align: middle;\n",
       "    }\n",
       "\n",
       "    .dataframe tbody tr th {\n",
       "        vertical-align: top;\n",
       "    }\n",
       "\n",
       "    .dataframe thead th {\n",
       "        text-align: right;\n",
       "    }\n",
       "</style>\n",
       "<table border=\"1\" class=\"dataframe\">\n",
       "  <thead>\n",
       "    <tr style=\"text-align: right;\">\n",
       "      <th></th>\n",
       "      <th>funded_amnt_inv</th>\n",
       "    </tr>\n",
       "  </thead>\n",
       "  <tbody>\n",
       "    <tr>\n",
       "      <th>0</th>\n",
       "      <td>True</td>\n",
       "    </tr>\n",
       "    <tr>\n",
       "      <th>1</th>\n",
       "      <td>True</td>\n",
       "    </tr>\n",
       "    <tr>\n",
       "      <th>2</th>\n",
       "      <td>True</td>\n",
       "    </tr>\n",
       "    <tr>\n",
       "      <th>3</th>\n",
       "      <td>True</td>\n",
       "    </tr>\n",
       "    <tr>\n",
       "      <th>4</th>\n",
       "      <td>True</td>\n",
       "    </tr>\n",
       "    <tr>\n",
       "      <th>5</th>\n",
       "      <td>True</td>\n",
       "    </tr>\n",
       "    <tr>\n",
       "      <th>6</th>\n",
       "      <td>True</td>\n",
       "    </tr>\n",
       "    <tr>\n",
       "      <th>7</th>\n",
       "      <td>True</td>\n",
       "    </tr>\n",
       "    <tr>\n",
       "      <th>8</th>\n",
       "      <td>True</td>\n",
       "    </tr>\n",
       "    <tr>\n",
       "      <th>9</th>\n",
       "      <td>True</td>\n",
       "    </tr>\n",
       "    <tr>\n",
       "      <th>10</th>\n",
       "      <td>True</td>\n",
       "    </tr>\n",
       "    <tr>\n",
       "      <th>11</th>\n",
       "      <td>True</td>\n",
       "    </tr>\n",
       "    <tr>\n",
       "      <th>12</th>\n",
       "      <td>True</td>\n",
       "    </tr>\n",
       "    <tr>\n",
       "      <th>13</th>\n",
       "      <td>True</td>\n",
       "    </tr>\n",
       "    <tr>\n",
       "      <th>14</th>\n",
       "      <td>True</td>\n",
       "    </tr>\n",
       "    <tr>\n",
       "      <th>15</th>\n",
       "      <td>True</td>\n",
       "    </tr>\n",
       "    <tr>\n",
       "      <th>16</th>\n",
       "      <td>True</td>\n",
       "    </tr>\n",
       "    <tr>\n",
       "      <th>17</th>\n",
       "      <td>True</td>\n",
       "    </tr>\n",
       "    <tr>\n",
       "      <th>18</th>\n",
       "      <td>True</td>\n",
       "    </tr>\n",
       "    <tr>\n",
       "      <th>19</th>\n",
       "      <td>True</td>\n",
       "    </tr>\n",
       "    <tr>\n",
       "      <th>20</th>\n",
       "      <td>True</td>\n",
       "    </tr>\n",
       "    <tr>\n",
       "      <th>21</th>\n",
       "      <td>True</td>\n",
       "    </tr>\n",
       "    <tr>\n",
       "      <th>22</th>\n",
       "      <td>True</td>\n",
       "    </tr>\n",
       "    <tr>\n",
       "      <th>23</th>\n",
       "      <td>True</td>\n",
       "    </tr>\n",
       "    <tr>\n",
       "      <th>24</th>\n",
       "      <td>True</td>\n",
       "    </tr>\n",
       "    <tr>\n",
       "      <th>25</th>\n",
       "      <td>True</td>\n",
       "    </tr>\n",
       "    <tr>\n",
       "      <th>26</th>\n",
       "      <td>True</td>\n",
       "    </tr>\n",
       "    <tr>\n",
       "      <th>27</th>\n",
       "      <td>True</td>\n",
       "    </tr>\n",
       "    <tr>\n",
       "      <th>28</th>\n",
       "      <td>True</td>\n",
       "    </tr>\n",
       "    <tr>\n",
       "      <th>29</th>\n",
       "      <td>True</td>\n",
       "    </tr>\n",
       "    <tr>\n",
       "      <th>...</th>\n",
       "      <td>...</td>\n",
       "    </tr>\n",
       "    <tr>\n",
       "      <th>97824</th>\n",
       "      <td>True</td>\n",
       "    </tr>\n",
       "    <tr>\n",
       "      <th>97825</th>\n",
       "      <td>True</td>\n",
       "    </tr>\n",
       "    <tr>\n",
       "      <th>97826</th>\n",
       "      <td>True</td>\n",
       "    </tr>\n",
       "    <tr>\n",
       "      <th>97827</th>\n",
       "      <td>True</td>\n",
       "    </tr>\n",
       "    <tr>\n",
       "      <th>97828</th>\n",
       "      <td>True</td>\n",
       "    </tr>\n",
       "    <tr>\n",
       "      <th>97829</th>\n",
       "      <td>True</td>\n",
       "    </tr>\n",
       "    <tr>\n",
       "      <th>97830</th>\n",
       "      <td>True</td>\n",
       "    </tr>\n",
       "    <tr>\n",
       "      <th>97831</th>\n",
       "      <td>True</td>\n",
       "    </tr>\n",
       "    <tr>\n",
       "      <th>97832</th>\n",
       "      <td>True</td>\n",
       "    </tr>\n",
       "    <tr>\n",
       "      <th>97833</th>\n",
       "      <td>True</td>\n",
       "    </tr>\n",
       "    <tr>\n",
       "      <th>97834</th>\n",
       "      <td>True</td>\n",
       "    </tr>\n",
       "    <tr>\n",
       "      <th>97835</th>\n",
       "      <td>True</td>\n",
       "    </tr>\n",
       "    <tr>\n",
       "      <th>97836</th>\n",
       "      <td>True</td>\n",
       "    </tr>\n",
       "    <tr>\n",
       "      <th>97837</th>\n",
       "      <td>True</td>\n",
       "    </tr>\n",
       "    <tr>\n",
       "      <th>97838</th>\n",
       "      <td>True</td>\n",
       "    </tr>\n",
       "    <tr>\n",
       "      <th>97839</th>\n",
       "      <td>True</td>\n",
       "    </tr>\n",
       "    <tr>\n",
       "      <th>97840</th>\n",
       "      <td>True</td>\n",
       "    </tr>\n",
       "    <tr>\n",
       "      <th>97841</th>\n",
       "      <td>True</td>\n",
       "    </tr>\n",
       "    <tr>\n",
       "      <th>97842</th>\n",
       "      <td>True</td>\n",
       "    </tr>\n",
       "    <tr>\n",
       "      <th>97843</th>\n",
       "      <td>True</td>\n",
       "    </tr>\n",
       "    <tr>\n",
       "      <th>97844</th>\n",
       "      <td>True</td>\n",
       "    </tr>\n",
       "    <tr>\n",
       "      <th>97845</th>\n",
       "      <td>True</td>\n",
       "    </tr>\n",
       "    <tr>\n",
       "      <th>97846</th>\n",
       "      <td>True</td>\n",
       "    </tr>\n",
       "    <tr>\n",
       "      <th>97847</th>\n",
       "      <td>True</td>\n",
       "    </tr>\n",
       "    <tr>\n",
       "      <th>97848</th>\n",
       "      <td>True</td>\n",
       "    </tr>\n",
       "    <tr>\n",
       "      <th>97849</th>\n",
       "      <td>True</td>\n",
       "    </tr>\n",
       "    <tr>\n",
       "      <th>97850</th>\n",
       "      <td>True</td>\n",
       "    </tr>\n",
       "    <tr>\n",
       "      <th>97851</th>\n",
       "      <td>True</td>\n",
       "    </tr>\n",
       "    <tr>\n",
       "      <th>97852</th>\n",
       "      <td>True</td>\n",
       "    </tr>\n",
       "    <tr>\n",
       "      <th>97853</th>\n",
       "      <td>True</td>\n",
       "    </tr>\n",
       "  </tbody>\n",
       "</table>\n",
       "<p>1765428 rows × 1 columns</p>\n",
       "</div>"
      ],
      "text/plain": [
       "       funded_amnt_inv\n",
       "0                 True\n",
       "1                 True\n",
       "2                 True\n",
       "3                 True\n",
       "4                 True\n",
       "5                 True\n",
       "6                 True\n",
       "7                 True\n",
       "8                 True\n",
       "9                 True\n",
       "10                True\n",
       "11                True\n",
       "12                True\n",
       "13                True\n",
       "14                True\n",
       "15                True\n",
       "16                True\n",
       "17                True\n",
       "18                True\n",
       "19                True\n",
       "20                True\n",
       "21                True\n",
       "22                True\n",
       "23                True\n",
       "24                True\n",
       "25                True\n",
       "26                True\n",
       "27                True\n",
       "28                True\n",
       "29                True\n",
       "...                ...\n",
       "97824             True\n",
       "97825             True\n",
       "97826             True\n",
       "97827             True\n",
       "97828             True\n",
       "97829             True\n",
       "97830             True\n",
       "97831             True\n",
       "97832             True\n",
       "97833             True\n",
       "97834             True\n",
       "97835             True\n",
       "97836             True\n",
       "97837             True\n",
       "97838             True\n",
       "97839             True\n",
       "97840             True\n",
       "97841             True\n",
       "97842             True\n",
       "97843             True\n",
       "97844             True\n",
       "97845             True\n",
       "97846             True\n",
       "97847             True\n",
       "97848             True\n",
       "97849             True\n",
       "97850             True\n",
       "97851             True\n",
       "97852             True\n",
       "97853             True\n",
       "\n",
       "[1765428 rows x 1 columns]"
      ]
     },
     "execution_count": 12,
     "metadata": {},
     "output_type": "execute_result"
    }
   ],
   "source": [
    "# Analysis\n",
    "# loan_amnt is int64 - Good\n",
    "# funded_amnt is int64 - Good\n",
    "# funded_amnt_inv is object - Bad\n",
    "# term is object - Bad\n",
    "# int_rate is object - Bad\n",
    "\n",
    "# Let's start with funded_amnt_inv\n",
    "# Find the non-int entry\n",
    "df = loan_data['funded_amnt_inv'].to_frame().applymap(np.isreal) == False\n",
    "df.loc[df['funded_amnt_inv'] == True]"
   ]
  },
  {
   "cell_type": "code",
   "execution_count": 13,
   "metadata": {},
   "outputs": [
    {
     "data": {
      "text/plain": [
       "Series([], Name: funded_amnt_inv, dtype: float64)"
      ]
     },
     "execution_count": 13,
     "metadata": {},
     "output_type": "execute_result"
    }
   ],
   "source": [
    "# Looks like all the entries are considered non-integral\n",
    "# Let's examine\n",
    "loan_data['funded_amnt_inv'][:1]\n",
    "# Since each object seems to string, convert it to numeric.\n",
    "loan_data['funded_amnt_inv'] = pd.to_numeric(loan_data['funded_amnt_inv'])\n",
    "# Find the non-numeric entry\n",
    "df = loan_data['funded_amnt_inv'].to_frame().applymap(np.isreal) == False\n",
    "df.loc[df['funded_amnt_inv'] == True]\n",
    "df = loan_data['funded_amnt_inv']\n",
    "df.loc[df.isnull()]\n",
    "# So now the data for funded_amnt_inv is all good."
   ]
  },
  {
   "cell_type": "code",
   "execution_count": 14,
   "metadata": {},
   "outputs": [
    {
     "data": {
      "text/html": [
       "<div>\n",
       "<style scoped>\n",
       "    .dataframe tbody tr th:only-of-type {\n",
       "        vertical-align: middle;\n",
       "    }\n",
       "\n",
       "    .dataframe tbody tr th {\n",
       "        vertical-align: top;\n",
       "    }\n",
       "\n",
       "    .dataframe thead th {\n",
       "        text-align: right;\n",
       "    }\n",
       "</style>\n",
       "<table border=\"1\" class=\"dataframe\">\n",
       "  <thead>\n",
       "    <tr style=\"text-align: right;\">\n",
       "      <th></th>\n",
       "      <th>term</th>\n",
       "    </tr>\n",
       "  </thead>\n",
       "  <tbody>\n",
       "  </tbody>\n",
       "</table>\n",
       "</div>"
      ],
      "text/plain": [
       "Empty DataFrame\n",
       "Columns: [term]\n",
       "Index: []"
      ]
     },
     "execution_count": 14,
     "metadata": {},
     "output_type": "execute_result"
    }
   ],
   "source": [
    "# Moving to \"term\"\n",
    "# All terms are described in terms of months.\n",
    "# So, a simple replacement should work.\n",
    "loan_data['term'] = loan_data['term'].str.replace(\" months\",\"\")\n",
    "# Now convert all of them to numeric\n",
    "loan_data['term'] = pd.to_numeric(loan_data['term'])\n",
    "# Find the non-numeric entry\n",
    "df = loan_data['term'].to_frame().applymap(np.isreal) == False\n",
    "df.loc[df['term'] == True]\n",
    "# The term data looks all good."
   ]
  },
  {
   "cell_type": "code",
   "execution_count": 15,
   "metadata": {},
   "outputs": [
    {
     "data": {
      "text/html": [
       "<div>\n",
       "<style scoped>\n",
       "    .dataframe tbody tr th:only-of-type {\n",
       "        vertical-align: middle;\n",
       "    }\n",
       "\n",
       "    .dataframe tbody tr th {\n",
       "        vertical-align: top;\n",
       "    }\n",
       "\n",
       "    .dataframe thead th {\n",
       "        text-align: right;\n",
       "    }\n",
       "</style>\n",
       "<table border=\"1\" class=\"dataframe\">\n",
       "  <thead>\n",
       "    <tr style=\"text-align: right;\">\n",
       "      <th></th>\n",
       "      <th>int_rate</th>\n",
       "    </tr>\n",
       "  </thead>\n",
       "  <tbody>\n",
       "  </tbody>\n",
       "</table>\n",
       "</div>"
      ],
      "text/plain": [
       "Empty DataFrame\n",
       "Columns: [int_rate]\n",
       "Index: []"
      ]
     },
     "execution_count": 15,
     "metadata": {},
     "output_type": "execute_result"
    }
   ],
   "source": [
    "# Moving to \"int_rate\"\n",
    "# All int_rate are described in terms of %.\n",
    "# So, a simple replacement should work.\n",
    "loan_data['int_rate'] = loan_data['int_rate'].str.replace(\"%\",\"\")\n",
    "# Now convert all of them to numeric\n",
    "loan_data['int_rate'] = pd.to_numeric(loan_data['int_rate'])\n",
    "# Find the non-numeric entry\n",
    "df = loan_data['int_rate'].to_frame().applymap(np.isreal) == False\n",
    "df.loc[df['int_rate'] == True]\n",
    "# The int_rate data looks all good."
   ]
  },
  {
   "cell_type": "code",
   "execution_count": 16,
   "metadata": {},
   "outputs": [
    {
     "data": {
      "text/html": [
       "<div>\n",
       "<style scoped>\n",
       "    .dataframe tbody tr th:only-of-type {\n",
       "        vertical-align: middle;\n",
       "    }\n",
       "\n",
       "    .dataframe tbody tr th {\n",
       "        vertical-align: top;\n",
       "    }\n",
       "\n",
       "    .dataframe thead th {\n",
       "        text-align: right;\n",
       "    }\n",
       "</style>\n",
       "<table border=\"1\" class=\"dataframe\">\n",
       "  <thead>\n",
       "    <tr style=\"text-align: right;\">\n",
       "      <th></th>\n",
       "      <th>installment</th>\n",
       "    </tr>\n",
       "  </thead>\n",
       "  <tbody>\n",
       "  </tbody>\n",
       "</table>\n",
       "</div>"
      ],
      "text/plain": [
       "Empty DataFrame\n",
       "Columns: [installment]\n",
       "Index: []"
      ]
     },
     "execution_count": 16,
     "metadata": {},
     "output_type": "execute_result"
    }
   ],
   "source": [
    "# Moving to \"installment\"\n",
    "# Find the non-numeric entry\n",
    "df = loan_data['installment'].to_frame().applymap(np.isreal) == False\n",
    "df.loc[df['installment'] == True]\n",
    "# The installment data looks all good."
   ]
  },
  {
   "cell_type": "code",
   "execution_count": 17,
   "metadata": {},
   "outputs": [
    {
     "name": "stdout",
     "output_type": "stream",
     "text": [
      "   loan_amnt  funded_amnt  funded_amnt_inv  term  int_rate  installment\n",
      "0      10000        10000          10000.0    36      8.59       316.10\n",
      "1      15000        15000          15000.0    36     13.99       512.60\n",
      "2      17000        17000          17000.0    36     14.49       585.08\n",
      "3       9000         9000           9000.0    36     10.99       294.61\n",
      "4       3250         3250           3250.0    36     13.49       110.28\n",
      "loan_amnt int64\n",
      "funded_amnt int64\n",
      "funded_amnt_inv float64\n",
      "term int64\n",
      "int_rate float64\n",
      "installment float64\n"
     ]
    }
   ],
   "source": [
    "# Print thoese features again\n",
    "print(loan_data.iloc[:5,:6])\n",
    "for y in loan_data.columns[:6]:\n",
    "  print(y, loan_data[y].dtype)"
   ]
  },
  {
   "cell_type": "code",
   "execution_count": 18,
   "metadata": {},
   "outputs": [
    {
     "name": "stdout",
     "output_type": "stream",
     "text": [
      "2065\n"
     ]
    }
   ],
   "source": [
    "# Want to see if the loan_amnt and funded_amnt are ever different\n",
    "df_ = loan_data['loan_amnt'] - loan_data['funded_amnt'] != 0\n",
    "df = df_.to_frame()\n",
    "print(len(df.loc[df[0] == True]))"
   ]
  },
  {
   "cell_type": "markdown",
   "metadata": {},
   "source": [
    "Since, there are 2065 cases where the loan_amnt and funded_amnt are different I am going to keep both the features.\n",
    "2065 is really small compared to the 1.7 million data we have.\n",
    "But, for now, I will keep it."
   ]
  },
  {
   "cell_type": "code",
   "execution_count": 19,
   "metadata": {},
   "outputs": [
    {
     "data": {
      "text/html": [
       "<div>\n",
       "<style scoped>\n",
       "    .dataframe tbody tr th:only-of-type {\n",
       "        vertical-align: middle;\n",
       "    }\n",
       "\n",
       "    .dataframe tbody tr th {\n",
       "        vertical-align: top;\n",
       "    }\n",
       "\n",
       "    .dataframe thead th {\n",
       "        text-align: right;\n",
       "    }\n",
       "</style>\n",
       "<table border=\"1\" class=\"dataframe\">\n",
       "  <thead>\n",
       "    <tr style=\"text-align: right;\">\n",
       "      <th></th>\n",
       "      <th>loan_amnt</th>\n",
       "      <th>funded_amnt</th>\n",
       "      <th>funded_amnt_inv</th>\n",
       "      <th>term</th>\n",
       "      <th>int_rate</th>\n",
       "      <th>installment</th>\n",
       "      <th>grade</th>\n",
       "      <th>sub_grade</th>\n",
       "      <th>emp_title</th>\n",
       "      <th>emp_length</th>\n",
       "      <th>...</th>\n",
       "      <th>percent_bc_gt_75</th>\n",
       "      <th>pub_rec_bankruptcies</th>\n",
       "      <th>tax_liens</th>\n",
       "      <th>tot_hi_cred_lim</th>\n",
       "      <th>total_bal_ex_mort</th>\n",
       "      <th>total_bc_limit</th>\n",
       "      <th>total_il_high_credit_limit</th>\n",
       "      <th>hardship_flag</th>\n",
       "      <th>disbursement_method</th>\n",
       "      <th>debt_settlement_flag</th>\n",
       "    </tr>\n",
       "  </thead>\n",
       "  <tbody>\n",
       "  </tbody>\n",
       "</table>\n",
       "<p>0 rows × 107 columns</p>\n",
       "</div>"
      ],
      "text/plain": [
       "Empty DataFrame\n",
       "Columns: [loan_amnt, funded_amnt, funded_amnt_inv, term, int_rate, installment, grade, sub_grade, emp_title, emp_length, home_ownership, annual_inc, verification_status, issue_d, loan_status, pymnt_plan, purpose, title, zip_code, addr_state, dti, delinq_2yrs, earliest_cr_line, inq_last_6mths, mths_since_last_delinq, mths_since_last_record, open_acc, pub_rec, revol_bal, revol_util, total_acc, initial_list_status, out_prncp, out_prncp_inv, total_pymnt, total_pymnt_inv, total_rec_prncp, total_rec_int, total_rec_late_fee, recoveries, collection_recovery_fee, last_pymnt_d, last_pymnt_amnt, next_pymnt_d, last_credit_pull_d, collections_12_mths_ex_med, mths_since_last_major_derog, policy_code, application_type, acc_now_delinq, tot_coll_amt, tot_cur_bal, open_acc_6m, open_act_il, open_il_12m, open_il_24m, mths_since_rcnt_il, total_bal_il, il_util, open_rv_12m, open_rv_24m, max_bal_bc, all_util, total_rev_hi_lim, inq_fi, total_cu_tl, inq_last_12m, acc_open_past_24mths, avg_cur_bal, bc_open_to_buy, bc_util, chargeoff_within_12_mths, delinq_amnt, mo_sin_old_il_acct, mo_sin_old_rev_tl_op, mo_sin_rcnt_rev_tl_op, mo_sin_rcnt_tl, mort_acc, mths_since_recent_bc, mths_since_recent_bc_dlq, mths_since_recent_inq, mths_since_recent_revol_delinq, num_accts_ever_120_pd, num_actv_bc_tl, num_actv_rev_tl, num_bc_sats, num_bc_tl, num_il_tl, num_op_rev_tl, num_rev_accts, num_rev_tl_bal_gt_0, num_sats, num_tl_120dpd_2m, num_tl_30dpd, num_tl_90g_dpd_24m, num_tl_op_past_12m, pct_tl_nvr_dlq, percent_bc_gt_75, pub_rec_bankruptcies, tax_liens, ...]\n",
       "Index: []\n",
       "\n",
       "[0 rows x 107 columns]"
      ]
     },
     "execution_count": 19,
     "metadata": {},
     "output_type": "execute_result"
    }
   ],
   "source": [
    "# Look for 0 loan_amnt\n",
    "loan_data.drop(loan_data[loan_data.loan_amnt == 0].index, inplace=True)\n",
    "loan_data.loc[loan_data['loan_amnt'] == 0]"
   ]
  },
  {
   "cell_type": "code",
   "execution_count": 20,
   "metadata": {},
   "outputs": [
    {
     "name": "stdout",
     "output_type": "stream",
     "text": [
      "  grade sub_grade              emp_title emp_length home_ownership\n",
      "0     A        A5      Supervisory Agent  10+ years       MORTGAGE\n",
      "1     C        C3        Fiscal Director    2 years           RENT\n",
      "2     C        C4                   Lead    5 years           RENT\n",
      "3     B        B4     maintenace manager    7 years       MORTGAGE\n",
      "4     C        C2  Tobacco Sales Cashier    2 years           RENT\n",
      "grade object\n",
      "sub_grade object\n",
      "emp_title object\n",
      "emp_length object\n",
      "home_ownership object\n"
     ]
    },
    {
     "data": {
      "text/html": [
       "<div>\n",
       "<style scoped>\n",
       "    .dataframe tbody tr th:only-of-type {\n",
       "        vertical-align: middle;\n",
       "    }\n",
       "\n",
       "    .dataframe tbody tr th {\n",
       "        vertical-align: top;\n",
       "    }\n",
       "\n",
       "    .dataframe thead th {\n",
       "        text-align: right;\n",
       "    }\n",
       "</style>\n",
       "<table border=\"1\" class=\"dataframe\">\n",
       "  <thead>\n",
       "    <tr style=\"text-align: right;\">\n",
       "      <th></th>\n",
       "      <th>LoanStatNew</th>\n",
       "      <th>Description</th>\n",
       "    </tr>\n",
       "  </thead>\n",
       "  <tbody>\n",
       "    <tr>\n",
       "      <th>19</th>\n",
       "      <td>emp_length</td>\n",
       "      <td>Employment length in years. Possible values are between 0 and 10 where 0 means less than one year and 10 means ten or more years.</td>\n",
       "    </tr>\n",
       "    <tr>\n",
       "      <th>20</th>\n",
       "      <td>emp_title</td>\n",
       "      <td>The job title supplied by the Borrower when applying for the loan.*</td>\n",
       "    </tr>\n",
       "    <tr>\n",
       "      <th>25</th>\n",
       "      <td>grade</td>\n",
       "      <td>LC assigned loan grade</td>\n",
       "    </tr>\n",
       "    <tr>\n",
       "      <th>26</th>\n",
       "      <td>home_ownership</td>\n",
       "      <td>The home ownership status provided by the borrower during registration or obtained from the credit report. Our values are: RENT, OWN, MORTGAGE, OTHER</td>\n",
       "    </tr>\n",
       "    <tr>\n",
       "      <th>92</th>\n",
       "      <td>sub_grade</td>\n",
       "      <td>LC assigned loan subgrade</td>\n",
       "    </tr>\n",
       "  </tbody>\n",
       "</table>\n",
       "</div>"
      ],
      "text/plain": [
       "       LoanStatNew  \\\n",
       "19      emp_length   \n",
       "20       emp_title   \n",
       "25           grade   \n",
       "26  home_ownership   \n",
       "92       sub_grade   \n",
       "\n",
       "                                                                                                                                              Description  \n",
       "19                     Employment length in years. Possible values are between 0 and 10 where 0 means less than one year and 10 means ten or more years.   \n",
       "20                                                                                    The job title supplied by the Borrower when applying for the loan.*  \n",
       "25                                                                                                                                 LC assigned loan grade  \n",
       "26  The home ownership status provided by the borrower during registration or obtained from the credit report. Our values are: RENT, OWN, MORTGAGE, OTHER  \n",
       "92                                                                                                                              LC assigned loan subgrade  "
      ]
     },
     "execution_count": 20,
     "metadata": {},
     "output_type": "execute_result"
    }
   ],
   "source": [
    "# Now analyze the next 5 features\n",
    "print(loan_data.iloc[:5,6:11])\n",
    "for y in loan_data.columns[6:11]:\n",
    "  print(y, loan_data[y].dtype)\n",
    "loan_dict.loc[loan_dict['LoanStatNew'].isin(list(loan_data.columns.values[6:11]))]"
   ]
  },
  {
   "cell_type": "code",
   "execution_count": 21,
   "metadata": {},
   "outputs": [
    {
     "data": {
      "text/plain": [
       "array(['A', 'C', 'B', 'D', 'E', 'F', 'G'], dtype=object)"
      ]
     },
     "execution_count": 21,
     "metadata": {},
     "output_type": "execute_result"
    }
   ],
   "source": [
    "# Starting with grade\n",
    "loan_data['grade'].unique()"
   ]
  },
  {
   "cell_type": "code",
   "execution_count": 22,
   "metadata": {},
   "outputs": [
    {
     "data": {
      "text/plain": [
       "array(['A5', 'C3', 'C4', 'B4', 'C2', 'C5', 'A1', 'C1', 'B5', 'D4', 'B1',\n",
       "       'E4', 'B3', 'B2', 'A2', 'A4', 'E1', 'D1', 'D3', 'D5', 'F2', 'A3',\n",
       "       'D2', 'F4', 'G1', 'F1', 'G3', 'E2', 'E5', 'E3', 'F5', 'G4', 'F3',\n",
       "       'G2', 'G5'], dtype=object)"
      ]
     },
     "execution_count": 22,
     "metadata": {},
     "output_type": "execute_result"
    }
   ],
   "source": [
    "# 'grade' looks good for a categorical type.\n",
    "# The 0 corresponds to no data.\n",
    "# For now, it is ok in out case.\n",
    "\n",
    "# Next try sub_grade\n",
    "loan_data['sub_grade'].unique()"
   ]
  },
  {
   "cell_type": "code",
   "execution_count": 23,
   "metadata": {},
   "outputs": [
    {
     "name": "stdout",
     "output_type": "stream",
     "text": [
      "449772\n"
     ]
    },
    {
     "data": {
      "text/plain": [
       "array(['Supervisory Agent', 'Fiscal Director', 'Lead', ..., 'Mg',\n",
       "       'CFO Treasurer', 'Service desk engineer'], dtype=object)"
      ]
     },
     "execution_count": 23,
     "metadata": {},
     "output_type": "execute_result"
    }
   ],
   "source": [
    "# Again 'sub_grade' looks decent\n",
    "\n",
    "# Moving to emp_title\n",
    "print(len(loan_data['emp_title'].unique()))\n",
    "loan_data['emp_title'].unique()"
   ]
  },
  {
   "cell_type": "markdown",
   "metadata": {},
   "source": [
    "There 449772 employment title including '0', which means no data. Hence, I am removing it from the loan data table."
   ]
  },
  {
   "cell_type": "code",
   "execution_count": 24,
   "metadata": {},
   "outputs": [],
   "source": [
    "# Too many of them.\n",
    "# Will drop 'emp_title' from the loan_data for now.\n",
    "# Will later do some analysis if needed.\n",
    "loan_data = loan_data.drop('emp_title', 1)"
   ]
  },
  {
   "cell_type": "code",
   "execution_count": 25,
   "metadata": {},
   "outputs": [
    {
     "name": "stdout",
     "output_type": "stream",
     "text": [
      "['10+' '2' '5' '7' '9' '8' '3' '4' '6' nan '1' '<1']\n",
      "['10+' '2' '5' '7' '9' '8' '3' '4' '6' 0 '1' '<1']\n"
     ]
    }
   ],
   "source": [
    "# Moving to emp_length\n",
    "# First remove \"year\", \"years\" and blanks\n",
    "loan_data['emp_length'] = loan_data['emp_length'].str.replace(\"years\",\"\")\n",
    "loan_data['emp_length'] = loan_data['emp_length'].str.replace(\"year\",\"\")\n",
    "loan_data['emp_length'] = loan_data['emp_length'].str.replace(\" \",\"\")\n",
    "print(loan_data['emp_length'].unique())\n",
    "# Replacing all NaN with 0.\n",
    "# Not sure, if this is the right way.\n",
    "loan_data.loc[(loan_data['emp_length'] != '<1') & \\\n",
    "              (loan_data['emp_length'] != '1') & \\\n",
    "              (loan_data['emp_length'] != '2') & \\\n",
    "              (loan_data['emp_length'] != '3') & \\\n",
    "              (loan_data['emp_length'] != '4') & \\\n",
    "              (loan_data['emp_length'] != '5') & \\\n",
    "              (loan_data['emp_length'] != '6') & \\\n",
    "              (loan_data['emp_length'] != '7') & \\\n",
    "              (loan_data['emp_length'] != '8') & \\\n",
    "              (loan_data['emp_length'] != '9') & \\\n",
    "              (loan_data['emp_length'] != '10+'), 'emp_length'] = 0\n",
    "print(loan_data['emp_length'].unique())"
   ]
  },
  {
   "cell_type": "code",
   "execution_count": 26,
   "metadata": {},
   "outputs": [
    {
     "data": {
      "text/plain": [
       "array(['MORTGAGE', 'RENT', 'OWN', 'ANY', 'NONE', 'OTHER'], dtype=object)"
      ]
     },
     "execution_count": 26,
     "metadata": {},
     "output_type": "execute_result"
    }
   ],
   "source": [
    "# Moving to home_ownership\n",
    "loan_data['home_ownership'].unique()"
   ]
  },
  {
   "cell_type": "code",
   "execution_count": 27,
   "metadata": {},
   "outputs": [
    {
     "name": "stdout",
     "output_type": "stream",
     "text": [
      "  grade sub_grade emp_length home_ownership\n",
      "0     A        A5        10+       MORTGAGE\n",
      "1     C        C3          2           RENT\n",
      "2     C        C4          5           RENT\n",
      "3     B        B4          7       MORTGAGE\n",
      "4     C        C2          2           RENT\n"
     ]
    }
   ],
   "source": [
    "# Though OTHER, NONE and ANY are a little confusing, I will do that cleaning later.\n",
    "# For now things look ok.\n",
    "\n",
    "# Printing all the columngs together again.\n",
    "print(loan_data.iloc[:5,6:10])"
   ]
  },
  {
   "cell_type": "code",
   "execution_count": 28,
   "metadata": {},
   "outputs": [
    {
     "name": "stdout",
     "output_type": "stream",
     "text": [
      "  annual_inc verification_status   issue_d loan_status pymnt_plan\n",
      "0     137500     Source Verified  Sep-2016     Current          n\n",
      "1      55000        Not Verified  Sep-2016     Current          n\n",
      "2      54000     Source Verified  Sep-2016     Current          n\n",
      "3      65000     Source Verified  Sep-2016     Current          n\n",
      "4      23000     Source Verified  Sep-2016     Current          n\n",
      "annual_inc object\n",
      "verification_status object\n",
      "issue_d object\n",
      "loan_status object\n",
      "pymnt_plan object\n"
     ]
    },
    {
     "data": {
      "text/html": [
       "<div>\n",
       "<style scoped>\n",
       "    .dataframe tbody tr th:only-of-type {\n",
       "        vertical-align: middle;\n",
       "    }\n",
       "\n",
       "    .dataframe tbody tr th {\n",
       "        vertical-align: top;\n",
       "    }\n",
       "\n",
       "    .dataframe thead th {\n",
       "        text-align: right;\n",
       "    }\n",
       "</style>\n",
       "<table border=\"1\" class=\"dataframe\">\n",
       "  <thead>\n",
       "    <tr style=\"text-align: right;\">\n",
       "      <th></th>\n",
       "      <th>LoanStatNew</th>\n",
       "      <th>Description</th>\n",
       "    </tr>\n",
       "  </thead>\n",
       "  <tbody>\n",
       "    <tr>\n",
       "      <th>4</th>\n",
       "      <td>annual_inc</td>\n",
       "      <td>The self-reported annual income provided by the borrower during registration.</td>\n",
       "    </tr>\n",
       "    <tr>\n",
       "      <th>35</th>\n",
       "      <td>issue_d</td>\n",
       "      <td>The month which the loan was funded</td>\n",
       "    </tr>\n",
       "    <tr>\n",
       "      <th>42</th>\n",
       "      <td>loan_status</td>\n",
       "      <td>Current status of the loan</td>\n",
       "    </tr>\n",
       "    <tr>\n",
       "      <th>88</th>\n",
       "      <td>pymnt_plan</td>\n",
       "      <td>Indicates if a payment plan has been put in place for the loan</td>\n",
       "    </tr>\n",
       "    <tr>\n",
       "      <th>112</th>\n",
       "      <td>verification_status</td>\n",
       "      <td>Indicates if income was verified by LC, not verified, or if the income source was verified</td>\n",
       "    </tr>\n",
       "  </tbody>\n",
       "</table>\n",
       "</div>"
      ],
      "text/plain": [
       "             LoanStatNew  \\\n",
       "4             annual_inc   \n",
       "35               issue_d   \n",
       "42           loan_status   \n",
       "88            pymnt_plan   \n",
       "112  verification_status   \n",
       "\n",
       "                                                                                    Description  \n",
       "4                 The self-reported annual income provided by the borrower during registration.  \n",
       "35                                                          The month which the loan was funded  \n",
       "42                                                                   Current status of the loan  \n",
       "88                               Indicates if a payment plan has been put in place for the loan  \n",
       "112  Indicates if income was verified by LC, not verified, or if the income source was verified  "
      ]
     },
     "execution_count": 28,
     "metadata": {},
     "output_type": "execute_result"
    }
   ],
   "source": [
    "# Moving to next 6 columns\n",
    "print(loan_data.iloc[:5,10:15])\n",
    "for y in loan_data.columns[10:15]:\n",
    "  print(y, loan_data[y].dtype)\n",
    "loan_dict.loc[loan_dict['LoanStatNew'].isin(list(loan_data.columns.values[10:15]))]"
   ]
  },
  {
   "cell_type": "code",
   "execution_count": 29,
   "metadata": {},
   "outputs": [
    {
     "data": {
      "text/plain": [
       "1765404"
      ]
     },
     "execution_count": 29,
     "metadata": {},
     "output_type": "execute_result"
    }
   ],
   "source": [
    "# Staring with annual_inc\n",
    "# It should be numeric\n",
    "# So, let'f find the non-numeric entry\n",
    "df = loan_data['annual_inc'].to_frame().applymap(np.isreal) == False\n",
    "len(df.loc[df['annual_inc'] == True])"
   ]
  },
  {
   "cell_type": "code",
   "execution_count": 30,
   "metadata": {},
   "outputs": [
    {
     "data": {
      "text/plain": [
       "Series([], Name: annual_inc, dtype: float64)"
      ]
     },
     "execution_count": 30,
     "metadata": {},
     "output_type": "execute_result"
    }
   ],
   "source": [
    "# Looks like all the entries are considered non-integral\n",
    "# Let's examine\n",
    "loan_data['annual_inc'][:1]\n",
    "# Since each object seems to string, convert it to numeric.\n",
    "loan_data['annual_inc'] = pd.to_numeric(loan_data['annual_inc'])\n",
    "# Find the non-numeric entry\n",
    "df = loan_data['annual_inc'].to_frame().applymap(np.isreal) == False\n",
    "df.loc[df['annual_inc'] == True]\n",
    "df = loan_data['annual_inc']\n",
    "df.loc[df.isnull()]\n",
    "# So now the data for annual_inc is all good."
   ]
  },
  {
   "cell_type": "code",
   "execution_count": 31,
   "metadata": {},
   "outputs": [
    {
     "data": {
      "text/plain": [
       "array(['Source Verified', 'Not Verified', 'Verified'], dtype=object)"
      ]
     },
     "execution_count": 31,
     "metadata": {},
     "output_type": "execute_result"
    }
   ],
   "source": [
    "# Now verification_status\n",
    "loan_data['verification_status'].unique()"
   ]
  },
  {
   "cell_type": "code",
   "execution_count": 32,
   "metadata": {},
   "outputs": [
    {
     "data": {
      "text/plain": [
       "array(['Sep-2016', 'Aug-2016', 'Jul-2016', 'Jun-2017', 'May-2017',\n",
       "       'Apr-2017', 'Dec-2013', 'Nov-2013', 'Oct-2013', 'Sep-2013',\n",
       "       'Aug-2013', 'Jul-2013', 'Jun-2013', 'May-2013', 'Apr-2013',\n",
       "       'Mar-2013', 'Feb-2013', 'Jan-2013', 'Dec-2012', 'Nov-2012',\n",
       "       'Oct-2012', 'Sep-2012', 'Aug-2012', 'Jul-2012', 'Jun-2012',\n",
       "       'May-2012', 'Apr-2012', 'Mar-2012', 'Feb-2012', 'Jan-2012',\n",
       "       'Dec-2015', 'Nov-2015', 'Oct-2015', 'Sep-2015', 'Aug-2015',\n",
       "       'Jul-2015', 'Jun-2015', 'May-2015', 'Apr-2015', 'Mar-2015',\n",
       "       'Feb-2015', 'Jan-2015', 'Mar-2017', 'Feb-2017', 'Jan-2017',\n",
       "       'Dec-2014', 'Nov-2014', 'Oct-2014', 'Sep-2014', 'Aug-2014',\n",
       "       'Jul-2014', 'Jun-2014', 'May-2014', 'Apr-2014', 'Mar-2014',\n",
       "       'Feb-2014', 'Jan-2014', 'Dec-2016', 'Nov-2016', 'Oct-2016',\n",
       "       'Dec-2017', 'Nov-2017', 'Oct-2017', 'Sep-2017', 'Aug-2017',\n",
       "       'Jul-2017', 'Mar-2016', 'Feb-2016', 'Jan-2016', 'Dec-11', 'Nov-11',\n",
       "       'Oct-11', 'Sep-11', 'Aug-11', 'Jul-11', 'Jun-11', 'May-11',\n",
       "       'Apr-11', 'Mar-11', 'Feb-11', 'Jan-11', 'Dec-10', 'Nov-10',\n",
       "       'Oct-10', 'Sep-10', 'Aug-10', 'Jul-10', 'Jun-10', 'May-10',\n",
       "       'Apr-10', 'Mar-10', 'Feb-10', 'Jan-10', 'Dec-09', 'Nov-09',\n",
       "       'Oct-09', 'Sep-09', 'Aug-09', 'Jul-09', 'Jun-09', 'May-09',\n",
       "       'Apr-09', 'Mar-09', 'Feb-09', 'Jan-09', 'Dec-08', 'Nov-08',\n",
       "       'Oct-08', 'Sep-08', 'Aug-08', 'Jul-08', 'Jun-08', 'May-08',\n",
       "       'Apr-08', 'Mar-08', 'Feb-08', 'Jan-08', 'Dec-07', 'Nov-07',\n",
       "       'Oct-07', 'Sep-07', 'Aug-07', 'Jul-07', 'Jun-07', 'Jun-2016',\n",
       "       'May-2016', 'Apr-2016'], dtype=object)"
      ]
     },
     "execution_count": 32,
     "metadata": {},
     "output_type": "execute_result"
    }
   ],
   "source": [
    "# issue_d\n",
    "loan_data['issue_d'].unique()"
   ]
  },
  {
   "cell_type": "markdown",
   "metadata": {},
   "source": [
    "Breakdown the date into two. One will have the year and the other will have the month."
   ]
  },
  {
   "cell_type": "code",
   "execution_count": 33,
   "metadata": {},
   "outputs": [
    {
     "name": "stdout",
     "output_type": "stream",
     "text": [
      "[ 9  8  7  6  5  4 12 11 10  3  2  1]\n",
      "[2016 2017 2013 2012 2015 2014 2011 2010 2009 2008 2007]\n"
     ]
    }
   ],
   "source": [
    "def try_convert_date(value):\n",
    "    try:\n",
    "        new_val = pd.datetime.strptime(value, '%b-%y')\n",
    "    except:\n",
    "        new_val = pd.datetime.strptime(value, '%b-%Y')\n",
    "    return new_val\n",
    "\n",
    "# df[0] = pd.to_datetime(df[0], format='%b-%y')\n",
    "\n",
    "loan_data['issue_d_month'] = pd.DatetimeIndex(loan_data['issue_d'].apply(try_convert_date)).month\n",
    "loan_data['issue_d_year'] = pd.DatetimeIndex(loan_data['issue_d'].apply(try_convert_date)).year\n",
    "print(loan_data['issue_d_month'].unique())\n",
    "print(loan_data['issue_d_year'].unique())"
   ]
  },
  {
   "cell_type": "code",
   "execution_count": 34,
   "metadata": {},
   "outputs": [],
   "source": [
    "# Drop issue_d\n",
    "loan_data = loan_data.drop('issue_d', 1)"
   ]
  },
  {
   "cell_type": "code",
   "execution_count": 35,
   "metadata": {},
   "outputs": [
    {
     "data": {
      "text/plain": [
       "array(['Current', 'Fully Paid', 'Late (31-120 days)', 'Charged Off',\n",
       "       'Late (16-30 days)', 'In Grace Period', 'Default', 'Issued',\n",
       "       'Does not meet the credit policy. Status:Fully Paid',\n",
       "       'Does not meet the credit policy. Status:Charged Off'],\n",
       "      dtype=object)"
      ]
     },
     "execution_count": 35,
     "metadata": {},
     "output_type": "execute_result"
    }
   ],
   "source": [
    "# loan_status\n",
    "loan_data['loan_status'].unique()"
   ]
  },
  {
   "cell_type": "code",
   "execution_count": 36,
   "metadata": {},
   "outputs": [
    {
     "data": {
      "text/plain": [
       "array(['n', 'y'], dtype=object)"
      ]
     },
     "execution_count": 36,
     "metadata": {},
     "output_type": "execute_result"
    }
   ],
   "source": [
    "# pymnt_plan\n",
    "loan_data['pymnt_plan'].unique()"
   ]
  },
  {
   "cell_type": "code",
   "execution_count": 37,
   "metadata": {},
   "outputs": [
    {
     "name": "stdout",
     "output_type": "stream",
     "text": [
      "                title zip_code addr_state    dti  delinq_2yrs\n",
      "0  Debt consolidation    330xx         FL  13.42            0\n",
      "1  Debt consolidation    372xx         TN  23.78            1\n",
      "2  Debt consolidation    331xx         FL  14.80            4\n",
      "3      Major purchase    075xx         NJ   3.71            0\n",
      "4  Debt consolidation    334xx         FL   4.59            0\n",
      "title object\n",
      "zip_code object\n",
      "addr_state object\n",
      "dti float64\n",
      "delinq_2yrs int64\n"
     ]
    },
    {
     "data": {
      "text/html": [
       "<div>\n",
       "<style scoped>\n",
       "    .dataframe tbody tr th:only-of-type {\n",
       "        vertical-align: middle;\n",
       "    }\n",
       "\n",
       "    .dataframe tbody tr th {\n",
       "        vertical-align: top;\n",
       "    }\n",
       "\n",
       "    .dataframe thead th {\n",
       "        text-align: right;\n",
       "    }\n",
       "</style>\n",
       "<table border=\"1\" class=\"dataframe\">\n",
       "  <thead>\n",
       "    <tr style=\"text-align: right;\">\n",
       "      <th></th>\n",
       "      <th>LoanStatNew</th>\n",
       "      <th>Description</th>\n",
       "    </tr>\n",
       "  </thead>\n",
       "  <tbody>\n",
       "    <tr>\n",
       "      <th>2</th>\n",
       "      <td>addr_state</td>\n",
       "      <td>The state provided by the borrower in the loan application</td>\n",
       "    </tr>\n",
       "    <tr>\n",
       "      <th>13</th>\n",
       "      <td>delinq_2yrs</td>\n",
       "      <td>The number of 30+ days past-due incidences of delinquency in the borrower's credit file for the past 2 years</td>\n",
       "    </tr>\n",
       "    <tr>\n",
       "      <th>16</th>\n",
       "      <td>dti</td>\n",
       "      <td>A ratio calculated using the borrower’s total monthly debt payments on the total debt obligations, excluding mortgage and the requested LC loan, divided by the borrower’s self-reported monthly income.</td>\n",
       "    </tr>\n",
       "    <tr>\n",
       "      <th>95</th>\n",
       "      <td>title</td>\n",
       "      <td>The loan title provided by the borrower</td>\n",
       "    </tr>\n",
       "    <tr>\n",
       "      <th>114</th>\n",
       "      <td>zip_code</td>\n",
       "      <td>The first 3 numbers of the zip code provided by the borrower in the loan application.</td>\n",
       "    </tr>\n",
       "  </tbody>\n",
       "</table>\n",
       "</div>"
      ],
      "text/plain": [
       "     LoanStatNew  \\\n",
       "2     addr_state   \n",
       "13   delinq_2yrs   \n",
       "16           dti   \n",
       "95         title   \n",
       "114     zip_code   \n",
       "\n",
       "                                                                                                                                                                                                  Description  \n",
       "2                                                                                                                                                  The state provided by the borrower in the loan application  \n",
       "13                                                                                               The number of 30+ days past-due incidences of delinquency in the borrower's credit file for the past 2 years  \n",
       "16   A ratio calculated using the borrower’s total monthly debt payments on the total debt obligations, excluding mortgage and the requested LC loan, divided by the borrower’s self-reported monthly income.  \n",
       "95                                                                                                                                                                    The loan title provided by the borrower  \n",
       "114                                                                                                                     The first 3 numbers of the zip code provided by the borrower in the loan application.  "
      ]
     },
     "execution_count": 37,
     "metadata": {},
     "output_type": "execute_result"
    }
   ],
   "source": [
    "# Moving to next 6 columns\n",
    "# Dropping description out of hte list as it is pure text.\n",
    "# Will see later, if adding it adds any value.\n",
    "# loan_data = loan_data.drop('desc', 1)\n",
    "print(loan_data.iloc[:5,15:20])\n",
    "for y in loan_data.columns[15:20]:\n",
    "  print(y, loan_data[y].dtype)\n",
    "loan_dict.loc[loan_dict['LoanStatNew'].isin(list(loan_data.columns.values[15:20]))]"
   ]
  },
  {
   "cell_type": "code",
   "execution_count": 38,
   "metadata": {},
   "outputs": [],
   "source": [
    "# url is the URL for the LC page with listing data.\n",
    "# This data is not needed for our purpose\n",
    "# loan_data = loan_data.drop('url', 1)"
   ]
  },
  {
   "cell_type": "code",
   "execution_count": 39,
   "metadata": {},
   "outputs": [
    {
     "data": {
      "text/plain": [
       "array(['debt_consolidation', 'major_purchase', 'house',\n",
       "       'home_improvement', 'credit_card', 'other', 'medical', 'car',\n",
       "       'moving', 'small_business', 'vacation', 'renewable_energy',\n",
       "       'wedding', 'educational'], dtype=object)"
      ]
     },
     "execution_count": 39,
     "metadata": {},
     "output_type": "execute_result"
    }
   ],
   "source": [
    "# Let't check purpose\n",
    "loan_data['purpose'].unique()"
   ]
  },
  {
   "cell_type": "code",
   "execution_count": 40,
   "metadata": {},
   "outputs": [
    {
     "data": {
      "text/plain": [
       "63150"
      ]
     },
     "execution_count": 40,
     "metadata": {},
     "output_type": "execute_result"
    }
   ],
   "source": [
    "# 'purpose' looks good.\n",
    "# Let's try title\n",
    "len(loan_data['title'].unique())"
   ]
  },
  {
   "cell_type": "code",
   "execution_count": 41,
   "metadata": {},
   "outputs": [],
   "source": [
    "# Again, 'title' is text entry which, for now, I am going to remove\n",
    "loan_data = loan_data.drop('title', 1)"
   ]
  },
  {
   "cell_type": "code",
   "execution_count": 42,
   "metadata": {},
   "outputs": [
    {
     "data": {
      "text/plain": [
       "954"
      ]
     },
     "execution_count": 42,
     "metadata": {},
     "output_type": "execute_result"
    }
   ],
   "source": [
    "# zip_code\n",
    "len(loan_data['zip_code'].unique())"
   ]
  },
  {
   "cell_type": "code",
   "execution_count": 43,
   "metadata": {},
   "outputs": [
    {
     "data": {
      "text/plain": [
       "0"
      ]
     },
     "execution_count": 43,
     "metadata": {},
     "output_type": "execute_result"
    }
   ],
   "source": [
    "# I am going to keep zip_code.\n",
    "# The number of unique values are not too bad.\n",
    "# Have to see how many zip_codes where missing and I replaced with 0.\n",
    "len(loan_data.loc[loan_data['zip_code'] == 0])\n",
    "# Since only one entry has the zip_code 0, I am going to randomly assign that item with one of the existing zip_codes.\n",
    "# I hope, this won't affect things bad.\n",
    "import random\n",
    "loan_data.loc[(loan_data['zip_code'] == 0), 'zip_code'] =  random.choice(loan_data['zip_code'].unique())\n",
    "len(loan_data.loc[loan_data['zip_code'] == 0])"
   ]
  },
  {
   "cell_type": "code",
   "execution_count": 44,
   "metadata": {},
   "outputs": [
    {
     "data": {
      "text/plain": [
       "array(['FL', 'TN', 'NJ', 'IN', 'CT', 'CA', 'NY', 'RI', 'SC', 'VA', 'IL',\n",
       "       'OK', 'TX', 'NC', 'OH', 'WA', 'MA', 'OR', 'AL', 'ME', 'MI', 'GA',\n",
       "       'NH', 'LA', 'PA', 'CO', 'MN', 'DC', 'NV', 'AZ', 'WI', 'AR', 'MD',\n",
       "       'MO', 'KS', 'ID', 'MT', 'NM', 'HI', 'NE', 'VT', 'UT', 'KY', 'SD',\n",
       "       'MS', 'ND', 'WY', 'AK', 'DE', 'WV', 'IA'], dtype=object)"
      ]
     },
     "execution_count": 44,
     "metadata": {},
     "output_type": "execute_result"
    }
   ],
   "source": [
    "# Moving to addr_state\n",
    "loan_data['addr_state'].unique()"
   ]
  },
  {
   "cell_type": "code",
   "execution_count": 45,
   "metadata": {},
   "outputs": [
    {
     "name": "stdout",
     "output_type": "stream",
     "text": [
      "   delinq_2yrs earliest_cr_line  inq_last_6mths  mths_since_last_delinq  \\\n",
      "0            0         May-2002               1                     NaN   \n",
      "1            1         Jan-1996               0                     7.0   \n",
      "2            4         Oct-2011               1                    17.0   \n",
      "3            0         Mar-2006               0                    31.0   \n",
      "4            0         Feb-2004               1                    79.0   \n",
      "5            2         Aug-1986               0                    16.0   \n",
      "\n",
      "   mths_since_last_record  \n",
      "0                   107.0  \n",
      "1                     NaN  \n",
      "2                     NaN  \n",
      "3                     NaN  \n",
      "4                     NaN  \n",
      "5                     NaN  \n",
      "delinq_2yrs int64\n",
      "earliest_cr_line object\n",
      "inq_last_6mths int64\n",
      "mths_since_last_delinq float64\n",
      "mths_since_last_record float64\n"
     ]
    },
    {
     "data": {
      "text/html": [
       "<div>\n",
       "<style scoped>\n",
       "    .dataframe tbody tr th:only-of-type {\n",
       "        vertical-align: middle;\n",
       "    }\n",
       "\n",
       "    .dataframe tbody tr th {\n",
       "        vertical-align: top;\n",
       "    }\n",
       "\n",
       "    .dataframe thead th {\n",
       "        text-align: right;\n",
       "    }\n",
       "</style>\n",
       "<table border=\"1\" class=\"dataframe\">\n",
       "  <thead>\n",
       "    <tr style=\"text-align: right;\">\n",
       "      <th></th>\n",
       "      <th>LoanStatNew</th>\n",
       "      <th>Description</th>\n",
       "    </tr>\n",
       "  </thead>\n",
       "  <tbody>\n",
       "    <tr>\n",
       "      <th>13</th>\n",
       "      <td>delinq_2yrs</td>\n",
       "      <td>The number of 30+ days past-due incidences of delinquency in the borrower's credit file for the past 2 years</td>\n",
       "    </tr>\n",
       "    <tr>\n",
       "      <th>18</th>\n",
       "      <td>earliest_cr_line</td>\n",
       "      <td>The month the borrower's earliest reported credit line was opened</td>\n",
       "    </tr>\n",
       "    <tr>\n",
       "      <th>32</th>\n",
       "      <td>inq_last_6mths</td>\n",
       "      <td>The number of inquiries in past 6 months (excluding auto and mortgage inquiries)</td>\n",
       "    </tr>\n",
       "    <tr>\n",
       "      <th>50</th>\n",
       "      <td>mths_since_last_delinq</td>\n",
       "      <td>The number of months since the borrower's last delinquency.</td>\n",
       "    </tr>\n",
       "    <tr>\n",
       "      <th>52</th>\n",
       "      <td>mths_since_last_record</td>\n",
       "      <td>The number of months since the last public record.</td>\n",
       "    </tr>\n",
       "  </tbody>\n",
       "</table>\n",
       "</div>"
      ],
      "text/plain": [
       "               LoanStatNew  \\\n",
       "13             delinq_2yrs   \n",
       "18        earliest_cr_line   \n",
       "32          inq_last_6mths   \n",
       "50  mths_since_last_delinq   \n",
       "52  mths_since_last_record   \n",
       "\n",
       "                                                                                                     Description  \n",
       "13  The number of 30+ days past-due incidences of delinquency in the borrower's credit file for the past 2 years  \n",
       "18                                             The month the borrower's earliest reported credit line was opened  \n",
       "32                              The number of inquiries in past 6 months (excluding auto and mortgage inquiries)  \n",
       "50                                                   The number of months since the borrower's last delinquency.  \n",
       "52                                                            The number of months since the last public record.  "
      ]
     },
     "execution_count": 45,
     "metadata": {},
     "output_type": "execute_result"
    }
   ],
   "source": [
    "# Moving to next 6 columns\n",
    "print(loan_data.iloc[:6,18:23])\n",
    "for y in loan_data.columns[18:23]:\n",
    "  print(y, loan_data[y].dtype)\n",
    "loan_dict.loc[loan_dict['LoanStatNew'].isin(list(loan_data.columns.values[18:23]))]"
   ]
  },
  {
   "cell_type": "code",
   "execution_count": 46,
   "metadata": {},
   "outputs": [
    {
     "data": {
      "text/plain": [
       "array([ nan,   7.,  17.,  31.,  79.,  16.,  12.,  42.,  22.,  44.,  36.,\n",
       "        77.,  13.,   3.,  27.,   5.,  48.,  28.,   9.,   4.,  61.,  11.,\n",
       "        23.,  33.,  57.,  29.,  53.,  19.,  26.,  14.,  34.,  41.,   8.,\n",
       "        56.,  52.,  67.,  24.,  32.,  10.,  72.,  49.,  38.,  30.,  40.,\n",
       "        54.,  75.,  21.,  71.,  74.,  55.,  64.,  76.,  43.,  18.,  20.,\n",
       "         2.,  58.,  50.,  59.,  60.,  37.,  35.,  63.,  39.,   1.,  15.,\n",
       "        25.,  81.,  45.,   6.,  69.,  73.,  51.,  70.,  80.,  78.,  47.,\n",
       "        66.,  46.,  65.,  82.,  83.,   0.,  68.,  62.,  93., 112.,  88.,\n",
       "        84.,  90.,  95.,  94.,  85.,  99.,  92.,  87.,  96.,  86., 107.,\n",
       "       109.,  98., 142., 104., 121., 131.,  89.,  91., 106., 116., 102.,\n",
       "       118., 100., 134., 111., 123., 103., 101., 110., 124., 130.,  97.,\n",
       "       114., 119., 105., 132., 146., 117., 115., 161., 129., 108., 126.,\n",
       "       113., 136., 158., 135., 122., 127., 120., 139., 156., 143., 149.,\n",
       "       148., 141., 152., 157., 154., 170., 171., 125., 133., 176., 137.,\n",
       "       180., 188., 140., 151., 159., 168., 195., 150., 202., 145., 153.,\n",
       "       138., 162., 128., 178., 160., 192.])"
      ]
     },
     "execution_count": 46,
     "metadata": {},
     "output_type": "execute_result"
    }
   ],
   "source": [
    "# dti is float, delinq_2yrs is int and inq_last_6mths is int.\n",
    "# They look good.\n",
    "# mts_since_last_delinq is float.\n",
    "# Let's check it.\n",
    "# Ideally, it should have been int\n",
    "loan_data['mths_since_last_delinq'].unique()"
   ]
  },
  {
   "cell_type": "code",
   "execution_count": 47,
   "metadata": {},
   "outputs": [
    {
     "name": "stdout",
     "output_type": "stream",
     "text": [
      "[  0.   7.  17.  31.  79.  16.  12.  42.  22.  44.  36.  77.  13.   3.\n",
      "  27.   5.  48.  28.   9.   4.  61.  11.  23.  33.  57.  29.  53.  19.\n",
      "  26.  14.  34.  41.   8.  56.  52.  67.  24.  32.  10.  72.  49.  38.\n",
      "  30.  40.  54.  75.  21.  71.  74.  55.  64.  76.  43.  18.  20.   2.\n",
      "  58.  50.  59.  60.  37.  35.  63.  39.   1.  15.  25.  81.  45.   6.\n",
      "  69.  73.  51.  70.  80.  78.  47.  66.  46.  65.  82.  83.  68.  62.\n",
      "  93. 112.  88.  84.  90.  95.  94.  85.  99.  92.  87.  96.  86. 107.\n",
      " 109.  98. 142. 104. 121. 131.  89.  91. 106. 116. 102. 118. 100. 134.\n",
      " 111. 123. 103. 101. 110. 124. 130.  97. 114. 119. 105. 132. 146. 117.\n",
      " 115. 161. 129. 108. 126. 113. 136. 158. 135. 122. 127. 120. 139. 156.\n",
      " 143. 149. 148. 141. 152. 157. 154. 170. 171. 125. 133. 176. 137. 180.\n",
      " 188. 140. 151. 159. 168. 195. 150. 202. 145. 153. 138. 162. 128. 178.\n",
      " 160. 192.]\n"
     ]
    },
    {
     "data": {
      "text/plain": [
       "array([  0,   7,  17,  31,  79,  16,  12,  42,  22,  44,  36,  77,  13,\n",
       "         3,  27,   5,  48,  28,   9,   4,  61,  11,  23,  33,  57,  29,\n",
       "        53,  19,  26,  14,  34,  41,   8,  56,  52,  67,  24,  32,  10,\n",
       "        72,  49,  38,  30,  40,  54,  75,  21,  71,  74,  55,  64,  76,\n",
       "        43,  18,  20,   2,  58,  50,  59,  60,  37,  35,  63,  39,   1,\n",
       "        15,  25,  81,  45,   6,  69,  73,  51,  70,  80,  78,  47,  66,\n",
       "        46,  65,  82,  83,  68,  62,  93, 112,  88,  84,  90,  95,  94,\n",
       "        85,  99,  92,  87,  96,  86, 107, 109,  98, 142, 104, 121, 131,\n",
       "        89,  91, 106, 116, 102, 118, 100, 134, 111, 123, 103, 101, 110,\n",
       "       124, 130,  97, 114, 119, 105, 132, 146, 117, 115, 161, 129, 108,\n",
       "       126, 113, 136, 158, 135, 122, 127, 120, 139, 156, 143, 149, 148,\n",
       "       141, 152, 157, 154, 170, 171, 125, 133, 176, 137, 180, 188, 140,\n",
       "       151, 159, 168, 195, 150, 202, 145, 153, 138, 162, 128, 178, 160,\n",
       "       192])"
      ]
     },
     "execution_count": 47,
     "metadata": {},
     "output_type": "execute_result"
    }
   ],
   "source": [
    "# The data looks clean.\n",
    "# I can safely convert it to int.\n",
    "\n",
    "# Convert all 0s and nan to 0.\n",
    "# loan_data.loc[loan_data['mths_since_last_delinq'].isnull()]['mths_since_last_delinq'] = 0\n",
    "loan_data[['mths_since_last_delinq']] = loan_data[['mths_since_last_delinq']].applymap(lambda x: 0 if pd.isnull(x) else x)\n",
    "print(loan_data['mths_since_last_delinq'].unique())\n",
    "\n",
    "loan_data[['mths_since_last_delinq']] = loan_data[['mths_since_last_delinq']].astype(int)\n",
    "loan_data['mths_since_last_delinq'].unique()"
   ]
  },
  {
   "cell_type": "code",
   "execution_count": 48,
   "metadata": {},
   "outputs": [
    {
     "name": "stdout",
     "output_type": "stream",
     "text": [
      "['May-2002' 'Jan-1996' 'Oct-2011' ... '0' 'Mar-1933' 'Mar-1954']\n"
     ]
    }
   ],
   "source": [
    "print(loan_data['earliest_cr_line'].unique())"
   ]
  },
  {
   "cell_type": "code",
   "execution_count": 49,
   "metadata": {},
   "outputs": [
    {
     "name": "stdout",
     "output_type": "stream",
     "text": [
      "['May-2002' 'Jan-1996' 'Oct-2011' ... '0' 'Mar-1933' 'Mar-1954']\n",
      "29\n",
      "0\n"
     ]
    }
   ],
   "source": [
    "# earliest_cr_line is date (like issue_d).\n",
    "# Change it to month and year\n",
    "print(loan_data['earliest_cr_line'].unique())\n",
    "print(len(loan_data.loc[(loan_data['earliest_cr_line'] == '0')]))\n",
    "# Since, the number of entries with earliest_cr_line is not very high, I am removing it.\n",
    "loan_data.drop(loan_data[loan_data.earliest_cr_line == '0'].index, inplace=True)\n",
    "print(len(loan_data.loc[(loan_data['earliest_cr_line'] == '0')]))"
   ]
  },
  {
   "cell_type": "code",
   "execution_count": 50,
   "metadata": {
    "scrolled": true
   },
   "outputs": [
    {
     "name": "stdout",
     "output_type": "stream",
     "text": [
      "[ 5  1 10  3  2  8 11  6  9  4  7 12]\n",
      "[2002 1996 2011 2006 2004 1986 2000 1994 1993 1998 1999 2008 2005 1997\n",
      " 1989 2001 1987 2007 2003 2009 1992 1977 2012 1995 1981 1990 1991 2010\n",
      " 2013 1980 1988 1985 1978 1969 1984 1964 1979 1983 1972 1982 1973 1976\n",
      " 1974 1967 1970 1971 1958 1968 1975 1963 1965 1966 1941 1961 1960 1956\n",
      " 1962 1959 1946 2014 1951 1950 1934 1957 1953 1955 1952 1954 1944 1949\n",
      " 1948 1945 2062 2068 2064 2067 2065 2063 2054 2066 2059 2056 2046 2050\n",
      " 2061 1933]\n"
     ]
    }
   ],
   "source": [
    "# All looks good\n",
    "\n",
    "\n",
    "loan_data['earliest_cr_line_month'] = pd.DatetimeIndex(loan_data['earliest_cr_line'].apply(try_convert_date)).month\n",
    "loan_data['earliest_cr_line_year'] = pd.DatetimeIndex(loan_data['earliest_cr_line'].apply(try_convert_date)).year\n",
    "print(loan_data['earliest_cr_line_month'].unique())\n",
    "print(loan_data['earliest_cr_line_year'].unique())"
   ]
  },
  {
   "cell_type": "code",
   "execution_count": 51,
   "metadata": {},
   "outputs": [],
   "source": [
    "# Drop earliest_cr_line\n",
    "loan_data = loan_data.drop('earliest_cr_line', 1)"
   ]
  },
  {
   "cell_type": "code",
   "execution_count": 52,
   "metadata": {},
   "outputs": [
    {
     "name": "stdout",
     "output_type": "stream",
     "text": [
      "   pub_rec  revol_bal revol_util  total_acc initial_list_status  out_prncp\n",
      "0        1       9031       8.8%         37                   w    3365.02\n",
      "1        0      21345      57.8%         43                   f    1068.61\n",
      "2        0       7513      53.3%         18                   w   10795.25\n",
      "3        0       3140      44.9%         15                   w    5604.86\n",
      "4        0       2574      54.8%         10                   w    2308.23\n",
      "5        0       6447      55.1%         19                   w       0.00\n",
      "pub_rec int64\n",
      "revol_bal int64\n",
      "revol_util object\n",
      "total_acc int64\n",
      "initial_list_status object\n",
      "out_prncp float64\n"
     ]
    },
    {
     "data": {
      "text/html": [
       "<div>\n",
       "<style scoped>\n",
       "    .dataframe tbody tr th:only-of-type {\n",
       "        vertical-align: middle;\n",
       "    }\n",
       "\n",
       "    .dataframe tbody tr th {\n",
       "        vertical-align: top;\n",
       "    }\n",
       "\n",
       "    .dataframe thead th {\n",
       "        text-align: right;\n",
       "    }\n",
       "</style>\n",
       "<table border=\"1\" class=\"dataframe\">\n",
       "  <thead>\n",
       "    <tr style=\"text-align: right;\">\n",
       "      <th></th>\n",
       "      <th>LoanStatNew</th>\n",
       "      <th>Description</th>\n",
       "    </tr>\n",
       "  </thead>\n",
       "  <tbody>\n",
       "    <tr>\n",
       "      <th>29</th>\n",
       "      <td>initial_list_status</td>\n",
       "      <td>The initial listing status of the loan. Possible values are – W, F</td>\n",
       "    </tr>\n",
       "    <tr>\n",
       "      <th>85</th>\n",
       "      <td>pub_rec</td>\n",
       "      <td>Number of derogatory public records</td>\n",
       "    </tr>\n",
       "    <tr>\n",
       "      <th>90</th>\n",
       "      <td>revol_bal</td>\n",
       "      <td>Total credit revolving balance</td>\n",
       "    </tr>\n",
       "    <tr>\n",
       "      <th>91</th>\n",
       "      <td>revol_util</td>\n",
       "      <td>Revolving line utilization rate, or the amount of credit the borrower is using relative to all available revolving credit.</td>\n",
       "    </tr>\n",
       "    <tr>\n",
       "      <th>99</th>\n",
       "      <td>total_acc</td>\n",
       "      <td>The total number of credit lines currently in the borrower's credit file</td>\n",
       "    </tr>\n",
       "  </tbody>\n",
       "</table>\n",
       "</div>"
      ],
      "text/plain": [
       "            LoanStatNew  \\\n",
       "29  initial_list_status   \n",
       "85              pub_rec   \n",
       "90            revol_bal   \n",
       "91           revol_util   \n",
       "99            total_acc   \n",
       "\n",
       "                                                                                                                   Description  \n",
       "29                                                          The initial listing status of the loan. Possible values are – W, F  \n",
       "85                                                                                         Number of derogatory public records  \n",
       "90                                                                                              Total credit revolving balance  \n",
       "91  Revolving line utilization rate, or the amount of credit the borrower is using relative to all available revolving credit.  \n",
       "99                                                    The total number of credit lines currently in the borrower's credit file  "
      ]
     },
     "execution_count": 52,
     "metadata": {},
     "output_type": "execute_result"
    }
   ],
   "source": [
    "# Moving to next 6 columns\n",
    "print(loan_data.iloc[:6,23:29])\n",
    "for y in loan_data.columns[23:29]:\n",
    "  print(y, loan_data[y].dtype)\n",
    "loan_dict.loc[loan_dict['LoanStatNew'].isin(list(loan_data.columns.values[23:28]))]"
   ]
  },
  {
   "cell_type": "code",
   "execution_count": 53,
   "metadata": {},
   "outputs": [
    {
     "data": {
      "text/plain": [
       "array([107.,  nan,  79.,  96.,  97.,  66., 109.,  93.,  87.,  95.,  75.,\n",
       "       117., 111.,  85., 105.,  92.,  86.,  67.,  39.,  70.,  64.,  73.,\n",
       "        18., 101.,  88.,  58., 100.,  21.,  89.,  59.,  99.,  23.,  72.,\n",
       "        91.,  47.,  40.,  35.,  71.,  69.,  44.,  74.,  77.,  65., 104.,\n",
       "        61.,   6.,  42.,  19., 103.,  15.,  83.,  81.,  51.,  94.,  57.,\n",
       "        53.,  27.,  46.,  76.,  30.,  78.,  12.,  98.,  50.,  90.,  24.,\n",
       "        54.,   7.,  20., 113.,  80.,  55.,  52.,  37.,  28.,  43.,  41.,\n",
       "        17., 115., 114.,  63.,  60.,  45., 102.,  48.,  38.,  68.,  33.,\n",
       "       116.,  36.,  49.,  25.,  56.,  62.,  82.,  32.,  84.,  34.,  22.,\n",
       "        10.,  26.,  14.,   8.,  29., 112.,  31.,  13.,  11., 110., 118.,\n",
       "       106.,   9., 108.,   3.,   5.,  16.,   2.,   1.,   4.,   0., 119.,\n",
       "       121., 120., 129.])"
      ]
     },
     "execution_count": 53,
     "metadata": {},
     "output_type": "execute_result"
    }
   ],
   "source": [
    "# Start analyzing mths_since_last_record\n",
    "loan_data['mths_since_last_record'].unique()"
   ]
  },
  {
   "cell_type": "code",
   "execution_count": 54,
   "metadata": {},
   "outputs": [
    {
     "name": "stdout",
     "output_type": "stream",
     "text": [
      "[107.   0.  79.  96.  97.  66. 109.  93.  87.  95.  75. 117. 111.  85.\n",
      " 105.  92.  86.  67.  39.  70.  64.  73.  18. 101.  88.  58. 100.  21.\n",
      "  89.  59.  99.  23.  72.  91.  47.  40.  35.  71.  69.  44.  74.  77.\n",
      "  65. 104.  61.   6.  42.  19. 103.  15.  83.  81.  51.  94.  57.  53.\n",
      "  27.  46.  76.  30.  78.  12.  98.  50.  90.  24.  54.   7.  20. 113.\n",
      "  80.  55.  52.  37.  28.  43.  41.  17. 115. 114.  63.  60.  45. 102.\n",
      "  48.  38.  68.  33. 116.  36.  49.  25.  56.  62.  82.  32.  84.  34.\n",
      "  22.  10.  26.  14.   8.  29. 112.  31.  13.  11. 110. 118. 106.   9.\n",
      " 108.   3.   5.  16.   2.   1.   4. 119. 121. 120. 129.]\n"
     ]
    },
    {
     "data": {
      "text/plain": [
       "array([107,   0,  79,  96,  97,  66, 109,  93,  87,  95,  75, 117, 111,\n",
       "        85, 105,  92,  86,  67,  39,  70,  64,  73,  18, 101,  88,  58,\n",
       "       100,  21,  89,  59,  99,  23,  72,  91,  47,  40,  35,  71,  69,\n",
       "        44,  74,  77,  65, 104,  61,   6,  42,  19, 103,  15,  83,  81,\n",
       "        51,  94,  57,  53,  27,  46,  76,  30,  78,  12,  98,  50,  90,\n",
       "        24,  54,   7,  20, 113,  80,  55,  52,  37,  28,  43,  41,  17,\n",
       "       115, 114,  63,  60,  45, 102,  48,  38,  68,  33, 116,  36,  49,\n",
       "        25,  56,  62,  82,  32,  84,  34,  22,  10,  26,  14,   8,  29,\n",
       "       112,  31,  13,  11, 110, 118, 106,   9, 108,   3,   5,  16,   2,\n",
       "         1,   4, 119, 121, 120, 129])"
      ]
     },
     "execution_count": 54,
     "metadata": {},
     "output_type": "execute_result"
    }
   ],
   "source": [
    "# Converting the nan to 0\n",
    "\n",
    "# Looks good and all of them are integers (as there are no partial months).\n",
    "# Hence, converting all of them to int\n",
    "\n",
    "loan_data[['mths_since_last_record']] = loan_data[['mths_since_last_record']].applymap(lambda x: 0 if pd.isnull(x) else x)\n",
    "print(loan_data['mths_since_last_record'].unique())\n",
    "\n",
    "loan_data[['mths_since_last_record']] = loan_data[['mths_since_last_record']].astype(int)\n",
    "loan_data['mths_since_last_record'].unique()"
   ]
  },
  {
   "cell_type": "code",
   "execution_count": 55,
   "metadata": {},
   "outputs": [
    {
     "data": {
      "text/plain": [
       "array([18, 22, 10,  6,  4,  9, 12, 19, 11, 16,  7, 17,  5, 35, 13, 15, 14,\n",
       "        3, 20,  8, 21, 34, 24, 23, 29, 26, 25, 40, 28,  2, 27,  1, 38, 36,\n",
       "       30, 31, 42, 37, 53, 33, 41, 39, 44, 32, 49, 60, 46, 43, 47, 51, 80,\n",
       "       50, 57, 52, 45, 48, 54, 62, 86, 56, 59,  0, 68, 88, 64, 65, 58, 55,\n",
       "       67, 66, 61, 70, 82, 63, 79, 74, 90, 72, 71, 76, 84, 75, 97, 93, 91,\n",
       "       81, 77, 69])"
      ]
     },
     "execution_count": 55,
     "metadata": {},
     "output_type": "execute_result"
    }
   ],
   "source": [
    "# Start analyzing open_acc\n",
    "loan_data['open_acc'].unique()"
   ]
  },
  {
   "cell_type": "code",
   "execution_count": 56,
   "metadata": {},
   "outputs": [
    {
     "data": {
      "text/plain": [
       "array([ 1,  0,  2,  5,  8, 11,  4,  3,  6, 12,  7,  9, 15, 10, 21, 13, 24,\n",
       "       14, 45, 25, 28, 19, 61, 22, 49, 54, 23, 17, 26, 20, 86, 18, 16, 40,\n",
       "       63, 34, 32, 44, 46, 37, 31, 47])"
      ]
     },
     "execution_count": 56,
     "metadata": {},
     "output_type": "execute_result"
    }
   ],
   "source": [
    "# Start analyzing pub_rec\n",
    "loan_data['pub_rec'].unique()"
   ]
  },
  {
   "cell_type": "code",
   "execution_count": 57,
   "metadata": {},
   "outputs": [
    {
     "data": {
      "text/plain": [
       "array([  9031,  21345,   7513, ..., 108017, 132246, 102453])"
      ]
     },
     "execution_count": 57,
     "metadata": {},
     "output_type": "execute_result"
    }
   ],
   "source": [
    "# Start analyzing revol_bal\n",
    "loan_data['revol_bal'].unique()"
   ]
  },
  {
   "cell_type": "code",
   "execution_count": 58,
   "metadata": {},
   "outputs": [
    {
     "name": "stdout",
     "output_type": "stream",
     "text": [
      "[  8.8  57.8  53.3 ... 154.3 156.3 118.3]\n"
     ]
    }
   ],
   "source": [
    "# Start analyzing revol_util\n",
    "# All revol_util are described in terms of %.\n",
    "# So, a simple replacement should work.\n",
    "loan_data['revol_util'] = loan_data['revol_util'].str.replace(\"%\",\"\")\n",
    "# Now convert all of them to numeric\n",
    "loan_data['revol_util'] = pd.to_numeric(loan_data['revol_util'])\n",
    "# Find the non-numeric entry\n",
    "df = loan_data['revol_util'].to_frame().applymap(np.isreal) == False\n",
    "df.loc[df['revol_util'] == True]\n",
    "print(loan_data['revol_util'].unique())\n",
    "# The revol_util data looks all good."
   ]
  },
  {
   "cell_type": "code",
   "execution_count": 59,
   "metadata": {},
   "outputs": [
    {
     "name": "stdout",
     "output_type": "stream",
     "text": [
      "   out_prncp  out_prncp_inv   total_pymnt  total_pymnt_inv  total_rec_prncp\n",
      "0    3365.02        3365.02   7449.710000          7449.71          6634.98\n",
      "1    1068.61        1068.61  15865.680000         15865.68         13931.39\n",
      "2   10795.25       10795.25   8748.830000          8748.83          6204.75\n",
      "3    5604.86        5604.86   4408.160000          4408.16          3395.14\n",
      "4    2308.23        2308.23   1399.160000          1399.16           941.77\n",
      "5       0.00           0.00  22100.263412         22100.26         20000.00\n",
      "out_prncp float64\n",
      "out_prncp_inv float64\n",
      "total_pymnt float64\n",
      "total_pymnt_inv float64\n",
      "total_rec_prncp float64\n"
     ]
    },
    {
     "data": {
      "text/html": [
       "<div>\n",
       "<style scoped>\n",
       "    .dataframe tbody tr th:only-of-type {\n",
       "        vertical-align: middle;\n",
       "    }\n",
       "\n",
       "    .dataframe tbody tr th {\n",
       "        vertical-align: top;\n",
       "    }\n",
       "\n",
       "    .dataframe thead th {\n",
       "        text-align: right;\n",
       "    }\n",
       "</style>\n",
       "<table border=\"1\" class=\"dataframe\">\n",
       "  <thead>\n",
       "    <tr style=\"text-align: right;\">\n",
       "      <th></th>\n",
       "      <th>LoanStatNew</th>\n",
       "      <th>Description</th>\n",
       "    </tr>\n",
       "  </thead>\n",
       "  <tbody>\n",
       "    <tr>\n",
       "      <th>80</th>\n",
       "      <td>out_prncp</td>\n",
       "      <td>Remaining outstanding principal for total amount funded</td>\n",
       "    </tr>\n",
       "    <tr>\n",
       "      <th>81</th>\n",
       "      <td>out_prncp_inv</td>\n",
       "      <td>Remaining outstanding principal for portion of total amount funded by investors</td>\n",
       "    </tr>\n",
       "    <tr>\n",
       "      <th>105</th>\n",
       "      <td>total_pymnt</td>\n",
       "      <td>Payments received to date for total amount funded</td>\n",
       "    </tr>\n",
       "    <tr>\n",
       "      <th>106</th>\n",
       "      <td>total_pymnt_inv</td>\n",
       "      <td>Payments received to date for portion of total amount funded by investors</td>\n",
       "    </tr>\n",
       "    <tr>\n",
       "      <th>109</th>\n",
       "      <td>total_rec_prncp</td>\n",
       "      <td>Principal received to date</td>\n",
       "    </tr>\n",
       "  </tbody>\n",
       "</table>\n",
       "</div>"
      ],
      "text/plain": [
       "         LoanStatNew  \\\n",
       "80         out_prncp   \n",
       "81     out_prncp_inv   \n",
       "105      total_pymnt   \n",
       "106  total_pymnt_inv   \n",
       "109  total_rec_prncp   \n",
       "\n",
       "                                                                         Description  \n",
       "80                           Remaining outstanding principal for total amount funded  \n",
       "81   Remaining outstanding principal for portion of total amount funded by investors  \n",
       "105                                Payments received to date for total amount funded  \n",
       "106        Payments received to date for portion of total amount funded by investors  \n",
       "109                                                       Principal received to date  "
      ]
     },
     "execution_count": 59,
     "metadata": {},
     "output_type": "execute_result"
    }
   ],
   "source": [
    "print(loan_data.iloc[:6,28:33])\n",
    "for y in loan_data.columns[28:33]:\n",
    "  print(y, loan_data[y].dtype)\n",
    "loan_dict.loc[loan_dict['LoanStatNew'].isin(list(loan_data.columns.values[28:33]))]"
   ]
  },
  {
   "cell_type": "code",
   "execution_count": 60,
   "metadata": {},
   "outputs": [
    {
     "data": {
      "text/plain": [
       "array([ 37,  43,  18,  15,  10,  19,  25,  26,  29,  17,   7,  11,  39,\n",
       "        30,  27,  32,  23,  21,  62,  35,  33,  16,  13,  34,  24,  31,\n",
       "        48,  40,  14,  47,  66,   8,  28,   9,  12,  22,  20,  41,  94,\n",
       "        78,  46,  69,  38,   4,  42,   6,  44,  36,  68,  45,  88,  74,\n",
       "         3,  51,   5,  87,   2,  97,  60,  50,  53,  59,  54,  55,  49,\n",
       "        57,  52,  61,  56,  67,  58,  64,  73,  85,  72,  82,  75,  63,\n",
       "        71, 115,  77,  80,  70,  76,  65,  83,  81,  86,  95,  90,  79,\n",
       "       108,  89, 107, 101, 111,  92,  96,  84,  98, 102, 116, 119,  93,\n",
       "        99, 109,  91, 122, 121, 112, 100, 146, 105, 103, 127, 125, 110,\n",
       "       135, 106, 104, 151, 130, 113, 169, 140, 129, 126, 137, 124, 138,\n",
       "       162, 114, 118, 144, 150, 156, 117, 123, 165, 120, 136, 141, 176,\n",
       "         1, 173, 133, 160, 157])"
      ]
     },
     "execution_count": 60,
     "metadata": {},
     "output_type": "execute_result"
    }
   ],
   "source": [
    "# Start analyzing total_acc\n",
    "loan_data['total_acc'].unique()"
   ]
  },
  {
   "cell_type": "code",
   "execution_count": 61,
   "metadata": {},
   "outputs": [
    {
     "data": {
      "text/plain": [
       "array(['w', 'f'], dtype=object)"
      ]
     },
     "execution_count": 61,
     "metadata": {},
     "output_type": "execute_result"
    }
   ],
   "source": [
    "# Start analyzing initial_list_status\n",
    "loan_data['initial_list_status'].unique()"
   ]
  },
  {
   "cell_type": "code",
   "execution_count": 62,
   "metadata": {},
   "outputs": [
    {
     "data": {
      "text/plain": [
       "array([ 3365.02,  1068.61, 10795.25, ..., 14263.19, 18040.87, 22929.11])"
      ]
     },
     "execution_count": 62,
     "metadata": {},
     "output_type": "execute_result"
    }
   ],
   "source": [
    "# Start analyzing out_prncp\n",
    "loan_data['out_prncp'].unique()"
   ]
  },
  {
   "cell_type": "code",
   "execution_count": 63,
   "metadata": {},
   "outputs": [
    {
     "data": {
      "text/plain": [
       "array([ 3365.02,  1068.61, 10795.25, ..., 14263.19, 18040.87, 22929.11])"
      ]
     },
     "execution_count": 63,
     "metadata": {},
     "output_type": "execute_result"
    }
   ],
   "source": [
    "# Start analyzing out_prncp_inv\n",
    "loan_data['out_prncp_inv'].unique()"
   ]
  },
  {
   "cell_type": "code",
   "execution_count": 64,
   "metadata": {},
   "outputs": [
    {
     "name": "stdout",
     "output_type": "stream",
     "text": [
      "45207\n"
     ]
    }
   ],
   "source": [
    "# Want to see if the out_prncp and out_prncp_inv are ever different\n",
    "df_ = loan_data['out_prncp'] - loan_data['out_prncp_inv'] != 0\n",
    "df = df_.to_frame()\n",
    "print(len(df.loc[df[0] == True]))"
   ]
  },
  {
   "cell_type": "code",
   "execution_count": 65,
   "metadata": {},
   "outputs": [
    {
     "data": {
      "text/plain": [
       "array([ 7449.71      , 15865.68      ,  8748.83      , ...,\n",
       "        8347.18      ,  8548.23      ,  7646.64182749])"
      ]
     },
     "execution_count": 65,
     "metadata": {},
     "output_type": "execute_result"
    }
   ],
   "source": [
    "# Since, there is a non-zero number of cases where the the out_prncp and out_prncp_inv are different, I am keeping it.\n",
    "# Though, 45K entries out of 1.7million seems small.o\n",
    "\n",
    "# Start analyzing total_pymnt\n",
    "loan_data['total_pymnt'].unique()"
   ]
  },
  {
   "cell_type": "code",
   "execution_count": 66,
   "metadata": {},
   "outputs": [
    {
     "name": "stdout",
     "output_type": "stream",
     "text": [
      "   total_rec_int  total_rec_late_fee  recoveries  collection_recovery_fee\n",
      "0         814.73                 0.0         0.0                      0.0\n",
      "1        1934.29                 0.0         0.0                      0.0\n",
      "2        2544.08                 0.0         0.0                      0.0\n",
      "3        1013.02                 0.0         0.0                      0.0\n",
      "4         457.39                 0.0         0.0                      0.0\n",
      "5        2100.26                 0.0         0.0                      0.0\n",
      "total_rec_int float64\n",
      "total_rec_late_fee float64\n",
      "recoveries float64\n",
      "collection_recovery_fee float64\n"
     ]
    },
    {
     "data": {
      "text/html": [
       "<div>\n",
       "<style scoped>\n",
       "    .dataframe tbody tr th:only-of-type {\n",
       "        vertical-align: middle;\n",
       "    }\n",
       "\n",
       "    .dataframe tbody tr th {\n",
       "        vertical-align: top;\n",
       "    }\n",
       "\n",
       "    .dataframe thead th {\n",
       "        text-align: right;\n",
       "    }\n",
       "</style>\n",
       "<table border=\"1\" class=\"dataframe\">\n",
       "  <thead>\n",
       "    <tr style=\"text-align: right;\">\n",
       "      <th></th>\n",
       "      <th>LoanStatNew</th>\n",
       "      <th>Description</th>\n",
       "    </tr>\n",
       "  </thead>\n",
       "  <tbody>\n",
       "    <tr>\n",
       "      <th>11</th>\n",
       "      <td>collection_recovery_fee</td>\n",
       "      <td>post charge off collection fee</td>\n",
       "    </tr>\n",
       "    <tr>\n",
       "      <th>89</th>\n",
       "      <td>recoveries</td>\n",
       "      <td>post charge off gross recovery</td>\n",
       "    </tr>\n",
       "    <tr>\n",
       "      <th>107</th>\n",
       "      <td>total_rec_int</td>\n",
       "      <td>Interest received to date</td>\n",
       "    </tr>\n",
       "    <tr>\n",
       "      <th>108</th>\n",
       "      <td>total_rec_late_fee</td>\n",
       "      <td>Late fees received to date</td>\n",
       "    </tr>\n",
       "  </tbody>\n",
       "</table>\n",
       "</div>"
      ],
      "text/plain": [
       "                 LoanStatNew                     Description\n",
       "11   collection_recovery_fee  post charge off collection fee\n",
       "89                recoveries  post charge off gross recovery\n",
       "107            total_rec_int       Interest received to date\n",
       "108       total_rec_late_fee      Late fees received to date"
      ]
     },
     "execution_count": 66,
     "metadata": {},
     "output_type": "execute_result"
    }
   ],
   "source": [
    "# Moving to next 4 columns\n",
    "print(loan_data.iloc[:6,33:37])\n",
    "for y in loan_data.columns[33:37]:\n",
    "  print(y, loan_data[y].dtype)\n",
    "loan_dict.loc[loan_dict['LoanStatNew'].isin(list(loan_data.columns.values[33:37]))]"
   ]
  },
  {
   "cell_type": "code",
   "execution_count": 67,
   "metadata": {},
   "outputs": [
    {
     "name": "stdout",
     "output_type": "stream",
     "text": [
      "  last_pymnt_d  last_pymnt_amnt next_pymnt_d last_credit_pull_d\n",
      "0     Dec-2017           316.10     Feb-2018           Jan-2018\n",
      "1     Jan-2018           512.60     Jan-2018           Jan-2018\n",
      "2     Jan-2018           585.08     Jan-2018           Jan-2018\n",
      "3     Jan-2018           294.61     Jan-2018           Jan-2018\n",
      "4     Jan-2018           110.28     Jan-2018           Jan-2018\n",
      "5     Jul-2017         16625.82          NaN           Jul-2017\n",
      "last_pymnt_d object\n",
      "last_pymnt_amnt float64\n",
      "next_pymnt_d object\n",
      "last_credit_pull_d object\n"
     ]
    },
    {
     "data": {
      "text/html": [
       "<div>\n",
       "<style scoped>\n",
       "    .dataframe tbody tr th:only-of-type {\n",
       "        vertical-align: middle;\n",
       "    }\n",
       "\n",
       "    .dataframe tbody tr th {\n",
       "        vertical-align: top;\n",
       "    }\n",
       "\n",
       "    .dataframe thead th {\n",
       "        text-align: right;\n",
       "    }\n",
       "</style>\n",
       "<table border=\"1\" class=\"dataframe\">\n",
       "  <thead>\n",
       "    <tr style=\"text-align: right;\">\n",
       "      <th></th>\n",
       "      <th>LoanStatNew</th>\n",
       "      <th>Description</th>\n",
       "    </tr>\n",
       "  </thead>\n",
       "  <tbody>\n",
       "    <tr>\n",
       "      <th>36</th>\n",
       "      <td>last_credit_pull_d</td>\n",
       "      <td>The most recent month LC pulled credit for this loan</td>\n",
       "    </tr>\n",
       "    <tr>\n",
       "      <th>39</th>\n",
       "      <td>last_pymnt_amnt</td>\n",
       "      <td>Last total payment amount received</td>\n",
       "    </tr>\n",
       "    <tr>\n",
       "      <th>40</th>\n",
       "      <td>last_pymnt_d</td>\n",
       "      <td>Last month payment was received</td>\n",
       "    </tr>\n",
       "    <tr>\n",
       "      <th>58</th>\n",
       "      <td>next_pymnt_d</td>\n",
       "      <td>Next scheduled payment date</td>\n",
       "    </tr>\n",
       "  </tbody>\n",
       "</table>\n",
       "</div>"
      ],
      "text/plain": [
       "           LoanStatNew                                           Description\n",
       "36  last_credit_pull_d  The most recent month LC pulled credit for this loan\n",
       "39     last_pymnt_amnt                    Last total payment amount received\n",
       "40        last_pymnt_d                       Last month payment was received\n",
       "58        next_pymnt_d                           Next scheduled payment date"
      ]
     },
     "execution_count": 67,
     "metadata": {},
     "output_type": "execute_result"
    }
   ],
   "source": [
    "# Moving to next 4 columns\n",
    "print(loan_data.iloc[:6,37:41])\n",
    "for y in loan_data.columns[37:41]:\n",
    "  print(y, loan_data[y].dtype)\n",
    "loan_dict.loc[loan_dict['LoanStatNew'].isin(list(loan_data.columns.values[37:41]))]"
   ]
  },
  {
   "cell_type": "code",
   "execution_count": 68,
   "metadata": {},
   "outputs": [
    {
     "data": {
      "text/plain": [
       "array(['Dec-2017', 'Jan-2018', 'Jul-2017', 'Aug-2017', 'Nov-2017',\n",
       "       'Jan-2017', 'Jun-2017', 'Nov-2016', 'Apr-2017', 'Mar-2017',\n",
       "       'May-2017', 'Oct-2017', 'Feb-2017', 'Oct-2016', 'Sep-2017',\n",
       "       'Dec-2016', nan, 'Sep-2016', 'Aug-2016', 'Jul-2016', 'Sep-2014',\n",
       "       'Oct-2015', 'May-2014', 'Jun-2016', 'Dec-2015', 'Sep-2015',\n",
       "       'Apr-2016', 'May-2015', 'Jul-2014', 'Aug-2014', 'Feb-2016',\n",
       "       'Aug-2015', 'Jan-2014', 'Feb-2014', 'Jan-2016', 'Feb-2015',\n",
       "       'Jan-2015', 'Jun-2014', 'Nov-2014', 'Nov-2015', 'Mar-2015',\n",
       "       'Jun-2015', 'Mar-2014', 'May-2016', 'Dec-2014', 'Mar-2016',\n",
       "       'Oct-2014', 'Jul-2015', 'Apr-2014', 'Apr-2015', 'Dec-2013',\n",
       "       'Nov-2013', 'Oct-2013', 'Sep-2013', 'Aug-2013', 'Jul-2013',\n",
       "       'Jun-2013', 'May-2013', 'Apr-2013', 'Mar-2013', 'Feb-2013',\n",
       "       'Jan-2013', 'Dec-2012', 'Nov-2012', 'Oct-2012', 'Sep-2012',\n",
       "       'Aug-2012', 'Jul-2012', 'Jun-2012', 'May-2012', 'Apr-2012',\n",
       "       'Mar-2012', 'Feb-2012', '0', 'Jan-15', 'Apr-13', 'Jun-14',\n",
       "       'Jan-17', 'May-16', 'Apr-12', 'Nov-12', 'Jun-13', 'Sep-13',\n",
       "       'Jul-12', 'Oct-13', 'May-13', 'Feb-15', 'Aug-15', 'Oct-12',\n",
       "       'Sep-12', 'Dec-12', 'Dec-14', 'Aug-13', 'Nov-13', 'Jan-14',\n",
       "       'Apr-14', 'Aug-14', 'Oct-14', 'Aug-12', 'Jul-14', 'Jul-13',\n",
       "       'Jan-16', 'Feb-16', 'Apr-15', 'Feb-14', 'Sep-14', 'Jun-12',\n",
       "       'Feb-13', 'Jun-16', 'Mar-13', 'May-14', 'Mar-15', 'Jan-13',\n",
       "       'Dec-13', 'Feb-12', 'Mar-14', 'Sep-15', 'Nov-15', 'Mar-16',\n",
       "       'Jan-12', 'Oct-15', 'Dec-16', 'Nov-14', 'Mar-12', 'May-12',\n",
       "       'Aug-16', 'Jul-16', 'Oct-16', 'Dec-15', 'Jun-15', 'Feb-17',\n",
       "       'Sep-16', 'Nov-16', 'May-15', 'Jul-15', 'Apr-16', 'Apr-17',\n",
       "       'Dec-11', 'Nov-11', 'Oct-11', 'Sep-11', 'Aug-11', 'Jul-11',\n",
       "       'Jun-11', 'May-11', 'Apr-11', 'Mar-11', 'Feb-11', 'Jan-11',\n",
       "       'Dec-10', 'Nov-10', 'Oct-10', 'Sep-10', 'Aug-10', 'Jul-10',\n",
       "       'Jun-10', 'May-10', 'Apr-10', 'Mar-10', 'Feb-10', 'Jan-10',\n",
       "       'Dec-09', 'Nov-09', 'Oct-09', 'Sep-09', 'Aug-09', 'Jul-09',\n",
       "       'Jun-09', 'May-09', 'Apr-09', 'Mar-09', 'Feb-09', 'Jan-09',\n",
       "       'Dec-08', 'Oct-08', 'Aug-08', 'Jul-08', 'Sep-08', 'Jun-08',\n",
       "       'May-08', 'Nov-08', 'Apr-08', 'Mar-08', 'Feb-08', 'Jan-08',\n",
       "       'Dec-07'], dtype=object)"
      ]
     },
     "execution_count": 68,
     "metadata": {},
     "output_type": "execute_result"
    }
   ],
   "source": [
    "# All except look good in terms of the data type\n",
    "# Cheching last_pymnt_d\n",
    "loan_data['last_pymnt_d'].unique()"
   ]
  },
  {
   "cell_type": "code",
   "execution_count": 69,
   "metadata": {},
   "outputs": [
    {
     "name": "stdout",
     "output_type": "stream",
     "text": [
      "['Dec-2017' 'Jan-2018' 'Jul-2017' 'Aug-2017' 'Nov-2017' 'Jan-2017'\n",
      " 'Jun-2017' 'Nov-2016' 'Apr-2017' 'Mar-2017' 'May-2017' 'Oct-2017'\n",
      " 'Feb-2017' 'Oct-2016' 'Sep-2017' 'Dec-2016' nan 'Sep-2016' 'Aug-2016'\n",
      " 'Jul-2016' 'Sep-2014' 'Oct-2015' 'May-2014' 'Jun-2016' 'Dec-2015'\n",
      " 'Sep-2015' 'Apr-2016' 'May-2015' 'Jul-2014' 'Aug-2014' 'Feb-2016'\n",
      " 'Aug-2015' 'Jan-2014' 'Feb-2014' 'Jan-2016' 'Feb-2015' 'Jan-2015'\n",
      " 'Jun-2014' 'Nov-2014' 'Nov-2015' 'Mar-2015' 'Jun-2015' 'Mar-2014'\n",
      " 'May-2016' 'Dec-2014' 'Mar-2016' 'Oct-2014' 'Jul-2015' 'Apr-2014'\n",
      " 'Apr-2015' 'Dec-2013' 'Nov-2013' 'Oct-2013' 'Sep-2013' 'Aug-2013'\n",
      " 'Jul-2013' 'Jun-2013' 'May-2013' 'Apr-2013' 'Mar-2013' 'Feb-2013'\n",
      " 'Jan-2013' 'Dec-2012' 'Nov-2012' 'Oct-2012' 'Sep-2012' 'Aug-2012'\n",
      " 'Jul-2012' 'Jun-2012' 'May-2012' 'Apr-2012' 'Mar-2012' 'Feb-2012' '0'\n",
      " 'Jan-15' 'Apr-13' 'Jun-14' 'Jan-17' 'May-16' 'Apr-12' 'Nov-12' 'Jun-13'\n",
      " 'Sep-13' 'Jul-12' 'Oct-13' 'May-13' 'Feb-15' 'Aug-15' 'Oct-12' 'Sep-12'\n",
      " 'Dec-12' 'Dec-14' 'Aug-13' 'Nov-13' 'Jan-14' 'Apr-14' 'Aug-14' 'Oct-14'\n",
      " 'Aug-12' 'Jul-14' 'Jul-13' 'Jan-16' 'Feb-16' 'Apr-15' 'Feb-14' 'Sep-14'\n",
      " 'Jun-12' 'Feb-13' 'Jun-16' 'Mar-13' 'May-14' 'Mar-15' 'Jan-13' 'Dec-13'\n",
      " 'Feb-12' 'Mar-14' 'Sep-15' 'Nov-15' 'Mar-16' 'Jan-12' 'Oct-15' 'Dec-16'\n",
      " 'Nov-14' 'Mar-12' 'May-12' 'Aug-16' 'Jul-16' 'Oct-16' 'Dec-15' 'Jun-15'\n",
      " 'Feb-17' 'Sep-16' 'Nov-16' 'May-15' 'Jul-15' 'Apr-16' 'Apr-17' 'Dec-11'\n",
      " 'Nov-11' 'Oct-11' 'Sep-11' 'Aug-11' 'Jul-11' 'Jun-11' 'May-11' 'Apr-11'\n",
      " 'Mar-11' 'Feb-11' 'Jan-11' 'Dec-10' 'Nov-10' 'Oct-10' 'Sep-10' 'Aug-10'\n",
      " 'Jul-10' 'Jun-10' 'May-10' 'Apr-10' 'Mar-10' 'Feb-10' 'Jan-10' 'Dec-09'\n",
      " 'Nov-09' 'Oct-09' 'Sep-09' 'Aug-09' 'Jul-09' 'Jun-09' 'May-09' 'Apr-09'\n",
      " 'Mar-09' 'Feb-09' 'Jan-09' 'Dec-08' 'Oct-08' 'Aug-08' 'Jul-08' 'Sep-08'\n",
      " 'Jun-08' 'May-08' 'Nov-08' 'Apr-08' 'Mar-08' 'Feb-08' 'Jan-08' 'Dec-07']\n",
      "231\n",
      "0\n",
      "['Dec-2017' 'Jan-2018' 'Jul-2017' 'Aug-2017' 'Nov-2017' 'Jan-2017'\n",
      " 'Jun-2017' 'Nov-2016' 'Apr-2017' 'Mar-2017' 'May-2017' 'Oct-2017'\n",
      " 'Feb-2017' 'Oct-2016' 'Sep-2017' 'Dec-2016' nan 'Sep-2016' 'Aug-2016'\n",
      " 'Jul-2016' 'Sep-2014' 'Oct-2015' 'May-2014' 'Jun-2016' 'Dec-2015'\n",
      " 'Sep-2015' 'Apr-2016' 'May-2015' 'Jul-2014' 'Aug-2014' 'Feb-2016'\n",
      " 'Aug-2015' 'Feb-2014' 'Jan-2016' 'Feb-2015' 'Jan-2015' 'Jun-2014'\n",
      " 'Nov-2014' 'Nov-2015' 'Mar-2015' 'Jun-2015' 'Mar-2014' 'May-2016'\n",
      " 'Dec-2014' 'Mar-2016' 'Oct-2014' 'Jul-2015' 'Apr-2014' 'Apr-2015'\n",
      " 'Jan-2014' 'Dec-2013' 'Nov-2013' 'Oct-2013' 'Sep-2013' 'Aug-2013'\n",
      " 'Jul-2013' 'Jun-2013' 'May-2013' 'Apr-2013' 'Mar-2013' 'Feb-2013'\n",
      " 'Jan-2013' 'Dec-2012' 'Nov-2012' 'Oct-2012' 'Sep-2012' 'Aug-2012'\n",
      " 'Jul-2012' 'Jun-2012' 'May-2012' 'Apr-2012' 'Mar-2012' 'Feb-2012'\n",
      " 'Jan-15' 'Apr-13' 'Jun-14' 'Jan-17' 'May-16' 'Apr-12' 'Nov-12' 'Jun-13'\n",
      " 'Sep-13' 'Jul-12' 'Oct-13' 'May-13' 'Feb-15' 'Aug-15' 'Oct-12' 'Sep-12'\n",
      " 'Dec-12' 'Dec-14' 'Aug-13' 'Nov-13' 'Jan-14' 'Apr-14' 'Aug-14' 'Oct-14'\n",
      " 'Aug-12' 'Jul-14' 'Jul-13' 'Jan-16' 'Feb-16' 'Apr-15' 'Feb-14' 'Sep-14'\n",
      " 'Jun-12' 'Feb-13' 'Jun-16' 'Mar-13' 'May-14' 'Mar-15' 'Jan-13' 'Dec-13'\n",
      " 'Feb-12' 'Mar-14' 'Sep-15' 'Nov-15' 'Mar-16' 'Jan-12' 'Oct-15' 'Dec-16'\n",
      " 'Nov-14' 'Mar-12' 'May-12' 'Aug-16' 'Jul-16' 'Oct-16' 'Dec-15' 'Jun-15'\n",
      " 'Feb-17' 'Sep-16' 'Nov-16' 'May-15' 'Jul-15' 'Apr-16' 'Apr-17' 'Dec-11'\n",
      " 'Nov-11' 'Oct-11' 'Sep-11' 'Aug-11' 'Jul-11' 'Jun-11' 'May-11' 'Apr-11'\n",
      " 'Mar-11' 'Feb-11' 'Jan-11' 'Dec-10' 'Nov-10' 'Oct-10' 'Sep-10' 'Aug-10'\n",
      " 'Jul-10' 'Jun-10' 'May-10' 'Apr-10' 'Mar-10' 'Feb-10' 'Jan-10' 'Dec-09'\n",
      " 'Nov-09' 'Oct-09' 'Sep-09' 'Aug-09' 'Jul-09' 'Jun-09' 'May-09' 'Apr-09'\n",
      " 'Mar-09' 'Feb-09' 'Jan-09' 'Dec-08' 'Oct-08' 'Aug-08' 'Jul-08' 'Sep-08'\n",
      " 'Jun-08' 'May-08' 'Nov-08' 'Apr-08' 'Mar-08' 'Feb-08' 'Jan-08' 'Dec-07']\n"
     ]
    }
   ],
   "source": [
    "# last_pymnt_d is date (like issue_d).\n",
    "# Change it to month and year\n",
    "print(loan_data['last_pymnt_d'].unique())\n",
    "print(len(loan_data.loc[(loan_data['last_pymnt_d'] == '0')]))\n",
    "# Since, the number of entries with last_pymnt_d is not very high, I am removing it.\n",
    "loan_data.drop(loan_data[loan_data.last_pymnt_d == '0'].index, inplace=True)\n",
    "print(len(loan_data.loc[(loan_data['last_pymnt_d'] == '0')]))\n",
    "print(loan_data['last_pymnt_d'].unique())"
   ]
  },
  {
   "cell_type": "code",
   "execution_count": 70,
   "metadata": {
    "scrolled": false
   },
   "outputs": [
    {
     "name": "stdout",
     "output_type": "stream",
     "text": [
      "(1762572, 107)\n",
      "(1738680, 107)\n",
      "[12  1  7  8 11  6  4  3  5 10  2  9]\n",
      "[2017 2018 2016 2014 2015 2013 2012 2011 2010 2009 2008 2007]\n"
     ]
    }
   ],
   "source": [
    "import re\n",
    "# There are inconsistencies.\n",
    "# Some places the year is called 16 and other places it is 2016\n",
    "def try_convert_date(value):\n",
    "    try:\n",
    "        new_val = pd.datetime.strptime(value, '%b-%y')\n",
    "    except:\n",
    "        new_val = pd.datetime.strptime(value, '%b-%Y')\n",
    "    return new_val\n",
    "\n",
    "# Drop lines where last_pymnt_d is null\n",
    "print(loan_data.shape)\n",
    "loan_data.dropna(subset=['last_pymnt_d'], inplace=True)\n",
    "print(loan_data.shape)\n",
    "\n",
    "loan_data['last_pymnt_d_month'] = pd.DatetimeIndex(loan_data['last_pymnt_d'].apply(try_convert_date)).month\n",
    "loan_data['last_pymnt_d_year'] = pd.DatetimeIndex(loan_data['last_pymnt_d'].apply(try_convert_date)).year\n",
    "print(loan_data['last_pymnt_d_month'].unique())\n",
    "print(loan_data['last_pymnt_d_year'].unique())\n",
    "\n",
    "loan_data = loan_data.drop('last_pymnt_d', 1)\n",
    "\n",
    "# loan_data['last_pymnt_d'] = loan_data['last_pymnt_d'].str.replace(\"-20\",\"\")\n",
    "# loan_data['last_pymnt_d'].replace(to_replace=\"([a-zA-Z])(\\d+)\", value=r\"\\1-\\2\", regex=True, inplace=True)\n",
    "# loan_data['last_pymnt_d'].unique()"
   ]
  },
  {
   "cell_type": "code",
   "execution_count": 71,
   "metadata": {},
   "outputs": [
    {
     "name": "stdout",
     "output_type": "stream",
     "text": [
      "   mths_since_last_major_derog  policy_code application_type\n",
      "0                          NaN            1       Individual\n",
      "1                          NaN            1       Individual\n",
      "2                         17.0            1       Individual\n",
      "3                         47.0            1       Individual\n",
      "4                          NaN            1       Individual\n",
      "5                          NaN            1       Individual\n",
      "mths_since_last_major_derog float64\n",
      "policy_code int64\n",
      "application_type object\n"
     ]
    },
    {
     "data": {
      "text/html": [
       "<div>\n",
       "<style scoped>\n",
       "    .dataframe tbody tr th:only-of-type {\n",
       "        vertical-align: middle;\n",
       "    }\n",
       "\n",
       "    .dataframe tbody tr th {\n",
       "        vertical-align: top;\n",
       "    }\n",
       "\n",
       "    .dataframe thead th {\n",
       "        text-align: right;\n",
       "    }\n",
       "</style>\n",
       "<table border=\"1\" class=\"dataframe\">\n",
       "  <thead>\n",
       "    <tr style=\"text-align: right;\">\n",
       "      <th></th>\n",
       "      <th>LoanStatNew</th>\n",
       "      <th>Description</th>\n",
       "    </tr>\n",
       "  </thead>\n",
       "  <tbody>\n",
       "    <tr>\n",
       "      <th>6</th>\n",
       "      <td>application_type</td>\n",
       "      <td>Indicates whether the loan is an individual application or a joint application with two co-borrowers</td>\n",
       "    </tr>\n",
       "    <tr>\n",
       "      <th>51</th>\n",
       "      <td>mths_since_last_major_derog</td>\n",
       "      <td>Months since most recent 90-day or worse rating</td>\n",
       "    </tr>\n",
       "    <tr>\n",
       "      <th>84</th>\n",
       "      <td>policy_code</td>\n",
       "      <td>publicly available policy_code=1\\nnew products not publicly available policy_code=2</td>\n",
       "    </tr>\n",
       "  </tbody>\n",
       "</table>\n",
       "</div>"
      ],
      "text/plain": [
       "                    LoanStatNew  \\\n",
       "6              application_type   \n",
       "51  mths_since_last_major_derog   \n",
       "84                  policy_code   \n",
       "\n",
       "                                                                                             Description  \n",
       "6   Indicates whether the loan is an individual application or a joint application with two co-borrowers  \n",
       "51                                                       Months since most recent 90-day or worse rating  \n",
       "84                   publicly available policy_code=1\\nnew products not publicly available policy_code=2  "
      ]
     },
     "execution_count": 71,
     "metadata": {},
     "output_type": "execute_result"
    }
   ],
   "source": [
    "# Moving to next 4 columns\n",
    "print(loan_data.iloc[:6,41:44])\n",
    "for y in loan_data.columns[41:44]:\n",
    "  print(y, loan_data[y].dtype)\n",
    "loan_dict.loc[loan_dict['LoanStatNew'].isin(list(loan_data.columns.values[41:44]))]"
   ]
  },
  {
   "cell_type": "code",
   "execution_count": 72,
   "metadata": {},
   "outputs": [],
   "source": [
    "# next_pymnt_d looks wrong\n",
    "len(loan_data.loc[loan_data['next_pymnt_d'] == '0'])\n",
    "# It has 92648 entries.\n",
    "# For now, I am dropping this. \n",
    "# Next payment is future payment is not completely relevant.\n",
    "# This information should already by hidden in all the other data.\n",
    "loan_data = loan_data.drop('next_pymnt_d', 1)"
   ]
  },
  {
   "cell_type": "code",
   "execution_count": 73,
   "metadata": {},
   "outputs": [
    {
     "data": {
      "text/plain": [
       "array(['Jan-2018', 'Jul-2017', 'Aug-2017', 'Nov-2017', 'Apr-2017',\n",
       "       'Dec-2017', 'Oct-2017', 'Jun-2017', 'Sep-2017', 'Oct-2016',\n",
       "       'May-2017', 'Mar-2017', 'Feb-2017', 'Sep-2016', 'Jan-2017', nan,\n",
       "       'Nov-2016', 'Dec-2016', 'Aug-2016', 'Jul-2016', 'Jun-2016',\n",
       "       'Aug-2014', 'Aug-2015', 'May-2015', 'Mar-2016', 'Mar-2014',\n",
       "       'May-2016', 'Oct-2015', 'Dec-2015', 'Feb-2016', 'Mar-2015',\n",
       "       'Apr-2015', 'Sep-2014', 'May-2014', 'Dec-2014', 'Jan-2014',\n",
       "       'Jan-2015', 'Feb-2014', 'Sep-2015', 'Jul-2014', 'Jun-2015',\n",
       "       'Apr-2016', 'Nov-2015', 'Nov-2014', 'Jan-2016', 'Oct-2014',\n",
       "       'Jun-2014', 'Feb-2015', 'Jul-2015', 'Apr-2014', 'Nov-2013',\n",
       "       'Dec-2013', 'Oct-2013', 'Sep-2013', 'Aug-2013', 'Jun-2013',\n",
       "       'Jul-2013', 'May-2013', 'Apr-2013', 'Mar-2013', 'Feb-2013',\n",
       "       'Jan-2013', 'Dec-2012', 'Nov-2012', 'Oct-2012', 'Sep-2012',\n",
       "       'Aug-2012', 'Jun-2012', 'Jul-2012', 'May-2012', 'Apr-2012',\n",
       "       'Feb-2012', 'Mar-2012', 'Jan-2012', '0', 'Jan-18', 'Oct-16',\n",
       "       'Jun-17', 'Apr-16', 'Jan-17', 'Feb-17', 'Sep-16', 'Dec-14',\n",
       "       'Dec-16', 'Aug-17', 'Aug-13', 'Apr-17', 'Sep-17', 'May-14',\n",
       "       'Jul-15', 'Feb-16', 'Jun-16', 'Mar-14', 'Sep-12', 'Jan-15',\n",
       "       'Jul-17', 'Jan-16', 'Dec-15', 'Jun-12', 'Nov-17', 'Dec-17',\n",
       "       'Mar-15', 'Sep-14', 'Mar-17', 'Apr-14', 'Oct-17', 'Oct-14',\n",
       "       'Feb-14', 'Feb-13', 'Nov-15', 'Jul-14', 'Dec-12', 'Jul-16',\n",
       "       'Jun-15', 'Mar-13', 'Feb-12', 'Nov-13', 'Nov-16', 'Oct-15',\n",
       "       'May-16', 'Apr-12', 'Sep-15', 'Mar-16', 'May-13', 'Aug-15',\n",
       "       'Jun-14', 'Aug-12', 'Sep-13', 'Jan-12', 'Aug-14', 'Oct-13',\n",
       "       'May-17', 'Aug-16', 'May-12', 'Jul-12', 'Jan-14', 'Oct-12',\n",
       "       'Jun-13', 'Dec-13', 'Nov-14', 'Apr-15', 'Apr-13', 'Nov-12',\n",
       "       'May-15', 'Jul-13', 'Feb-15', 'Mar-12', 'Nov-11', 'Dec-11',\n",
       "       'Jan-13', 'Oct-11', 'Sep-11', 'Aug-11', 'Jul-11', 'Jun-11',\n",
       "       'May-11', 'Apr-11', 'Mar-11', 'Feb-11', 'Jan-11', 'Dec-10',\n",
       "       'Nov-10', 'Oct-10', 'Sep-10', 'Aug-10', 'Jul-10', 'Jun-10',\n",
       "       'May-10', 'Apr-10', 'Mar-10', 'Feb-10', 'Aug-07', 'Jan-10',\n",
       "       'Dec-09', 'Nov-09', 'Oct-09', 'Sep-09', 'Jul-09', 'Aug-09',\n",
       "       'May-09', 'Jun-09', 'Apr-09', 'Mar-09', 'Feb-09', 'Jan-09',\n",
       "       'Dec-08', 'Jun-08', 'Sep-08', 'May-08', 'Aug-08', 'Mar-08',\n",
       "       'Oct-08', 'Feb-08', 'Jan-08', 'Dec-07', 'Jul-08', 'Oct-07',\n",
       "       'Sep-07', 'Jun-07', 'May-07', 'Jul-07', 'Nov-07'], dtype=object)"
      ]
     },
     "execution_count": 73,
     "metadata": {},
     "output_type": "execute_result"
    }
   ],
   "source": [
    "# Analyze last_credit_pull_d\n",
    "loan_data['last_credit_pull_d'].unique()"
   ]
  },
  {
   "cell_type": "code",
   "execution_count": 74,
   "metadata": {},
   "outputs": [
    {
     "name": "stdout",
     "output_type": "stream",
     "text": [
      "(68, 107)\n",
      "(1738680, 107)\n",
      "(1738612, 107)\n",
      "(5, 107)\n",
      "(1738554, 107)\n",
      "[ 1  7  8 11  4 12 10  6  9  5  3  2]\n",
      "[2018 2017 2016 2014 2015 2013 2012 2011 2010 2007 2009 2008]\n"
     ]
    }
   ],
   "source": [
    "# Delete all the null data\n",
    "print(loan_data.loc[loan_data['last_credit_pull_d'].isnull()].shape)\n",
    "\n",
    "print(loan_data.shape)\n",
    "loan_data.dropna(subset=['last_credit_pull_d'], inplace=True)\n",
    "print(loan_data.shape)\n",
    "\n",
    "# Check how many of them have 0 data.\n",
    "print(loan_data.loc[loan_data['last_credit_pull_d'] == '0'].shape)\n",
    "\n",
    "# And delete those\n",
    "loan_data.drop(loan_data[loan_data.last_credit_pull_d == '0'].index, inplace=True)\n",
    "print(loan_data.shape)\n",
    "\n",
    "loan_data['last_credit_pull_d_month'] = pd.DatetimeIndex(loan_data['last_credit_pull_d'].apply(try_convert_date)).month\n",
    "loan_data['last_credit_pull_d_year'] = pd.DatetimeIndex(loan_data['last_credit_pull_d'].apply(try_convert_date)).year\n",
    "print(loan_data['last_credit_pull_d_month'].unique())\n",
    "print(loan_data['last_credit_pull_d_year'].unique())\n",
    "\n",
    "loan_data = loan_data.drop('last_credit_pull_d', 1)\n",
    "# loan_data['last_credit_pull_d'] = loan_data['last_credit_pull_d'].str.replace(\"-20\",\"\")\n",
    "# loan_data['last_credit_pull_d'].replace(to_replace=\"([a-zA-Z])(\\d+)\", value=r\"\\1-\\2\", regex=True, inplace=True)\n",
    "# loan_data['last_credit_pull_d'].unique()"
   ]
  },
  {
   "cell_type": "code",
   "execution_count": 75,
   "metadata": {},
   "outputs": [
    {
     "data": {
      "text/plain": [
       "array([ 0,  1,  2,  3,  6,  4, 10,  5,  7, 14, 12, 16, 20,  9,  8, 11])"
      ]
     },
     "execution_count": 75,
     "metadata": {},
     "output_type": "execute_result"
    }
   ],
   "source": [
    "# I am keeping the 0 values in the last_credit_pull_d.\n",
    "# It could mean, the credit was not pulled before.\n",
    "\n",
    "loan_data['collections_12_mths_ex_med'].unique()"
   ]
  },
  {
   "cell_type": "code",
   "execution_count": 76,
   "metadata": {},
   "outputs": [],
   "source": [
    "# collections_12_mths_ex_med looks clean.\n",
    "# Moving on"
   ]
  },
  {
   "cell_type": "code",
   "execution_count": 77,
   "metadata": {},
   "outputs": [
    {
     "name": "stdout",
     "output_type": "stream",
     "text": [
      "   tot_cur_bal  open_acc_6m  open_act_il  open_il_12m\n",
      "0     549316.0          0.0          2.0          2.0\n",
      "1     140492.0          3.0         10.0          2.0\n",
      "2      24644.0          1.0          1.0          1.0\n",
      "3      14671.0          1.0          4.0          0.0\n",
      "4       2574.0          1.0          0.0          0.0\n",
      "5      62066.0          1.0          2.0          1.0\n",
      "tot_cur_bal float64\n",
      "open_acc_6m float64\n",
      "open_act_il float64\n",
      "open_il_12m float64\n"
     ]
    },
    {
     "data": {
      "text/html": [
       "<div>\n",
       "<style scoped>\n",
       "    .dataframe tbody tr th:only-of-type {\n",
       "        vertical-align: middle;\n",
       "    }\n",
       "\n",
       "    .dataframe tbody tr th {\n",
       "        vertical-align: top;\n",
       "    }\n",
       "\n",
       "    .dataframe thead th {\n",
       "        text-align: right;\n",
       "    }\n",
       "</style>\n",
       "<table border=\"1\" class=\"dataframe\">\n",
       "  <thead>\n",
       "    <tr style=\"text-align: right;\">\n",
       "      <th></th>\n",
       "      <th>LoanStatNew</th>\n",
       "      <th>Description</th>\n",
       "    </tr>\n",
       "  </thead>\n",
       "  <tbody>\n",
       "    <tr>\n",
       "      <th>74</th>\n",
       "      <td>open_acc_6m</td>\n",
       "      <td>Number of open trades in last 6 months</td>\n",
       "    </tr>\n",
       "    <tr>\n",
       "      <th>75</th>\n",
       "      <td>open_il_12m</td>\n",
       "      <td>Number of installment accounts opened in past 12 months</td>\n",
       "    </tr>\n",
       "    <tr>\n",
       "      <th>77</th>\n",
       "      <td>open_act_il</td>\n",
       "      <td>Number of currently active installment trades</td>\n",
       "    </tr>\n",
       "    <tr>\n",
       "      <th>97</th>\n",
       "      <td>tot_cur_bal</td>\n",
       "      <td>Total current balance of all accounts</td>\n",
       "    </tr>\n",
       "  </tbody>\n",
       "</table>\n",
       "</div>"
      ],
      "text/plain": [
       "    LoanStatNew                                              Description\n",
       "74  open_acc_6m                   Number of open trades in last 6 months\n",
       "75  open_il_12m  Number of installment accounts opened in past 12 months\n",
       "77  open_act_il            Number of currently active installment trades\n",
       "97  tot_cur_bal                    Total current balance of all accounts"
      ]
     },
     "execution_count": 77,
     "metadata": {},
     "output_type": "execute_result"
    }
   ],
   "source": [
    "# Moving to next 4 columns\n",
    "print(loan_data.iloc[:6,44:48])\n",
    "for y in loan_data.columns[44:48]:\n",
    "  print(y, loan_data[y].dtype)\n",
    "loan_dict.loc[loan_dict['LoanStatNew'].isin(list(loan_data.columns.values[44:48]))]"
   ]
  },
  {
   "cell_type": "code",
   "execution_count": 78,
   "metadata": {},
   "outputs": [
    {
     "name": "stdout",
     "output_type": "stream",
     "text": [
      "(1141113, 108)\n",
      "[ nan  17.  47.  28.  43.  80.  33.  41.  19.  10.   9.  31.  42.  44.\n",
      "  45.  29.  53.  21.  52.  12.  34.  56.  36.  67.  63.  72.  49.  40.\n",
      "  38.  75.  32.  37.  39.  78.  55.  64.  76.  50.  18.  59.  22.  23.\n",
      "  14.  70.   5.  77.  27.  16.  15.   8.  74.  24.  13.  62.  73.  71.\n",
      "   6.  81.  58.  54.  79.  57.  25.  83.  30.  66.  65.  48.  11.  20.\n",
      "  69.  46.  82.  60.  68.  51.  61.  35.  26.   3.   4. 162.   7.   1.\n",
      "  93.   2.  85. 101.  95. 112.  88.  84.  90. 114. 115.  94.   0.  98.\n",
      "  87.  86.  89. 165. 105.  91. 123.  99. 108. 120.  92. 107.  96. 100.\n",
      " 131. 111. 122. 146. 125. 109. 118. 142. 102. 104.  97. 121. 116. 149.\n",
      " 148. 126. 141. 143. 106. 130. 153. 110. 113. 135. 119. 138. 144. 152.\n",
      " 134. 127. 136. 103. 117. 133. 155. 137. 132. 128. 124. 129. 161. 147.\n",
      " 145. 150. 157. 139. 158. 156. 140. 151. 154. 170. 171. 159. 176. 169.\n",
      " 180. 188. 168. 195. 202. 177. 175. 178. 160. 197. 192.]\n",
      "[1.20e+03 1.70e+01 4.70e+01 2.80e+01 4.30e+01 8.00e+01 3.30e+01 4.10e+01\n",
      " 1.90e+01 1.00e+01 9.00e+00 3.10e+01 4.20e+01 4.40e+01 4.50e+01 2.90e+01\n",
      " 5.30e+01 2.10e+01 5.20e+01 1.20e+01 3.40e+01 5.60e+01 3.60e+01 6.70e+01\n",
      " 6.30e+01 7.20e+01 4.90e+01 4.00e+01 3.80e+01 7.50e+01 3.20e+01 3.70e+01\n",
      " 3.90e+01 7.80e+01 5.50e+01 6.40e+01 7.60e+01 5.00e+01 1.80e+01 5.90e+01\n",
      " 2.20e+01 2.30e+01 1.40e+01 7.00e+01 5.00e+00 7.70e+01 2.70e+01 1.60e+01\n",
      " 1.50e+01 8.00e+00 7.40e+01 2.40e+01 1.30e+01 6.20e+01 7.30e+01 7.10e+01\n",
      " 6.00e+00 8.10e+01 5.80e+01 5.40e+01 7.90e+01 5.70e+01 2.50e+01 8.30e+01\n",
      " 3.00e+01 6.60e+01 6.50e+01 4.80e+01 1.10e+01 2.00e+01 6.90e+01 4.60e+01\n",
      " 8.20e+01 6.00e+01 6.80e+01 5.10e+01 6.10e+01 3.50e+01 2.60e+01 3.00e+00\n",
      " 4.00e+00 1.62e+02 7.00e+00 1.00e+00 9.30e+01 2.00e+00 8.50e+01 1.01e+02\n",
      " 9.50e+01 1.12e+02 8.80e+01 8.40e+01 9.00e+01 1.14e+02 1.15e+02 9.40e+01\n",
      " 0.00e+00 9.80e+01 8.70e+01 8.60e+01 8.90e+01 1.65e+02 1.05e+02 9.10e+01\n",
      " 1.23e+02 9.90e+01 1.08e+02 1.20e+02 9.20e+01 1.07e+02 9.60e+01 1.00e+02\n",
      " 1.31e+02 1.11e+02 1.22e+02 1.46e+02 1.25e+02 1.09e+02 1.18e+02 1.42e+02\n",
      " 1.02e+02 1.04e+02 9.70e+01 1.21e+02 1.16e+02 1.49e+02 1.48e+02 1.26e+02\n",
      " 1.41e+02 1.43e+02 1.06e+02 1.30e+02 1.53e+02 1.10e+02 1.13e+02 1.35e+02\n",
      " 1.19e+02 1.38e+02 1.44e+02 1.52e+02 1.34e+02 1.27e+02 1.36e+02 1.03e+02\n",
      " 1.17e+02 1.33e+02 1.55e+02 1.37e+02 1.32e+02 1.28e+02 1.24e+02 1.29e+02\n",
      " 1.61e+02 1.47e+02 1.45e+02 1.50e+02 1.57e+02 1.39e+02 1.58e+02 1.56e+02\n",
      " 1.40e+02 1.51e+02 1.54e+02 1.70e+02 1.71e+02 1.59e+02 1.76e+02 1.69e+02\n",
      " 1.80e+02 1.88e+02 1.68e+02 1.95e+02 2.02e+02 1.77e+02 1.75e+02 1.78e+02\n",
      " 1.60e+02 1.97e+02 1.92e+02]\n"
     ]
    },
    {
     "data": {
      "text/plain": [
       "array([1200,   17,   47,   28,   43,   80,   33,   41,   19,   10,    9,\n",
       "         31,   42,   44,   45,   29,   53,   21,   52,   12,   34,   56,\n",
       "         36,   67,   63,   72,   49,   40,   38,   75,   32,   37,   39,\n",
       "         78,   55,   64,   76,   50,   18,   59,   22,   23,   14,   70,\n",
       "          5,   77,   27,   16,   15,    8,   74,   24,   13,   62,   73,\n",
       "         71,    6,   81,   58,   54,   79,   57,   25,   83,   30,   66,\n",
       "         65,   48,   11,   20,   69,   46,   82,   60,   68,   51,   61,\n",
       "         35,   26,    3,    4,  162,    7,    1,   93,    2,   85,  101,\n",
       "         95,  112,   88,   84,   90,  114,  115,   94,    0,   98,   87,\n",
       "         86,   89,  165,  105,   91,  123,   99,  108,  120,   92,  107,\n",
       "         96,  100,  131,  111,  122,  146,  125,  109,  118,  142,  102,\n",
       "        104,   97,  121,  116,  149,  148,  126,  141,  143,  106,  130,\n",
       "        153,  110,  113,  135,  119,  138,  144,  152,  134,  127,  136,\n",
       "        103,  117,  133,  155,  137,  132,  128,  124,  129,  161,  147,\n",
       "        145,  150,  157,  139,  158,  156,  140,  151,  154,  170,  171,\n",
       "        159,  176,  169,  180,  188,  168,  195,  202,  177,  175,  178,\n",
       "        160,  197,  192])"
      ]
     },
     "execution_count": 78,
     "metadata": {},
     "output_type": "execute_result"
    }
   ],
   "source": [
    "# mths_since_last_major_derog should be int\n",
    "print(loan_data.loc[loan_data['mths_since_last_major_derog'].isnull()].shape)\n",
    "print(loan_data['mths_since_last_major_derog'].unique())\n",
    "\n",
    "# If mths_since_last_major_derog is NA, this could mean there was no major derogatory remark. \n",
    "# Hence assign it to: 1200. 100 years.\n",
    "loan_data.loc[loan_data['mths_since_last_major_derog'].isnull(), 'mths_since_last_major_derog'] = 1200\n",
    "print(loan_data['mths_since_last_major_derog'].unique())\n",
    "\n",
    "# Convert it to int\n",
    "loan_data[['mths_since_last_major_derog']] = loan_data[['mths_since_last_major_derog']].astype(int)\n",
    "loan_data['mths_since_last_major_derog'].unique()"
   ]
  },
  {
   "cell_type": "code",
   "execution_count": 79,
   "metadata": {},
   "outputs": [
    {
     "data": {
      "text/plain": [
       "array([1])"
      ]
     },
     "execution_count": 79,
     "metadata": {},
     "output_type": "execute_result"
    }
   ],
   "source": [
    "loan_data['policy_code'].unique()"
   ]
  },
  {
   "cell_type": "code",
   "execution_count": 80,
   "metadata": {},
   "outputs": [],
   "source": [
    "# Value for policy_code is all 1.\n",
    "# Dropping it.\n",
    "loan_data = loan_data.drop('policy_code', 1)"
   ]
  },
  {
   "cell_type": "code",
   "execution_count": 81,
   "metadata": {},
   "outputs": [
    {
     "data": {
      "text/plain": [
       "array(['Individual', 'Joint App'], dtype=object)"
      ]
     },
     "execution_count": 81,
     "metadata": {},
     "output_type": "execute_result"
    }
   ],
   "source": [
    "loan_data['application_type'].unique()"
   ]
  },
  {
   "cell_type": "code",
   "execution_count": 82,
   "metadata": {},
   "outputs": [],
   "source": [
    "# loan_data['annual_inc_joint'].unique()"
   ]
  },
  {
   "cell_type": "code",
   "execution_count": 83,
   "metadata": {},
   "outputs": [],
   "source": [
    "# Joint annual income of 0 looks like missing data.\n",
    "# print(len(loan_data.loc[loan_data['annual_inc_joint'] == 0.0]))\n",
    "# print(len(loan_data.loc[loan_data['annual_inc_joint'].isnull()]))"
   ]
  },
  {
   "cell_type": "code",
   "execution_count": 84,
   "metadata": {},
   "outputs": [],
   "source": [
    "# THat is large number of data, which is showing annual_inc_joint = 0.\n",
    "# And there is no easy way to fix it.\n",
    "# So, dropping it.\n",
    "# loan_data = loan_data.drop('annual_inc_joint', 1)"
   ]
  },
  {
   "cell_type": "code",
   "execution_count": 85,
   "metadata": {},
   "outputs": [
    {
     "name": "stdout",
     "output_type": "stream",
     "text": [
      "   open_il_24m  mths_since_rcnt_il  total_bal_il  il_util\n",
      "0          3.0                 9.0       46469.0     80.0\n",
      "1          3.0                11.0      119147.0    101.0\n",
      "2          1.0                 8.0       17131.0     94.0\n",
      "3          0.0               107.0       11531.0    109.0\n",
      "4          0.0               111.0           0.0      NaN\n",
      "5          1.0                11.0       36447.0     14.0\n",
      "open_il_24m float64\n",
      "mths_since_rcnt_il float64\n",
      "total_bal_il float64\n",
      "il_util float64\n"
     ]
    },
    {
     "data": {
      "text/html": [
       "<div>\n",
       "<style scoped>\n",
       "    .dataframe tbody tr th:only-of-type {\n",
       "        vertical-align: middle;\n",
       "    }\n",
       "\n",
       "    .dataframe tbody tr th {\n",
       "        vertical-align: top;\n",
       "    }\n",
       "\n",
       "    .dataframe thead th {\n",
       "        text-align: right;\n",
       "    }\n",
       "</style>\n",
       "<table border=\"1\" class=\"dataframe\">\n",
       "  <thead>\n",
       "    <tr style=\"text-align: right;\">\n",
       "      <th></th>\n",
       "      <th>LoanStatNew</th>\n",
       "      <th>Description</th>\n",
       "    </tr>\n",
       "  </thead>\n",
       "  <tbody>\n",
       "    <tr>\n",
       "      <th>28</th>\n",
       "      <td>il_util</td>\n",
       "      <td>Ratio of total current balance to high credit/credit limit on all install acct</td>\n",
       "    </tr>\n",
       "    <tr>\n",
       "      <th>53</th>\n",
       "      <td>mths_since_rcnt_il</td>\n",
       "      <td>Months since most recent installment accounts opened</td>\n",
       "    </tr>\n",
       "    <tr>\n",
       "      <th>76</th>\n",
       "      <td>open_il_24m</td>\n",
       "      <td>Number of installment accounts opened in past 24 months</td>\n",
       "    </tr>\n",
       "    <tr>\n",
       "      <th>101</th>\n",
       "      <td>total_bal_il</td>\n",
       "      <td>Total current balance of all installment accounts</td>\n",
       "    </tr>\n",
       "  </tbody>\n",
       "</table>\n",
       "</div>"
      ],
      "text/plain": [
       "            LoanStatNew  \\\n",
       "28              il_util   \n",
       "53   mths_since_rcnt_il   \n",
       "76          open_il_24m   \n",
       "101        total_bal_il   \n",
       "\n",
       "                                                                        Description  \n",
       "28   Ratio of total current balance to high credit/credit limit on all install acct  \n",
       "53                             Months since most recent installment accounts opened  \n",
       "76                          Number of installment accounts opened in past 24 months  \n",
       "101                               Total current balance of all installment accounts  "
      ]
     },
     "execution_count": 85,
     "metadata": {},
     "output_type": "execute_result"
    }
   ],
   "source": [
    "# Moving to next 4 columns\n",
    "print(loan_data.iloc[:6,47:51])\n",
    "for y in loan_data.columns[47:51]:\n",
    "  print(y, loan_data[y].dtype)\n",
    "loan_dict.loc[loan_dict['LoanStatNew'].isin(list(loan_data.columns.values[47:51]))]"
   ]
  },
  {
   "cell_type": "code",
   "execution_count": 86,
   "metadata": {},
   "outputs": [],
   "source": [
    "# loan_data['dti_joint'].unique()"
   ]
  },
  {
   "cell_type": "code",
   "execution_count": 87,
   "metadata": {},
   "outputs": [],
   "source": [
    "# len(loan_data.loc[loan_data['dti_joint'] == 0.0])"
   ]
  },
  {
   "cell_type": "code",
   "execution_count": 88,
   "metadata": {},
   "outputs": [],
   "source": [
    "# The dti_joint = 0 is a large percentage of our total data.\n",
    "# Hence, dropping it.\n",
    "# loan_data = loan_data.drop('dti_joint', 1)"
   ]
  },
  {
   "cell_type": "code",
   "execution_count": 89,
   "metadata": {},
   "outputs": [],
   "source": [
    "# loan_data['verification_status_joint'].unique()"
   ]
  },
  {
   "cell_type": "code",
   "execution_count": 90,
   "metadata": {},
   "outputs": [],
   "source": [
    "# len(loan_data.loc[loan_data['verification_status_joint'] == '0']) + len(loan_data.loc[loan_data['verification_status_joint'] == 0.0])"
   ]
  },
  {
   "cell_type": "code",
   "execution_count": 91,
   "metadata": {},
   "outputs": [],
   "source": [
    "# Again a big chunk of the verification_status_joint is 0.\n",
    "# Hence, dropping it.\n",
    "# loan_data = loan_data.drop('verification_status_joint', 1)"
   ]
  },
  {
   "cell_type": "code",
   "execution_count": 92,
   "metadata": {},
   "outputs": [
    {
     "data": {
      "text/plain": [
       "array([ 0,  1,  2,  3,  4,  5,  6, 14,  7])"
      ]
     },
     "execution_count": 92,
     "metadata": {},
     "output_type": "execute_result"
    }
   ],
   "source": [
    "loan_data['acc_now_delinq'].unique()"
   ]
  },
  {
   "cell_type": "code",
   "execution_count": 93,
   "metadata": {},
   "outputs": [
    {
     "data": {
      "text/plain": [
       "array([    0.,  3994.,   155., ..., 19596., 10224., 31493.])"
      ]
     },
     "execution_count": 93,
     "metadata": {},
     "output_type": "execute_result"
    }
   ],
   "source": [
    "loan_data['tot_coll_amt'].unique()"
   ]
  },
  {
   "cell_type": "code",
   "execution_count": 94,
   "metadata": {},
   "outputs": [
    {
     "name": "stdout",
     "output_type": "stream",
     "text": [
      "27710\n"
     ]
    },
    {
     "data": {
      "text/plain": [
       "array([    0,  3994,   155, ..., 19596, 10224, 31493])"
      ]
     },
     "execution_count": 94,
     "metadata": {},
     "output_type": "execute_result"
    }
   ],
   "source": [
    "# Convert it to int\n",
    "print(len(loan_data.loc[loan_data['tot_coll_amt'].isnull()]))\n",
    "# Convert all 0s and nan to 0.\n",
    "# loan_data.loc[loan_data['tot_coll_amt'].isnull()]['tot_coll_amt'] = 0\n",
    "loan_data[['tot_coll_amt']] = loan_data[['tot_coll_amt']].applymap(lambda x: 0 if pd.isnull(x) else x)\n",
    "loan_data['tot_coll_amt'].unique()\n",
    "loan_data[['tot_coll_amt']] = loan_data[['tot_coll_amt']].astype(int)\n",
    "loan_data['tot_coll_amt'].unique()"
   ]
  },
  {
   "cell_type": "code",
   "execution_count": 95,
   "metadata": {},
   "outputs": [
    {
     "name": "stdout",
     "output_type": "stream",
     "text": [
      "   total_bal_il  il_util  open_rv_12m  open_rv_24m  max_bal_bc\n",
      "0       46469.0     80.0          0.0          2.0      8713.0\n",
      "1      119147.0    101.0          3.0          4.0     14612.0\n",
      "2       17131.0     94.0          2.0          2.0      3695.0\n",
      "3       11531.0    109.0          1.0          2.0      3140.0\n",
      "4           0.0      NaN          1.0          1.0      1585.0\n",
      "5       36447.0     14.0          2.0          2.0      3266.0\n",
      "total_bal_il float64\n",
      "il_util float64\n",
      "open_rv_12m float64\n",
      "open_rv_24m float64\n",
      "max_bal_bc float64\n"
     ]
    },
    {
     "data": {
      "text/html": [
       "<div>\n",
       "<style scoped>\n",
       "    .dataframe tbody tr th:only-of-type {\n",
       "        vertical-align: middle;\n",
       "    }\n",
       "\n",
       "    .dataframe tbody tr th {\n",
       "        vertical-align: top;\n",
       "    }\n",
       "\n",
       "    .dataframe thead th {\n",
       "        text-align: right;\n",
       "    }\n",
       "</style>\n",
       "<table border=\"1\" class=\"dataframe\">\n",
       "  <thead>\n",
       "    <tr style=\"text-align: right;\">\n",
       "      <th></th>\n",
       "      <th>LoanStatNew</th>\n",
       "      <th>Description</th>\n",
       "    </tr>\n",
       "  </thead>\n",
       "  <tbody>\n",
       "    <tr>\n",
       "      <th>28</th>\n",
       "      <td>il_util</td>\n",
       "      <td>Ratio of total current balance to high credit/credit limit on all install acct</td>\n",
       "    </tr>\n",
       "    <tr>\n",
       "      <th>43</th>\n",
       "      <td>max_bal_bc</td>\n",
       "      <td>Maximum current balance owed on all revolving accounts</td>\n",
       "    </tr>\n",
       "    <tr>\n",
       "      <th>78</th>\n",
       "      <td>open_rv_12m</td>\n",
       "      <td>Number of revolving trades opened in past 12 months</td>\n",
       "    </tr>\n",
       "    <tr>\n",
       "      <th>79</th>\n",
       "      <td>open_rv_24m</td>\n",
       "      <td>Number of revolving trades opened in past 24 months</td>\n",
       "    </tr>\n",
       "    <tr>\n",
       "      <th>101</th>\n",
       "      <td>total_bal_il</td>\n",
       "      <td>Total current balance of all installment accounts</td>\n",
       "    </tr>\n",
       "  </tbody>\n",
       "</table>\n",
       "</div>"
      ],
      "text/plain": [
       "      LoanStatNew  \\\n",
       "28        il_util   \n",
       "43     max_bal_bc   \n",
       "78    open_rv_12m   \n",
       "79    open_rv_24m   \n",
       "101  total_bal_il   \n",
       "\n",
       "                                                                        Description  \n",
       "28   Ratio of total current balance to high credit/credit limit on all install acct  \n",
       "43                           Maximum current balance owed on all revolving accounts  \n",
       "78                              Number of revolving trades opened in past 12 months  \n",
       "79                              Number of revolving trades opened in past 24 months  \n",
       "101                               Total current balance of all installment accounts  "
      ]
     },
     "execution_count": 95,
     "metadata": {},
     "output_type": "execute_result"
    }
   ],
   "source": [
    "# Moving to next 4 columns\n",
    "print(loan_data.iloc[:6,49:54])\n",
    "for y in loan_data.columns[49:54]:\n",
    "  print(y, loan_data[y].dtype)\n",
    "loan_dict.loc[loan_dict['LoanStatNew'].isin(list(loan_data.columns.values[49:54]))]"
   ]
  },
  {
   "cell_type": "code",
   "execution_count": 96,
   "metadata": {},
   "outputs": [
    {
     "data": {
      "text/plain": [
       "array([ 549316.,  140492.,   24644., ..., 1134022.,  504366.,  315577.])"
      ]
     },
     "execution_count": 96,
     "metadata": {},
     "output_type": "execute_result"
    }
   ],
   "source": [
    "# The datatypes of all of them look good. May need to change the type to int for tot_cur_bal\n",
    "loan_data['tot_cur_bal'].unique()"
   ]
  },
  {
   "cell_type": "code",
   "execution_count": 97,
   "metadata": {},
   "outputs": [
    {
     "data": {
      "text/plain": [
       "array([ 549316,  140492,   24644, ..., 1134022,  504366,  315577])"
      ]
     },
     "execution_count": 97,
     "metadata": {},
     "output_type": "execute_result"
    }
   ],
   "source": [
    "# Converting tot_cur_bal to int as it won't do any harm\n",
    "loan_data[['tot_cur_bal']] = loan_data[['tot_cur_bal']].applymap(lambda x: 0 if pd.isnull(x) else x)\n",
    "loan_data['tot_cur_bal'].unique()\n",
    "loan_data[['tot_cur_bal']] = loan_data[['tot_cur_bal']].astype(int)\n",
    "loan_data['tot_cur_bal'].unique()"
   ]
  },
  {
   "cell_type": "code",
   "execution_count": 98,
   "metadata": {},
   "outputs": [],
   "source": [
    "# Convert all nan/na to 0.\n",
    "loan_data[['open_acc_6m']] = loan_data[['open_acc_6m']].applymap(lambda x: 0 if pd.isnull(x) else x)\n",
    "loan_data[['open_act_il']] = loan_data[['open_act_il']].applymap(lambda x: 0 if pd.isnull(x) else x)\n",
    "loan_data[['open_il_12m']] = loan_data[['open_il_12m']].applymap(lambda x: 0 if pd.isnull(x) else x)\n",
    "loan_data[['open_il_24m']] = loan_data[['open_il_24m']].applymap(lambda x: 0 if pd.isnull(x) else x)\n",
    "# Coverting to int\n",
    "loan_data[['open_acc_6m']] = loan_data[['open_acc_6m']].astype(int)\n",
    "loan_data[['open_act_il']] = loan_data[['open_act_il']].astype(int)\n",
    "loan_data[['open_il_12m']] = loan_data[['open_il_12m']].astype(int)\n",
    "loan_data[['open_il_24m']] = loan_data[['open_il_24m']].astype(int)"
   ]
  },
  {
   "cell_type": "code",
   "execution_count": 99,
   "metadata": {},
   "outputs": [
    {
     "name": "stdout",
     "output_type": "stream",
     "text": [
      "[ 0  3  1  2  5  4  8  7  6 11 10  9 13 12 16 14 15 18 17]\n",
      "[ 2  1  0  3  5  6  4  7  8 10  9 11 12 13 15 14 20 21 25]\n",
      "[ 3  1  0  2  5  7  4  6 12  8 13 11  9 10 15 14 16 26 20 22 21 23 17 18\n",
      " 19 30 39 24 31 28 51]\n",
      "[ 2 10  1  4  0  3  5 17  7 12  9 11  8 15  6 27 16 14 20 13 21 18 22 19\n",
      " 32 26 34 23 30 24 29 35 36 28 31 25 40 33 43 39 37 45 38 53 47 55 42 57\n",
      " 41 46 48]\n",
      "[ 549316  140492   24644 ... 1134022  504366  315577]\n"
     ]
    }
   ],
   "source": [
    "# Now print to see if there is anything I missed.\n",
    "print(loan_data['open_acc_6m'].unique())\n",
    "print(loan_data['open_il_12m'].unique())\n",
    "print(loan_data['open_il_24m'].unique())\n",
    "print(loan_data['open_act_il'].unique())\n",
    "print(loan_data['tot_cur_bal'].unique())"
   ]
  },
  {
   "cell_type": "code",
   "execution_count": 100,
   "metadata": {},
   "outputs": [
    {
     "name": "stdout",
     "output_type": "stream",
     "text": [
      "   acc_open_past_24mths  avg_cur_bal  bc_open_to_buy  bc_util  \\\n",
      "0                   7.0      34332.0         68269.0     11.7   \n",
      "1                   7.0       6386.0          9645.0     73.1   \n",
      "2                   3.0       2464.0          4764.0     60.6   \n",
      "3                   2.0       2445.0          3860.0     44.9   \n",
      "4                   1.0        644.0          1015.0     61.0   \n",
      "5                   3.0       6896.0          4890.0     40.4   \n",
      "\n",
      "   chargeoff_within_12_mths  \n",
      "0                         0  \n",
      "1                         0  \n",
      "2                         0  \n",
      "3                         0  \n",
      "4                         0  \n",
      "5                         0  \n",
      "acc_open_past_24mths float64\n",
      "avg_cur_bal float64\n",
      "bc_open_to_buy float64\n",
      "bc_util float64\n",
      "chargeoff_within_12_mths int64\n"
     ]
    },
    {
     "data": {
      "text/html": [
       "<div>\n",
       "<style scoped>\n",
       "    .dataframe tbody tr th:only-of-type {\n",
       "        vertical-align: middle;\n",
       "    }\n",
       "\n",
       "    .dataframe tbody tr th {\n",
       "        vertical-align: top;\n",
       "    }\n",
       "\n",
       "    .dataframe thead th {\n",
       "        text-align: right;\n",
       "    }\n",
       "</style>\n",
       "<table border=\"1\" class=\"dataframe\">\n",
       "  <thead>\n",
       "    <tr style=\"text-align: right;\">\n",
       "      <th></th>\n",
       "      <th>LoanStatNew</th>\n",
       "      <th>Description</th>\n",
       "    </tr>\n",
       "  </thead>\n",
       "  <tbody>\n",
       "    <tr>\n",
       "      <th>1</th>\n",
       "      <td>acc_open_past_24mths</td>\n",
       "      <td>Number of trades opened in past 24 months.</td>\n",
       "    </tr>\n",
       "    <tr>\n",
       "      <th>7</th>\n",
       "      <td>avg_cur_bal</td>\n",
       "      <td>Average current balance of all accounts</td>\n",
       "    </tr>\n",
       "    <tr>\n",
       "      <th>8</th>\n",
       "      <td>bc_open_to_buy</td>\n",
       "      <td>Total open to buy on revolving bankcards.</td>\n",
       "    </tr>\n",
       "    <tr>\n",
       "      <th>9</th>\n",
       "      <td>bc_util</td>\n",
       "      <td>Ratio of total current balance to high credit/credit limit for all bankcard accounts.</td>\n",
       "    </tr>\n",
       "    <tr>\n",
       "      <th>10</th>\n",
       "      <td>chargeoff_within_12_mths</td>\n",
       "      <td>Number of charge-offs within 12 months</td>\n",
       "    </tr>\n",
       "  </tbody>\n",
       "</table>\n",
       "</div>"
      ],
      "text/plain": [
       "                 LoanStatNew  \\\n",
       "1       acc_open_past_24mths   \n",
       "7                avg_cur_bal   \n",
       "8             bc_open_to_buy   \n",
       "9                    bc_util   \n",
       "10  chargeoff_within_12_mths   \n",
       "\n",
       "                                                                              Description  \n",
       "1                                              Number of trades opened in past 24 months.  \n",
       "7                                                 Average current balance of all accounts  \n",
       "8                                               Total open to buy on revolving bankcards.  \n",
       "9   Ratio of total current balance to high credit/credit limit for all bankcard accounts.  \n",
       "10                                                 Number of charge-offs within 12 months  "
      ]
     },
     "execution_count": 100,
     "metadata": {},
     "output_type": "execute_result"
    }
   ],
   "source": [
    "# Moving to next 4 columns\n",
    "print(loan_data.iloc[:6,59:64])\n",
    "for y in loan_data.columns[59:64]:\n",
    "  print(y, loan_data[y].dtype)\n",
    "loan_dict.loc[loan_dict['LoanStatNew'].isin(list(loan_data.columns.values[59:64]))]"
   ]
  },
  {
   "cell_type": "code",
   "execution_count": 101,
   "metadata": {},
   "outputs": [],
   "source": [
    "# Convert nan/na to 0\n",
    "loan_data[['max_bal_bc']] = loan_data[['max_bal_bc']].applymap(lambda x: 0 if pd.isnull(x) else x)\n",
    "loan_data[['all_util']] = loan_data[['all_util']].applymap(lambda x: 0 if pd.isnull(x) else x)\n",
    "loan_data[['total_rev_hi_lim']] = loan_data[['total_rev_hi_lim']].applymap(lambda x: 0 if pd.isnull(x) else x)\n",
    "loan_data[['inq_fi']] = loan_data[['inq_fi']].applymap(lambda x: 0 if pd.isnull(x) else x)\n",
    "loan_data[['total_cu_tl']] = loan_data[['total_cu_tl']].applymap(lambda x: 0 if pd.isnull(x) else x)\n",
    "# all of these should be int type\n",
    "loan_data[['max_bal_bc']] = loan_data[['max_bal_bc']].astype(int)\n",
    "loan_data[['all_util']] = loan_data[['all_util']].astype(int)\n",
    "loan_data[['total_rev_hi_lim']] = loan_data[['total_rev_hi_lim']].astype(int)\n",
    "loan_data[['inq_fi']] = loan_data[['inq_fi']].astype(int)\n",
    "loan_data[['total_cu_tl']] = loan_data[['total_cu_tl']].astype(int)"
   ]
  },
  {
   "cell_type": "code",
   "execution_count": 102,
   "metadata": {},
   "outputs": [
    {
     "name": "stdout",
     "output_type": "stream",
     "text": [
      "[ 8713 14612  3695 ... 37069 41500 25858]\n",
      "[ 18  83  76  55  32  44  77  51  34  28  63  53  70  59  78  71  46  52\n",
      "  56  75  57  91  60  88 103  37  48  45  67  89  94  61  58  27  40  66\n",
      "  49  47  14  80  26  35 115  96 104  38  30  43  33  62  65  87  85  82\n",
      " 128  90  72  79 114  42  74  68 102  22  29  19  21  64  54  84  50  41\n",
      "  23  93  92  13  69  81  39  86   3   9 101  31 105  24  73  36  25 117\n",
      "  12  16  95   8  99  98   5  15 121  11 108   2   0 118 110   6  97  10\n",
      " 109 113  17 112 106  20 116   4 107   1   7 148 100 133 127 139 126 149\n",
      " 129 120 124 131 122 111 130 119 123 125 151 137 132 161 136 134 153 146\n",
      " 135 156 140 142 184 145 152 141 185 173 143 165 138 158 144 160 147 168\n",
      " 162 177 186 175 154 150 157 172 171 155 211 164 169 198 170 167 204]\n",
      "[102800  39000  14100 ...  42032  62105 113549]\n",
      "[ 4  1  2  0  5  3  9  8  7  6 10 11 17 12 16 13 14 19 15 18 25 20 24 23\n",
      " 22 27 21 48 28]\n",
      "[  3   6   0   4   2   5   1   9   7  12  40  23  17  11  10  16   8  24\n",
      "  14  13  19  29  21  15  18  28  22  34  20  45  30  26  38  25  27  32\n",
      "  37  48  49  33  35  31  42  51  71  68  36  39  52  56  54  55  43  41\n",
      "  44  65  46  77  60  47  79 111]\n"
     ]
    }
   ],
   "source": [
    "# And print\n",
    "print(loan_data['max_bal_bc'].unique())\n",
    "print(loan_data['all_util'].unique())\n",
    "print(loan_data['total_rev_hi_lim'].unique())\n",
    "print(loan_data['inq_fi'].unique())\n",
    "print(loan_data['total_cu_tl'].unique())"
   ]
  },
  {
   "cell_type": "code",
   "execution_count": 103,
   "metadata": {},
   "outputs": [
    {
     "name": "stdout",
     "output_type": "stream",
     "text": [
      "   delinq_amnt  mo_sin_old_il_acct  mo_sin_old_rev_tl_op  \\\n",
      "0            0               143.0                 172.0   \n",
      "1            0               157.0                 248.0   \n",
      "2            0                 8.0                  59.0   \n",
      "3            0               126.0                  21.0   \n",
      "4            0               111.0                 151.0   \n",
      "5            0               216.0                 361.0   \n",
      "\n",
      "   mo_sin_rcnt_rev_tl_op  mo_sin_rcnt_tl  \n",
      "0                   17.0             7.0  \n",
      "1                    4.0             4.0  \n",
      "2                    3.0             3.0  \n",
      "3                    2.0             2.0  \n",
      "4                    3.0             3.0  \n",
      "5                    2.0             2.0  \n",
      "delinq_amnt int64\n",
      "mo_sin_old_il_acct float64\n",
      "mo_sin_old_rev_tl_op float64\n",
      "mo_sin_rcnt_rev_tl_op float64\n",
      "mo_sin_rcnt_tl float64\n"
     ]
    },
    {
     "data": {
      "text/html": [
       "<div>\n",
       "<style scoped>\n",
       "    .dataframe tbody tr th:only-of-type {\n",
       "        vertical-align: middle;\n",
       "    }\n",
       "\n",
       "    .dataframe tbody tr th {\n",
       "        vertical-align: top;\n",
       "    }\n",
       "\n",
       "    .dataframe thead th {\n",
       "        text-align: right;\n",
       "    }\n",
       "</style>\n",
       "<table border=\"1\" class=\"dataframe\">\n",
       "  <thead>\n",
       "    <tr style=\"text-align: right;\">\n",
       "      <th></th>\n",
       "      <th>LoanStatNew</th>\n",
       "      <th>Description</th>\n",
       "    </tr>\n",
       "  </thead>\n",
       "  <tbody>\n",
       "    <tr>\n",
       "      <th>14</th>\n",
       "      <td>delinq_amnt</td>\n",
       "      <td>The past-due amount owed for the accounts on which the borrower is now delinquent.</td>\n",
       "    </tr>\n",
       "    <tr>\n",
       "      <th>45</th>\n",
       "      <td>mo_sin_old_il_acct</td>\n",
       "      <td>Months since oldest bank installment account opened</td>\n",
       "    </tr>\n",
       "    <tr>\n",
       "      <th>46</th>\n",
       "      <td>mo_sin_old_rev_tl_op</td>\n",
       "      <td>Months since oldest revolving account opened</td>\n",
       "    </tr>\n",
       "    <tr>\n",
       "      <th>47</th>\n",
       "      <td>mo_sin_rcnt_rev_tl_op</td>\n",
       "      <td>Months since most recent revolving account opened</td>\n",
       "    </tr>\n",
       "    <tr>\n",
       "      <th>48</th>\n",
       "      <td>mo_sin_rcnt_tl</td>\n",
       "      <td>Months since most recent account opened</td>\n",
       "    </tr>\n",
       "  </tbody>\n",
       "</table>\n",
       "</div>"
      ],
      "text/plain": [
       "              LoanStatNew  \\\n",
       "14            delinq_amnt   \n",
       "45     mo_sin_old_il_acct   \n",
       "46   mo_sin_old_rev_tl_op   \n",
       "47  mo_sin_rcnt_rev_tl_op   \n",
       "48         mo_sin_rcnt_tl   \n",
       "\n",
       "                                                                           Description  \n",
       "14  The past-due amount owed for the accounts on which the borrower is now delinquent.  \n",
       "45                                 Months since oldest bank installment account opened  \n",
       "46                                        Months since oldest revolving account opened  \n",
       "47                                   Months since most recent revolving account opened  \n",
       "48                                             Months since most recent account opened  "
      ]
     },
     "execution_count": 103,
     "metadata": {},
     "output_type": "execute_result"
    }
   ],
   "source": [
    "# Moving to next 4 columns\n",
    "print(loan_data.iloc[:6,64:69])\n",
    "for y in loan_data.columns[64:69]:\n",
    "  print(y, loan_data[y].dtype)\n",
    "loan_dict.loc[loan_dict['LoanStatNew'].isin(list(loan_data.columns.values[64:69]))]"
   ]
  },
  {
   "cell_type": "code",
   "execution_count": 104,
   "metadata": {},
   "outputs": [
    {
     "name": "stdout",
     "output_type": "stream",
     "text": [
      "[ 7  3  2  1  4 10  0  5 12  8  6 11 13  9 15 14 17 16 27 18 19 35 21 23\n",
      " 22 20 28 25 30 26 29 24 32 39 48 34 61 33 31 45 36 40 37 42 50 64 47 41\n",
      " 38 55 46 53 44 54 43 49 56]\n",
      "[34332  6386  2464 ... 73879 57694 94162]\n",
      "[68269  9645  4764 ... 59525 69496 47424]\n",
      "[ 3  0  6  1  7  2  4 17  5 13  8 15  9 11 12 10 16 24 14 22 18 21 20 19\n",
      " 29 25 23 27 28 26 34 40 33 30 31 32 38 42 36 37 35 41 49]\n"
     ]
    }
   ],
   "source": [
    "# Convert nan/na to 0\n",
    "loan_data[['acc_open_past_24mths']] = loan_data[['acc_open_past_24mths']].applymap(lambda x: 0 if pd.isnull(x) else x)\n",
    "loan_data[['avg_cur_bal']] = loan_data[['avg_cur_bal']].applymap(lambda x: 0 if pd.isnull(x) else x)\n",
    "loan_data[['bc_open_to_buy']] = loan_data[['bc_open_to_buy']].applymap(lambda x: 0 if pd.isnull(x) else x)\n",
    "loan_data[['inq_last_12m']] = loan_data[['inq_last_12m']].applymap(lambda x: 0 if pd.isnull(x) else x)\n",
    "# Other than bc_util, everything can be int.\n",
    "loan_data[['acc_open_past_24mths']] = loan_data[['acc_open_past_24mths']].astype(int)\n",
    "loan_data[['avg_cur_bal']] = loan_data[['avg_cur_bal']].astype(int)\n",
    "loan_data[['bc_open_to_buy']] = loan_data[['bc_open_to_buy']].astype(int)\n",
    "loan_data[['inq_last_12m']] = loan_data[['inq_last_12m']].astype(int)\n",
    "\n",
    "print(loan_data['acc_open_past_24mths'].unique())\n",
    "print(loan_data['avg_cur_bal'].unique())\n",
    "print(loan_data['bc_open_to_buy'].unique())\n",
    "print(loan_data['inq_last_12m'].unique())"
   ]
  },
  {
   "cell_type": "code",
   "execution_count": 105,
   "metadata": {},
   "outputs": [
    {
     "name": "stdout",
     "output_type": "stream",
     "text": [
      "   mort_acc  mths_since_recent_bc  mths_since_recent_bc_dlq\n",
      "0       2.0                  68.0                       NaN\n",
      "1       0.0                   4.0                       7.0\n",
      "2       0.0                   3.0                      17.0\n",
      "3       0.0                   2.0                       NaN\n",
      "4       0.0                  41.0                       NaN\n",
      "5       5.0                   2.0                       NaN\n",
      "mort_acc float64\n",
      "mths_since_recent_bc float64\n",
      "mths_since_recent_bc_dlq float64\n"
     ]
    },
    {
     "data": {
      "text/html": [
       "<div>\n",
       "<style scoped>\n",
       "    .dataframe tbody tr th:only-of-type {\n",
       "        vertical-align: middle;\n",
       "    }\n",
       "\n",
       "    .dataframe tbody tr th {\n",
       "        vertical-align: top;\n",
       "    }\n",
       "\n",
       "    .dataframe thead th {\n",
       "        text-align: right;\n",
       "    }\n",
       "</style>\n",
       "<table border=\"1\" class=\"dataframe\">\n",
       "  <thead>\n",
       "    <tr style=\"text-align: right;\">\n",
       "      <th></th>\n",
       "      <th>LoanStatNew</th>\n",
       "      <th>Description</th>\n",
       "    </tr>\n",
       "  </thead>\n",
       "  <tbody>\n",
       "    <tr>\n",
       "      <th>49</th>\n",
       "      <td>mort_acc</td>\n",
       "      <td>Number of mortgage accounts.</td>\n",
       "    </tr>\n",
       "    <tr>\n",
       "      <th>54</th>\n",
       "      <td>mths_since_recent_bc</td>\n",
       "      <td>Months since most recent bankcard account opened.</td>\n",
       "    </tr>\n",
       "    <tr>\n",
       "      <th>55</th>\n",
       "      <td>mths_since_recent_bc_dlq</td>\n",
       "      <td>Months since most recent bankcard delinquency</td>\n",
       "    </tr>\n",
       "  </tbody>\n",
       "</table>\n",
       "</div>"
      ],
      "text/plain": [
       "                 LoanStatNew  \\\n",
       "49                  mort_acc   \n",
       "54      mths_since_recent_bc   \n",
       "55  mths_since_recent_bc_dlq   \n",
       "\n",
       "                                          Description  \n",
       "49                       Number of mortgage accounts.  \n",
       "54  Months since most recent bankcard account opened.  \n",
       "55      Months since most recent bankcard delinquency  "
      ]
     },
     "execution_count": 105,
     "metadata": {},
     "output_type": "execute_result"
    }
   ],
   "source": [
    "# Moving to next columns\n",
    "print(loan_data.iloc[:6,69:72])\n",
    "for y in loan_data.columns[69:72]:\n",
    "  print(y, loan_data[y].dtype)\n",
    "loan_dict.loc[loan_dict['LoanStatNew'].isin(list(loan_data.columns.values[69:72]))]"
   ]
  },
  {
   "cell_type": "code",
   "execution_count": 106,
   "metadata": {},
   "outputs": [
    {
     "data": {
      "text/plain": [
       "array([ 3,  0,  6,  1,  7,  2,  4, 17,  5, 13,  8, 15,  9, 11, 12, 10, 16,\n",
       "       24, 14, 22, 18, 21, 20, 19, 29, 25, 23, 27, 28, 26, 34, 40, 33, 30,\n",
       "       31, 32, 38, 42, 36, 37, 35, 41, 49])"
      ]
     },
     "execution_count": 106,
     "metadata": {},
     "output_type": "execute_result"
    }
   ],
   "source": [
    "# Converting mo_sin_old_il_acct to int\n",
    "loan_data[['inq_last_12m']] = loan_data[['inq_last_12m']].astype(int)\n",
    "loan_data['inq_last_12m'].unique()"
   ]
  },
  {
   "cell_type": "code",
   "execution_count": 107,
   "metadata": {},
   "outputs": [
    {
     "name": "stdout",
     "output_type": "stream",
     "text": [
      "   mths_since_recent_inq  mths_since_recent_revol_delinq  \\\n",
      "0                    2.0                             NaN   \n",
      "1                   22.0                             7.0   \n",
      "2                    1.0                            17.0   \n",
      "3                    5.0                             NaN   \n",
      "4                    3.0                             NaN   \n",
      "5                   11.0                            16.0   \n",
      "\n",
      "   num_accts_ever_120_pd  num_actv_bc_tl  \n",
      "0                    0.0             2.0  \n",
      "1                    0.0             5.0  \n",
      "2                    1.0             5.0  \n",
      "3                    8.0             1.0  \n",
      "4                    0.0             1.0  \n",
      "5                    0.0             2.0  \n",
      "mths_since_recent_inq float64\n",
      "mths_since_recent_revol_delinq float64\n",
      "num_accts_ever_120_pd float64\n",
      "num_actv_bc_tl float64\n"
     ]
    },
    {
     "data": {
      "text/html": [
       "<div>\n",
       "<style scoped>\n",
       "    .dataframe tbody tr th:only-of-type {\n",
       "        vertical-align: middle;\n",
       "    }\n",
       "\n",
       "    .dataframe tbody tr th {\n",
       "        vertical-align: top;\n",
       "    }\n",
       "\n",
       "    .dataframe thead th {\n",
       "        text-align: right;\n",
       "    }\n",
       "</style>\n",
       "<table border=\"1\" class=\"dataframe\">\n",
       "  <thead>\n",
       "    <tr style=\"text-align: right;\">\n",
       "      <th></th>\n",
       "      <th>LoanStatNew</th>\n",
       "      <th>Description</th>\n",
       "    </tr>\n",
       "  </thead>\n",
       "  <tbody>\n",
       "    <tr>\n",
       "      <th>56</th>\n",
       "      <td>mths_since_recent_inq</td>\n",
       "      <td>Months since most recent inquiry.</td>\n",
       "    </tr>\n",
       "    <tr>\n",
       "      <th>57</th>\n",
       "      <td>mths_since_recent_revol_delinq</td>\n",
       "      <td>Months since most recent revolving delinquency.</td>\n",
       "    </tr>\n",
       "    <tr>\n",
       "      <th>59</th>\n",
       "      <td>num_accts_ever_120_pd</td>\n",
       "      <td>Number of accounts ever 120 or more days past due</td>\n",
       "    </tr>\n",
       "    <tr>\n",
       "      <th>60</th>\n",
       "      <td>num_actv_bc_tl</td>\n",
       "      <td>Number of currently active bankcard accounts</td>\n",
       "    </tr>\n",
       "  </tbody>\n",
       "</table>\n",
       "</div>"
      ],
      "text/plain": [
       "                       LoanStatNew  \\\n",
       "56           mths_since_recent_inq   \n",
       "57  mths_since_recent_revol_delinq   \n",
       "59           num_accts_ever_120_pd   \n",
       "60                  num_actv_bc_tl   \n",
       "\n",
       "                                          Description  \n",
       "56                  Months since most recent inquiry.  \n",
       "57    Months since most recent revolving delinquency.  \n",
       "59  Number of accounts ever 120 or more days past due  \n",
       "60       Number of currently active bankcard accounts  "
      ]
     },
     "execution_count": 107,
     "metadata": {},
     "output_type": "execute_result"
    }
   ],
   "source": [
    "# Moving to next columns\n",
    "print(loan_data.iloc[:6,72:76])\n",
    "for y in loan_data.columns[72:76]:\n",
    "  print(y, loan_data[y].dtype)\n",
    "loan_dict.loc[loan_dict['LoanStatNew'].isin(list(loan_data.columns.values[72:76]))]"
   ]
  },
  {
   "cell_type": "code",
   "execution_count": 108,
   "metadata": {},
   "outputs": [
    {
     "name": "stdout",
     "output_type": "stream",
     "text": [
      "[  7   4   3   2   1   0  28  16   5  14   8  26   6  15  13  53  25  17\n",
      "  31   9  45  34  36  11  32  35  10  19  18  37  12  20  21  38  23  50\n",
      "  40  39  33  62  24 107  22  27  47  48  90  29  43  66  49  52  42  30\n",
      "  61 129  41  44  71 101  76  56  46  78  63  58 100  86  51  54 120  70\n",
      "  77 108 170  72  73  98 103  97  60 112  59  69 131  65  64 143  88  55\n",
      "  87  57  67  83  68  92 148  95 171  75  96  79  74  80  93  81 132 105\n",
      " 104  82 161  89  91 117  84 102  94 114 141 268  85 106 147  99 116 118\n",
      " 110 125 123 113 115 134 109 122 119 130 111 135 195 124 157 139 121 153\n",
      " 126 145 137 128 152 175 140 211 127 174 180 166 192 146 133 150 197 176\n",
      " 158 136 142 138 154 263 164 181 160 184 167 186 236 151 144 199 149 165\n",
      " 156 194 155 226 173 233 159 183 314 213 219 168 196 253 172 248 206 201\n",
      " 257 255 272 283 177 169 210 162 289]\n",
      "[ 2  0  5  4  1  3  6  7  8  9 12 10 13 11 15 30 24 14 20 17 45 29 16 19\n",
      " 21 18 23 31 27 25 22 35 32 47 26 52 34 28 33 36 37 61 41 94 51]\n",
      "[ 68   4   3   2  41  33   1   5  31  25  44  19   6  50   0  14  17  90\n",
      "  13  10 118  18  22  53  15  29  36  32  83  26  24  45 184  99  77   9\n",
      "  12 104   8  70  42  47  11  35  28  16  92  48  37  23  66  21   7  30\n",
      " 100  20  38  75  43  73  40 316  82 119  27  72 392  51 196  87  62  58\n",
      "  81  60  57  54 110  61 111  49  56  34  65  88  39 128 221 117 150 138\n",
      " 121 130 201 114 106  85  86  79  46 105 194 143 115  91 133  59 112 101\n",
      "  89  95 103  55  94  64  71 157  63 180 195  74 158 135 109 154  80  96\n",
      " 140  97 320  98 137  52 102 120 360 218 175 148 257 129 193 262  67 107\n",
      " 108  84  76 123 199 246 168 225 124 177 189 127  69 116 125 202 122 163\n",
      " 134  93 170 145 233 267 243 270 231 222 156 216 126 139 211 186 160  78\n",
      " 250 213 144 259 149 397 172 378 182 132 153 171 136 239 210 273 141 113\n",
      " 161 190 178 207 164 167 228 375 174 235 198 236 151 277 402 373 192 264\n",
      " 165 169 162 240 197 209 155 230 181 183 159 185 131 173 179 187 176 142\n",
      " 312 241 166 343 191 305 266 146 377 254 336 311 147 206 313 276 282 317\n",
      " 208 204 348 281 152 287 431 249 234 232 292 214 381 261 188 205 458 426\n",
      " 252 256 294 224 203 265 314 324 258 404 291 345 253 272 364 245 330 307\n",
      " 226 255 215 251 244 248 220 299 200 302 217 420 219 242 321 238 293 268\n",
      " 463 271 384 227 229 318 319 247 309 354 297 223 401 269 304 274 435 339\n",
      " 346 546 349 275 327 512 260 263 212 279 403 356 295 310 357 237 296 383\n",
      " 278 332 331 289 334 325 400 553 326 323 315 306 450 380 499 329 410 328\n",
      " 449 351 353 280 521 363 407 288 447 300 523 350 358 388 474 347 335 555\n",
      " 283 459 502 290 386 303 398 285 284 417 554 361 493 301 342 527 416 538\n",
      " 338 298 412 362 359 413 308 333 387 341 344 524 369 419 425 368 340 394\n",
      " 379 352 462 451 337 376 322 485 483 367 473 534 286 610 498 467 454 552\n",
      " 440 389 466 429 604 484 422 370 518 615 427 507 476 395 415 464 475 399\n",
      " 444 611 488 441 408 461 396 470 608 366 382 385 372 391 390 510 436 533\n",
      " 616 424 500 365 480 371 491 393 504 455 423 421 445 570 520 539 409 374\n",
      " 513 432 418 481 591 656 547 439 434 405 551 594 453 406 564 355 506 537\n",
      " 438 414 577 457 639 472]\n",
      "[  0   7  17  22  44  13   3  27  48  28  57  90  79   4  29  19  26  42\n",
      "  36  52   8  38  34   5  24  10  72  32  56  61  11  37  33  23  81  74\n",
      "  70  76  64  50  40  43  20  49  45  18  41  63  35  15  75  12   9  62\n",
      "  71  58  14  80   6  59  67  78  66  47  21  31   1  46  16  55  83  30\n",
      "  25  68  39  51 100  69  53  54  65   2  60 162  73  77  93 112  88  84\n",
      "  89  95  98  82  99  86 104 105  91  87  94 120  92  96  85 107 142 137\n",
      " 125 121 108 131 118 110 116 102  97 130 144 134 111 127 103 101 119 149\n",
      " 123 113 124 114 146 117 136 161 145 115 129 109 126 106 158 157 122 143\n",
      " 152 189 153 133 154 170 186 141 195 132 148 140 128 138 165 176 139 155\n",
      " 135 151 159 150 202 156 160 188 174]\n"
     ]
    }
   ],
   "source": [
    "# Convert nan/na to 0\n",
    "loan_data[['mo_sin_rcnt_tl']] = loan_data[['mo_sin_rcnt_tl']].applymap(lambda x: 0 if pd.isnull(x) else x)\n",
    "loan_data[['mort_acc']] = loan_data[['mort_acc']].applymap(lambda x: 0 if pd.isnull(x) else x)\n",
    "loan_data[['mths_since_recent_bc']] = loan_data[['mths_since_recent_bc']].applymap(lambda x: 0 if pd.isnull(x) else x)\n",
    "loan_data[['mths_since_recent_bc_dlq']] = loan_data[['mths_since_recent_bc_dlq']].applymap(lambda x: 0 if pd.isnull(x) else x)\n",
    "# Converting all of them to int\n",
    "loan_data[['mo_sin_rcnt_tl']] = loan_data[['mo_sin_rcnt_tl']].astype(int)\n",
    "loan_data[['mort_acc']] = loan_data[['mort_acc']].astype(int)\n",
    "loan_data[['mths_since_recent_bc']] = loan_data[['mths_since_recent_bc']].astype(int)\n",
    "loan_data[['mths_since_recent_bc_dlq']] = loan_data[['mths_since_recent_bc_dlq']].astype(int)\n",
    "\n",
    "print(loan_data['mo_sin_rcnt_tl'].unique())\n",
    "print(loan_data['mort_acc'].unique())\n",
    "print(loan_data['mths_since_recent_bc'].unique())\n",
    "print(loan_data['mths_since_recent_bc_dlq'].unique())"
   ]
  },
  {
   "cell_type": "code",
   "execution_count": 109,
   "metadata": {},
   "outputs": [
    {
     "name": "stdout",
     "output_type": "stream",
     "text": [
      "   num_actv_rev_tl  num_bc_sats\n",
      "0              2.0          9.0\n",
      "1              9.0          6.0\n",
      "2              8.0          5.0\n",
      "3              1.0          2.0\n",
      "4              2.0          2.0\n",
      "5              4.0          3.0\n",
      "num_actv_rev_tl float64\n",
      "num_bc_sats float64\n"
     ]
    },
    {
     "data": {
      "text/html": [
       "<div>\n",
       "<style scoped>\n",
       "    .dataframe tbody tr th:only-of-type {\n",
       "        vertical-align: middle;\n",
       "    }\n",
       "\n",
       "    .dataframe tbody tr th {\n",
       "        vertical-align: top;\n",
       "    }\n",
       "\n",
       "    .dataframe thead th {\n",
       "        text-align: right;\n",
       "    }\n",
       "</style>\n",
       "<table border=\"1\" class=\"dataframe\">\n",
       "  <thead>\n",
       "    <tr style=\"text-align: right;\">\n",
       "      <th></th>\n",
       "      <th>LoanStatNew</th>\n",
       "      <th>Description</th>\n",
       "    </tr>\n",
       "  </thead>\n",
       "  <tbody>\n",
       "    <tr>\n",
       "      <th>61</th>\n",
       "      <td>num_actv_rev_tl</td>\n",
       "      <td>Number of currently active revolving trades</td>\n",
       "    </tr>\n",
       "    <tr>\n",
       "      <th>62</th>\n",
       "      <td>num_bc_sats</td>\n",
       "      <td>Number of satisfactory bankcard accounts</td>\n",
       "    </tr>\n",
       "  </tbody>\n",
       "</table>\n",
       "</div>"
      ],
      "text/plain": [
       "        LoanStatNew                                  Description\n",
       "61  num_actv_rev_tl  Number of currently active revolving trades\n",
       "62      num_bc_sats     Number of satisfactory bankcard accounts"
      ]
     },
     "execution_count": 109,
     "metadata": {},
     "output_type": "execute_result"
    }
   ],
   "source": [
    "# Moving to next columns\n",
    "print(loan_data.iloc[:6,76:78])\n",
    "for y in loan_data.columns[76:78]:\n",
    "  print(y, loan_data[y].dtype)\n",
    "loan_dict.loc[loan_dict['LoanStatNew'].isin(list(loan_data.columns.values[76:78]))]"
   ]
  },
  {
   "cell_type": "code",
   "execution_count": 110,
   "metadata": {},
   "outputs": [
    {
     "name": "stdout",
     "output_type": "stream",
     "text": [
      "[ 2 22  1  5  3 11  7  0  9 18 21  6 13  8 10  4 12 15 14 17 20 19 16 23\n",
      " 24 25]\n",
      "[  0   7  17  16  12  22  44  13   3  27   8  48  28  57   4   9  79  11\n",
      "  51  29  58  19  26  23  41  36  52  49  38  34   5  24  10  63  72  32\n",
      "  31  61  47  33  81  74  14  76  64  50  40  43  18  20   2  21  37  35\n",
      "  39   1  15  75  45   6  55  71  69  80  59  78  66  30  25  42  46  83\n",
      "  56  70  53  67  68 100  62  60  54 162  65  93  73  86  77 112  88  92\n",
      "  84  90  94  95  98  82 165 105  91  85  99  87 120 118  96  89 107  97\n",
      " 109 142 104 121 131 102 106 116 134 111 127 123 103 101 119 110 113 108\n",
      " 124 130 149 114 141 132 146 117 115 161 129 126 136 158 137 135 122 156\n",
      " 143 148 152 125 153 157 154 138 170 171 145 133 144 176 139 155 140 180\n",
      " 151 159 150 202 177 128 178 160 197 188 174]\n"
     ]
    }
   ],
   "source": [
    "# Convert nan/na to 0\n",
    "loan_data[['mths_since_recent_inq']] = loan_data[['mths_since_recent_inq']].applymap(lambda x: 0 if pd.isnull(x) else x)\n",
    "loan_data[['mths_since_recent_revol_delinq']] = loan_data[['mths_since_recent_revol_delinq']].applymap(lambda x: 0 if pd.isnull(x) else x)\n",
    "# Converting all of them to int\n",
    "loan_data[['mths_since_recent_inq']] = loan_data[['mths_since_recent_inq']].astype(int)\n",
    "loan_data[['mths_since_recent_revol_delinq']] = loan_data[['mths_since_recent_revol_delinq']].astype(int)\n",
    "\n",
    "print(loan_data['mths_since_recent_inq'].unique())\n",
    "print(loan_data['mths_since_recent_revol_delinq'].unique())"
   ]
  },
  {
   "cell_type": "code",
   "execution_count": 111,
   "metadata": {},
   "outputs": [
    {
     "name": "stdout",
     "output_type": "stream",
     "text": [
      "   num_bc_tl  num_il_tl  num_op_rev_tl  num_rev_accts\n",
      "0       15.0        9.0           14.0           26.0\n",
      "1        7.0       25.0           11.0           18.0\n",
      "2        9.0        1.0            9.0           16.0\n",
      "3        2.0       13.0            2.0            2.0\n",
      "4        6.0        1.0            4.0            9.0\n",
      "5        3.0        4.0            5.0           10.0\n",
      "num_bc_tl float64\n",
      "num_il_tl float64\n",
      "num_op_rev_tl float64\n",
      "num_rev_accts float64\n"
     ]
    },
    {
     "data": {
      "text/html": [
       "<div>\n",
       "<style scoped>\n",
       "    .dataframe tbody tr th:only-of-type {\n",
       "        vertical-align: middle;\n",
       "    }\n",
       "\n",
       "    .dataframe tbody tr th {\n",
       "        vertical-align: top;\n",
       "    }\n",
       "\n",
       "    .dataframe thead th {\n",
       "        text-align: right;\n",
       "    }\n",
       "</style>\n",
       "<table border=\"1\" class=\"dataframe\">\n",
       "  <thead>\n",
       "    <tr style=\"text-align: right;\">\n",
       "      <th></th>\n",
       "      <th>LoanStatNew</th>\n",
       "      <th>Description</th>\n",
       "    </tr>\n",
       "  </thead>\n",
       "  <tbody>\n",
       "    <tr>\n",
       "      <th>63</th>\n",
       "      <td>num_bc_tl</td>\n",
       "      <td>Number of bankcard accounts</td>\n",
       "    </tr>\n",
       "    <tr>\n",
       "      <th>64</th>\n",
       "      <td>num_il_tl</td>\n",
       "      <td>Number of installment accounts</td>\n",
       "    </tr>\n",
       "    <tr>\n",
       "      <th>65</th>\n",
       "      <td>num_op_rev_tl</td>\n",
       "      <td>Number of open revolving accounts</td>\n",
       "    </tr>\n",
       "    <tr>\n",
       "      <th>66</th>\n",
       "      <td>num_rev_accts</td>\n",
       "      <td>Number of revolving accounts</td>\n",
       "    </tr>\n",
       "  </tbody>\n",
       "</table>\n",
       "</div>"
      ],
      "text/plain": [
       "      LoanStatNew                        Description\n",
       "63      num_bc_tl        Number of bankcard accounts\n",
       "64      num_il_tl     Number of installment accounts\n",
       "65  num_op_rev_tl  Number of open revolving accounts\n",
       "66  num_rev_accts       Number of revolving accounts"
      ]
     },
     "execution_count": 111,
     "metadata": {},
     "output_type": "execute_result"
    }
   ],
   "source": [
    "# Moving to next columns\n",
    "print(loan_data.iloc[:6,78:82])\n",
    "for y in loan_data.columns[78:82]:\n",
    "  print(y, loan_data[y].dtype)\n",
    "loan_dict.loc[loan_dict['LoanStatNew'].isin(list(loan_data.columns.values[78:82]))]"
   ]
  },
  {
   "cell_type": "code",
   "execution_count": 112,
   "metadata": {},
   "outputs": [
    {
     "name": "stdout",
     "output_type": "stream",
     "text": [
      "[ 0  1  8  4  3 12  5  6  2 18  9  7 10 11 23 16 34 15 14 13 28 36 17 21\n",
      " 24 19 20 33 25 26 30 22 27 31 35 42 29 39 32 51 45 38]\n",
      "[ 2  5  1  0  7  4 11  3 10  6  8  9 22 12 13 20 16 17 14 15 18 23 19 24\n",
      " 21 26 25 46 47 31 30 27 29 32 28 36 33 37 35]\n",
      "[ 2  9  8  1  4  3  7  6 14  5 16 13 12 10 28 15 18 11 27  0 17 22 30 19\n",
      " 31 23 21 20 25 24 26 32 29 33 41 38 44 46 35 59 39 34 37 57 43 63 36 40\n",
      " 42 47 52 48 60 45 51]\n",
      "[ 9  6  5  2  3  4  1 15 11 10  8 12  7 14 13 22 17  0 24 16 20 18 33 19\n",
      " 23 25 21 27 35 30 26 31 36 32 29 39 38 44 54 34 28 37 61 40 43 55 45 48\n",
      " 57 42 46 63 71 41 49 47 50]\n"
     ]
    }
   ],
   "source": [
    "# Convert nan/na to 0\n",
    "loan_data[['num_accts_ever_120_pd']] = loan_data[['num_accts_ever_120_pd']].applymap(lambda x: 0 if pd.isnull(x) else x)\n",
    "loan_data[['num_actv_bc_tl']] = loan_data[['num_actv_bc_tl']].applymap(lambda x: 0 if pd.isnull(x) else x)\n",
    "loan_data[['num_actv_rev_tl']] = loan_data[['num_actv_rev_tl']].applymap(lambda x: 0 if pd.isnull(x) else x)\n",
    "loan_data[['num_bc_sats']] = loan_data[['num_bc_sats']].applymap(lambda x: 0 if pd.isnull(x) else x)\n",
    "# Converting all of them to int\n",
    "loan_data[['num_accts_ever_120_pd']] = loan_data[['num_accts_ever_120_pd']].astype(int)\n",
    "loan_data[['num_actv_bc_tl']] = loan_data[['num_actv_bc_tl']].astype(int)\n",
    "loan_data[['num_actv_rev_tl']] = loan_data[['num_actv_rev_tl']].astype(int)\n",
    "loan_data[['num_bc_sats']] = loan_data[['num_bc_sats']].astype(int)\n",
    "\n",
    "print(loan_data['num_accts_ever_120_pd'].unique())\n",
    "print(loan_data['num_actv_bc_tl'].unique())\n",
    "print(loan_data['num_actv_rev_tl'].unique())\n",
    "print(loan_data['num_bc_sats'].unique())"
   ]
  },
  {
   "cell_type": "code",
   "execution_count": 113,
   "metadata": {},
   "outputs": [
    {
     "name": "stdout",
     "output_type": "stream",
     "text": [
      "   num_rev_tl_bal_gt_0  num_sats  num_tl_120dpd_2m  num_tl_30dpd  \\\n",
      "0                  2.0      18.0               0.0           0.0   \n",
      "1                  9.0      22.0               0.0           0.0   \n",
      "2                  8.0      10.0               0.0           0.0   \n",
      "3                  1.0       6.0               0.0           0.0   \n",
      "4                  2.0       4.0               0.0           0.0   \n",
      "5                  4.0       9.0               0.0           0.0   \n",
      "\n",
      "   num_tl_90g_dpd_24m  \n",
      "0                 0.0  \n",
      "1                 0.0  \n",
      "2                 2.0  \n",
      "3                 0.0  \n",
      "4                 0.0  \n",
      "5                 0.0  \n",
      "num_rev_tl_bal_gt_0 float64\n",
      "num_sats float64\n",
      "num_tl_120dpd_2m float64\n",
      "num_tl_30dpd float64\n",
      "num_tl_90g_dpd_24m float64\n"
     ]
    },
    {
     "data": {
      "text/html": [
       "<div>\n",
       "<style scoped>\n",
       "    .dataframe tbody tr th:only-of-type {\n",
       "        vertical-align: middle;\n",
       "    }\n",
       "\n",
       "    .dataframe tbody tr th {\n",
       "        vertical-align: top;\n",
       "    }\n",
       "\n",
       "    .dataframe thead th {\n",
       "        text-align: right;\n",
       "    }\n",
       "</style>\n",
       "<table border=\"1\" class=\"dataframe\">\n",
       "  <thead>\n",
       "    <tr style=\"text-align: right;\">\n",
       "      <th></th>\n",
       "      <th>LoanStatNew</th>\n",
       "      <th>Description</th>\n",
       "    </tr>\n",
       "  </thead>\n",
       "  <tbody>\n",
       "    <tr>\n",
       "      <th>67</th>\n",
       "      <td>num_rev_tl_bal_gt_0</td>\n",
       "      <td>Number of revolving trades with balance &gt;0</td>\n",
       "    </tr>\n",
       "    <tr>\n",
       "      <th>68</th>\n",
       "      <td>num_sats</td>\n",
       "      <td>Number of satisfactory accounts</td>\n",
       "    </tr>\n",
       "    <tr>\n",
       "      <th>69</th>\n",
       "      <td>num_tl_120dpd_2m</td>\n",
       "      <td>Number of accounts currently 120 days past due (updated in past 2 months)</td>\n",
       "    </tr>\n",
       "    <tr>\n",
       "      <th>70</th>\n",
       "      <td>num_tl_30dpd</td>\n",
       "      <td>Number of accounts currently 30 days past due (updated in past 2 months)</td>\n",
       "    </tr>\n",
       "    <tr>\n",
       "      <th>71</th>\n",
       "      <td>num_tl_90g_dpd_24m</td>\n",
       "      <td>Number of accounts 90 or more days past due in last 24 months</td>\n",
       "    </tr>\n",
       "  </tbody>\n",
       "</table>\n",
       "</div>"
      ],
      "text/plain": [
       "            LoanStatNew  \\\n",
       "67  num_rev_tl_bal_gt_0   \n",
       "68             num_sats   \n",
       "69     num_tl_120dpd_2m   \n",
       "70         num_tl_30dpd   \n",
       "71   num_tl_90g_dpd_24m   \n",
       "\n",
       "                                                                  Description  \n",
       "67                                 Number of revolving trades with balance >0  \n",
       "68                                            Number of satisfactory accounts  \n",
       "69  Number of accounts currently 120 days past due (updated in past 2 months)  \n",
       "70   Number of accounts currently 30 days past due (updated in past 2 months)  \n",
       "71              Number of accounts 90 or more days past due in last 24 months  "
      ]
     },
     "execution_count": 113,
     "metadata": {},
     "output_type": "execute_result"
    }
   ],
   "source": [
    "# Moving to next columns\n",
    "print(loan_data.iloc[:6,82:87])\n",
    "for y in loan_data.columns[82:87]:\n",
    "  print(y, loan_data[y].dtype)\n",
    "loan_dict.loc[loan_dict['LoanStatNew'].isin(list(loan_data.columns.values[82:87]))]"
   ]
  },
  {
   "cell_type": "code",
   "execution_count": 114,
   "metadata": {},
   "outputs": [
    {
     "name": "stdout",
     "output_type": "stream",
     "text": [
      "[15  7  9  2  6  3  8 18  5 13 10 12  4 19 11 17 14 16 26 22  1 21 25 37\n",
      " 20  0 30 24 23 31 29 34 27 38 28 35 32 33 36 40 48 59 46 52 42 47 44 65\n",
      " 39 41 58 43 67 51 53 45 50 55 49 54 57 61 60 56 70 64 79 68 77 63 76]\n",
      "[  9  25   1  13   4   7  14  10  12   5   6  16   3  17   8  15   2  28\n",
      "  11  27  31  19  18  52   0  30  90  50  32  22  23  48  51  53  26  33\n",
      "  20  21  24  29  87  36  42  34  62  35  39  37  40  43  46  47  56  41\n",
      "  44  61  38  66  57  45  54  49  65  55  73  63  70  60 107  71  58  76\n",
      "  69  59  81  74  72  68  64  75  84  67  78  82  98 104  89  97  91  94\n",
      "  77  86  85  95  80  99 100  83 101 117  96 118 132  79  93  88 131 109\n",
      " 150 113 127 138 121 110 159 102 140 128]\n",
      "[14 11  9  2  4  5  8  3 15 18 10 12  6 13 16  7 17 19 32 21 20 26 22 23\n",
      "  1 25 24 34 29 51 28  0 27 36 44 31 30 33 38 40 41 39 43 79 45 48 37 52\n",
      " 35 56 55 46 76 47 53 42 59 57 54 49 63 65 64 50 58 66 67 83 69 60 62 91\n",
      " 71 61 86 72 77 73]\n",
      "[ 26  18  16   2   9  10   8  11  13  21   3   4  22  19  12  17   7  33\n",
      "  25  20  14  31   6  23  24  40  27  15   5  30  32  41  34  28  67  29\n",
      "  37  42  36  35  39  44  38  52  45  49  43  59  46  54  47  55  61  50\n",
      "  63  66  65  53  51  48  56  62  60  57 104  76  58  64  80  68  73  81\n",
      "  70 100  74  78  84  92  88  69  71  82  77  72  90  85  79  93 113  75\n",
      "  94  91   0   1 118  86  96 102 112  83  87  98 101 128 105  89 108 127\n",
      " 143 107 103]\n",
      "[ 2  9  8  1  4  3  7  6 14  5 16 13 12 10 28 15 18 11 27  0 17 22 30 19\n",
      " 31 23 21 20 25 24 26 32 33 38 29 35 59 34 37 44 43 40 36 39 42 45 41 47]\n"
     ]
    }
   ],
   "source": [
    "# Convert nan/na to 0\n",
    "loan_data[['num_bc_tl']] = loan_data[['num_bc_tl']].applymap(lambda x: 0 if pd.isnull(x) else x)\n",
    "loan_data[['num_il_tl']] = loan_data[['num_il_tl']].applymap(lambda x: 0 if pd.isnull(x) else x)\n",
    "loan_data[['num_op_rev_tl']] = loan_data[['num_op_rev_tl']].applymap(lambda x: 0 if pd.isnull(x) else x)\n",
    "loan_data[['num_rev_accts']] = loan_data[['num_rev_accts']].applymap(lambda x: 0 if pd.isnull(x) else x)\n",
    "loan_data[['num_rev_tl_bal_gt_0']] = loan_data[['num_rev_tl_bal_gt_0']].applymap(lambda x: 0 if pd.isnull(x) else x)\n",
    "# Converting all of them to int\n",
    "loan_data[['num_bc_tl']] = loan_data[['num_bc_tl']].astype(int)\n",
    "loan_data[['num_il_tl']] = loan_data[['num_il_tl']].astype(int)\n",
    "loan_data[['num_op_rev_tl']] = loan_data[['num_op_rev_tl']].astype(int)\n",
    "loan_data[['num_rev_accts']] = loan_data[['num_rev_accts']].astype(int)\n",
    "loan_data[['num_rev_tl_bal_gt_0']] = loan_data[['num_rev_tl_bal_gt_0']].astype(int)\n",
    "\n",
    "print(loan_data['num_bc_tl'].unique())\n",
    "print(loan_data['num_il_tl'].unique())\n",
    "print(loan_data['num_op_rev_tl'].unique())\n",
    "print(loan_data['num_rev_accts'].unique())\n",
    "print(loan_data['num_rev_tl_bal_gt_0'].unique())"
   ]
  },
  {
   "cell_type": "code",
   "execution_count": 115,
   "metadata": {},
   "outputs": [
    {
     "name": "stdout",
     "output_type": "stream",
     "text": [
      "   num_tl_op_past_12m  pct_tl_nvr_dlq  percent_bc_gt_75  pub_rec_bankruptcies\n",
      "0                 3.0           100.0               0.0                   1.0\n",
      "1                 5.0           100.0              33.3                   0.0\n",
      "2                 3.0            82.4              40.0                   0.0\n",
      "3                 1.0            54.5              50.0                   0.0\n",
      "4                 1.0            90.0               0.0                   0.0\n",
      "5                 3.0            78.9              33.3                   0.0\n",
      "num_tl_op_past_12m float64\n",
      "pct_tl_nvr_dlq float64\n",
      "percent_bc_gt_75 float64\n",
      "pub_rec_bankruptcies float64\n"
     ]
    },
    {
     "data": {
      "text/html": [
       "<div>\n",
       "<style scoped>\n",
       "    .dataframe tbody tr th:only-of-type {\n",
       "        vertical-align: middle;\n",
       "    }\n",
       "\n",
       "    .dataframe tbody tr th {\n",
       "        vertical-align: top;\n",
       "    }\n",
       "\n",
       "    .dataframe thead th {\n",
       "        text-align: right;\n",
       "    }\n",
       "</style>\n",
       "<table border=\"1\" class=\"dataframe\">\n",
       "  <thead>\n",
       "    <tr style=\"text-align: right;\">\n",
       "      <th></th>\n",
       "      <th>LoanStatNew</th>\n",
       "      <th>Description</th>\n",
       "    </tr>\n",
       "  </thead>\n",
       "  <tbody>\n",
       "    <tr>\n",
       "      <th>72</th>\n",
       "      <td>num_tl_op_past_12m</td>\n",
       "      <td>Number of accounts opened in past 12 months</td>\n",
       "    </tr>\n",
       "    <tr>\n",
       "      <th>82</th>\n",
       "      <td>pct_tl_nvr_dlq</td>\n",
       "      <td>Percent of trades never delinquent</td>\n",
       "    </tr>\n",
       "    <tr>\n",
       "      <th>83</th>\n",
       "      <td>percent_bc_gt_75</td>\n",
       "      <td>Percentage of all bankcard accounts &gt; 75% of limit.</td>\n",
       "    </tr>\n",
       "    <tr>\n",
       "      <th>86</th>\n",
       "      <td>pub_rec_bankruptcies</td>\n",
       "      <td>Number of public record bankruptcies</td>\n",
       "    </tr>\n",
       "  </tbody>\n",
       "</table>\n",
       "</div>"
      ],
      "text/plain": [
       "             LoanStatNew                                          Description\n",
       "72    num_tl_op_past_12m          Number of accounts opened in past 12 months\n",
       "82        pct_tl_nvr_dlq                   Percent of trades never delinquent\n",
       "83      percent_bc_gt_75  Percentage of all bankcard accounts > 75% of limit.\n",
       "86  pub_rec_bankruptcies                 Number of public record bankruptcies"
      ]
     },
     "execution_count": 115,
     "metadata": {},
     "output_type": "execute_result"
    }
   ],
   "source": [
    "# Moving to next columns\n",
    "print(loan_data.iloc[:6,87:91])\n",
    "for y in loan_data.columns[87:91]:\n",
    "  print(y, loan_data[y].dtype)\n",
    "loan_dict.loc[loan_dict['LoanStatNew'].isin(list(loan_data.columns.values[87:91]))]"
   ]
  },
  {
   "cell_type": "code",
   "execution_count": 116,
   "metadata": {},
   "outputs": [
    {
     "name": "stdout",
     "output_type": "stream",
     "text": [
      "[18 22 10  6  4  9 12 19 11 16  7 17  5 35 13 15 14  3 20  8 21 34 24 23\n",
      " 29 26 25 40 28  2 27  1 38 36 30 31 42 37 53 33 41 44 39 32 49 60 46 43\n",
      " 47 51 80 50 57 52 45 48 54 62 85 56 59 76  0 58 68 87 64 65 55 67 66 70\n",
      " 82 63 79 74 90 72 71 75 84 61 97 93 91 81 77 69]\n",
      "[0 1 2 4 6 3 7]\n",
      "[0 1 2 3 4]\n",
      "[ 0  2  1  7  3  4  6  5 20 18 10  8 11 14  9 12 16 13 15 17 42 25 24 30\n",
      " 26 22 39 19 29 36 21]\n"
     ]
    }
   ],
   "source": [
    "# Convert nan/na to 0\n",
    "loan_data[['num_sats']] = loan_data[['num_sats']].applymap(lambda x: 0 if pd.isnull(x) else x)\n",
    "loan_data[['num_tl_120dpd_2m']] = loan_data[['num_tl_120dpd_2m']].applymap(lambda x: 0 if pd.isnull(x) else x)\n",
    "loan_data[['num_tl_30dpd']] = loan_data[['num_tl_30dpd']].applymap(lambda x: 0 if pd.isnull(x) else x)\n",
    "loan_data[['num_tl_90g_dpd_24m']] = loan_data[['num_tl_90g_dpd_24m']].applymap(lambda x: 0 if pd.isnull(x) else x)\n",
    "# Converting all of them to int\n",
    "loan_data[['num_sats']] = loan_data[['num_sats']].astype(int)\n",
    "loan_data[['num_tl_120dpd_2m']] = loan_data[['num_tl_120dpd_2m']].astype(int)\n",
    "loan_data[['num_tl_30dpd']] = loan_data[['num_tl_30dpd']].astype(int)\n",
    "loan_data[['num_tl_90g_dpd_24m']] = loan_data[['num_tl_90g_dpd_24m']].astype(int)\n",
    "\n",
    "print(loan_data['num_sats'].unique())\n",
    "print(loan_data['num_tl_120dpd_2m'].unique())\n",
    "print(loan_data['num_tl_30dpd'].unique())\n",
    "print(loan_data['num_tl_90g_dpd_24m'].unique())"
   ]
  },
  {
   "cell_type": "code",
   "execution_count": 117,
   "metadata": {},
   "outputs": [
    {
     "name": "stdout",
     "output_type": "stream",
     "text": [
      "   tax_liens  tot_hi_cred_lim  total_bal_ex_mort  total_bc_limit\n",
      "0          0         682041.0            55500.0         77300.0\n",
      "1          0         147587.0           140492.0         30200.0\n",
      "2          0          32410.0            24644.0         12100.0\n",
      "3          0          17620.0            14671.0          7000.0\n",
      "4          0           4700.0             2574.0          2600.0\n",
      "5          0         153809.0            42894.0          8200.0\n",
      "tax_liens int64\n",
      "tot_hi_cred_lim float64\n",
      "total_bal_ex_mort float64\n",
      "total_bc_limit float64\n"
     ]
    },
    {
     "data": {
      "text/html": [
       "<div>\n",
       "<style scoped>\n",
       "    .dataframe tbody tr th:only-of-type {\n",
       "        vertical-align: middle;\n",
       "    }\n",
       "\n",
       "    .dataframe tbody tr th {\n",
       "        vertical-align: top;\n",
       "    }\n",
       "\n",
       "    .dataframe thead th {\n",
       "        text-align: right;\n",
       "    }\n",
       "</style>\n",
       "<table border=\"1\" class=\"dataframe\">\n",
       "  <thead>\n",
       "    <tr style=\"text-align: right;\">\n",
       "      <th></th>\n",
       "      <th>LoanStatNew</th>\n",
       "      <th>Description</th>\n",
       "    </tr>\n",
       "  </thead>\n",
       "  <tbody>\n",
       "    <tr>\n",
       "      <th>93</th>\n",
       "      <td>tax_liens</td>\n",
       "      <td>Number of tax liens</td>\n",
       "    </tr>\n",
       "    <tr>\n",
       "      <th>98</th>\n",
       "      <td>tot_hi_cred_lim</td>\n",
       "      <td>Total high credit/credit limit</td>\n",
       "    </tr>\n",
       "    <tr>\n",
       "      <th>100</th>\n",
       "      <td>total_bal_ex_mort</td>\n",
       "      <td>Total credit balance excluding mortgage</td>\n",
       "    </tr>\n",
       "    <tr>\n",
       "      <th>102</th>\n",
       "      <td>total_bc_limit</td>\n",
       "      <td>Total bankcard high credit/credit limit</td>\n",
       "    </tr>\n",
       "  </tbody>\n",
       "</table>\n",
       "</div>"
      ],
      "text/plain": [
       "           LoanStatNew                              Description\n",
       "93           tax_liens                      Number of tax liens\n",
       "98     tot_hi_cred_lim           Total high credit/credit limit\n",
       "100  total_bal_ex_mort  Total credit balance excluding mortgage\n",
       "102     total_bc_limit  Total bankcard high credit/credit limit"
      ]
     },
     "execution_count": 117,
     "metadata": {},
     "output_type": "execute_result"
    }
   ],
   "source": [
    "# Moving to next columns\n",
    "print(loan_data.iloc[:6,91:95])\n",
    "for y in loan_data.columns[91:95]:\n",
    "  print(y, loan_data[y].dtype)\n",
    "loan_dict.loc[loan_dict['LoanStatNew'].isin(list(loan_data.columns.values[91:95]))]"
   ]
  },
  {
   "cell_type": "code",
   "execution_count": 118,
   "metadata": {},
   "outputs": [
    {
     "name": "stdout",
     "output_type": "stream",
     "text": [
      "[ 3  5  1  2  4  0  7  6  9  8 11 12 10 14 17 15 13 21 20 18 16 22 19 24\n",
      " 25 30 23 26 28 29 27 31 32]\n",
      "[100.   82.4  54.5  90.   78.9  73.1  86.2  92.   85.7  96.4  85.2  75.\n",
      "  69.6  89.5  60.   97.1  82.6  71.4  89.7  78.4  76.9  84.6  96.2  87.1\n",
      "  89.6  94.9  88.   92.3  77.3  92.1  66.7  89.   94.1  95.   77.8  97.4\n",
      "  88.9  92.9  90.9  88.5  65.4  87.5  81.3  97.3  91.7  87.   95.2  75.5\n",
      "  95.7  95.6  96.3  83.3  90.5  97.8  88.6  92.6  95.5  70.6  75.8  80.\n",
      "  76.2  78.6  69.7  93.8  96.9  96.   68.   97.2  81.8  88.2  80.6  98.5\n",
      "  96.6  93.3  89.3  97.7  97.6  71.7  77.1  83.8  94.6  74.3  95.8  94.4\n",
      "  61.1  91.3  97.   76.   64.3  54.8  76.7  85.   68.2  89.1  90.2  78.1\n",
      "  63.6  92.7  96.8  94.7  93.9  85.3  64.5  93.5  93.1  95.1  62.5  78.3\n",
      "  97.9  84.4  76.5  98.3  82.1  42.9  91.2  81.   95.3  94.   96.7  72.7\n",
      "  53.8  79.2  98.   82.9  70.   73.7  80.5  41.7  51.4  75.6  70.8  84.2\n",
      "  86.1  78.7  65.   79.4  73.9  91.9  90.6  86.7  86.4  95.9  76.1  87.9\n",
      "  77.4  87.8  87.2  59.1  98.1  61.9  90.3  70.3  77.5  64.7  58.8  80.8\n",
      "  90.4  90.7  76.6  57.1  61.5  73.3  93.6  45.5  88.1  96.1  68.8  81.5\n",
      "  88.4  45.   98.2  73.8  47.8  97.5  41.   92.5  64.9  93.   50.   79.3\n",
      "  54.2  93.7  68.9  48.6  78.8  62.1  56.3  94.3  91.4  33.3  46.2  55.6\n",
      "  58.3  67.9  84.1  56.7  82.8  86.8  72.2  44.9  84.   91.5  67.6  91.1\n",
      "  79.6  35.7  74.2  52.4  73.   69.2  81.6  84.8  61.3  86.5  58.6  67.\n",
      "  91.8  63.   64.   72.   43.5  63.3  83.9  98.6  36.7  87.3  44.4  59.3\n",
      "  57.9  75.9  53.3  74.5  83.   99.1  68.4  76.4  72.4  65.2  86.9  93.2\n",
      "  89.8  80.9  74.1  52.6  71.9  81.2  82.   47.4  47.1  63.2  89.2  65.8\n",
      "  67.4  86.   37.5  55.   94.2  46.7  26.3  98.4  74.4  52.9  57.8  71.\n",
      "  43.8  23.1  94.8  71.8  61.8  73.5  85.4  69.   78.   43.3  82.5  89.4\n",
      "  57.7  81.1  60.9  53.6  98.8  76.3  84.9  78.2  69.8  88.7  90.8  71.1\n",
      "  93.4  45.8  62.2  52.5  48.   40.   24.   96.5  75.7  56.1  41.2  83.7\n",
      "  38.5  43.7  99.   56.5  58.1  62.9  91.   82.7  85.5  81.4  92.2  48.4\n",
      "  64.4  65.6  31.3  51.5  64.1  79.5  51.7  51.6  69.4  42.1  65.5  74.\n",
      "  68.7  55.8  55.2  83.1  94.5  31.   70.7  39.1  67.7  34.5  38.1  56.\n",
      "  68.6  36.4  87.7  77.   80.7  98.7  44.8  25.   83.6  73.2  58.   57.\n",
      "  44.   79.   57.6  72.5  38.9  63.8  41.4  61.   60.6  52.   31.2  85.1\n",
      "  26.7  59.5  35.9  70.4  77.6  62.8  56.2  79.1  89.9  57.5  98.9  90.1\n",
      "  95.4  48.3  32.   67.3  60.7  18.2  70.2  16.7  48.8  72.1  22.2  47.2\n",
      "  44.7  36.8  54.1  31.9  59.4  32.1  46.4  66.   65.7  30.8  43.2  72.3\n",
      "  80.4  84.3  52.2  45.2  46.9  38.2  70.9  40.4  53.1  39.3  62.   29.4\n",
      "  82.2  80.3  67.5  37.   59.2  86.3  50.9  37.1  12.5  60.5  31.8  31.6\n",
      "  54.3  87.4  74.6  51.9  65.9  51.2  28.6  72.9  53.   42.4  40.9  59.\n",
      "  58.5  48.1  71.2  54.   21.2  15.   25.8   0.   82.3  20.   69.5  60.4\n",
      "  41.9  27.8  56.9  79.7  11.1  58.9  92.8  65.1  47.3  10.   29.   55.9\n",
      "  30.4  47.6  73.6  75.4  48.7  70.5  13.3  18.4  52.1  21.7  92.4  38.7\n",
      "  35.3   5.   32.3   8.3  51.1  56.8  27.3  27.9  63.9  28.3  10.7  39.4\n",
      "  51.3  76.8  32.4  63.4  84.5  52.8  40.7  30.   86.6  68.3  56.6  63.5\n",
      "  80.2  25.7  21.4  46.   43.4  48.5  40.5  62.7  42.3  68.1  43.9  55.3\n",
      "  34.3  11.5  36.   23.8  51.   17.5  69.9  47.5  23.5  77.2  68.5  61.4\n",
      "  42.5  27.   66.1  36.6  39.   18.5  43.   44.2  99.2  53.5  61.7  39.5\n",
      "  47.   34.   14.3  84.7  28.   78.5  29.7  85.9  81.7  34.6  88.3  25.9\n",
      "  71.6  34.8  45.7  18.   17.   33.   42.   38.   35.   49.   16.   37.8\n",
      "  64.8  17.6  35.5  27.5  65.3  37.3  91.6  14.8  64.6  37.9  22.6  37.2\n",
      "  57.4  53.7  44.1  13.   55.1  59.6  26.1  48.9  28.2  42.6  60.8  41.8\n",
      "  45.3  40.6  58.7  72.6  77.9  46.8  20.6  29.2  69.1  64.2  32.7  27.6\n",
      "  18.9  24.2  25.6  56.4  21.9  18.7  52.3  73.4  24.1  53.2  62.3   7.7\n",
      "  36.1   5.9  35.1  21.1  75.3  41.5  45.9  11.8  22.7  21.6  30.6  34.4\n",
      "  16.3  34.9  83.5  59.7  54.9  46.3  20.5  60.3  66.2  34.2  20.7  19.\n",
      "  52.7  39.2  17.4  19.2  26.9  34.7  49.1  39.8  31.7   6.7  26.5  30.3\n",
      "  67.2  23.3  99.4  15.8  23.7  29.3  24.4  50.8  88.8  81.9  58.2  28.1\n",
      "   7.9  31.4  22.   61.2  47.7  41.3  10.5  25.4  35.8  22.9  29.5   7.1\n",
      "  29.6  31.1  30.2  46.5  48.2  12.   45.1  13.2  43.6  67.1  13.8  99.3\n",
      "  58.4]\n",
      "[  0.    33.3   40.    50.     6.7   20.   100.    75.    12.5   83.3\n",
      "  66.7   90.    25.    63.6   80.    85.7   62.5   45.5   27.3   16.7\n",
      "  22.2    4.5   10.    14.3   38.5   60.    11.1   42.9   28.6   37.5\n",
      "  87.5   57.1   30.8   54.5   71.4   34.8   36.4   44.4    6.3   18.2\n",
      "  30.     8.3    5.9   88.9   53.3   55.6    9.1   77.8    5.    81.8\n",
      "  70.    15.6   13.3   21.1   46.7   26.7   41.7    5.3    4.3   23.1\n",
      "  72.7   17.6   84.6   21.4   15.8    7.7    7.1   43.8   15.4   11.8\n",
      "  64.3   31.3   46.2   76.9   52.9   53.8   35.7   29.4   91.7   69.2\n",
      "  58.3   92.9    4.8   32.    90.9   73.3   92.3    4.    18.7   61.5\n",
      "   6.2   36.8   86.7    9.5   61.1   23.5   47.4   56.2   68.7   31.2\n",
      "  10.5   20.8    5.6   19.     8.    26.1   56.5   78.6   47.1   27.8\n",
      "  17.4    3.8   57.9    4.2   34.6   38.9   13.8   94.4   35.    78.9\n",
      "  84.    43.7   22.7   93.3   70.6    1.9   93.7   52.6   58.8   35.3\n",
      "  26.3   15.    41.2   93.8    8.7   82.4   14.8   31.6   42.1    2.1\n",
      "   3.3   23.8   88.2   31.8   94.7   73.7    7.4   18.8   52.2    5.1\n",
      "  68.8   47.6   56.3   13.    84.2   11.5   16.    38.1   24.    81.3\n",
      "  73.9   76.5   78.3    3.7   31.    40.9    3.6   95.     1.     0.33\n",
      "   0.75   0.67   0.8    0.5    0.4    0.25   0.6    0.2    0.38   0.82\n",
      "   0.63   0.43   0.29  90.5   68.4   76.2    3.1   81.2   94.1   64.7\n",
      "  28.1   10.3   63.2   30.4   45.    72.2   85.    39.3   48.    10.7\n",
      "  12.    79.3   40.7    3.4   48.1   95.8   13.6   19.2   37.    43.5\n",
      "  26.9   17.9   26.5   55.    52.4   61.9   89.5   39.1   29.2   81.\n",
      "  21.9   30.6    6.9   59.1   77.3   52.     2.7   68.2   28.     6.5\n",
      "   0.14   0.86   0.17   0.57   0.71  95.5    3.     1.4   65.    18.5\n",
      "  44.8   60.9    3.2   76.    45.8    9.4    2.2   42.4   65.2   95.2\n",
      "  87.     2.4   69.6    6.1    2.3   17.2   25.9    8.8   20.7    7.5\n",
      "  36.    36.7   21.7   88.     2.6   91.3   82.6   17.1 ]\n",
      "[ 1  0  2  3  4  6  5  8  7  9 11 12]\n"
     ]
    }
   ],
   "source": [
    "# Convert nan/na to 0\n",
    "loan_data[['num_tl_op_past_12m']] = loan_data[['num_tl_op_past_12m']].applymap(lambda x: 0 if pd.isnull(x) else x)\n",
    "loan_data[['pub_rec_bankruptcies']] = loan_data[['pub_rec_bankruptcies']].applymap(lambda x: 0 if pd.isnull(x) else x)\n",
    "loan_data[['pct_tl_nvr_dlq']] = loan_data[['pct_tl_nvr_dlq']].applymap(lambda x: 0 if pd.isnull(x) else x)\n",
    "loan_data[['percent_bc_gt_75']] = loan_data[['percent_bc_gt_75']].applymap(lambda x: 0 if pd.isnull(x) else x)\n",
    "# converting some to int\n",
    "loan_data[['num_tl_op_past_12m']] = loan_data[['num_tl_op_past_12m']].astype(int)\n",
    "loan_data[['pub_rec_bankruptcies']] = loan_data[['pub_rec_bankruptcies']].astype(int)\n",
    "\n",
    "print(loan_data['num_tl_op_past_12m'].unique())\n",
    "print(loan_data['pct_tl_nvr_dlq'].unique())\n",
    "print(loan_data['percent_bc_gt_75'].unique())\n",
    "print(loan_data['pub_rec_bankruptcies'].unique())"
   ]
  },
  {
   "cell_type": "code",
   "execution_count": 119,
   "metadata": {},
   "outputs": [
    {
     "name": "stdout",
     "output_type": "stream",
     "text": [
      "   total_il_high_credit_limit hardship_flag disbursement_method  \\\n",
      "0                     72241.0             N                Cash   \n",
      "1                    108587.0             N                Cash   \n",
      "2                     18310.0             N                Cash   \n",
      "3                     10620.0             N                Cash   \n",
      "4                         0.0             N                Cash   \n",
      "5                     53309.0             N                Cash   \n",
      "\n",
      "  debt_settlement_flag  \n",
      "0                    N  \n",
      "1                    N  \n",
      "2                    N  \n",
      "3                    N  \n",
      "4                    N  \n",
      "5                    N  \n",
      "total_il_high_credit_limit float64\n",
      "hardship_flag object\n",
      "disbursement_method object\n",
      "debt_settlement_flag object\n"
     ]
    },
    {
     "data": {
      "text/html": [
       "<div>\n",
       "<style scoped>\n",
       "    .dataframe tbody tr th:only-of-type {\n",
       "        vertical-align: middle;\n",
       "    }\n",
       "\n",
       "    .dataframe tbody tr th {\n",
       "        vertical-align: top;\n",
       "    }\n",
       "\n",
       "    .dataframe thead th {\n",
       "        text-align: right;\n",
       "    }\n",
       "</style>\n",
       "<table border=\"1\" class=\"dataframe\">\n",
       "  <thead>\n",
       "    <tr style=\"text-align: right;\">\n",
       "      <th></th>\n",
       "      <th>LoanStatNew</th>\n",
       "      <th>Description</th>\n",
       "    </tr>\n",
       "  </thead>\n",
       "  <tbody>\n",
       "    <tr>\n",
       "      <th>104</th>\n",
       "      <td>total_il_high_credit_limit</td>\n",
       "      <td>Total installment high credit/credit limit</td>\n",
       "    </tr>\n",
       "    <tr>\n",
       "      <th>128</th>\n",
       "      <td>hardship_flag</td>\n",
       "      <td>Flags whether or not the borrower is on a hardship plan</td>\n",
       "    </tr>\n",
       "    <tr>\n",
       "      <th>143</th>\n",
       "      <td>disbursement_method</td>\n",
       "      <td>The method by which the borrower receives their loan. Possible values are: CASH, DIRECT_PAY</td>\n",
       "    </tr>\n",
       "    <tr>\n",
       "      <th>144</th>\n",
       "      <td>debt_settlement_flag</td>\n",
       "      <td>Flags whether or not the borrower, who has charged-off, is working with a debt-settlement company.</td>\n",
       "    </tr>\n",
       "  </tbody>\n",
       "</table>\n",
       "</div>"
      ],
      "text/plain": [
       "                    LoanStatNew  \\\n",
       "104  total_il_high_credit_limit   \n",
       "128               hardship_flag   \n",
       "143         disbursement_method   \n",
       "144        debt_settlement_flag   \n",
       "\n",
       "                                                                                            Description  \n",
       "104                                                          Total installment high credit/credit limit  \n",
       "128                                             Flags whether or not the borrower is on a hardship plan  \n",
       "143         The method by which the borrower receives their loan. Possible values are: CASH, DIRECT_PAY  \n",
       "144  Flags whether or not the borrower, who has charged-off, is working with a debt-settlement company.  "
      ]
     },
     "execution_count": 119,
     "metadata": {},
     "output_type": "execute_result"
    }
   ],
   "source": [
    "# Moving to next columns\n",
    "print(loan_data.iloc[:6,95:99])\n",
    "for y in loan_data.columns[95:99]:\n",
    "  print(y, loan_data[y].dtype)\n",
    "loan_dict.loc[loan_dict['LoanStatNew'].isin(list(loan_data.columns.values[95:99]))]"
   ]
  },
  {
   "cell_type": "code",
   "execution_count": 120,
   "metadata": {},
   "outputs": [
    {
     "name": "stdout",
     "output_type": "stream",
     "text": [
      "[ 0  1  2  5  8 11  3  4  6 12  7 10 15  9 21 23 13 45 22 24 27 18 61 14\n",
      " 48 53 17 25 85 16 46 28 19 20 39 63 34 29 44 37 30]\n",
      "[682041 147587  32410 ... 584928 406665 147496]\n",
      "[ 55500 140492  24644 ... 223324 122579 140580]\n",
      "[77300 30200 12100 ... 27340 69145 71866]\n"
     ]
    }
   ],
   "source": [
    "# Convert nan/na to 0\n",
    "loan_data[['tot_hi_cred_lim']] = loan_data[['tot_hi_cred_lim']].applymap(lambda x: 0 if pd.isnull(x) else x)\n",
    "loan_data[['total_bal_ex_mort']] = loan_data[['total_bal_ex_mort']].applymap(lambda x: 0 if pd.isnull(x) else x)\n",
    "loan_data[['total_bc_limit']] = loan_data[['total_bc_limit']].applymap(lambda x: 0 if pd.isnull(x) else x)\n",
    "loan_data[['tax_liens']] = loan_data[['tax_liens']].applymap(lambda x: 0 if pd.isnull(x) else x)\n",
    "\n",
    "# Converting all of them to in\n",
    "loan_data[['tot_hi_cred_lim']] = loan_data[['tot_hi_cred_lim']].astype(int)\n",
    "loan_data[['total_bal_ex_mort']] = loan_data[['total_bal_ex_mort']].astype(int)\n",
    "loan_data[['total_bc_limit']] = loan_data[['total_bc_limit']].astype(int)\n",
    "\n",
    "print(loan_data['tax_liens'].unique())\n",
    "print(loan_data['tot_hi_cred_lim'].unique())\n",
    "print(loan_data['total_bal_ex_mort'].unique())\n",
    "print(loan_data['total_bc_limit'].unique())"
   ]
  },
  {
   "cell_type": "code",
   "execution_count": 121,
   "metadata": {},
   "outputs": [
    {
     "name": "stdout",
     "output_type": "stream",
     "text": [
      "   issue_d_month  issue_d_year  earliest_cr_line_month\n",
      "0              9          2016                       5\n",
      "1              9          2016                       1\n",
      "2              9          2016                      10\n",
      "3              9          2016                       3\n",
      "4              9          2016                       2\n",
      "5              9          2016                       8\n",
      "issue_d_month int64\n",
      "issue_d_year int64\n",
      "earliest_cr_line_month int64\n"
     ]
    },
    {
     "data": {
      "text/html": [
       "<div>\n",
       "<style scoped>\n",
       "    .dataframe tbody tr th:only-of-type {\n",
       "        vertical-align: middle;\n",
       "    }\n",
       "\n",
       "    .dataframe tbody tr th {\n",
       "        vertical-align: top;\n",
       "    }\n",
       "\n",
       "    .dataframe thead th {\n",
       "        text-align: right;\n",
       "    }\n",
       "</style>\n",
       "<table border=\"1\" class=\"dataframe\">\n",
       "  <thead>\n",
       "    <tr style=\"text-align: right;\">\n",
       "      <th></th>\n",
       "      <th>LoanStatNew</th>\n",
       "      <th>Description</th>\n",
       "    </tr>\n",
       "  </thead>\n",
       "  <tbody>\n",
       "  </tbody>\n",
       "</table>\n",
       "</div>"
      ],
      "text/plain": [
       "Empty DataFrame\n",
       "Columns: [LoanStatNew, Description]\n",
       "Index: []"
      ]
     },
     "execution_count": 121,
     "metadata": {},
     "output_type": "execute_result"
    }
   ],
   "source": [
    "# Moving to next columns\n",
    "print(loan_data.iloc[:6,99:102])\n",
    "for y in loan_data.columns[99:102]:\n",
    "  print(y, loan_data[y].dtype)\n",
    "loan_dict.loc[loan_dict['LoanStatNew'].isin(list(loan_data.columns.values[99:102]))]"
   ]
  },
  {
   "cell_type": "code",
   "execution_count": 122,
   "metadata": {},
   "outputs": [
    {
     "name": "stdout",
     "output_type": "stream",
     "text": [
      "(27710, 107)\n"
     ]
    }
   ],
   "source": [
    "# Delete all the null data\n",
    "print(loan_data.loc[loan_data['total_il_high_credit_limit'].isnull()].shape)\n",
    "# print(loan_data.loc[loan_data['revol_bal_joint'].isnull()].shape)\n",
    "# print(loan_data.loc[loan_data['sec_app_earliest_cr_line'].isnull()].shape)\n",
    "\n",
    "# print(loan_data.shape)\n",
    "# loan_data.dropna(subset=['total_il_high_credit_limit'], inplace=True)\n",
    "# print(loan_data.shape)\n",
    "\n",
    "# print(loan_data['total_il_high_credit_limit'].unique())\n",
    "# print(loan_data['revol_bal_joint'].unique())\n",
    "# print(loan_data['sec_app_earliest_cr_line'].unique())"
   ]
  },
  {
   "cell_type": "code",
   "execution_count": 123,
   "metadata": {},
   "outputs": [
    {
     "name": "stdout",
     "output_type": "stream",
     "text": [
      "[ 72241 108587  18310 ... 127229 150514 130782]\n"
     ]
    }
   ],
   "source": [
    "# Remove revol_bal_joint and sec_app_earliest_cr_line, as there are too many nulls\n",
    "# loan_data.drop('revol_bal_joint', 1)\n",
    "# loan_data.drop('sec_app_earliest_cr_line', 1)\n",
    "\n",
    "# Convert nan/na to 0\n",
    "loan_data[['total_il_high_credit_limit']] = loan_data[['total_il_high_credit_limit']].applymap(lambda x: 0 if pd.isnull(x) else x)\n",
    "\n",
    "# Converting all of them to in\n",
    "loan_data[['total_il_high_credit_limit']] = loan_data[['total_il_high_credit_limit']].astype(int)\n",
    "\n",
    "print(loan_data['total_il_high_credit_limit'].unique())"
   ]
  },
  {
   "cell_type": "code",
   "execution_count": 124,
   "metadata": {},
   "outputs": [
    {
     "name": "stdout",
     "output_type": "stream",
     "text": [
      "   earliest_cr_line_year  last_pymnt_d_month  last_pymnt_d_year\n",
      "0                   2002                  12               2017\n",
      "1                   1996                   1               2018\n",
      "2                   2011                   1               2018\n",
      "3                   2006                   1               2018\n",
      "4                   2004                   1               2018\n",
      "5                   1986                   7               2017\n",
      "earliest_cr_line_year int64\n",
      "last_pymnt_d_month int64\n",
      "last_pymnt_d_year int64\n"
     ]
    },
    {
     "data": {
      "text/html": [
       "<div>\n",
       "<style scoped>\n",
       "    .dataframe tbody tr th:only-of-type {\n",
       "        vertical-align: middle;\n",
       "    }\n",
       "\n",
       "    .dataframe tbody tr th {\n",
       "        vertical-align: top;\n",
       "    }\n",
       "\n",
       "    .dataframe thead th {\n",
       "        text-align: right;\n",
       "    }\n",
       "</style>\n",
       "<table border=\"1\" class=\"dataframe\">\n",
       "  <thead>\n",
       "    <tr style=\"text-align: right;\">\n",
       "      <th></th>\n",
       "      <th>LoanStatNew</th>\n",
       "      <th>Description</th>\n",
       "    </tr>\n",
       "  </thead>\n",
       "  <tbody>\n",
       "  </tbody>\n",
       "</table>\n",
       "</div>"
      ],
      "text/plain": [
       "Empty DataFrame\n",
       "Columns: [LoanStatNew, Description]\n",
       "Index: []"
      ]
     },
     "execution_count": 124,
     "metadata": {},
     "output_type": "execute_result"
    }
   ],
   "source": [
    "# Moving to next columns\n",
    "print(loan_data.iloc[:6,102:105])\n",
    "for y in loan_data.columns[102:105]:\n",
    "  print(y, loan_data[y].dtype)\n",
    "loan_dict.loc[loan_dict['LoanStatNew'].isin(list(loan_data.columns.values[102:105]))]"
   ]
  },
  {
   "cell_type": "code",
   "execution_count": 125,
   "metadata": {},
   "outputs": [],
   "source": [
    "# Convert nan/na to 0\n",
    "# loan_data[['sec_app_inq_last_6mths']] = loan_data[['sec_app_inq_last_6mths']].applymap(lambda x: 0 if pd.isnull(x) else x)\n",
    "# loan_data[['sec_app_mort_acc']] = loan_data[['sec_app_mort_acc']].applymap(lambda x: 0 if pd.isnull(x) else x)\n",
    "# loan_data[['sec_app_open_acc']] = loan_data[['sec_app_open_acc']].applymap(lambda x: 0 if pd.isnull(x) else x)\n",
    "\n",
    "# print(loan_data['sec_app_inq_last_6mths'].unique())\n",
    "# print(loan_data['sec_app_mort_acc'].unique())\n",
    "# print(loan_data['sec_app_open_acc'].unique())"
   ]
  },
  {
   "cell_type": "code",
   "execution_count": 126,
   "metadata": {},
   "outputs": [],
   "source": [
    "# These can be safely converted to int\n",
    "# loan_data[['sec_app_inq_last_6mths']] = loan_data[['sec_app_inq_last_6mths']].astype(int)\n",
    "# loan_data[['sec_app_mort_acc']] = loan_data[['sec_app_mort_acc']].astype(int)\n",
    "# loan_data[['sec_app_open_acc']] = loan_data[['sec_app_open_acc']].astype(int)\n",
    "\n",
    "# print(loan_data['sec_app_inq_last_6mths'].unique())\n",
    "# print(loan_data['sec_app_mort_acc'].unique())\n",
    "# print(loan_data['sec_app_open_acc'].unique())"
   ]
  },
  {
   "cell_type": "code",
   "execution_count": 127,
   "metadata": {},
   "outputs": [
    {
     "name": "stdout",
     "output_type": "stream",
     "text": [
      "   last_credit_pull_d_month  last_credit_pull_d_year\n",
      "0                         1                     2018\n",
      "1                         1                     2018\n",
      "2                         1                     2018\n",
      "3                         1                     2018\n",
      "4                         1                     2018\n",
      "5                         7                     2017\n",
      "last_credit_pull_d_month int64\n",
      "last_credit_pull_d_year int64\n"
     ]
    },
    {
     "data": {
      "text/html": [
       "<div>\n",
       "<style scoped>\n",
       "    .dataframe tbody tr th:only-of-type {\n",
       "        vertical-align: middle;\n",
       "    }\n",
       "\n",
       "    .dataframe tbody tr th {\n",
       "        vertical-align: top;\n",
       "    }\n",
       "\n",
       "    .dataframe thead th {\n",
       "        text-align: right;\n",
       "    }\n",
       "</style>\n",
       "<table border=\"1\" class=\"dataframe\">\n",
       "  <thead>\n",
       "    <tr style=\"text-align: right;\">\n",
       "      <th></th>\n",
       "      <th>LoanStatNew</th>\n",
       "      <th>Description</th>\n",
       "    </tr>\n",
       "  </thead>\n",
       "  <tbody>\n",
       "  </tbody>\n",
       "</table>\n",
       "</div>"
      ],
      "text/plain": [
       "Empty DataFrame\n",
       "Columns: [LoanStatNew, Description]\n",
       "Index: []"
      ]
     },
     "execution_count": 127,
     "metadata": {},
     "output_type": "execute_result"
    }
   ],
   "source": [
    "# Moving to next columns\n",
    "print(loan_data.iloc[:6,105:108])\n",
    "for y in loan_data.columns[105:108]:\n",
    "  print(y, loan_data[y].dtype)\n",
    "loan_dict.loc[loan_dict['LoanStatNew'].isin(list(loan_data.columns.values[105:108]))]"
   ]
  },
  {
   "cell_type": "code",
   "execution_count": 128,
   "metadata": {},
   "outputs": [],
   "source": [
    "# First print the values. If things look ok, then convert them to int.\n",
    "# print(loan_data['sec_app_revol_util'].unique())\n",
    "# print(loan_data['sec_app_open_act_il'].unique())\n",
    "# print(loan_data['sec_app_num_rev_accts'].unique())"
   ]
  },
  {
   "cell_type": "code",
   "execution_count": 129,
   "metadata": {},
   "outputs": [],
   "source": [
    "# Convert nan/na to 0\n",
    "# loan_data[['sec_app_revol_util']] = loan_data[['sec_app_revol_util']].applymap(lambda x: 0 if pd.isnull(x) else x)\n",
    "# loan_data[['sec_app_open_act_il']] = loan_data[['sec_app_open_act_il']].applymap(lambda x: 0 if pd.isnull(x) else x)\n",
    "# loan_data[['sec_app_num_rev_accts']] = loan_data[['sec_app_num_rev_accts']].applymap(lambda x: 0 if pd.isnull(x) else x)\n",
    "\n",
    "# Convert them to int\n",
    "# loan_data[['sec_app_revol_util']] = loan_data[['sec_app_revol_util']].astype(int)\n",
    "# loan_data[['sec_app_open_act_il']] = loan_data[['sec_app_open_act_il']].astype(int)\n",
    "# loan_data[['sec_app_num_rev_accts']] = loan_data[['sec_app_num_rev_accts']].astype(int)\n",
    "\n",
    "# print(loan_data['sec_app_revol_util'].unique())\n",
    "# print(loan_data['sec_app_open_act_il'].unique())\n",
    "# print(loan_data['sec_app_num_rev_accts'].unique())"
   ]
  },
  {
   "cell_type": "code",
   "execution_count": 130,
   "metadata": {},
   "outputs": [
    {
     "name": "stdout",
     "output_type": "stream",
     "text": [
      "Empty DataFrame\n",
      "Columns: []\n",
      "Index: [0, 1, 2, 3, 4, 5]\n"
     ]
    },
    {
     "data": {
      "text/html": [
       "<div>\n",
       "<style scoped>\n",
       "    .dataframe tbody tr th:only-of-type {\n",
       "        vertical-align: middle;\n",
       "    }\n",
       "\n",
       "    .dataframe tbody tr th {\n",
       "        vertical-align: top;\n",
       "    }\n",
       "\n",
       "    .dataframe thead th {\n",
       "        text-align: right;\n",
       "    }\n",
       "</style>\n",
       "<table border=\"1\" class=\"dataframe\">\n",
       "  <thead>\n",
       "    <tr style=\"text-align: right;\">\n",
       "      <th></th>\n",
       "      <th>LoanStatNew</th>\n",
       "      <th>Description</th>\n",
       "    </tr>\n",
       "  </thead>\n",
       "  <tbody>\n",
       "  </tbody>\n",
       "</table>\n",
       "</div>"
      ],
      "text/plain": [
       "Empty DataFrame\n",
       "Columns: [LoanStatNew, Description]\n",
       "Index: []"
      ]
     },
     "execution_count": 130,
     "metadata": {},
     "output_type": "execute_result"
    }
   ],
   "source": [
    "# Moving to next columns\n",
    "print(loan_data.iloc[:6,108:110])\n",
    "for y in loan_data.columns[108:110]:\n",
    "  print(y, loan_data[y].dtype)\n",
    "loan_dict.loc[loan_dict['LoanStatNew'].isin(list(loan_data.columns.values[108:110]))]"
   ]
  },
  {
   "cell_type": "code",
   "execution_count": 131,
   "metadata": {},
   "outputs": [],
   "source": [
    "# Print\n",
    "# print('Before')\n",
    "# print(loan_data['sec_app_chargeoff_within_12_mths'].unique())\n",
    "# print(loan_data['sec_app_collections_12_mths_ex_med'].unique())\n",
    "\n",
    "# Convert nan/na to 0\n",
    "# loan_data[['sec_app_chargeoff_within_12_mths']] = loan_data[['sec_app_chargeoff_within_12_mths']].applymap(lambda x: 0 if pd.isnull(x) else x)\n",
    "# loan_data[['sec_app_collections_12_mths_ex_med']] = loan_data[['sec_app_collections_12_mths_ex_med']].applymap(lambda x: 0 if pd.isnull(x) else x)\n",
    "\n",
    "# Convert them to int\n",
    "# loan_data[['sec_app_chargeoff_within_12_mths']] = loan_data[['sec_app_chargeoff_within_12_mths']].astype(int)\n",
    "# loan_data[['sec_app_collections_12_mths_ex_med']] = loan_data[['sec_app_collections_12_mths_ex_med']].astype(int)\n",
    "\n",
    "# Print again\n",
    "# print('After')\n",
    "# print(loan_data['sec_app_chargeoff_within_12_mths'].unique())\n",
    "# print(loan_data['sec_app_collections_12_mths_ex_med'].unique())"
   ]
  },
  {
   "cell_type": "code",
   "execution_count": 132,
   "metadata": {},
   "outputs": [
    {
     "name": "stdout",
     "output_type": "stream",
     "text": [
      "Empty DataFrame\n",
      "Columns: []\n",
      "Index: [0, 1, 2, 3, 4, 5]\n"
     ]
    },
    {
     "data": {
      "text/html": [
       "<div>\n",
       "<style scoped>\n",
       "    .dataframe tbody tr th:only-of-type {\n",
       "        vertical-align: middle;\n",
       "    }\n",
       "\n",
       "    .dataframe tbody tr th {\n",
       "        vertical-align: top;\n",
       "    }\n",
       "\n",
       "    .dataframe thead th {\n",
       "        text-align: right;\n",
       "    }\n",
       "</style>\n",
       "<table border=\"1\" class=\"dataframe\">\n",
       "  <thead>\n",
       "    <tr style=\"text-align: right;\">\n",
       "      <th></th>\n",
       "      <th>LoanStatNew</th>\n",
       "      <th>Description</th>\n",
       "    </tr>\n",
       "  </thead>\n",
       "  <tbody>\n",
       "  </tbody>\n",
       "</table>\n",
       "</div>"
      ],
      "text/plain": [
       "Empty DataFrame\n",
       "Columns: [LoanStatNew, Description]\n",
       "Index: []"
      ]
     },
     "execution_count": 132,
     "metadata": {},
     "output_type": "execute_result"
    }
   ],
   "source": [
    "# Moving to next columns\n",
    "print(loan_data.iloc[:6,110:113])\n",
    "for y in loan_data.columns[110:113]:\n",
    "  print(y, loan_data[y].dtype)\n",
    "loan_dict.loc[loan_dict['LoanStatNew'].isin(list(loan_data.columns.values[110:113]))]"
   ]
  },
  {
   "cell_type": "code",
   "execution_count": 133,
   "metadata": {},
   "outputs": [
    {
     "name": "stdout",
     "output_type": "stream",
     "text": [
      "['N' 'Y']\n"
     ]
    }
   ],
   "source": [
    "# print(loan_data['sec_app_mths_since_last_major_derog'].unique())\n",
    "print(loan_data['hardship_flag'].unique())\n",
    "# print(loan_data['hardship_type'].unique())"
   ]
  },
  {
   "cell_type": "code",
   "execution_count": 134,
   "metadata": {
    "scrolled": true
   },
   "outputs": [
    {
     "name": "stdout",
     "output_type": "stream",
     "text": [
      "['N' 'Y']\n"
     ]
    }
   ],
   "source": [
    "# Convert nan/na to 0\n",
    "# loan_data[['sec_app_mths_since_last_major_derog']] = loan_data[['sec_app_mths_since_last_major_derog']].applymap(lambda x: 0 if pd.isnull(x) else x)\n",
    "# loan_data[['hardship_type']] = loan_data[['hardship_type']].applymap(lambda x: '0' if pd.isnull(x) else x)\n",
    "\n",
    "# Converting sec_app_mths_since_last_major_derog to int.\n",
    "# loan_data[['sec_app_mths_since_last_major_derog']] = loan_data[['sec_app_mths_since_last_major_derog']].astype(int)\n",
    "\n",
    "# print(loan_data['sec_app_mths_since_last_major_derog'].unique())\n",
    "print(loan_data['hardship_flag'].unique())\n",
    "# print(loan_data['hardship_type'].unique())"
   ]
  },
  {
   "cell_type": "code",
   "execution_count": 135,
   "metadata": {},
   "outputs": [],
   "source": [
    "# Since hardship_type has only 2 values and one of the is a long string, changing that string to somethign small\n",
    "# loan_data[['hardship_type']] = loan_data[['hardship_type']].applymap(lambda x: 'INT_ONLY' if x != '0' else x)"
   ]
  },
  {
   "cell_type": "code",
   "execution_count": 136,
   "metadata": {},
   "outputs": [],
   "source": [
    "# print(loan_data['hardship_type'].unique())"
   ]
  },
  {
   "cell_type": "code",
   "execution_count": 137,
   "metadata": {},
   "outputs": [
    {
     "name": "stdout",
     "output_type": "stream",
     "text": [
      "Empty DataFrame\n",
      "Columns: []\n",
      "Index: [0, 1, 2, 3, 4, 5]\n"
     ]
    },
    {
     "data": {
      "text/html": [
       "<div>\n",
       "<style scoped>\n",
       "    .dataframe tbody tr th:only-of-type {\n",
       "        vertical-align: middle;\n",
       "    }\n",
       "\n",
       "    .dataframe tbody tr th {\n",
       "        vertical-align: top;\n",
       "    }\n",
       "\n",
       "    .dataframe thead th {\n",
       "        text-align: right;\n",
       "    }\n",
       "</style>\n",
       "<table border=\"1\" class=\"dataframe\">\n",
       "  <thead>\n",
       "    <tr style=\"text-align: right;\">\n",
       "      <th></th>\n",
       "      <th>LoanStatNew</th>\n",
       "      <th>Description</th>\n",
       "    </tr>\n",
       "  </thead>\n",
       "  <tbody>\n",
       "  </tbody>\n",
       "</table>\n",
       "</div>"
      ],
      "text/plain": [
       "Empty DataFrame\n",
       "Columns: [LoanStatNew, Description]\n",
       "Index: []"
      ]
     },
     "execution_count": 137,
     "metadata": {},
     "output_type": "execute_result"
    }
   ],
   "source": [
    "# Moving to next columns\n",
    "print(loan_data.iloc[:6,112:116])\n",
    "for y in loan_data.columns[112:116]:\n",
    "  print(y, loan_data[y].dtype)\n",
    "loan_dict.loc[loan_dict['LoanStatNew'].isin(list(loan_data.columns.values[112:116]))]"
   ]
  },
  {
   "cell_type": "code",
   "execution_count": 138,
   "metadata": {},
   "outputs": [],
   "source": [
    "# print(loan_data['hardship_reason'].unique())\n",
    "# print(loan_data['hardship_status'].unique())\n",
    "# print(loan_data['deferral_term'].unique())\n",
    "# print(loan_data['hardship_amount'].unique())\n"
   ]
  },
  {
   "cell_type": "code",
   "execution_count": 139,
   "metadata": {},
   "outputs": [],
   "source": [
    "# Convert nan/na to 0\n",
    "# loan_data[['hardship_reason']] = loan_data[['hardship_reason']].applymap(lambda x: 0 if pd.isnull(x) else x)\n",
    "# loan_data[['hardship_status']] = loan_data[['hardship_status']].applymap(lambda x: 0 if pd.isnull(x) else x)\n",
    "# loan_data[['deferral_term']] = loan_data[['deferral_term']].applymap(lambda x: 0 if pd.isnull(x) else x)\n",
    "# loan_data[['hardship_amount']] = loan_data[['hardship_amount']].applymap(lambda x: 0 if pd.isnull(x) else x)\n",
    "\n",
    "# Converting some of them to int\n",
    "# loan_data[['deferral_term']] = loan_data[['deferral_term']].astype(int)\n",
    "\n",
    "# Converting all the 0s to one type\n",
    "# loan_data.loc[loan_data['hardship_reason'] == 0, 'hardship_reason'] = '0'\n",
    "# loan_data.loc[loan_data['hardship_status'] == 0, 'hardship_status'] = '0'\n",
    "\n",
    "# print(loan_data['hardship_reason'].unique())\n",
    "# print(loan_data['hardship_status'].unique())\n",
    "# print(loan_data['deferral_term'].unique())\n",
    "# print(loan_data['hardship_amount'].unique())"
   ]
  },
  {
   "cell_type": "code",
   "execution_count": 140,
   "metadata": {},
   "outputs": [
    {
     "name": "stdout",
     "output_type": "stream",
     "text": [
      "Empty DataFrame\n",
      "Columns: []\n",
      "Index: [0, 1, 2, 3, 4, 5]\n"
     ]
    },
    {
     "data": {
      "text/html": [
       "<div>\n",
       "<style scoped>\n",
       "    .dataframe tbody tr th:only-of-type {\n",
       "        vertical-align: middle;\n",
       "    }\n",
       "\n",
       "    .dataframe tbody tr th {\n",
       "        vertical-align: top;\n",
       "    }\n",
       "\n",
       "    .dataframe thead th {\n",
       "        text-align: right;\n",
       "    }\n",
       "</style>\n",
       "<table border=\"1\" class=\"dataframe\">\n",
       "  <thead>\n",
       "    <tr style=\"text-align: right;\">\n",
       "      <th></th>\n",
       "      <th>LoanStatNew</th>\n",
       "      <th>Description</th>\n",
       "    </tr>\n",
       "  </thead>\n",
       "  <tbody>\n",
       "  </tbody>\n",
       "</table>\n",
       "</div>"
      ],
      "text/plain": [
       "Empty DataFrame\n",
       "Columns: [LoanStatNew, Description]\n",
       "Index: []"
      ]
     },
     "execution_count": 140,
     "metadata": {},
     "output_type": "execute_result"
    }
   ],
   "source": [
    "# Moving to next columns\n",
    "print(loan_data.iloc[:6,116:119])\n",
    "for y in loan_data.columns[116:119]:\n",
    "  print(y, loan_data[y].dtype)\n",
    "loan_dict.loc[loan_dict['LoanStatNew'].isin(list(loan_data.columns.values[116:119]))]"
   ]
  },
  {
   "cell_type": "code",
   "execution_count": 141,
   "metadata": {},
   "outputs": [],
   "source": [
    "# Dropping all hardship related features\n",
    "# loan_data = loan_data.drop('hardship_start_date', 1)\n",
    "# loan_data = loan_data.drop('hardship_end_date', 1)\n",
    "# loan_data = loan_data.drop('payment_plan_start_date', 1)"
   ]
  },
  {
   "cell_type": "code",
   "execution_count": 142,
   "metadata": {},
   "outputs": [
    {
     "name": "stdout",
     "output_type": "stream",
     "text": [
      "Empty DataFrame\n",
      "Columns: []\n",
      "Index: [0, 1, 2, 3, 4, 5]\n"
     ]
    },
    {
     "data": {
      "text/html": [
       "<div>\n",
       "<style scoped>\n",
       "    .dataframe tbody tr th:only-of-type {\n",
       "        vertical-align: middle;\n",
       "    }\n",
       "\n",
       "    .dataframe tbody tr th {\n",
       "        vertical-align: top;\n",
       "    }\n",
       "\n",
       "    .dataframe thead th {\n",
       "        text-align: right;\n",
       "    }\n",
       "</style>\n",
       "<table border=\"1\" class=\"dataframe\">\n",
       "  <thead>\n",
       "    <tr style=\"text-align: right;\">\n",
       "      <th></th>\n",
       "      <th>LoanStatNew</th>\n",
       "      <th>Description</th>\n",
       "    </tr>\n",
       "  </thead>\n",
       "  <tbody>\n",
       "  </tbody>\n",
       "</table>\n",
       "</div>"
      ],
      "text/plain": [
       "Empty DataFrame\n",
       "Columns: [LoanStatNew, Description]\n",
       "Index: []"
      ]
     },
     "execution_count": 142,
     "metadata": {},
     "output_type": "execute_result"
    }
   ],
   "source": [
    "# Moving to next columns\n",
    "print(loan_data.iloc[:6,116:119])\n",
    "for y in loan_data.columns[116:119]:\n",
    "  print(y, loan_data[y].dtype)\n",
    "loan_dict.loc[loan_dict['LoanStatNew'].isin(list(loan_data.columns.values[116:119]))]"
   ]
  },
  {
   "cell_type": "code",
   "execution_count": 143,
   "metadata": {},
   "outputs": [],
   "source": [
    "# Dropping all hardship related features\n",
    "# loan_data = loan_data.drop('hardship_dpd', 1)\n",
    "# loan_data = loan_data.drop('hardship_loan_status', 1)\n",
    "# loan_data = loan_data.drop('payment_plan_start_date', 1)"
   ]
  },
  {
   "cell_type": "code",
   "execution_count": 144,
   "metadata": {},
   "outputs": [
    {
     "name": "stdout",
     "output_type": "stream",
     "text": [
      "Empty DataFrame\n",
      "Columns: []\n",
      "Index: [0, 1, 2, 3, 4, 5]\n"
     ]
    },
    {
     "data": {
      "text/html": [
       "<div>\n",
       "<style scoped>\n",
       "    .dataframe tbody tr th:only-of-type {\n",
       "        vertical-align: middle;\n",
       "    }\n",
       "\n",
       "    .dataframe tbody tr th {\n",
       "        vertical-align: top;\n",
       "    }\n",
       "\n",
       "    .dataframe thead th {\n",
       "        text-align: right;\n",
       "    }\n",
       "</style>\n",
       "<table border=\"1\" class=\"dataframe\">\n",
       "  <thead>\n",
       "    <tr style=\"text-align: right;\">\n",
       "      <th></th>\n",
       "      <th>LoanStatNew</th>\n",
       "      <th>Description</th>\n",
       "    </tr>\n",
       "  </thead>\n",
       "  <tbody>\n",
       "  </tbody>\n",
       "</table>\n",
       "</div>"
      ],
      "text/plain": [
       "Empty DataFrame\n",
       "Columns: [LoanStatNew, Description]\n",
       "Index: []"
      ]
     },
     "execution_count": 144,
     "metadata": {},
     "output_type": "execute_result"
    }
   ],
   "source": [
    "# Moving to next columns\n",
    "print(loan_data.iloc[:6,116:119])\n",
    "for y in loan_data.columns[116:119]:\n",
    "  print(y, loan_data[y].dtype)\n",
    "loan_dict.loc[loan_dict['LoanStatNew'].isin(list(loan_data.columns.values[116:119]))]"
   ]
  },
  {
   "cell_type": "code",
   "execution_count": 145,
   "metadata": {},
   "outputs": [],
   "source": [
    "# Dropping all hardship related features\n",
    "# loan_data = loan_data.drop('hardship_payoff_balance_amount', 1)\n",
    "# loan_data = loan_data.drop('hardship_last_payment_amount', 1)\n",
    "loan_data = loan_data.drop('disbursement_method', 1)"
   ]
  },
  {
   "cell_type": "code",
   "execution_count": 146,
   "metadata": {},
   "outputs": [
    {
     "name": "stdout",
     "output_type": "stream",
     "text": [
      "Empty DataFrame\n",
      "Columns: []\n",
      "Index: [0, 1, 2, 3, 4, 5]\n"
     ]
    },
    {
     "data": {
      "text/html": [
       "<div>\n",
       "<style scoped>\n",
       "    .dataframe tbody tr th:only-of-type {\n",
       "        vertical-align: middle;\n",
       "    }\n",
       "\n",
       "    .dataframe tbody tr th {\n",
       "        vertical-align: top;\n",
       "    }\n",
       "\n",
       "    .dataframe thead th {\n",
       "        text-align: right;\n",
       "    }\n",
       "</style>\n",
       "<table border=\"1\" class=\"dataframe\">\n",
       "  <thead>\n",
       "    <tr style=\"text-align: right;\">\n",
       "      <th></th>\n",
       "      <th>LoanStatNew</th>\n",
       "      <th>Description</th>\n",
       "    </tr>\n",
       "  </thead>\n",
       "  <tbody>\n",
       "  </tbody>\n",
       "</table>\n",
       "</div>"
      ],
      "text/plain": [
       "Empty DataFrame\n",
       "Columns: [LoanStatNew, Description]\n",
       "Index: []"
      ]
     },
     "execution_count": 146,
     "metadata": {},
     "output_type": "execute_result"
    }
   ],
   "source": [
    "# Moving to next columns\n",
    "print(loan_data.iloc[:6,116:119])\n",
    "for y in loan_data.columns[116:119]:\n",
    "  print(y, loan_data[y].dtype)\n",
    "loan_dict.loc[loan_dict['LoanStatNew'].isin(list(loan_data.columns.values[116:119]))]"
   ]
  },
  {
   "cell_type": "code",
   "execution_count": 147,
   "metadata": {},
   "outputs": [],
   "source": [
    "# Dropping debt_settlement_flag_date related features\n",
    "# loan_data = loan_data.drop('debt_settlement_flag_date', 1)\n",
    "# loan_data = loan_data.drop('settlement_date', 1)"
   ]
  },
  {
   "cell_type": "code",
   "execution_count": 148,
   "metadata": {},
   "outputs": [],
   "source": [
    "# print(loan_data['debt_settlement_flag'].unique())\n",
    "# print(loan_data['settlement_status'].unique())"
   ]
  },
  {
   "cell_type": "code",
   "execution_count": 149,
   "metadata": {},
   "outputs": [],
   "source": [
    "# Converting nan to 0\n",
    "# loan_data[['settlement_status']] = loan_data[['settlement_status']].applymap(lambda x: '0' if pd.isnull(x) else x)\n",
    "# print(loan_data['settlement_status'].unique())"
   ]
  },
  {
   "cell_type": "code",
   "execution_count": 150,
   "metadata": {},
   "outputs": [
    {
     "name": "stdout",
     "output_type": "stream",
     "text": [
      "Empty DataFrame\n",
      "Columns: []\n",
      "Index: [0, 1, 2, 3, 4, 5]\n"
     ]
    },
    {
     "data": {
      "text/html": [
       "<div>\n",
       "<style scoped>\n",
       "    .dataframe tbody tr th:only-of-type {\n",
       "        vertical-align: middle;\n",
       "    }\n",
       "\n",
       "    .dataframe tbody tr th {\n",
       "        vertical-align: top;\n",
       "    }\n",
       "\n",
       "    .dataframe thead th {\n",
       "        text-align: right;\n",
       "    }\n",
       "</style>\n",
       "<table border=\"1\" class=\"dataframe\">\n",
       "  <thead>\n",
       "    <tr style=\"text-align: right;\">\n",
       "      <th></th>\n",
       "      <th>LoanStatNew</th>\n",
       "      <th>Description</th>\n",
       "    </tr>\n",
       "  </thead>\n",
       "  <tbody>\n",
       "  </tbody>\n",
       "</table>\n",
       "</div>"
      ],
      "text/plain": [
       "Empty DataFrame\n",
       "Columns: [LoanStatNew, Description]\n",
       "Index: []"
      ]
     },
     "execution_count": 150,
     "metadata": {},
     "output_type": "execute_result"
    }
   ],
   "source": [
    "# Moving to next columns\n",
    "print(loan_data.iloc[:6,119:122])\n",
    "for y in loan_data.columns[119:122]:\n",
    "  print(y, loan_data[y].dtype)\n",
    "loan_dict.loc[loan_dict['LoanStatNew'].isin(list(loan_data.columns.values[119:122]))]"
   ]
  },
  {
   "cell_type": "code",
   "execution_count": 151,
   "metadata": {},
   "outputs": [],
   "source": [
    "# print(loan_data['settlement_amount'].unique())\n",
    "# print(loan_data['settlement_percentage'].unique())\n",
    "# print(loan_data['settlement_term'].unique())"
   ]
  },
  {
   "cell_type": "code",
   "execution_count": 152,
   "metadata": {},
   "outputs": [],
   "source": [
    "# Convering nan to 0\n",
    "# loan_data[['settlement_term']] = loan_data[['settlement_term']].applymap(lambda x: '0' if pd.isnull(x) else x)"
   ]
  },
  {
   "cell_type": "code",
   "execution_count": 153,
   "metadata": {},
   "outputs": [],
   "source": [
    "# Since each object seems to string, convert it to numeric.\n",
    "# loan_data['settlement_amount'] = pd.to_numeric(loan_data['settlement_amount'])\n",
    "# loan_data['settlement_percentage'] = pd.to_numeric(loan_data['settlement_percentage'])\n",
    "# loan_data['settlement_term'] = pd.to_numeric(loan_data['settlement_term'])\n",
    "\n",
    "# print(loan_data['settlement_amount'].unique())\n",
    "# print(loan_data['settlement_percentage'].unique())\n",
    "# print(loan_data['settlement_term'].unique())"
   ]
  },
  {
   "cell_type": "markdown",
   "metadata": {},
   "source": [
    "### Store the data\n",
    "The data is store in a file so that another python script can read and do the data cleanup"
   ]
  },
  {
   "cell_type": "code",
   "execution_count": 154,
   "metadata": {},
   "outputs": [],
   "source": [
    "# At this point the preliminary data reading and conversion are done.\n",
    "# Save data pickle form\n",
    "# Next would be to read the pickle data and run histogram in each entry.\n",
    "\n",
    "loan_data.to_pickle('loan_data.pkl')"
   ]
  },
  {
   "cell_type": "code",
   "execution_count": 155,
   "metadata": {},
   "outputs": [
    {
     "name": "stdout",
     "output_type": "stream",
     "text": [
      "(1738554, 106)\n",
      "<class 'pandas.core.frame.DataFrame'>\n",
      "Int64Index: 1738554 entries, 0 to 97853\n",
      "Columns: 106 entries, loan_amnt to last_credit_pull_d_year\n",
      "dtypes: float64(27), int64(65), object(14)\n",
      "memory usage: 1.4+ GB\n"
     ]
    }
   ],
   "source": [
    "print(loan_data.shape)\n",
    "loan_data.info()"
   ]
  },
  {
   "cell_type": "code",
   "execution_count": null,
   "metadata": {},
   "outputs": [],
   "source": []
  }
 ],
 "metadata": {
  "kernelspec": {
   "display_name": "Python 3",
   "language": "python",
   "name": "python3"
  },
  "language_info": {
   "codemirror_mode": {
    "name": "ipython",
    "version": 3
   },
   "file_extension": ".py",
   "mimetype": "text/x-python",
   "name": "python",
   "nbconvert_exporter": "python",
   "pygments_lexer": "ipython3",
   "version": "3.6.5"
  }
 },
 "nbformat": 4,
 "nbformat_minor": 2
}
